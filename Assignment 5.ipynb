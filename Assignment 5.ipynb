{
 "cells": [
  {
   "cell_type": "markdown",
   "id": "cf67d096",
   "metadata": {},
   "source": [
    "# Assignment 5"
   ]
  },
  {
   "cell_type": "code",
   "execution_count": 1,
   "id": "a6bb3fc6",
   "metadata": {},
   "outputs": [
    {
     "name": "stdout",
     "output_type": "stream",
     "text": [
      "package 'e1071' successfully unpacked and MD5 sums checked\n",
      "\n",
      "The downloaded binary packages are in\n",
      "\tC:\\Users\\nramanna\\AppData\\Local\\Temp\\RtmpgfJAmE\\downloaded_packages\n"
     ]
    },
    {
     "name": "stderr",
     "output_type": "stream",
     "text": [
      "Loading required package: ParamHelpers\n",
      "\n",
      "Warning message: 'mlr' is in 'maintenance-only' mode since July 2019.\n",
      "Future development will only happen in 'mlr3'\n",
      "(<https://mlr3.mlr-org.com>). Due to the focus on 'mlr3' there might be\n",
      "uncaught bugs meanwhile in {mlr} - please consider switching.\n",
      "\n",
      "Loading required package: ggplot2\n",
      "\n",
      "Loading required package: lattice\n",
      "\n",
      "\n",
      "Attaching package: 'caret'\n",
      "\n",
      "\n",
      "The following object is masked from 'package:mlr':\n",
      "\n",
      "    train\n",
      "\n",
      "\n",
      "Type 'citation(\"pROC\")' for a citation.\n",
      "\n",
      "\n",
      "Attaching package: 'pROC'\n",
      "\n",
      "\n",
      "The following objects are masked from 'package:stats':\n",
      "\n",
      "    cov, smooth, var\n",
      "\n",
      "\n",
      "\n",
      "Attaching package: 'e1071'\n",
      "\n",
      "\n",
      "The following object is masked from 'package:mlr':\n",
      "\n",
      "    impute\n",
      "\n",
      "\n",
      "\n",
      "Attaching package: 'dplyr'\n",
      "\n",
      "\n",
      "The following object is masked from 'package:MASS':\n",
      "\n",
      "    select\n",
      "\n",
      "\n",
      "The following objects are masked from 'package:data.table':\n",
      "\n",
      "    between, first, last\n",
      "\n",
      "\n",
      "The following objects are masked from 'package:stats':\n",
      "\n",
      "    filter, lag\n",
      "\n",
      "\n",
      "The following objects are masked from 'package:base':\n",
      "\n",
      "    intersect, setdiff, setequal, union\n",
      "\n",
      "\n"
     ]
    }
   ],
   "source": [
    "# Set environment params\n",
    "Sys.setenv(LANG='en')  # English\n",
    "install.packages('e1071')\n",
    "# Import libraries\n",
    "library(data.table)  # Data manipulate\n",
    "library(mlr)         # ML toolkit\n",
    "library(caret)       # ML toolkit\n",
    "library(ggplot2)     # Visualization\n",
    "library(pROC)        # AUC, ROC\n",
    "library(e1071)       # SVM\n",
    "\n",
    "# Import data\n",
    "library(ISLR)      # Data from the course book\n",
    "library(MASS)      # Boston housing dataset\n",
    "library(datasets)  # US crime dataset\n",
    "library(dplyr)\n",
    "# Resize plot\n",
    "library(repr)  # String and binary representations\n",
    "#options(repr.plot.width=4, repr.plot.height=4)\n",
    "#par(cex.lab=0.8, cex.axis=0.8, cex.main=0.8, cex.sub=0.8)"
   ]
  },
  {
   "cell_type": "code",
   "execution_count": 2,
   "id": "1400f01b",
   "metadata": {},
   "outputs": [
    {
     "data": {
      "image/png": "[encoded data removed]",
      "text/plain": [
       "plot without title"
      ]
     },
     "metadata": {
      "image/png": {
       "height": 420,
       "width": 420
      }
     },
     "output_type": "display_data"
    }
   ],
   "source": [
    "#Question 1\n",
    "#generate x1 and x2\n",
    "X1 <- -30:30\n",
    "X2 <- 3*X1 + 1\n",
    "\n",
    "df1 <- data.frame(X1, X2, line = \"a\")\n",
    "\n",
    "X1 <- -30:30\n",
    "X2 <- 1 - 0.5*X1\n",
    "\n",
    "df2 <- data.frame(X1, X2, line = \"b\")\n",
    "\n",
    "\n",
    "bind_rows(df1, df2) %>%\n",
    "  ggplot(aes(x = X1, y = X2, col = line)) + \n",
    "  geom_line(size = 1) "
   ]
  },
  {
   "cell_type": "code",
   "execution_count": 3,
   "id": "85ee8f17",
   "metadata": {},
   "outputs": [
    {
     "data": {
      "image/png": "[encoded data removed]",
      "text/plain": [
       "plot without title"
      ]
     },
     "metadata": {
      "image/png": {
       "height": 420,
       "width": 420
      }
     },
     "output_type": "display_data"
    }
   ],
   "source": [
    "#Question 2\n",
    "r <- 2\n",
    "plot(c(0,-1,2,3), c(0,1,2,8),\n",
    "    col = c(\"blue\", \"red\", \"blue\", \"red\"), \n",
    "    type = \"p\",\n",
    "    asp = 1, xlab = \"x1\", \n",
    "    ylab = \"x2\")\n",
    "symbols(c(-1), c(2), circles = c(r), add = TRUE, inches = FALSE)\n",
    "text(c(-1), c(2), \"< 4\")\n",
    "text(c(4), c(2), \">= 4\")"
   ]
  },
  {
   "cell_type": "code",
   "execution_count": 70,
   "id": "82fa98e2",
   "metadata": {},
   "outputs": [],
   "source": [
    "#Question 4\n",
    "# Generate sample data for 2-classes\n",
    "set.seed(1)\n",
    "x <- matrix(rnorm(100 * 2), ncol=2)\n",
    "y <- c(rep(-1, 10), rep(1, 10))\n",
    "x[y == 1, ] <- x[y == 1, ] + 2  # Moving this data group to the top-right corner"
   ]
  },
  {
   "cell_type": "code",
   "execution_count": 71,
   "id": "b1c14e1f",
   "metadata": {},
   "outputs": [
    {
     "data": {
      "image/png": "[encoded data removed]",
      "text/plain": [
       "plot without title"
      ]
     },
     "metadata": {
      "image/png": {
       "height": 390,
       "width": 360
      }
     },
     "output_type": "display_data"
    }
   ],
   "source": [
    "# Plot the sample data\n",
    "options(repr.plot.width=6, repr.plot.height=6.5)\n",
    "plot(x[, c(2, 1)], col=(3 - y), pch=19, xlab='X2', ylab='X1')"
   ]
  },
  {
   "cell_type": "code",
   "execution_count": 72,
   "id": "ea895f5a",
   "metadata": {},
   "outputs": [
    {
     "data": {
      "image/png": "[encoded data removed]",
      "text/plain": [
       "Plot with title \"SVM classification plot\""
      ]
     },
     "metadata": {
      "image/png": {
       "height": 390,
       "width": 420
      }
     },
     "output_type": "display_data"
    }
   ],
   "source": [
    "# Prepare data to fit the model\n",
    "dat <- data.frame(x=x, y=as.factor(y))\n",
    "\n",
    "# Fit Support Vector Classifier (SVM with radial kernel)\n",
    "md_svc <- svm(y ~ ., data=dat, kernel='radial', cost=10, scale=F)\n",
    "\n",
    "# Plot the model result\n",
    "options(repr.plot.width=7, repr.plot.height=6.5)\n",
    "plot(md_svc, dat, symbolPalette=rainbow(4))"
   ]
  },
  {
   "cell_type": "code",
   "execution_count": 73,
   "id": "f2172aef",
   "metadata": {},
   "outputs": [
    {
     "data": {
      "image/png": "[encoded data removed]",
      "text/plain": [
       "Plot with title \"SVM classification plot\""
      ]
     },
     "metadata": {
      "image/png": {
       "height": 390,
       "width": 420
      }
     },
     "output_type": "display_data"
    }
   ],
   "source": [
    "# Fit Support Vector Classifier (SVM with radial kernel)\n",
    "md_svc <- svm(y ~ ., data=dat, kernel='polynomial', cost=10, scale=F)\n",
    "\n",
    "# Plot the model result\n",
    "options(repr.plot.width=7, repr.plot.height=6.5)\n",
    "plot(md_svc, dat, symbolPalette=rainbow(4))"
   ]
  },
  {
   "cell_type": "code",
   "execution_count": 74,
   "id": "3eda0944",
   "metadata": {},
   "outputs": [],
   "source": [
    "#Question 7\n",
    "data(Auto)"
   ]
  },
  {
   "cell_type": "code",
   "execution_count": 83,
   "id": "d9eeacad",
   "metadata": {},
   "outputs": [],
   "source": [
    "#part a\n",
    "dat <- Auto\n",
    "\n",
    "#median milage\n",
    "med_milage <- median(dat$mpg)\n",
    "class_0_or_1 <- ifelse(dat$mpg > med_milage, 1, 0)\n",
    "dat['class_0_or_1'] <- as.factor(class_0_or_1)"
   ]
  },
  {
   "cell_type": "code",
   "execution_count": 84,
   "id": "179e89f4",
   "metadata": {},
   "outputs": [
    {
     "data": {
      "text/html": [
       "<table class=\"dataframe\">\n",
       "<caption>A data.frame: 6 × 10</caption>\n",
       "<thead>\n",
       "\t<tr><th></th><th scope=col>mpg</th><th scope=col>cylinders</th><th scope=col>displacement</th><th scope=col>horsepower</th><th scope=col>weight</th><th scope=col>acceleration</th><th scope=col>year</th><th scope=col>origin</th><th scope=col>name</th><th scope=col>class_0_or_1</th></tr>\n",
       "\t<tr><th></th><th scope=col>&lt;dbl&gt;</th><th scope=col>&lt;dbl&gt;</th><th scope=col>&lt;dbl&gt;</th><th scope=col>&lt;dbl&gt;</th><th scope=col>&lt;dbl&gt;</th><th scope=col>&lt;dbl&gt;</th><th scope=col>&lt;dbl&gt;</th><th scope=col>&lt;dbl&gt;</th><th scope=col>&lt;fct&gt;</th><th scope=col>&lt;fct&gt;</th></tr>\n",
       "</thead>\n",
       "<tbody>\n",
       "\t<tr><th scope=row>1</th><td>18</td><td>8</td><td>307</td><td>130</td><td>3504</td><td>12.0</td><td>70</td><td>1</td><td>chevrolet chevelle malibu</td><td>0</td></tr>\n",
       "\t<tr><th scope=row>2</th><td>15</td><td>8</td><td>350</td><td>165</td><td>3693</td><td>11.5</td><td>70</td><td>1</td><td>buick skylark 320        </td><td>0</td></tr>\n",
       "\t<tr><th scope=row>3</th><td>18</td><td>8</td><td>318</td><td>150</td><td>3436</td><td>11.0</td><td>70</td><td>1</td><td>plymouth satellite       </td><td>0</td></tr>\n",
       "\t<tr><th scope=row>4</th><td>16</td><td>8</td><td>304</td><td>150</td><td>3433</td><td>12.0</td><td>70</td><td>1</td><td>amc rebel sst            </td><td>0</td></tr>\n",
       "\t<tr><th scope=row>5</th><td>17</td><td>8</td><td>302</td><td>140</td><td>3449</td><td>10.5</td><td>70</td><td>1</td><td>ford torino              </td><td>0</td></tr>\n",
       "\t<tr><th scope=row>6</th><td>15</td><td>8</td><td>429</td><td>198</td><td>4341</td><td>10.0</td><td>70</td><td>1</td><td>ford galaxie 500         </td><td>0</td></tr>\n",
       "</tbody>\n",
       "</table>\n"
      ],
      "text/latex": [
       "A data.frame: 6 × 10\n",
       "\\begin{tabular}{r|llllllllll}\n",
       "  & mpg & cylinders & displacement & horsepower & weight & acceleration & year & origin & name & class\\_0\\_or\\_1\\\\\n",
       "  & <dbl> & <dbl> & <dbl> & <dbl> & <dbl> & <dbl> & <dbl> & <dbl> & <fct> & <fct>\\\\\n",
       "\\hline\n",
       "\t1 & 18 & 8 & 307 & 130 & 3504 & 12.0 & 70 & 1 & chevrolet chevelle malibu & 0\\\\\n",
       "\t2 & 15 & 8 & 350 & 165 & 3693 & 11.5 & 70 & 1 & buick skylark 320         & 0\\\\\n",
       "\t3 & 18 & 8 & 318 & 150 & 3436 & 11.0 & 70 & 1 & plymouth satellite        & 0\\\\\n",
       "\t4 & 16 & 8 & 304 & 150 & 3433 & 12.0 & 70 & 1 & amc rebel sst             & 0\\\\\n",
       "\t5 & 17 & 8 & 302 & 140 & 3449 & 10.5 & 70 & 1 & ford torino               & 0\\\\\n",
       "\t6 & 15 & 8 & 429 & 198 & 4341 & 10.0 & 70 & 1 & ford galaxie 500          & 0\\\\\n",
       "\\end{tabular}\n"
      ],
      "text/markdown": [
       "\n",
       "A data.frame: 6 × 10\n",
       "\n",
       "| <!--/--> | mpg &lt;dbl&gt; | cylinders &lt;dbl&gt; | displacement &lt;dbl&gt; | horsepower &lt;dbl&gt; | weight &lt;dbl&gt; | acceleration &lt;dbl&gt; | year &lt;dbl&gt; | origin &lt;dbl&gt; | name &lt;fct&gt; | class_0_or_1 &lt;fct&gt; |\n",
       "|---|---|---|---|---|---|---|---|---|---|---|\n",
       "| 1 | 18 | 8 | 307 | 130 | 3504 | 12.0 | 70 | 1 | chevrolet chevelle malibu | 0 |\n",
       "| 2 | 15 | 8 | 350 | 165 | 3693 | 11.5 | 70 | 1 | buick skylark 320         | 0 |\n",
       "| 3 | 18 | 8 | 318 | 150 | 3436 | 11.0 | 70 | 1 | plymouth satellite        | 0 |\n",
       "| 4 | 16 | 8 | 304 | 150 | 3433 | 12.0 | 70 | 1 | amc rebel sst             | 0 |\n",
       "| 5 | 17 | 8 | 302 | 140 | 3449 | 10.5 | 70 | 1 | ford torino               | 0 |\n",
       "| 6 | 15 | 8 | 429 | 198 | 4341 | 10.0 | 70 | 1 | ford galaxie 500          | 0 |\n",
       "\n"
      ],
      "text/plain": [
       "  mpg cylinders displacement horsepower weight acceleration year origin\n",
       "1 18  8         307          130        3504   12.0         70   1     \n",
       "2 15  8         350          165        3693   11.5         70   1     \n",
       "3 18  8         318          150        3436   11.0         70   1     \n",
       "4 16  8         304          150        3433   12.0         70   1     \n",
       "5 17  8         302          140        3449   10.5         70   1     \n",
       "6 15  8         429          198        4341   10.0         70   1     \n",
       "  name                      class_0_or_1\n",
       "1 chevrolet chevelle malibu 0           \n",
       "2 buick skylark 320         0           \n",
       "3 plymouth satellite        0           \n",
       "4 amc rebel sst             0           \n",
       "5 ford torino               0           \n",
       "6 ford galaxie 500          0           "
      ]
     },
     "metadata": {},
     "output_type": "display_data"
    }
   ],
   "source": [
    "head(dat)"
   ]
  },
  {
   "cell_type": "code",
   "execution_count": 85,
   "id": "dfa5b857",
   "metadata": {},
   "outputs": [
    {
     "data": {
      "text/plain": [
       "\n",
       "Parameter tuning of 'svm':\n",
       "\n",
       "- sampling method: 10-fold cross validation \n",
       "\n",
       "- best parameters:\n",
       " cost\n",
       "  1.5\n",
       "\n",
       "- best performance: 0.01025641 \n",
       "\n",
       "- Detailed performance results:\n",
       "     cost      error dispersion\n",
       "1   0.001 0.09442308 0.04519425\n",
       "2   0.010 0.07653846 0.03617137\n",
       "3   0.100 0.04596154 0.03378238\n",
       "4   1.500 0.01025641 0.01792836\n",
       "5  10.000 0.02051282 0.02648194\n",
       "6 100.000 0.03076923 0.03151981\n"
      ]
     },
     "metadata": {},
     "output_type": "display_data"
    }
   ],
   "source": [
    "#part 2\n",
    "# Tuning parameter: cost\n",
    "set.seed(1)\n",
    "tune_svc <- tune(svm, class_0_or_1 ~ ., data=dat, kernel='linear',\n",
    "                 ranges=list(cost=c(0.001, 0.01, 0.1, 1.5, 10, 100)))\n",
    "\n",
    "summary(tune_svc)"
   ]
  },
  {
   "cell_type": "code",
   "execution_count": 86,
   "id": "f81773e0",
   "metadata": {},
   "outputs": [
    {
     "data": {
      "text/plain": [
       "\n",
       "Parameter tuning of 'svm':\n",
       "\n",
       "- sampling method: 10-fold cross validation \n",
       "\n",
       "- best parameters:\n",
       " cost gamma degree\n",
       "  1.5   0.5      1\n",
       "\n",
       "- best performance: 0.01025641 \n",
       "\n",
       "- Detailed performance results:\n",
       "     cost gamma degree      error dispersion\n",
       "1   0.001   0.5      1 0.09442308 0.04519425\n",
       "2   0.010   0.5      1 0.07653846 0.03617137\n",
       "3   0.100   0.5      1 0.04596154 0.03378238\n",
       "4   1.500   0.5      1 0.01025641 0.01792836\n",
       "5  10.000   0.5      1 0.02051282 0.02648194\n",
       "6   0.001   1.0      1 0.09442308 0.04519425\n",
       "7   0.010   1.0      1 0.07653846 0.03617137\n",
       "8   0.100   1.0      1 0.04596154 0.03378238\n",
       "9   1.500   1.0      1 0.01025641 0.01792836\n",
       "10 10.000   1.0      1 0.02051282 0.02648194\n",
       "11  0.001   2.0      1 0.09442308 0.04519425\n",
       "12  0.010   2.0      1 0.07653846 0.03617137\n",
       "13  0.100   2.0      1 0.04596154 0.03378238\n",
       "14  1.500   2.0      1 0.01025641 0.01792836\n",
       "15 10.000   2.0      1 0.02051282 0.02648194\n",
       "16  0.001   0.5      2 0.09442308 0.04519425\n",
       "17  0.010   0.5      2 0.07653846 0.03617137\n",
       "18  0.100   0.5      2 0.04596154 0.03378238\n",
       "19  1.500   0.5      2 0.01025641 0.01792836\n",
       "20 10.000   0.5      2 0.02051282 0.02648194\n",
       "21  0.001   1.0      2 0.09442308 0.04519425\n",
       "22  0.010   1.0      2 0.07653846 0.03617137\n",
       "23  0.100   1.0      2 0.04596154 0.03378238\n",
       "24  1.500   1.0      2 0.01025641 0.01792836\n",
       "25 10.000   1.0      2 0.02051282 0.02648194\n",
       "26  0.001   2.0      2 0.09442308 0.04519425\n",
       "27  0.010   2.0      2 0.07653846 0.03617137\n",
       "28  0.100   2.0      2 0.04596154 0.03378238\n",
       "29  1.500   2.0      2 0.01025641 0.01792836\n",
       "30 10.000   2.0      2 0.02051282 0.02648194\n"
      ]
     },
     "metadata": {},
     "output_type": "display_data"
    }
   ],
   "source": [
    "#part 3\n",
    "set.seed(1)\n",
    "tune_svc <- tune(svm, class_0_or_1 ~ ., data=dat, kernel='linear',\n",
    "                 ranges=list(cost=c(0.001, 0.01, 0.1, 1.5, 10),\n",
    "                            gamma=c(0.5, 1, 2),\n",
    "                            degree = c(1,2)))\n",
    "\n",
    "summary(tune_svc)"
   ]
  },
  {
   "cell_type": "code",
   "execution_count": 87,
   "id": "fd903268",
   "metadata": {},
   "outputs": [
    {
     "data": {
      "text/plain": [
       "\n",
       "Call:\n",
       "svm(formula = class_0_or_1 ~ ., data = dat, kernel = \"linear\", cost = 1.5, \n",
       "    gamma = 0.5, degree = 1)\n",
       "\n",
       "\n",
       "Parameters:\n",
       "   SVM-Type:  C-classification \n",
       " SVM-Kernel:  linear \n",
       "       cost:  1.5 \n",
       "\n",
       "Number of Support Vectors:  53\n",
       "\n",
       " ( 25 28 )\n",
       "\n",
       "\n",
       "Number of Classes:  2 \n",
       "\n",
       "Levels: \n",
       " 0 1\n",
       "\n",
       "\n"
      ]
     },
     "metadata": {},
     "output_type": "display_data"
    }
   ],
   "source": [
    "#part 4\n",
    "model <- svm(class_0_or_1 ~ ., data=dat, kernel='linear', cost=1.5, gamma = 0.5, degree = 1)\n",
    "summary(model)"
   ]
  },
  {
   "cell_type": "code",
   "execution_count": 92,
   "id": "103b3c8b",
   "metadata": {},
   "outputs": [
    {
     "data": {
      "image/png": "[encoded data removed]",
      "text/plain": [
       "Plot with title \"SVM classification plot\""
      ]
     },
     "metadata": {
      "image/png": {
       "height": 390,
       "width": 420
      }
     },
     "output_type": "display_data"
    }
   ],
   "source": [
    "plot(model, dat, mpg~cylinders)"
   ]
  },
  {
   "cell_type": "code",
   "execution_count": 93,
   "id": "22fd9e6d",
   "metadata": {},
   "outputs": [
    {
     "data": {
      "image/png": "[encoded data removed]",
      "text/plain": [
       "Plot with title \"SVM classification plot\""
      ]
     },
     "metadata": {
      "image/png": {
       "height": 390,
       "width": 420
      }
     },
     "output_type": "display_data"
    }
   ],
   "source": [
    "plot(model, dat, mpg~displacement)"
   ]
  },
  {
   "cell_type": "code",
   "execution_count": 94,
   "id": "a938f58e",
   "metadata": {},
   "outputs": [
    {
     "data": {
      "image/png": "[encoded data removed]",
      "text/plain": [
       "Plot with title \"SVM classification plot\""
      ]
     },
     "metadata": {
      "image/png": {
       "height": 390,
       "width": 420
      }
     },
     "output_type": "display_data"
    }
   ],
   "source": [
    "plot(model, dat, mpg~horsepower)"
   ]
  },
  {
   "cell_type": "code",
   "execution_count": 96,
   "id": "6ca0a5b7",
   "metadata": {},
   "outputs": [
    {
     "data": {
      "image/png": "[encoded data removed]",
      "text/plain": [
       "Plot with title \"SVM classification plot\""
      ]
     },
     "metadata": {
      "image/png": {
       "height": 390,
       "width": 420
      }
     },
     "output_type": "display_data"
    }
   ],
   "source": [
    "plot(model, dat, mpg~weight)"
   ]
  },
  {
   "cell_type": "code",
   "execution_count": 97,
   "id": "4875a5f3",
   "metadata": {},
   "outputs": [
    {
     "data": {
      "image/png": "[encoded data removed]",
      "text/plain": [
       "Plot with title \"SVM classification plot\""
      ]
     },
     "metadata": {
      "image/png": {
       "height": 390,
       "width": 420
      }
     },
     "output_type": "display_data"
    }
   ],
   "source": [
    "plot(model, dat, mpg~acceleration)"
   ]
  },
  {
   "cell_type": "code",
   "execution_count": 33,
   "id": "b3eda651",
   "metadata": {},
   "outputs": [
    {
     "data": {
      "text/html": [
       "<table class=\"dataframe\">\n",
       "<caption>A data.frame: 6 × 18</caption>\n",
       "<thead>\n",
       "\t<tr><th></th><th scope=col>Purchase</th><th scope=col>WeekofPurchase</th><th scope=col>StoreID</th><th scope=col>PriceCH</th><th scope=col>PriceMM</th><th scope=col>DiscCH</th><th scope=col>DiscMM</th><th scope=col>SpecialCH</th><th scope=col>SpecialMM</th><th scope=col>LoyalCH</th><th scope=col>SalePriceMM</th><th scope=col>SalePriceCH</th><th scope=col>PriceDiff</th><th scope=col>Store7</th><th scope=col>PctDiscMM</th><th scope=col>PctDiscCH</th><th scope=col>ListPriceDiff</th><th scope=col>STORE</th></tr>\n",
       "\t<tr><th></th><th scope=col>&lt;fct&gt;</th><th scope=col>&lt;dbl&gt;</th><th scope=col>&lt;dbl&gt;</th><th scope=col>&lt;dbl&gt;</th><th scope=col>&lt;dbl&gt;</th><th scope=col>&lt;dbl&gt;</th><th scope=col>&lt;dbl&gt;</th><th scope=col>&lt;dbl&gt;</th><th scope=col>&lt;dbl&gt;</th><th scope=col>&lt;dbl&gt;</th><th scope=col>&lt;dbl&gt;</th><th scope=col>&lt;dbl&gt;</th><th scope=col>&lt;dbl&gt;</th><th scope=col>&lt;fct&gt;</th><th scope=col>&lt;dbl&gt;</th><th scope=col>&lt;dbl&gt;</th><th scope=col>&lt;dbl&gt;</th><th scope=col>&lt;dbl&gt;</th></tr>\n",
       "</thead>\n",
       "<tbody>\n",
       "\t<tr><th scope=row>834</th><td>MM</td><td>241</td><td>3</td><td>1.79</td><td>2.23</td><td>0.0</td><td>0</td><td>0</td><td>0</td><td>0.204800</td><td>2.23</td><td>1.79</td><td>0.44</td><td>No </td><td>0</td><td>0.000000</td><td>0.44</td><td>3</td></tr>\n",
       "\t<tr><th scope=row>697</th><td>MM</td><td>235</td><td>3</td><td>1.79</td><td>2.09</td><td>0.0</td><td>0</td><td>0</td><td>0</td><td>0.009007</td><td>2.09</td><td>1.79</td><td>0.30</td><td>No </td><td>0</td><td>0.000000</td><td>0.30</td><td>3</td></tr>\n",
       "\t<tr><th scope=row>207</th><td>CH</td><td>241</td><td>7</td><td>1.86</td><td>2.09</td><td>0.0</td><td>0</td><td>0</td><td>0</td><td>0.813222</td><td>2.09</td><td>1.86</td><td>0.23</td><td>Yes</td><td>0</td><td>0.000000</td><td>0.23</td><td>0</td></tr>\n",
       "\t<tr><th scope=row>715</th><td>MM</td><td>266</td><td>3</td><td>1.99</td><td>2.09</td><td>0.1</td><td>0</td><td>0</td><td>0</td><td>0.000162</td><td>2.09</td><td>1.89</td><td>0.20</td><td>No </td><td>0</td><td>0.050251</td><td>0.10</td><td>3</td></tr>\n",
       "\t<tr><th scope=row>889</th><td>CH</td><td>273</td><td>1</td><td>1.86</td><td>2.18</td><td>0.0</td><td>0</td><td>0</td><td>0</td><td>0.708160</td><td>2.18</td><td>1.86</td><td>0.32</td><td>No </td><td>0</td><td>0.000000</td><td>0.32</td><td>1</td></tr>\n",
       "\t<tr><th scope=row>387</th><td>MM</td><td>229</td><td>2</td><td>1.69</td><td>1.69</td><td>0.0</td><td>0</td><td>0</td><td>0</td><td>0.165373</td><td>1.69</td><td>1.69</td><td>0.00</td><td>No </td><td>0</td><td>0.000000</td><td>0.00</td><td>2</td></tr>\n",
       "</tbody>\n",
       "</table>\n"
      ],
      "text/latex": [
       "A data.frame: 6 × 18\n",
       "\\begin{tabular}{r|llllllllllllllllll}\n",
       "  & Purchase & WeekofPurchase & StoreID & PriceCH & PriceMM & DiscCH & DiscMM & SpecialCH & SpecialMM & LoyalCH & SalePriceMM & SalePriceCH & PriceDiff & Store7 & PctDiscMM & PctDiscCH & ListPriceDiff & STORE\\\\\n",
       "  & <fct> & <dbl> & <dbl> & <dbl> & <dbl> & <dbl> & <dbl> & <dbl> & <dbl> & <dbl> & <dbl> & <dbl> & <dbl> & <fct> & <dbl> & <dbl> & <dbl> & <dbl>\\\\\n",
       "\\hline\n",
       "\t834 & MM & 241 & 3 & 1.79 & 2.23 & 0.0 & 0 & 0 & 0 & 0.204800 & 2.23 & 1.79 & 0.44 & No  & 0 & 0.000000 & 0.44 & 3\\\\\n",
       "\t697 & MM & 235 & 3 & 1.79 & 2.09 & 0.0 & 0 & 0 & 0 & 0.009007 & 2.09 & 1.79 & 0.30 & No  & 0 & 0.000000 & 0.30 & 3\\\\\n",
       "\t207 & CH & 241 & 7 & 1.86 & 2.09 & 0.0 & 0 & 0 & 0 & 0.813222 & 2.09 & 1.86 & 0.23 & Yes & 0 & 0.000000 & 0.23 & 0\\\\\n",
       "\t715 & MM & 266 & 3 & 1.99 & 2.09 & 0.1 & 0 & 0 & 0 & 0.000162 & 2.09 & 1.89 & 0.20 & No  & 0 & 0.050251 & 0.10 & 3\\\\\n",
       "\t889 & CH & 273 & 1 & 1.86 & 2.18 & 0.0 & 0 & 0 & 0 & 0.708160 & 2.18 & 1.86 & 0.32 & No  & 0 & 0.000000 & 0.32 & 1\\\\\n",
       "\t387 & MM & 229 & 2 & 1.69 & 1.69 & 0.0 & 0 & 0 & 0 & 0.165373 & 1.69 & 1.69 & 0.00 & No  & 0 & 0.000000 & 0.00 & 2\\\\\n",
       "\\end{tabular}\n"
      ],
      "text/markdown": [
       "\n",
       "A data.frame: 6 × 18\n",
       "\n",
       "| <!--/--> | Purchase &lt;fct&gt; | WeekofPurchase &lt;dbl&gt; | StoreID &lt;dbl&gt; | PriceCH &lt;dbl&gt; | PriceMM &lt;dbl&gt; | DiscCH &lt;dbl&gt; | DiscMM &lt;dbl&gt; | SpecialCH &lt;dbl&gt; | SpecialMM &lt;dbl&gt; | LoyalCH &lt;dbl&gt; | SalePriceMM &lt;dbl&gt; | SalePriceCH &lt;dbl&gt; | PriceDiff &lt;dbl&gt; | Store7 &lt;fct&gt; | PctDiscMM &lt;dbl&gt; | PctDiscCH &lt;dbl&gt; | ListPriceDiff &lt;dbl&gt; | STORE &lt;dbl&gt; |\n",
       "|---|---|---|---|---|---|---|---|---|---|---|---|---|---|---|---|---|---|---|\n",
       "| 834 | MM | 241 | 3 | 1.79 | 2.23 | 0.0 | 0 | 0 | 0 | 0.204800 | 2.23 | 1.79 | 0.44 | No  | 0 | 0.000000 | 0.44 | 3 |\n",
       "| 697 | MM | 235 | 3 | 1.79 | 2.09 | 0.0 | 0 | 0 | 0 | 0.009007 | 2.09 | 1.79 | 0.30 | No  | 0 | 0.000000 | 0.30 | 3 |\n",
       "| 207 | CH | 241 | 7 | 1.86 | 2.09 | 0.0 | 0 | 0 | 0 | 0.813222 | 2.09 | 1.86 | 0.23 | Yes | 0 | 0.000000 | 0.23 | 0 |\n",
       "| 715 | MM | 266 | 3 | 1.99 | 2.09 | 0.1 | 0 | 0 | 0 | 0.000162 | 2.09 | 1.89 | 0.20 | No  | 0 | 0.050251 | 0.10 | 3 |\n",
       "| 889 | CH | 273 | 1 | 1.86 | 2.18 | 0.0 | 0 | 0 | 0 | 0.708160 | 2.18 | 1.86 | 0.32 | No  | 0 | 0.000000 | 0.32 | 1 |\n",
       "| 387 | MM | 229 | 2 | 1.69 | 1.69 | 0.0 | 0 | 0 | 0 | 0.165373 | 1.69 | 1.69 | 0.00 | No  | 0 | 0.000000 | 0.00 | 2 |\n",
       "\n"
      ],
      "text/plain": [
       "    Purchase WeekofPurchase StoreID PriceCH PriceMM DiscCH DiscMM SpecialCH\n",
       "834 MM       241            3       1.79    2.23    0.0    0      0        \n",
       "697 MM       235            3       1.79    2.09    0.0    0      0        \n",
       "207 CH       241            7       1.86    2.09    0.0    0      0        \n",
       "715 MM       266            3       1.99    2.09    0.1    0      0        \n",
       "889 CH       273            1       1.86    2.18    0.0    0      0        \n",
       "387 MM       229            2       1.69    1.69    0.0    0      0        \n",
       "    SpecialMM LoyalCH  SalePriceMM SalePriceCH PriceDiff Store7 PctDiscMM\n",
       "834 0         0.204800 2.23        1.79        0.44      No     0        \n",
       "697 0         0.009007 2.09        1.79        0.30      No     0        \n",
       "207 0         0.813222 2.09        1.86        0.23      Yes    0        \n",
       "715 0         0.000162 2.09        1.89        0.20      No     0        \n",
       "889 0         0.708160 2.18        1.86        0.32      No     0        \n",
       "387 0         0.165373 1.69        1.69        0.00      No     0        \n",
       "    PctDiscCH ListPriceDiff STORE\n",
       "834 0.000000  0.44          3    \n",
       "697 0.000000  0.30          3    \n",
       "207 0.000000  0.23          0    \n",
       "715 0.050251  0.10          3    \n",
       "889 0.000000  0.32          1    \n",
       "387 0.000000  0.00          2    "
      ]
     },
     "metadata": {},
     "output_type": "display_data"
    }
   ],
   "source": [
    "#Question 8\n",
    "#part 1\n",
    "dat <- OJ\n",
    "#train test\n",
    "set.seed(5)\n",
    "train_index <- sample(1:nrow(dat), 800)\n",
    "train_df <- dat[train_index, ]\n",
    "test_df <- dat[-train_index, ]\n",
    "head(train_df)"
   ]
  },
  {
   "cell_type": "code",
   "execution_count": 34,
   "id": "c1b736f2",
   "metadata": {},
   "outputs": [
    {
     "data": {
      "text/html": [
       "<table class=\"dataframe\">\n",
       "<caption>A data.frame: 6 × 18</caption>\n",
       "<thead>\n",
       "\t<tr><th></th><th scope=col>Purchase</th><th scope=col>WeekofPurchase</th><th scope=col>StoreID</th><th scope=col>PriceCH</th><th scope=col>PriceMM</th><th scope=col>DiscCH</th><th scope=col>DiscMM</th><th scope=col>SpecialCH</th><th scope=col>SpecialMM</th><th scope=col>LoyalCH</th><th scope=col>SalePriceMM</th><th scope=col>SalePriceCH</th><th scope=col>PriceDiff</th><th scope=col>Store7</th><th scope=col>PctDiscMM</th><th scope=col>PctDiscCH</th><th scope=col>ListPriceDiff</th><th scope=col>STORE</th></tr>\n",
       "\t<tr><th></th><th scope=col>&lt;fct&gt;</th><th scope=col>&lt;dbl&gt;</th><th scope=col>&lt;dbl&gt;</th><th scope=col>&lt;dbl&gt;</th><th scope=col>&lt;dbl&gt;</th><th scope=col>&lt;dbl&gt;</th><th scope=col>&lt;dbl&gt;</th><th scope=col>&lt;dbl&gt;</th><th scope=col>&lt;dbl&gt;</th><th scope=col>&lt;dbl&gt;</th><th scope=col>&lt;dbl&gt;</th><th scope=col>&lt;dbl&gt;</th><th scope=col>&lt;dbl&gt;</th><th scope=col>&lt;fct&gt;</th><th scope=col>&lt;dbl&gt;</th><th scope=col>&lt;dbl&gt;</th><th scope=col>&lt;dbl&gt;</th><th scope=col>&lt;dbl&gt;</th></tr>\n",
       "</thead>\n",
       "<tbody>\n",
       "\t<tr><th scope=row>9</th><td>CH</td><td>235</td><td>7</td><td>1.75</td><td>1.99</td><td>0</td><td>0.4</td><td>0</td><td>0</td><td>0.982197</td><td>1.59</td><td>1.75</td><td>-0.16</td><td>Yes</td><td>0.201005</td><td>0</td><td>0.24</td><td>0</td></tr>\n",
       "\t<tr><th scope=row>14</th><td>CH</td><td>268</td><td>7</td><td>1.86</td><td>2.13</td><td>0</td><td>0.0</td><td>0</td><td>0</td><td>0.680000</td><td>2.13</td><td>1.86</td><td> 0.27</td><td>Yes</td><td>0.000000</td><td>0</td><td>0.27</td><td>0</td></tr>\n",
       "\t<tr><th scope=row>18</th><td>MM</td><td>268</td><td>2</td><td>1.86</td><td>2.18</td><td>0</td><td>0.0</td><td>0</td><td>1</td><td>0.400000</td><td>2.18</td><td>1.86</td><td> 0.32</td><td>No </td><td>0.000000</td><td>0</td><td>0.32</td><td>2</td></tr>\n",
       "\t<tr><th scope=row>19</th><td>MM</td><td>269</td><td>2</td><td>1.86</td><td>2.18</td><td>0</td><td>0.0</td><td>0</td><td>0</td><td>0.320000</td><td>2.18</td><td>1.86</td><td> 0.32</td><td>No </td><td>0.000000</td><td>0</td><td>0.32</td><td>2</td></tr>\n",
       "\t<tr><th scope=row>22</th><td>CH</td><td>258</td><td>1</td><td>1.76</td><td>2.18</td><td>0</td><td>0.0</td><td>0</td><td>0</td><td>0.680000</td><td>2.18</td><td>1.76</td><td> 0.42</td><td>No </td><td>0.000000</td><td>0</td><td>0.42</td><td>1</td></tr>\n",
       "\t<tr><th scope=row>23</th><td>CH</td><td>259</td><td>7</td><td>1.86</td><td>2.18</td><td>0</td><td>0.0</td><td>0</td><td>0</td><td>0.744000</td><td>2.18</td><td>1.86</td><td> 0.32</td><td>Yes</td><td>0.000000</td><td>0</td><td>0.32</td><td>0</td></tr>\n",
       "</tbody>\n",
       "</table>\n"
      ],
      "text/latex": [
       "A data.frame: 6 × 18\n",
       "\\begin{tabular}{r|llllllllllllllllll}\n",
       "  & Purchase & WeekofPurchase & StoreID & PriceCH & PriceMM & DiscCH & DiscMM & SpecialCH & SpecialMM & LoyalCH & SalePriceMM & SalePriceCH & PriceDiff & Store7 & PctDiscMM & PctDiscCH & ListPriceDiff & STORE\\\\\n",
       "  & <fct> & <dbl> & <dbl> & <dbl> & <dbl> & <dbl> & <dbl> & <dbl> & <dbl> & <dbl> & <dbl> & <dbl> & <dbl> & <fct> & <dbl> & <dbl> & <dbl> & <dbl>\\\\\n",
       "\\hline\n",
       "\t9 & CH & 235 & 7 & 1.75 & 1.99 & 0 & 0.4 & 0 & 0 & 0.982197 & 1.59 & 1.75 & -0.16 & Yes & 0.201005 & 0 & 0.24 & 0\\\\\n",
       "\t14 & CH & 268 & 7 & 1.86 & 2.13 & 0 & 0.0 & 0 & 0 & 0.680000 & 2.13 & 1.86 &  0.27 & Yes & 0.000000 & 0 & 0.27 & 0\\\\\n",
       "\t18 & MM & 268 & 2 & 1.86 & 2.18 & 0 & 0.0 & 0 & 1 & 0.400000 & 2.18 & 1.86 &  0.32 & No  & 0.000000 & 0 & 0.32 & 2\\\\\n",
       "\t19 & MM & 269 & 2 & 1.86 & 2.18 & 0 & 0.0 & 0 & 0 & 0.320000 & 2.18 & 1.86 &  0.32 & No  & 0.000000 & 0 & 0.32 & 2\\\\\n",
       "\t22 & CH & 258 & 1 & 1.76 & 2.18 & 0 & 0.0 & 0 & 0 & 0.680000 & 2.18 & 1.76 &  0.42 & No  & 0.000000 & 0 & 0.42 & 1\\\\\n",
       "\t23 & CH & 259 & 7 & 1.86 & 2.18 & 0 & 0.0 & 0 & 0 & 0.744000 & 2.18 & 1.86 &  0.32 & Yes & 0.000000 & 0 & 0.32 & 0\\\\\n",
       "\\end{tabular}\n"
      ],
      "text/markdown": [
       "\n",
       "A data.frame: 6 × 18\n",
       "\n",
       "| <!--/--> | Purchase &lt;fct&gt; | WeekofPurchase &lt;dbl&gt; | StoreID &lt;dbl&gt; | PriceCH &lt;dbl&gt; | PriceMM &lt;dbl&gt; | DiscCH &lt;dbl&gt; | DiscMM &lt;dbl&gt; | SpecialCH &lt;dbl&gt; | SpecialMM &lt;dbl&gt; | LoyalCH &lt;dbl&gt; | SalePriceMM &lt;dbl&gt; | SalePriceCH &lt;dbl&gt; | PriceDiff &lt;dbl&gt; | Store7 &lt;fct&gt; | PctDiscMM &lt;dbl&gt; | PctDiscCH &lt;dbl&gt; | ListPriceDiff &lt;dbl&gt; | STORE &lt;dbl&gt; |\n",
       "|---|---|---|---|---|---|---|---|---|---|---|---|---|---|---|---|---|---|---|\n",
       "| 9 | CH | 235 | 7 | 1.75 | 1.99 | 0 | 0.4 | 0 | 0 | 0.982197 | 1.59 | 1.75 | -0.16 | Yes | 0.201005 | 0 | 0.24 | 0 |\n",
       "| 14 | CH | 268 | 7 | 1.86 | 2.13 | 0 | 0.0 | 0 | 0 | 0.680000 | 2.13 | 1.86 |  0.27 | Yes | 0.000000 | 0 | 0.27 | 0 |\n",
       "| 18 | MM | 268 | 2 | 1.86 | 2.18 | 0 | 0.0 | 0 | 1 | 0.400000 | 2.18 | 1.86 |  0.32 | No  | 0.000000 | 0 | 0.32 | 2 |\n",
       "| 19 | MM | 269 | 2 | 1.86 | 2.18 | 0 | 0.0 | 0 | 0 | 0.320000 | 2.18 | 1.86 |  0.32 | No  | 0.000000 | 0 | 0.32 | 2 |\n",
       "| 22 | CH | 258 | 1 | 1.76 | 2.18 | 0 | 0.0 | 0 | 0 | 0.680000 | 2.18 | 1.76 |  0.42 | No  | 0.000000 | 0 | 0.42 | 1 |\n",
       "| 23 | CH | 259 | 7 | 1.86 | 2.18 | 0 | 0.0 | 0 | 0 | 0.744000 | 2.18 | 1.86 |  0.32 | Yes | 0.000000 | 0 | 0.32 | 0 |\n",
       "\n"
      ],
      "text/plain": [
       "   Purchase WeekofPurchase StoreID PriceCH PriceMM DiscCH DiscMM SpecialCH\n",
       "9  CH       235            7       1.75    1.99    0      0.4    0        \n",
       "14 CH       268            7       1.86    2.13    0      0.0    0        \n",
       "18 MM       268            2       1.86    2.18    0      0.0    0        \n",
       "19 MM       269            2       1.86    2.18    0      0.0    0        \n",
       "22 CH       258            1       1.76    2.18    0      0.0    0        \n",
       "23 CH       259            7       1.86    2.18    0      0.0    0        \n",
       "   SpecialMM LoyalCH  SalePriceMM SalePriceCH PriceDiff Store7 PctDiscMM\n",
       "9  0         0.982197 1.59        1.75        -0.16     Yes    0.201005 \n",
       "14 0         0.680000 2.13        1.86         0.27     Yes    0.000000 \n",
       "18 1         0.400000 2.18        1.86         0.32     No     0.000000 \n",
       "19 0         0.320000 2.18        1.86         0.32     No     0.000000 \n",
       "22 0         0.680000 2.18        1.76         0.42     No     0.000000 \n",
       "23 0         0.744000 2.18        1.86         0.32     Yes    0.000000 \n",
       "   PctDiscCH ListPriceDiff STORE\n",
       "9  0         0.24          0    \n",
       "14 0         0.27          0    \n",
       "18 0         0.32          2    \n",
       "19 0         0.32          2    \n",
       "22 0         0.42          1    \n",
       "23 0         0.32          0    "
      ]
     },
     "metadata": {},
     "output_type": "display_data"
    }
   ],
   "source": [
    "head(test_df)"
   ]
  },
  {
   "cell_type": "code",
   "execution_count": 35,
   "id": "9a85507c",
   "metadata": {},
   "outputs": [
    {
     "data": {
      "text/plain": [
       "\n",
       "Call:\n",
       "svm(formula = Purchase ~ ., data = train_df, kernel = \"linear\", cost = 0.01)\n",
       "\n",
       "\n",
       "Parameters:\n",
       "   SVM-Type:  C-classification \n",
       " SVM-Kernel:  linear \n",
       "       cost:  0.01 \n",
       "\n",
       "Number of Support Vectors:  441\n",
       "\n",
       " ( 219 222 )\n",
       "\n",
       "\n",
       "Number of Classes:  2 \n",
       "\n",
       "Levels: \n",
       " CH MM\n",
       "\n",
       "\n"
      ]
     },
     "metadata": {},
     "output_type": "display_data"
    }
   ],
   "source": [
    "#part 2\n",
    "model <- svm(Purchase ~ ., data=train_df, kernel='linear', cost=0.01)\n",
    "summary(model)"
   ]
  },
  {
   "cell_type": "code",
   "execution_count": 36,
   "id": "31ded590",
   "metadata": {},
   "outputs": [
    {
     "data": {
      "text/plain": [
       "    train_pred\n",
       "      CH  MM\n",
       "  CH 431  59\n",
       "  MM  74 236"
      ]
     },
     "metadata": {},
     "output_type": "display_data"
    }
   ],
   "source": [
    "#part 3\n",
    "train_pred = predict(model, train_df)\n",
    "table(train_df$Purchase, train_pred)"
   ]
  },
  {
   "cell_type": "code",
   "execution_count": 39,
   "id": "e805e1c9",
   "metadata": {},
   "outputs": [
    {
     "data": {
      "text/html": [
       "0.16219512195122"
      ],
      "text/latex": [
       "0.16219512195122"
      ],
      "text/markdown": [
       "0.16219512195122"
      ],
      "text/plain": [
       "[1] 0.1621951"
      ]
     },
     "metadata": {},
     "output_type": "display_data"
    }
   ],
   "source": [
    "(74  + 59)/(431 + 74  + 59 + 256)"
   ]
  },
  {
   "cell_type": "code",
   "execution_count": 37,
   "id": "20173fbe",
   "metadata": {},
   "outputs": [
    {
     "data": {
      "text/plain": [
       "    test_pred\n",
       "      CH  MM\n",
       "  CH 145  18\n",
       "  MM  27  80"
      ]
     },
     "metadata": {},
     "output_type": "display_data"
    }
   ],
   "source": [
    "test_pred = predict(model, test_df)\n",
    "table(test_df$Purchase, test_pred)"
   ]
  },
  {
   "cell_type": "code",
   "execution_count": 40,
   "id": "9af9677a",
   "metadata": {},
   "outputs": [
    {
     "data": {
      "text/html": [
       "0.166666666666667"
      ],
      "text/latex": [
       "0.166666666666667"
      ],
      "text/markdown": [
       "0.166666666666667"
      ],
      "text/plain": [
       "[1] 0.1666667"
      ]
     },
     "metadata": {},
     "output_type": "display_data"
    }
   ],
   "source": [
    "(27+18)/(145+80+27+18)"
   ]
  },
  {
   "cell_type": "code",
   "execution_count": 41,
   "id": "ac727e29",
   "metadata": {},
   "outputs": [
    {
     "data": {
      "text/plain": [
       "\n",
       "Parameter tuning of 'svm':\n",
       "\n",
       "- sampling method: 10-fold cross validation \n",
       "\n",
       "- best parameters:\n",
       " cost\n",
       "   10\n",
       "\n",
       "- best performance: 0.16625 \n",
       "\n",
       "- Detailed performance results:\n",
       "   cost   error dispersion\n",
       "1  0.01 0.17500 0.06208194\n",
       "2  0.25 0.17000 0.06015027\n",
       "3  0.50 0.17125 0.06237487\n",
       "4  1.00 0.17000 0.06379220\n",
       "5  5.00 0.17250 0.06476453\n",
       "6 10.00 0.16625 0.06265259\n"
      ]
     },
     "metadata": {},
     "output_type": "display_data"
    }
   ],
   "source": [
    "# Tuning parameter: cost\n",
    "set.seed(1)\n",
    "tune_svc <- tune(svm, Purchase ~ ., data=train_df, kernel='linear',\n",
    "                ranges=list(cost=c(0.01, 0.25, 0.5, 1, 5, 10))) \n",
    "summary(tune_svc)"
   ]
  },
  {
   "cell_type": "code",
   "execution_count": 43,
   "id": "13fe8046",
   "metadata": {},
   "outputs": [
    {
     "data": {
      "text/plain": [
       "\n",
       "Call:\n",
       "svm(formula = Purchase ~ ., data = train_df, kernel = \"linear\", cost = 10)\n",
       "\n",
       "\n",
       "Parameters:\n",
       "   SVM-Type:  C-classification \n",
       " SVM-Kernel:  linear \n",
       "       cost:  10 \n",
       "\n",
       "Number of Support Vectors:  334\n",
       "\n",
       " ( 167 167 )\n",
       "\n",
       "\n",
       "Number of Classes:  2 \n",
       "\n",
       "Levels: \n",
       " CH MM\n",
       "\n",
       "\n"
      ]
     },
     "metadata": {},
     "output_type": "display_data"
    }
   ],
   "source": [
    "#part e\n",
    "model <- svm(Purchase ~ ., data=train_df, kernel='linear', cost=10)\n",
    "summary(model)"
   ]
  },
  {
   "cell_type": "code",
   "execution_count": 44,
   "id": "cc84d856",
   "metadata": {},
   "outputs": [
    {
     "data": {
      "text/plain": [
       "    train_pred\n",
       "      CH  MM\n",
       "  CH 435  55\n",
       "  MM  74 236"
      ]
     },
     "metadata": {},
     "output_type": "display_data"
    }
   ],
   "source": [
    "train_pred = predict(model, train_df)\n",
    "table(train_df$Purchase, train_pred)"
   ]
  },
  {
   "cell_type": "code",
   "execution_count": 45,
   "id": "3b90e63d",
   "metadata": {},
   "outputs": [
    {
     "data": {
      "text/html": [
       "0.16125"
      ],
      "text/latex": [
       "0.16125"
      ],
      "text/markdown": [
       "0.16125"
      ],
      "text/plain": [
       "[1] 0.16125"
      ]
     },
     "metadata": {},
     "output_type": "display_data"
    }
   ],
   "source": [
    "(74+55)/(435+55+74+236)"
   ]
  },
  {
   "cell_type": "code",
   "execution_count": 46,
   "id": "8e8cb6ec",
   "metadata": {},
   "outputs": [
    {
     "data": {
      "text/plain": [
       "    test_pred\n",
       "      CH  MM\n",
       "  CH 145  18\n",
       "  MM  29  78"
      ]
     },
     "metadata": {},
     "output_type": "display_data"
    }
   ],
   "source": [
    "test_pred = predict(model, test_df)\n",
    "table(test_df$Purchase, test_pred)"
   ]
  },
  {
   "cell_type": "code",
   "execution_count": 47,
   "id": "cf1f959d",
   "metadata": {},
   "outputs": [
    {
     "data": {
      "text/html": [
       "0.174074074074074"
      ],
      "text/latex": [
       "0.174074074074074"
      ],
      "text/markdown": [
       "0.174074074074074"
      ],
      "text/plain": [
       "[1] 0.1740741"
      ]
     },
     "metadata": {},
     "output_type": "display_data"
    }
   ],
   "source": [
    "(29+18)/(145+18+29+78)"
   ]
  },
  {
   "cell_type": "code",
   "execution_count": 55,
   "id": "ee75bedd",
   "metadata": {},
   "outputs": [
    {
     "data": {
      "text/plain": [
       "\n",
       "Call:\n",
       "svm(formula = Purchase ~ ., data = train_df, kernel = \"radial\", cost = 10)\n",
       "\n",
       "\n",
       "Parameters:\n",
       "   SVM-Type:  C-classification \n",
       " SVM-Kernel:  radial \n",
       "       cost:  10 \n",
       "\n",
       "Number of Support Vectors:  333\n",
       "\n",
       " ( 164 169 )\n",
       "\n",
       "\n",
       "Number of Classes:  2 \n",
       "\n",
       "Levels: \n",
       " CH MM\n",
       "\n",
       "\n"
      ]
     },
     "metadata": {},
     "output_type": "display_data"
    }
   ],
   "source": [
    "#part f\n",
    "model.radial <- svm(Purchase ~ ., data=train_df, kernel='radial', cost=10)\n",
    "summary(model.radial)"
   ]
  },
  {
   "cell_type": "code",
   "execution_count": 49,
   "id": "0defb712",
   "metadata": {},
   "outputs": [
    {
     "data": {
      "text/plain": [
       "\n",
       "Parameter tuning of 'svm':\n",
       "\n",
       "- sampling method: 10-fold cross validation \n",
       "\n",
       "- best parameters:\n",
       " cost\n",
       "  0.5\n",
       "\n",
       "- best performance: 0.16875 \n",
       "\n",
       "- Detailed performance results:\n",
       "   cost   error dispersion\n",
       "1  0.01 0.38750 0.05833333\n",
       "2  0.25 0.17500 0.04082483\n",
       "3  0.50 0.16875 0.03691676\n",
       "4  1.00 0.16875 0.03547789\n",
       "5  5.00 0.18000 0.04647281\n",
       "6 10.00 0.18125 0.04723243\n"
      ]
     },
     "metadata": {},
     "output_type": "display_data"
    }
   ],
   "source": [
    "# Tuning parameter: cost\n",
    "set.seed(1)\n",
    "tune_svc <- tune(svm, Purchase ~ ., data=train_df, kernel='radial',\n",
    "                ranges=list(cost=c(0.01, 0.25, 0.5, 1, 5, 10))) \n",
    "summary(tune_svc)"
   ]
  },
  {
   "cell_type": "code",
   "execution_count": 50,
   "id": "5fa1a959",
   "metadata": {},
   "outputs": [
    {
     "data": {
      "text/plain": [
       "\n",
       "Call:\n",
       "svm(formula = Purchase ~ ., data = train_df, kernel = \"radial\", cost = 0.5)\n",
       "\n",
       "\n",
       "Parameters:\n",
       "   SVM-Type:  C-classification \n",
       " SVM-Kernel:  radial \n",
       "       cost:  0.5 \n",
       "\n",
       "Number of Support Vectors:  407\n",
       "\n",
       " ( 203 204 )\n",
       "\n",
       "\n",
       "Number of Classes:  2 \n",
       "\n",
       "Levels: \n",
       " CH MM\n",
       "\n",
       "\n"
      ]
     },
     "metadata": {},
     "output_type": "display_data"
    }
   ],
   "source": [
    "model <- svm(Purchase ~ ., data=train_df, kernel='radial', cost=0.5)\n",
    "summary(model)"
   ]
  },
  {
   "cell_type": "code",
   "execution_count": 51,
   "id": "d073c768",
   "metadata": {},
   "outputs": [
    {
     "data": {
      "text/plain": [
       "    train_pred\n",
       "      CH  MM\n",
       "  CH 446  44\n",
       "  MM  81 229"
      ]
     },
     "metadata": {},
     "output_type": "display_data"
    }
   ],
   "source": [
    "train_pred = predict(model, train_df)\n",
    "table(train_df$Purchase, train_pred)"
   ]
  },
  {
   "cell_type": "code",
   "execution_count": 52,
   "id": "3058c205",
   "metadata": {},
   "outputs": [
    {
     "data": {
      "text/html": [
       "0.15625"
      ],
      "text/latex": [
       "0.15625"
      ],
      "text/markdown": [
       "0.15625"
      ],
      "text/plain": [
       "[1] 0.15625"
      ]
     },
     "metadata": {},
     "output_type": "display_data"
    }
   ],
   "source": [
    "(81+44)/(446+44+81+229)"
   ]
  },
  {
   "cell_type": "code",
   "execution_count": 53,
   "id": "b9caa83b",
   "metadata": {},
   "outputs": [
    {
     "data": {
      "text/plain": [
       "    test_pred\n",
       "      CH  MM\n",
       "  CH 149  14\n",
       "  MM  32  75"
      ]
     },
     "metadata": {},
     "output_type": "display_data"
    }
   ],
   "source": [
    "test_pred = predict(model, test_df)\n",
    "table(test_df$Purchase, test_pred)"
   ]
  },
  {
   "cell_type": "code",
   "execution_count": 54,
   "id": "b9cf927c",
   "metadata": {},
   "outputs": [
    {
     "data": {
      "text/html": [
       "0.17037037037037"
      ],
      "text/latex": [
       "0.17037037037037"
      ],
      "text/markdown": [
       "0.17037037037037"
      ],
      "text/plain": [
       "[1] 0.1703704"
      ]
     },
     "metadata": {},
     "output_type": "display_data"
    }
   ],
   "source": [
    "(32+14)/(149+14+32+75)"
   ]
  },
  {
   "cell_type": "code",
   "execution_count": 57,
   "id": "2e97a4d1",
   "metadata": {},
   "outputs": [
    {
     "data": {
      "text/plain": [
       "\n",
       "Call:\n",
       "svm(formula = Purchase ~ ., data = train_df, kernel = \"polynomial\", \n",
       "    cost = 0.01, degree = 2)\n",
       "\n",
       "\n",
       "Parameters:\n",
       "   SVM-Type:  C-classification \n",
       " SVM-Kernel:  polynomial \n",
       "       cost:  0.01 \n",
       "     degree:  2 \n",
       "     coef.0:  0 \n",
       "\n",
       "Number of Support Vectors:  623\n",
       "\n",
       " ( 310 313 )\n",
       "\n",
       "\n",
       "Number of Classes:  2 \n",
       "\n",
       "Levels: \n",
       " CH MM\n",
       "\n",
       "\n"
      ]
     },
     "metadata": {},
     "output_type": "display_data"
    }
   ],
   "source": [
    "#part g\n",
    "model <- svm(Purchase ~ ., data=train_df, kernel='polynomial', cost=0.01, degree = 2)\n",
    "summary(model)"
   ]
  },
  {
   "cell_type": "code",
   "execution_count": 58,
   "id": "09ec39d3",
   "metadata": {},
   "outputs": [
    {
     "data": {
      "text/plain": [
       "    train_pred\n",
       "      CH  MM\n",
       "  CH 485   5\n",
       "  MM 284  26"
      ]
     },
     "metadata": {},
     "output_type": "display_data"
    }
   ],
   "source": [
    "train_pred = predict(model, train_df)\n",
    "table(train_df$Purchase, train_pred)"
   ]
  },
  {
   "cell_type": "code",
   "execution_count": 59,
   "id": "0914cd30",
   "metadata": {},
   "outputs": [
    {
     "data": {
      "text/html": [
       "0.3625"
      ],
      "text/latex": [
       "0.3625"
      ],
      "text/markdown": [
       "0.3625"
      ],
      "text/plain": [
       "[1] 0.3625"
      ]
     },
     "metadata": {},
     "output_type": "display_data"
    }
   ],
   "source": [
    "(285+5)/(485+5+284+26)"
   ]
  },
  {
   "cell_type": "code",
   "execution_count": 60,
   "id": "25d01488",
   "metadata": {},
   "outputs": [
    {
     "data": {
      "text/plain": [
       "    test_pred\n",
       "      CH  MM\n",
       "  CH 161   2\n",
       "  MM 104   3"
      ]
     },
     "metadata": {},
     "output_type": "display_data"
    }
   ],
   "source": [
    "test_pred = predict(model, test_df)\n",
    "table(test_df$Purchase, test_pred)"
   ]
  },
  {
   "cell_type": "code",
   "execution_count": 61,
   "id": "c127ab88",
   "metadata": {},
   "outputs": [
    {
     "data": {
      "text/html": [
       "0.392592592592593"
      ],
      "text/latex": [
       "0.392592592592593"
      ],
      "text/markdown": [
       "0.392592592592593"
      ],
      "text/plain": [
       "[1] 0.3925926"
      ]
     },
     "metadata": {},
     "output_type": "display_data"
    }
   ],
   "source": [
    "(104+2)/(161+2+104+3)"
   ]
  },
  {
   "cell_type": "code",
   "execution_count": 62,
   "id": "26bfa899",
   "metadata": {},
   "outputs": [
    {
     "data": {
      "text/plain": [
       "\n",
       "Parameter tuning of 'svm':\n",
       "\n",
       "- sampling method: 10-fold cross validation \n",
       "\n",
       "- best parameters:\n",
       " cost degree\n",
       "   10      2\n",
       "\n",
       "- best performance: 0.17625 \n",
       "\n",
       "- Detailed performance results:\n",
       "   cost degree   error dispersion\n",
       "1  0.01      2 0.36875 0.06130808\n",
       "2  0.25      2 0.21875 0.04973890\n",
       "3  0.50      2 0.20000 0.04409586\n",
       "4  1.00      2 0.19625 0.05369991\n",
       "5  5.00      2 0.18375 0.04931827\n",
       "6 10.00      2 0.17625 0.04543387\n"
      ]
     },
     "metadata": {},
     "output_type": "display_data"
    }
   ],
   "source": [
    "# Tuning parameter: cost\n",
    "set.seed(1)\n",
    "tune_svc <- tune(svm, Purchase ~ ., data=train_df, kernel='polynomial',\n",
    "                ranges=list(cost=c(0.01, 0.25, 0.5, 1, 5, 10),\n",
    "                           degree = c(2))) \n",
    "summary(tune_svc)"
   ]
  },
  {
   "cell_type": "code",
   "execution_count": 63,
   "id": "37f07a42",
   "metadata": {},
   "outputs": [
    {
     "data": {
      "text/plain": [
       "\n",
       "Call:\n",
       "svm(formula = Purchase ~ ., data = train_df, kernel = \"polynomial\", \n",
       "    cost = 10, degree = 2)\n",
       "\n",
       "\n",
       "Parameters:\n",
       "   SVM-Type:  C-classification \n",
       " SVM-Kernel:  polynomial \n",
       "       cost:  10 \n",
       "     degree:  2 \n",
       "     coef.0:  0 \n",
       "\n",
       "Number of Support Vectors:  345\n",
       "\n",
       " ( 168 177 )\n",
       "\n",
       "\n",
       "Number of Classes:  2 \n",
       "\n",
       "Levels: \n",
       " CH MM\n",
       "\n",
       "\n"
      ]
     },
     "metadata": {},
     "output_type": "display_data"
    }
   ],
   "source": [
    "model <- svm(Purchase ~ ., data=train_df, kernel='polynomial', cost=10, degree = 2)\n",
    "summary(model)"
   ]
  },
  {
   "cell_type": "code",
   "execution_count": 64,
   "id": "a08cf1a1",
   "metadata": {},
   "outputs": [
    {
     "data": {
      "text/plain": [
       "    train_pred\n",
       "      CH  MM\n",
       "  CH 452  38\n",
       "  MM  75 235"
      ]
     },
     "metadata": {},
     "output_type": "display_data"
    }
   ],
   "source": [
    "train_pred = predict(model, train_df)\n",
    "table(train_df$Purchase, train_pred)"
   ]
  },
  {
   "cell_type": "code",
   "execution_count": 65,
   "id": "83c90812",
   "metadata": {},
   "outputs": [
    {
     "data": {
      "text/html": [
       "0.14125"
      ],
      "text/latex": [
       "0.14125"
      ],
      "text/markdown": [
       "0.14125"
      ],
      "text/plain": [
       "[1] 0.14125"
      ]
     },
     "metadata": {},
     "output_type": "display_data"
    }
   ],
   "source": [
    "(75+38)/(452+38+75+235)"
   ]
  },
  {
   "cell_type": "code",
   "execution_count": 66,
   "id": "eb54e3b7",
   "metadata": {},
   "outputs": [
    {
     "data": {
      "text/plain": [
       "    test_pred\n",
       "      CH  MM\n",
       "  CH 149  14\n",
       "  MM  31  76"
      ]
     },
     "metadata": {},
     "output_type": "display_data"
    }
   ],
   "source": [
    "test_pred = predict(model, test_df)\n",
    "table(test_df$Purchase, test_pred)"
   ]
  },
  {
   "cell_type": "code",
   "execution_count": 67,
   "id": "d9cb2198",
   "metadata": {},
   "outputs": [
    {
     "data": {
      "text/html": [
       "0.166666666666667"
      ],
      "text/latex": [
       "0.166666666666667"
      ],
      "text/markdown": [
       "0.166666666666667"
      ],
      "text/plain": [
       "[1] 0.1666667"
      ]
     },
     "metadata": {},
     "output_type": "display_data"
    }
   ],
   "source": [
    "(31+14)/(149+14+76+31)"
   ]
  },
  {
   "cell_type": "code",
   "execution_count": 68,
   "id": "32187a20",
   "metadata": {},
   "outputs": [],
   "source": [
    "#part h\n",
    "#approach in part g gives the best results"
   ]
  }
 ],
 "metadata": {
  "kernelspec": {
   "display_name": "R",
   "language": "R",
   "name": "ir"
  },
  "language_info": {
   "codemirror_mode": "r",
   "file_extension": ".r",
   "mimetype": "text/x-r-source",
   "name": "R",
   "pygments_lexer": "r",
   "version": "4.0.5"
  }
 },
 "nbformat": 4,
 "nbformat_minor": 5
}
