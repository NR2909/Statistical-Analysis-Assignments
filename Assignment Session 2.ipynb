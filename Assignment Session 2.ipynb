{
 "cells": [
  {
   "cell_type": "code",
   "execution_count": 1,
   "id": "3f91bcab",
   "metadata": {},
   "outputs": [
    {
     "name": "stderr",
     "output_type": "stream",
     "text": [
      "Loading required package: ParamHelpers\n",
      "\n",
      "Warning message: 'mlr' is in 'maintenance-only' mode since July 2019.\n",
      "Future development will only happen in 'mlr3'\n",
      "(<https://mlr3.mlr-org.com>). Due to the focus on 'mlr3' there might be\n",
      "uncaught bugs meanwhile in {mlr} - please consider switching.\n",
      "\n",
      "Loading required package: ggplot2\n",
      "\n",
      "Loading required package: lattice\n",
      "\n",
      "\n",
      "Attaching package: 'caret'\n",
      "\n",
      "\n",
      "The following object is masked from 'package:mlr':\n",
      "\n",
      "    train\n",
      "\n",
      "\n",
      "Type 'citation(\"pROC\")' for a citation.\n",
      "\n",
      "\n",
      "Attaching package: 'pROC'\n",
      "\n",
      "\n",
      "The following objects are masked from 'package:stats':\n",
      "\n",
      "    cov, smooth, var\n",
      "\n",
      "\n",
      "\n",
      "Attaching package: 'e1071'\n",
      "\n",
      "\n",
      "The following object is masked from 'package:mlr':\n",
      "\n",
      "    impute\n",
      "\n",
      "\n",
      "\n",
      "Attaching package: 'kknn'\n",
      "\n",
      "\n",
      "The following object is masked from 'package:caret':\n",
      "\n",
      "    contr.dummy\n",
      "\n",
      "\n",
      "dummies-1.5.6 provided by Decision Patterns\n",
      "\n",
      "\n",
      "\n",
      "Attaching package: 'dplyr'\n",
      "\n",
      "\n",
      "The following object is masked from 'package:MASS':\n",
      "\n",
      "    select\n",
      "\n",
      "\n",
      "The following object is masked from 'package:gridExtra':\n",
      "\n",
      "    combine\n",
      "\n",
      "\n",
      "The following objects are masked from 'package:data.table':\n",
      "\n",
      "    between, first, last\n",
      "\n",
      "\n",
      "The following objects are masked from 'package:stats':\n",
      "\n",
      "    filter, lag\n",
      "\n",
      "\n",
      "The following objects are masked from 'package:base':\n",
      "\n",
      "    intersect, setdiff, setequal, union\n",
      "\n",
      "\n"
     ]
    },
    {
     "data": {
      "text/html": [
       "'R version 4.0.5 (2021-03-31)'"
      ],
      "text/latex": [
       "'R version 4.0.5 (2021-03-31)'"
      ],
      "text/markdown": [
       "'R version 4.0.5 (2021-03-31)'"
      ],
      "text/plain": [
       "[1] \"R version 4.0.5 (2021-03-31)\""
      ]
     },
     "metadata": {},
     "output_type": "display_data"
    }
   ],
   "source": [
    "# Set environment params\n",
    "Sys.setenv(LANG='en')  # English\n",
    "\n",
    "# Import libraries\n",
    "library(data.table)  # Data manipulate\n",
    "library(mlr)         # ML toolkit\n",
    "library(caret)       # ML toolkit\n",
    "library(ggplot2)     # Visualization\n",
    "library(pROC)        # AUC, ROC\n",
    "library(e1071)       # Evaluation\n",
    "library(gridExtra)   # Visualization\n",
    "library(kknn)        # kNN model\n",
    "library(nnet)        # One-vs-All Logistic Regression\n",
    "library(dummies)     # Data processing\n",
    "\n",
    "# Import data\n",
    "library(ISLR)      # Data from the course book\n",
    "library(MASS)      # Boston housing dataset\n",
    "library(datasets)  # US crime dataset\n",
    "\n",
    "# Resize plot\n",
    "library(repr)  # String and binary representations\n",
    "#options(repr.plot.width=4, repr.plot.height=4)\n",
    "library(dplyr)\n",
    "R.version.string"
   ]
  },
  {
   "cell_type": "markdown",
   "id": "2cc7903c",
   "metadata": {},
   "source": [
    "# Question 6\n",
    "## a\n",
    "p(X) = (e^(-6 + 0.05 * 40 + 1 * 3.5))/(1+(e^(-6 + 0.05 * 40 + 1 * 3.5)))\n",
    "p(X) = e^-0.5/(1+e^-0.5)\n",
    "p(X) = 0.3775\n",
    "\n",
    "## b\n",
    "p(X) = (e^(-6 + 0.05 * X1 + 1 * 3.5))/(1+(e^(-6 + 0.05 * X1 + 1 * 3.5)))\n",
    "(e^(-6 + 0.05 * X1 + 1 * 3.5))/(1+(e^(-6 + 0.05 * X1 + 1 * 3.5))) = 0.5\n",
    "e^(0.05 * X1 - 2.5) = 0.5 + 0.5 * e^(0.05 * X1 - 2.5)\n",
    "0.05*X1 - 2.5 = log 0.5 + log 0.5 * (O.05 * X1 - 2.5)\n",
    "0.05 *X1 = (-0.30 -0.30 *(O.05 * X1 - 2.5) + 2.5)\n",
    "0.05*X1+0.015* X1 = (-0.30 + 0.75 + 2.5) \n",
    "X1 = 3.25/0.065\n",
    "X1 = 50\n",
    "\n",
    "The person has to study 50hrs"
   ]
  },
  {
   "cell_type": "markdown",
   "id": "3a846476",
   "metadata": {},
   "source": [
    "# Question 8\n",
    "We should go with logistic regression.\n",
    "Because when KNN makes the prediction over test observation, it thats into account only one nearest observation in the training data. This will have always zero error or very less error."
   ]
  },
  {
   "cell_type": "markdown",
   "id": "619e4e40",
   "metadata": {},
   "source": [
    "# Question 9\n",
    "## a\n",
    "p(X)/(1-p(X)) = 0.37\n",
    "p(X) = 0.37 - 0.37* p(x)\n",
    "p(X) + 0.37 * p(X) = 0.37\n",
    "p(X) = 0.37/1.37\n",
    "p(X) = 0.27\n",
    "\n",
    "## b\n",
    "\n",
    "p(X)/(1-p(X)) = 0.16/(1-0.16) = 0.19\n"
   ]
  },
  {
   "cell_type": "markdown",
   "id": "bc50e912",
   "metadata": {},
   "source": [
    "# Question 10\n",
    "## a"
   ]
  },
  {
   "cell_type": "code",
   "execution_count": 2,
   "id": "c4d6e7fe",
   "metadata": {},
   "outputs": [
    {
     "data": {
      "image/png": "[encoded data removed]",
      "text/plain": [
       "plot without title"
      ]
     },
     "metadata": {
      "image/png": {
       "height": 420,
       "width": 420
      }
     },
     "output_type": "display_data"
    }
   ],
   "source": [
    "library(ISLR)\n",
    "attach(Weekly)\n",
    "pairs(Weekly)"
   ]
  },
  {
   "cell_type": "code",
   "execution_count": 3,
   "id": "b3ae1c6d",
   "metadata": {},
   "outputs": [
    {
     "data": {
      "text/plain": [
       "\n",
       "Down   Up \n",
       " 484  605 "
      ]
     },
     "metadata": {},
     "output_type": "display_data"
    }
   ],
   "source": [
    "table(Weekly$Direction)"
   ]
  },
  {
   "cell_type": "markdown",
   "id": "0efce8d0",
   "metadata": {},
   "source": [
    "## b"
   ]
  },
  {
   "cell_type": "code",
   "execution_count": 4,
   "id": "ed1b9ed5",
   "metadata": {},
   "outputs": [
    {
     "data": {
      "text/plain": [
       "\n",
       "Call:\n",
       "glm(formula = Direction ~ Lag1 + Lag2 + Lag3 + Lag4 + Lag5 + \n",
       "    Volume, family = \"binomial\", data = Weekly)\n",
       "\n",
       "Deviance Residuals: \n",
       "    Min       1Q   Median       3Q      Max  \n",
       "-1.6949  -1.2565   0.9913   1.0849   1.4579  \n",
       "\n",
       "Coefficients:\n",
       "            Estimate Std. Error z value Pr(>|z|)   \n",
       "(Intercept)  0.26686    0.08593   3.106   0.0019 **\n",
       "Lag1        -0.04127    0.02641  -1.563   0.1181   \n",
       "Lag2         0.05844    0.02686   2.175   0.0296 * \n",
       "Lag3        -0.01606    0.02666  -0.602   0.5469   \n",
       "Lag4        -0.02779    0.02646  -1.050   0.2937   \n",
       "Lag5        -0.01447    0.02638  -0.549   0.5833   \n",
       "Volume      -0.02274    0.03690  -0.616   0.5377   \n",
       "---\n",
       "Signif. codes:  0 '***' 0.001 '**' 0.01 '*' 0.05 '.' 0.1 ' ' 1\n",
       "\n",
       "(Dispersion parameter for binomial family taken to be 1)\n",
       "\n",
       "    Null deviance: 1496.2  on 1088  degrees of freedom\n",
       "Residual deviance: 1486.4  on 1082  degrees of freedom\n",
       "AIC: 1500.4\n",
       "\n",
       "Number of Fisher Scoring iterations: 4\n"
      ]
     },
     "metadata": {},
     "output_type": "display_data"
    }
   ],
   "source": [
    "logistic_reg <- glm(Direction ~ Lag1+Lag2+Lag3+Lag4+Lag5+Volume, data = Weekly, family = 'binomial')\n",
    "summary(logistic_reg)"
   ]
  },
  {
   "cell_type": "markdown",
   "id": "8a80be85",
   "metadata": {},
   "source": [
    "### There is only one significant predictor i.e Lag2 along with Intercept"
   ]
  },
  {
   "cell_type": "markdown",
   "id": "dafeb21d",
   "metadata": {},
   "source": [
    "## c"
   ]
  },
  {
   "cell_type": "code",
   "execution_count": 5,
   "id": "65044d64",
   "metadata": {},
   "outputs": [
    {
     "data": {
      "text/plain": [
       "Confusion Matrix and Statistics\n",
       "\n",
       "          Reference\n",
       "Prediction Down  Up\n",
       "      Down   54  48\n",
       "      Up    430 557\n",
       "                                         \n",
       "               Accuracy : 0.5611         \n",
       "                 95% CI : (0.531, 0.5908)\n",
       "    No Information Rate : 0.5556         \n",
       "    P-Value [Acc > NIR] : 0.369          \n",
       "                                         \n",
       "                  Kappa : 0.035          \n",
       "                                         \n",
       " Mcnemar's Test P-Value : <2e-16         \n",
       "                                         \n",
       "            Sensitivity : 0.9207         \n",
       "            Specificity : 0.1116         \n",
       "         Pos Pred Value : 0.5643         \n",
       "         Neg Pred Value : 0.5294         \n",
       "             Prevalence : 0.5556         \n",
       "         Detection Rate : 0.5115         \n",
       "   Detection Prevalence : 0.9063         \n",
       "      Balanced Accuracy : 0.5161         \n",
       "                                         \n",
       "       'Positive' Class : Up             \n",
       "                                         "
      ]
     },
     "metadata": {},
     "output_type": "display_data"
    }
   ],
   "source": [
    "confusionMatrix(factor(ifelse(predict(logistic_reg, type = 'response')<0.5, 'Down', 'Up' )), Weekly$Direction, positive = 'Up')"
   ]
  },
  {
   "cell_type": "markdown",
   "id": "d8967ede",
   "metadata": {},
   "source": [
    "### The Accuracy here its showing as 56.11%, but the model pridicted 430 observations as Up(False Positive) and only 54 out of 484 actual downs. This shows that the model is not predicting Actual Down obsevations"
   ]
  },
  {
   "cell_type": "markdown",
   "id": "3dc1b746",
   "metadata": {},
   "source": [
    "#### The model Predicted as follows:"
   ]
  },
  {
   "cell_type": "code",
   "execution_count": 6,
   "id": "2cc908af",
   "metadata": {},
   "outputs": [
    {
     "data": {
      "text/plain": [
       "\n",
       "Down   Up \n",
       " 102  987 "
      ]
     },
     "metadata": {},
     "output_type": "display_data"
    }
   ],
   "source": [
    "table(factor(ifelse(predict(logistic_reg, type = 'response')<0.5, 'Down', 'Up' )))"
   ]
  },
  {
   "cell_type": "code",
   "execution_count": 7,
   "id": "b8b6db8b",
   "metadata": {},
   "outputs": [
    {
     "data": {
      "text/html": [
       "1990"
      ],
      "text/latex": [
       "1990"
      ],
      "text/markdown": [
       "1990"
      ],
      "text/plain": [
       "[1] 1990"
      ]
     },
     "metadata": {},
     "output_type": "display_data"
    },
    {
     "data": {
      "text/html": [
       "2010"
      ],
      "text/latex": [
       "2010"
      ],
      "text/markdown": [
       "2010"
      ],
      "text/plain": [
       "[1] 2010"
      ]
     },
     "metadata": {},
     "output_type": "display_data"
    }
   ],
   "source": [
    "min(Year)\n",
    "max(Year)"
   ]
  },
  {
   "cell_type": "markdown",
   "id": "d0d0cd14",
   "metadata": {},
   "source": [
    "## d"
   ]
  },
  {
   "cell_type": "code",
   "execution_count": 8,
   "id": "84f93766",
   "metadata": {},
   "outputs": [
    {
     "data": {
      "text/plain": [
       "\n",
       "Call:\n",
       "glm(formula = Direction ~ Lag2, family = \"binomial\", data = Weekly)\n",
       "\n",
       "Deviance Residuals: \n",
       "   Min      1Q  Median      3Q     Max  \n",
       "-1.564  -1.267   1.008   1.086   1.386  \n",
       "\n",
       "Coefficients:\n",
       "            Estimate Std. Error z value Pr(>|z|)    \n",
       "(Intercept)  0.21473    0.06123   3.507 0.000453 ***\n",
       "Lag2         0.06279    0.02636   2.382 0.017230 *  \n",
       "---\n",
       "Signif. codes:  0 '***' 0.001 '**' 0.01 '*' 0.05 '.' 0.1 ' ' 1\n",
       "\n",
       "(Dispersion parameter for binomial family taken to be 1)\n",
       "\n",
       "    Null deviance: 1496.2  on 1088  degrees of freedom\n",
       "Residual deviance: 1490.4  on 1087  degrees of freedom\n",
       "AIC: 1494.4\n",
       "\n",
       "Number of Fisher Scoring iterations: 4\n"
      ]
     },
     "metadata": {},
     "output_type": "display_data"
    },
    {
     "data": {
      "text/plain": [
       "Confusion Matrix and Statistics\n",
       "\n",
       "          Reference\n",
       "Prediction Down Up\n",
       "      Down    9  5\n",
       "      Up     34 56\n",
       "                                         \n",
       "               Accuracy : 0.625          \n",
       "                 95% CI : (0.5247, 0.718)\n",
       "    No Information Rate : 0.5865         \n",
       "    P-Value [Acc > NIR] : 0.2439         \n",
       "                                         \n",
       "                  Kappa : 0.1414         \n",
       "                                         \n",
       " Mcnemar's Test P-Value : 7.34e-06       \n",
       "                                         \n",
       "            Sensitivity : 0.9180         \n",
       "            Specificity : 0.2093         \n",
       "         Pos Pred Value : 0.6222         \n",
       "         Neg Pred Value : 0.6429         \n",
       "             Prevalence : 0.5865         \n",
       "         Detection Rate : 0.5385         \n",
       "   Detection Prevalence : 0.8654         \n",
       "      Balanced Accuracy : 0.5637         \n",
       "                                         \n",
       "       'Positive' Class : Up             \n",
       "                                         "
      ]
     },
     "metadata": {},
     "output_type": "display_data"
    },
    {
     "data": {
      "text/plain": [
       "glm_pred\n",
       "Down   Up \n",
       "  14   90 "
      ]
     },
     "metadata": {},
     "output_type": "display_data"
    }
   ],
   "source": [
    "train <- subset(Weekly, Year <= 2008)\n",
    "test <-  subset(Weekly, Year >= 2009)\n",
    "\n",
    "glm_1 <- glm(Direction ~ Lag2, data = Weekly, family = 'binomial')\n",
    "summary(glm_1)\n",
    "\n",
    "glm_pred <- factor(ifelse(predict(glm_1, test, type = 'response')<0.5, 'Down', 'Up' ))\n",
    "confusionMatrix(glm_pred, test$Direction, positive = 'Up')\n",
    "\n",
    "table(glm_pred)"
   ]
  },
  {
   "cell_type": "markdown",
   "id": "589e3dd7",
   "metadata": {},
   "source": [
    "## e"
   ]
  },
  {
   "cell_type": "code",
   "execution_count": 9,
   "id": "d9b4149d",
   "metadata": {},
   "outputs": [
    {
     "data": {
      "text/plain": [
       "Call:\n",
       "lda(Direction ~ Lag2, data = Weekly)\n",
       "\n",
       "Prior probabilities of groups:\n",
       "     Down        Up \n",
       "0.4444444 0.5555556 \n",
       "\n",
       "Group means:\n",
       "            Lag2\n",
       "Down -0.04042355\n",
       "Up    0.30428099\n",
       "\n",
       "Coefficients of linear discriminants:\n",
       "           LD1\n",
       "Lag2 0.4251523"
      ]
     },
     "metadata": {},
     "output_type": "display_data"
    },
    {
     "data": {
      "text/html": [
       "<dl>\n",
       "\t<dt>$class</dt>\n",
       "\t\t<dd><style>\n",
       ".list-inline {list-style: none; margin:0; padding: 0}\n",
       ".list-inline>li {display: inline-block}\n",
       ".list-inline>li:not(:last-child)::after {content: \"\\00b7\"; padding: 0 .5ex}\n",
       "</style>\n",
       "<ol class=list-inline><li>Up</li><li>Up</li><li>Down</li><li>Down</li><li>Up</li><li>Up</li><li>Up</li><li>Down</li><li>Down</li><li>Down</li><li>Down</li><li>Up</li><li>Up</li><li>Up</li><li>Up</li><li>Up</li><li>Up</li><li>Up</li><li>Up</li><li>Up</li><li>Down</li><li>Up</li><li>Up</li><li>Up</li><li>Up</li><li>Up</li><li>Up</li><li>Up</li><li>Up</li><li>Up</li><li>Up</li><li>Up</li><li>Up</li><li>Up</li><li>Up</li><li>Up</li><li>Up</li><li>Up</li><li>Up</li><li>Up</li><li>Up</li><li>Up</li><li>Up</li><li>Up</li><li>Down</li><li>Up</li><li>Up</li><li>Up</li><li>Up</li><li>Up</li><li>Up</li><li>Up</li><li>Up</li><li>Up</li><li>Up</li><li>Up</li><li>Down</li><li>Up</li><li>Up</li><li>Up</li><li>Up</li><li>Up</li><li>Up</li><li>Up</li><li>Up</li><li>Up</li><li>Up</li><li>Up</li><li>Up</li><li>Up</li><li>Up</li><li>Down</li><li>Up</li><li>Down</li><li>Up</li><li>Up</li><li>Up</li><li>Up</li><li>Down</li><li>Down</li><li>Up</li><li>Up</li><li>Up</li><li>Up</li><li>Up</li><li>Down</li><li>Up</li><li>Up</li><li>Up</li><li>Up</li><li>Up</li><li>Up</li><li>Up</li><li>Up</li><li>Up</li><li>Up</li><li>Up</li><li>Up</li><li>Up</li><li>Up</li><li>Up</li><li>Up</li><li>Up</li><li>Up</li></ol>\n",
       "\n",
       "<details>\n",
       "\t<summary style=display:list-item;cursor:pointer>\n",
       "\t\t<strong>Levels</strong>:\n",
       "\t</summary>\n",
       "\t<style>\n",
       "\t.list-inline {list-style: none; margin:0; padding: 0}\n",
       "\t.list-inline>li {display: inline-block}\n",
       "\t.list-inline>li:not(:last-child)::after {content: \"\\00b7\"; padding: 0 .5ex}\n",
       "\t</style>\n",
       "\t<ol class=list-inline><li>'Down'</li><li>'Up'</li></ol>\n",
       "</details></dd>\n",
       "\t<dt>$posterior</dt>\n",
       "\t\t<dd><table class=\"dataframe\">\n",
       "<caption>A matrix: 104 × 2 of type dbl</caption>\n",
       "<thead>\n",
       "\t<tr><th></th><th scope=col>Down</th><th scope=col>Up</th></tr>\n",
       "</thead>\n",
       "<tbody>\n",
       "\t<tr><th scope=row>986</th><td>0.4727454</td><td>0.5272546</td></tr>\n",
       "\t<tr><th scope=row>987</th><td>0.3461246</td><td>0.6538754</td></tr>\n",
       "\t<tr><th scope=row>988</th><td>0.5155494</td><td>0.4844506</td></tr>\n",
       "\t<tr><th scope=row>989</th><td>0.5166386</td><td>0.4833614</td></tr>\n",
       "\t<tr><th scope=row>990</th><td>0.4795680</td><td>0.5204320</td></tr>\n",
       "\t<tr><th scope=row>991</th><td>0.4577412</td><td>0.5422588</td></tr>\n",
       "\t<tr><th scope=row>992</th><td>0.3688306</td><td>0.6311694</td></tr>\n",
       "\t<tr><th scope=row>993</th><td>0.5211494</td><td>0.4788506</td></tr>\n",
       "\t<tr><th scope=row>994</th><td>0.5530496</td><td>0.4469504</td></tr>\n",
       "\t<tr><th scope=row>995</th><td>0.5169809</td><td>0.4830191</td></tr>\n",
       "\t<tr><th scope=row>996</th><td>0.5556202</td><td>0.4443798</td></tr>\n",
       "\t<tr><th scope=row>997</th><td>0.2927545</td><td>0.7072455</td></tr>\n",
       "\t<tr><th scope=row>998</th><td>0.4222168</td><td>0.5777832</td></tr>\n",
       "\t<tr><th scope=row>999</th><td>0.3545193</td><td>0.6454807</td></tr>\n",
       "\t<tr><th scope=row>1000</th><td>0.3970595</td><td>0.6029405</td></tr>\n",
       "\t<tr><th scope=row>1001</th><td>0.4209405</td><td>0.5790595</td></tr>\n",
       "\t<tr><th scope=row>1002</th><td>0.4231746</td><td>0.5768254</td></tr>\n",
       "\t<tr><th scope=row>1003</th><td>0.4524570</td><td>0.5475430</td></tr>\n",
       "\t<tr><th scope=row>1004</th><td>0.4265089</td><td>0.5734911</td></tr>\n",
       "\t<tr><th scope=row>1005</th><td>0.3584500</td><td>0.6415500</td></tr>\n",
       "\t<tr><th scope=row>1006</th><td>0.5239475</td><td>0.4760525</td></tr>\n",
       "\t<tr><th scope=row>1007</th><td>0.4392957</td><td>0.5607043</td></tr>\n",
       "\t<tr><th scope=row>1008</th><td>0.3915834</td><td>0.6084166</td></tr>\n",
       "\t<tr><th scope=row>1009</th><td>0.4117051</td><td>0.5882949</td></tr>\n",
       "\t<tr><th scope=row>1010</th><td>0.4364739</td><td>0.5635261</td></tr>\n",
       "\t<tr><th scope=row>1011</th><td>0.4873943</td><td>0.5126057</td></tr>\n",
       "\t<tr><th scope=row>1012</th><td>0.4503740</td><td>0.5496260</td></tr>\n",
       "\t<tr><th scope=row>1013</th><td>0.4843749</td><td>0.5156251</td></tr>\n",
       "\t<tr><th scope=row>1014</th><td>0.4763343</td><td>0.5236657</td></tr>\n",
       "\t<tr><th scope=row>1015</th><td>0.3432114</td><td>0.6567886</td></tr>\n",
       "\t<tr><th scope=row>⋮</th><td>⋮</td><td>⋮</td></tr>\n",
       "\t<tr><th scope=row>1060</th><td>0.4440434</td><td>0.5559566</td></tr>\n",
       "\t<tr><th scope=row>1061</th><td>0.4813566</td><td>0.5186434</td></tr>\n",
       "\t<tr><th scope=row>1062</th><td>0.4082387</td><td>0.5917613</td></tr>\n",
       "\t<tr><th scope=row>1063</th><td>0.4102722</td><td>0.5897278</td></tr>\n",
       "\t<tr><th scope=row>1064</th><td>0.5030618</td><td>0.4969382</td></tr>\n",
       "\t<tr><th scope=row>1065</th><td>0.5246312</td><td>0.4753688</td></tr>\n",
       "\t<tr><th scope=row>1066</th><td>0.3653130</td><td>0.6346870</td></tr>\n",
       "\t<tr><th scope=row>1067</th><td>0.4652200</td><td>0.5347800</td></tr>\n",
       "\t<tr><th scope=row>1068</th><td>0.3926973</td><td>0.6073027</td></tr>\n",
       "\t<tr><th scope=row>1069</th><td>0.4479537</td><td>0.5520463</td></tr>\n",
       "\t<tr><th scope=row>1070</th><td>0.4186641</td><td>0.5813359</td></tr>\n",
       "\t<tr><th scope=row>1071</th><td>0.5051334</td><td>0.4948666</td></tr>\n",
       "\t<tr><th scope=row>1072</th><td>0.4572773</td><td>0.5427227</td></tr>\n",
       "\t<tr><th scope=row>1073</th><td>0.4567052</td><td>0.5432948</td></tr>\n",
       "\t<tr><th scope=row>1074</th><td>0.3896998</td><td>0.6103002</td></tr>\n",
       "\t<tr><th scope=row>1075</th><td>0.4394646</td><td>0.5605354</td></tr>\n",
       "\t<tr><th scope=row>1076</th><td>0.4243309</td><td>0.5756691</td></tr>\n",
       "\t<tr><th scope=row>1077</th><td>0.4151653</td><td>0.5848347</td></tr>\n",
       "\t<tr><th scope=row>1078</th><td>0.4497417</td><td>0.5502583</td></tr>\n",
       "\t<tr><th scope=row>1079</th><td>0.4212291</td><td>0.5787709</td></tr>\n",
       "\t<tr><th scope=row>1080</th><td>0.4319277</td><td>0.5680723</td></tr>\n",
       "\t<tr><th scope=row>1081</th><td>0.4374702</td><td>0.5625298</td></tr>\n",
       "\t<tr><th scope=row>1082</th><td>0.4462440</td><td>0.5537560</td></tr>\n",
       "\t<tr><th scope=row>1083</th><td>0.3919397</td><td>0.6080603</td></tr>\n",
       "\t<tr><th scope=row>1084</th><td>0.4801278</td><td>0.5198722</td></tr>\n",
       "\t<tr><th scope=row>1085</th><td>0.4458130</td><td>0.5541870</td></tr>\n",
       "\t<tr><th scope=row>1086</th><td>0.4597679</td><td>0.5402321</td></tr>\n",
       "\t<tr><th scope=row>1087</th><td>0.4013333</td><td>0.5986667</td></tr>\n",
       "\t<tr><th scope=row>1088</th><td>0.4268442</td><td>0.5731558</td></tr>\n",
       "\t<tr><th scope=row>1089</th><td>0.4421215</td><td>0.5578785</td></tr>\n",
       "</tbody>\n",
       "</table>\n",
       "</dd>\n",
       "\t<dt>$x</dt>\n",
       "\t\t<dd><table class=\"dataframe\">\n",
       "<caption>A matrix: 104 × 1 of type dbl</caption>\n",
       "<thead>\n",
       "\t<tr><th></th><th scope=col>LD1</th></tr>\n",
       "</thead>\n",
       "<tbody>\n",
       "\t<tr><th scope=row>986</th><td>-0.7861401</td></tr>\n",
       "\t<tr><th scope=row>987</th><td> 2.8097979</td></tr>\n",
       "\t<tr><th scope=row>988</th><td>-1.9553089</td></tr>\n",
       "\t<tr><th scope=row>989</th><td>-1.9850696</td></tr>\n",
       "\t<tr><th scope=row>990</th><td>-0.9727820</td></tr>\n",
       "\t<tr><th scope=row>991</th><td>-0.3745927</td></tr>\n",
       "\t<tr><th scope=row>992</th><td> 2.1350812</td></tr>\n",
       "\t<tr><th scope=row>993</th><td>-2.1083637</td></tr>\n",
       "\t<tr><th scope=row>994</th><td>-2.9841774</td></tr>\n",
       "\t<tr><th scope=row>995</th><td>-1.9944229</td></tr>\n",
       "\t<tr><th scope=row>996</th><td>-3.0551779</td></tr>\n",
       "\t<tr><th scope=row>997</th><td> 4.4878739</td></tr>\n",
       "\t<tr><th scope=row>998</th><td> 0.6096348</td></tr>\n",
       "\t<tr><th scope=row>999</th><td> 2.5581077</td></tr>\n",
       "\t<tr><th scope=row>1000</th><td> 1.3196391</td></tr>\n",
       "\t<tr><th scope=row>1001</th><td> 0.6453476</td></tr>\n",
       "\t<tr><th scope=row>1002</th><td> 0.5828502</td></tr>\n",
       "\t<tr><th scope=row>1003</th><td>-0.2291907</td></tr>\n",
       "\t<tr><th scope=row>1004</th><td> 0.4897419</td></tr>\n",
       "\t<tr><th scope=row>1005</th><td> 2.4411908</td></tr>\n",
       "\t<tr><th scope=row>1006</th><td>-2.1848912</td></tr>\n",
       "\t<tr><th scope=row>1007</th><td> 0.1343145</td></tr>\n",
       "\t<tr><th scope=row>1008</th><td> 1.4760951</td></tr>\n",
       "\t<tr><th scope=row>1009</th><td> 0.9046905</td></tr>\n",
       "\t<tr><th scope=row>1010</th><td> 0.2125426</td></tr>\n",
       "\t<tr><th scope=row>1011</th><td>-1.1866336</td></tr>\n",
       "\t<tr><th scope=row>1012</th><td>-0.1717951</td></tr>\n",
       "\t<tr><th scope=row>1013</th><td>-1.1041541</td></tr>\n",
       "\t<tr><th scope=row>1014</th><td>-0.8843503</td></tr>\n",
       "\t<tr><th scope=row>1015</th><td> 2.8978044</td></tr>\n",
       "\t<tr><th scope=row>⋮</th><td>⋮</td></tr>\n",
       "\t<tr><th scope=row>1060</th><td> 0.002942491</td></tr>\n",
       "\t<tr><th scope=row>1061</th><td>-1.021674510</td></tr>\n",
       "\t<tr><th scope=row>1062</th><td> 1.002475507</td></tr>\n",
       "\t<tr><th scope=row>1063</th><td> 0.945079949</td></tr>\n",
       "\t<tr><th scope=row>1064</th><td>-1.614336791</td></tr>\n",
       "\t<tr><th scope=row>1065</th><td>-2.203597855</td></tr>\n",
       "\t<tr><th scope=row>1066</th><td> 2.238393192</td></tr>\n",
       "\t<tr><th scope=row>1067</th><td>-0.579941288</td></tr>\n",
       "\t<tr><th scope=row>1068</th><td> 1.444208729</td></tr>\n",
       "\t<tr><th scope=row>1069</th><td>-0.105046189</td></tr>\n",
       "\t<tr><th scope=row>1070</th><td> 0.709120432</td></tr>\n",
       "\t<tr><th scope=row>1071</th><td>-1.670882045</td></tr>\n",
       "\t<tr><th scope=row>1072</th><td>-0.361838167</td></tr>\n",
       "\t<tr><th scope=row>1073</th><td>-0.346107533</td></tr>\n",
       "\t<tr><th scope=row>1074</th><td> 1.530089490</td></tr>\n",
       "\t<tr><th scope=row>1075</th><td> 0.129637871</td></tr>\n",
       "\t<tr><th scope=row>1076</th><td> 0.550538631</td></tr>\n",
       "\t<tr><th scope=row>1077</th><td> 0.807330609</td></tr>\n",
       "\t<tr><th scope=row>1078</th><td>-0.154363853</td></tr>\n",
       "\t<tr><th scope=row>1079</th><td> 0.637269696</td></tr>\n",
       "\t<tr><th scope=row>1080</th><td> 0.338812794</td></tr>\n",
       "\t<tr><th scope=row>1081</th><td> 0.184907668</td></tr>\n",
       "\t<tr><th scope=row>1082</th><td>-0.057854285</td></tr>\n",
       "\t<tr><th scope=row>1083</th><td> 1.465891495</td></tr>\n",
       "\t<tr><th scope=row>1084</th><td>-0.988087479</td></tr>\n",
       "\t<tr><th scope=row>1085</th><td>-0.045950021</td></tr>\n",
       "\t<tr><th scope=row>1086</th><td>-0.430287685</td></tr>\n",
       "\t<tr><th scope=row>1087</th><td> 1.198045557</td></tr>\n",
       "\t<tr><th scope=row>1088</th><td> 0.480388504</td></tr>\n",
       "\t<tr><th scope=row>1089</th><td> 0.056086526</td></tr>\n",
       "</tbody>\n",
       "</table>\n",
       "</dd>\n",
       "</dl>\n"
      ],
      "text/latex": [
       "\\begin{description}\n",
       "\\item[\\$class] \\begin{enumerate*}\n",
       "\\item Up\n",
       "\\item Up\n",
       "\\item Down\n",
       "\\item Down\n",
       "\\item Up\n",
       "\\item Up\n",
       "\\item Up\n",
       "\\item Down\n",
       "\\item Down\n",
       "\\item Down\n",
       "\\item Down\n",
       "\\item Up\n",
       "\\item Up\n",
       "\\item Up\n",
       "\\item Up\n",
       "\\item Up\n",
       "\\item Up\n",
       "\\item Up\n",
       "\\item Up\n",
       "\\item Up\n",
       "\\item Down\n",
       "\\item Up\n",
       "\\item Up\n",
       "\\item Up\n",
       "\\item Up\n",
       "\\item Up\n",
       "\\item Up\n",
       "\\item Up\n",
       "\\item Up\n",
       "\\item Up\n",
       "\\item Up\n",
       "\\item Up\n",
       "\\item Up\n",
       "\\item Up\n",
       "\\item Up\n",
       "\\item Up\n",
       "\\item Up\n",
       "\\item Up\n",
       "\\item Up\n",
       "\\item Up\n",
       "\\item Up\n",
       "\\item Up\n",
       "\\item Up\n",
       "\\item Up\n",
       "\\item Down\n",
       "\\item Up\n",
       "\\item Up\n",
       "\\item Up\n",
       "\\item Up\n",
       "\\item Up\n",
       "\\item Up\n",
       "\\item Up\n",
       "\\item Up\n",
       "\\item Up\n",
       "\\item Up\n",
       "\\item Up\n",
       "\\item Down\n",
       "\\item Up\n",
       "\\item Up\n",
       "\\item Up\n",
       "\\item Up\n",
       "\\item Up\n",
       "\\item Up\n",
       "\\item Up\n",
       "\\item Up\n",
       "\\item Up\n",
       "\\item Up\n",
       "\\item Up\n",
       "\\item Up\n",
       "\\item Up\n",
       "\\item Up\n",
       "\\item Down\n",
       "\\item Up\n",
       "\\item Down\n",
       "\\item Up\n",
       "\\item Up\n",
       "\\item Up\n",
       "\\item Up\n",
       "\\item Down\n",
       "\\item Down\n",
       "\\item Up\n",
       "\\item Up\n",
       "\\item Up\n",
       "\\item Up\n",
       "\\item Up\n",
       "\\item Down\n",
       "\\item Up\n",
       "\\item Up\n",
       "\\item Up\n",
       "\\item Up\n",
       "\\item Up\n",
       "\\item Up\n",
       "\\item Up\n",
       "\\item Up\n",
       "\\item Up\n",
       "\\item Up\n",
       "\\item Up\n",
       "\\item Up\n",
       "\\item Up\n",
       "\\item Up\n",
       "\\item Up\n",
       "\\item Up\n",
       "\\item Up\n",
       "\\item Up\n",
       "\\end{enumerate*}\n",
       "\n",
       "\\emph{Levels}: \\begin{enumerate*}\n",
       "\\item 'Down'\n",
       "\\item 'Up'\n",
       "\\end{enumerate*}\n",
       "\n",
       "\\item[\\$posterior] A matrix: 104 × 2 of type dbl\n",
       "\\begin{tabular}{r|ll}\n",
       "  & Down & Up\\\\\n",
       "\\hline\n",
       "\t986 & 0.4727454 & 0.5272546\\\\\n",
       "\t987 & 0.3461246 & 0.6538754\\\\\n",
       "\t988 & 0.5155494 & 0.4844506\\\\\n",
       "\t989 & 0.5166386 & 0.4833614\\\\\n",
       "\t990 & 0.4795680 & 0.5204320\\\\\n",
       "\t991 & 0.4577412 & 0.5422588\\\\\n",
       "\t992 & 0.3688306 & 0.6311694\\\\\n",
       "\t993 & 0.5211494 & 0.4788506\\\\\n",
       "\t994 & 0.5530496 & 0.4469504\\\\\n",
       "\t995 & 0.5169809 & 0.4830191\\\\\n",
       "\t996 & 0.5556202 & 0.4443798\\\\\n",
       "\t997 & 0.2927545 & 0.7072455\\\\\n",
       "\t998 & 0.4222168 & 0.5777832\\\\\n",
       "\t999 & 0.3545193 & 0.6454807\\\\\n",
       "\t1000 & 0.3970595 & 0.6029405\\\\\n",
       "\t1001 & 0.4209405 & 0.5790595\\\\\n",
       "\t1002 & 0.4231746 & 0.5768254\\\\\n",
       "\t1003 & 0.4524570 & 0.5475430\\\\\n",
       "\t1004 & 0.4265089 & 0.5734911\\\\\n",
       "\t1005 & 0.3584500 & 0.6415500\\\\\n",
       "\t1006 & 0.5239475 & 0.4760525\\\\\n",
       "\t1007 & 0.4392957 & 0.5607043\\\\\n",
       "\t1008 & 0.3915834 & 0.6084166\\\\\n",
       "\t1009 & 0.4117051 & 0.5882949\\\\\n",
       "\t1010 & 0.4364739 & 0.5635261\\\\\n",
       "\t1011 & 0.4873943 & 0.5126057\\\\\n",
       "\t1012 & 0.4503740 & 0.5496260\\\\\n",
       "\t1013 & 0.4843749 & 0.5156251\\\\\n",
       "\t1014 & 0.4763343 & 0.5236657\\\\\n",
       "\t1015 & 0.3432114 & 0.6567886\\\\\n",
       "\t⋮ & ⋮ & ⋮\\\\\n",
       "\t1060 & 0.4440434 & 0.5559566\\\\\n",
       "\t1061 & 0.4813566 & 0.5186434\\\\\n",
       "\t1062 & 0.4082387 & 0.5917613\\\\\n",
       "\t1063 & 0.4102722 & 0.5897278\\\\\n",
       "\t1064 & 0.5030618 & 0.4969382\\\\\n",
       "\t1065 & 0.5246312 & 0.4753688\\\\\n",
       "\t1066 & 0.3653130 & 0.6346870\\\\\n",
       "\t1067 & 0.4652200 & 0.5347800\\\\\n",
       "\t1068 & 0.3926973 & 0.6073027\\\\\n",
       "\t1069 & 0.4479537 & 0.5520463\\\\\n",
       "\t1070 & 0.4186641 & 0.5813359\\\\\n",
       "\t1071 & 0.5051334 & 0.4948666\\\\\n",
       "\t1072 & 0.4572773 & 0.5427227\\\\\n",
       "\t1073 & 0.4567052 & 0.5432948\\\\\n",
       "\t1074 & 0.3896998 & 0.6103002\\\\\n",
       "\t1075 & 0.4394646 & 0.5605354\\\\\n",
       "\t1076 & 0.4243309 & 0.5756691\\\\\n",
       "\t1077 & 0.4151653 & 0.5848347\\\\\n",
       "\t1078 & 0.4497417 & 0.5502583\\\\\n",
       "\t1079 & 0.4212291 & 0.5787709\\\\\n",
       "\t1080 & 0.4319277 & 0.5680723\\\\\n",
       "\t1081 & 0.4374702 & 0.5625298\\\\\n",
       "\t1082 & 0.4462440 & 0.5537560\\\\\n",
       "\t1083 & 0.3919397 & 0.6080603\\\\\n",
       "\t1084 & 0.4801278 & 0.5198722\\\\\n",
       "\t1085 & 0.4458130 & 0.5541870\\\\\n",
       "\t1086 & 0.4597679 & 0.5402321\\\\\n",
       "\t1087 & 0.4013333 & 0.5986667\\\\\n",
       "\t1088 & 0.4268442 & 0.5731558\\\\\n",
       "\t1089 & 0.4421215 & 0.5578785\\\\\n",
       "\\end{tabular}\n",
       "\n",
       "\\item[\\$x] A matrix: 104 × 1 of type dbl\n",
       "\\begin{tabular}{r|l}\n",
       "  & LD1\\\\\n",
       "\\hline\n",
       "\t986 & -0.7861401\\\\\n",
       "\t987 &  2.8097979\\\\\n",
       "\t988 & -1.9553089\\\\\n",
       "\t989 & -1.9850696\\\\\n",
       "\t990 & -0.9727820\\\\\n",
       "\t991 & -0.3745927\\\\\n",
       "\t992 &  2.1350812\\\\\n",
       "\t993 & -2.1083637\\\\\n",
       "\t994 & -2.9841774\\\\\n",
       "\t995 & -1.9944229\\\\\n",
       "\t996 & -3.0551779\\\\\n",
       "\t997 &  4.4878739\\\\\n",
       "\t998 &  0.6096348\\\\\n",
       "\t999 &  2.5581077\\\\\n",
       "\t1000 &  1.3196391\\\\\n",
       "\t1001 &  0.6453476\\\\\n",
       "\t1002 &  0.5828502\\\\\n",
       "\t1003 & -0.2291907\\\\\n",
       "\t1004 &  0.4897419\\\\\n",
       "\t1005 &  2.4411908\\\\\n",
       "\t1006 & -2.1848912\\\\\n",
       "\t1007 &  0.1343145\\\\\n",
       "\t1008 &  1.4760951\\\\\n",
       "\t1009 &  0.9046905\\\\\n",
       "\t1010 &  0.2125426\\\\\n",
       "\t1011 & -1.1866336\\\\\n",
       "\t1012 & -0.1717951\\\\\n",
       "\t1013 & -1.1041541\\\\\n",
       "\t1014 & -0.8843503\\\\\n",
       "\t1015 &  2.8978044\\\\\n",
       "\t⋮ & ⋮\\\\\n",
       "\t1060 &  0.002942491\\\\\n",
       "\t1061 & -1.021674510\\\\\n",
       "\t1062 &  1.002475507\\\\\n",
       "\t1063 &  0.945079949\\\\\n",
       "\t1064 & -1.614336791\\\\\n",
       "\t1065 & -2.203597855\\\\\n",
       "\t1066 &  2.238393192\\\\\n",
       "\t1067 & -0.579941288\\\\\n",
       "\t1068 &  1.444208729\\\\\n",
       "\t1069 & -0.105046189\\\\\n",
       "\t1070 &  0.709120432\\\\\n",
       "\t1071 & -1.670882045\\\\\n",
       "\t1072 & -0.361838167\\\\\n",
       "\t1073 & -0.346107533\\\\\n",
       "\t1074 &  1.530089490\\\\\n",
       "\t1075 &  0.129637871\\\\\n",
       "\t1076 &  0.550538631\\\\\n",
       "\t1077 &  0.807330609\\\\\n",
       "\t1078 & -0.154363853\\\\\n",
       "\t1079 &  0.637269696\\\\\n",
       "\t1080 &  0.338812794\\\\\n",
       "\t1081 &  0.184907668\\\\\n",
       "\t1082 & -0.057854285\\\\\n",
       "\t1083 &  1.465891495\\\\\n",
       "\t1084 & -0.988087479\\\\\n",
       "\t1085 & -0.045950021\\\\\n",
       "\t1086 & -0.430287685\\\\\n",
       "\t1087 &  1.198045557\\\\\n",
       "\t1088 &  0.480388504\\\\\n",
       "\t1089 &  0.056086526\\\\\n",
       "\\end{tabular}\n",
       "\n",
       "\\end{description}\n"
      ],
      "text/markdown": [
       "$class\n",
       ":   1. Up\n",
       "2. Up\n",
       "3. Down\n",
       "4. Down\n",
       "5. Up\n",
       "6. Up\n",
       "7. Up\n",
       "8. Down\n",
       "9. Down\n",
       "10. Down\n",
       "11. Down\n",
       "12. Up\n",
       "13. Up\n",
       "14. Up\n",
       "15. Up\n",
       "16. Up\n",
       "17. Up\n",
       "18. Up\n",
       "19. Up\n",
       "20. Up\n",
       "21. Down\n",
       "22. Up\n",
       "23. Up\n",
       "24. Up\n",
       "25. Up\n",
       "26. Up\n",
       "27. Up\n",
       "28. Up\n",
       "29. Up\n",
       "30. Up\n",
       "31. Up\n",
       "32. Up\n",
       "33. Up\n",
       "34. Up\n",
       "35. Up\n",
       "36. Up\n",
       "37. Up\n",
       "38. Up\n",
       "39. Up\n",
       "40. Up\n",
       "41. Up\n",
       "42. Up\n",
       "43. Up\n",
       "44. Up\n",
       "45. Down\n",
       "46. Up\n",
       "47. Up\n",
       "48. Up\n",
       "49. Up\n",
       "50. Up\n",
       "51. Up\n",
       "52. Up\n",
       "53. Up\n",
       "54. Up\n",
       "55. Up\n",
       "56. Up\n",
       "57. Down\n",
       "58. Up\n",
       "59. Up\n",
       "60. Up\n",
       "61. Up\n",
       "62. Up\n",
       "63. Up\n",
       "64. Up\n",
       "65. Up\n",
       "66. Up\n",
       "67. Up\n",
       "68. Up\n",
       "69. Up\n",
       "70. Up\n",
       "71. Up\n",
       "72. Down\n",
       "73. Up\n",
       "74. Down\n",
       "75. Up\n",
       "76. Up\n",
       "77. Up\n",
       "78. Up\n",
       "79. Down\n",
       "80. Down\n",
       "81. Up\n",
       "82. Up\n",
       "83. Up\n",
       "84. Up\n",
       "85. Up\n",
       "86. Down\n",
       "87. Up\n",
       "88. Up\n",
       "89. Up\n",
       "90. Up\n",
       "91. Up\n",
       "92. Up\n",
       "93. Up\n",
       "94. Up\n",
       "95. Up\n",
       "96. Up\n",
       "97. Up\n",
       "98. Up\n",
       "99. Up\n",
       "100. Up\n",
       "101. Up\n",
       "102. Up\n",
       "103. Up\n",
       "104. Up\n",
       "\n",
       "\n",
       "\n",
       "**Levels**: 1. 'Down'\n",
       "2. 'Up'\n",
       "\n",
       "\n",
       "\n",
       "$posterior\n",
       ":   \n",
       "A matrix: 104 × 2 of type dbl\n",
       "\n",
       "| <!--/--> | Down | Up |\n",
       "|---|---|---|\n",
       "| 986 | 0.4727454 | 0.5272546 |\n",
       "| 987 | 0.3461246 | 0.6538754 |\n",
       "| 988 | 0.5155494 | 0.4844506 |\n",
       "| 989 | 0.5166386 | 0.4833614 |\n",
       "| 990 | 0.4795680 | 0.5204320 |\n",
       "| 991 | 0.4577412 | 0.5422588 |\n",
       "| 992 | 0.3688306 | 0.6311694 |\n",
       "| 993 | 0.5211494 | 0.4788506 |\n",
       "| 994 | 0.5530496 | 0.4469504 |\n",
       "| 995 | 0.5169809 | 0.4830191 |\n",
       "| 996 | 0.5556202 | 0.4443798 |\n",
       "| 997 | 0.2927545 | 0.7072455 |\n",
       "| 998 | 0.4222168 | 0.5777832 |\n",
       "| 999 | 0.3545193 | 0.6454807 |\n",
       "| 1000 | 0.3970595 | 0.6029405 |\n",
       "| 1001 | 0.4209405 | 0.5790595 |\n",
       "| 1002 | 0.4231746 | 0.5768254 |\n",
       "| 1003 | 0.4524570 | 0.5475430 |\n",
       "| 1004 | 0.4265089 | 0.5734911 |\n",
       "| 1005 | 0.3584500 | 0.6415500 |\n",
       "| 1006 | 0.5239475 | 0.4760525 |\n",
       "| 1007 | 0.4392957 | 0.5607043 |\n",
       "| 1008 | 0.3915834 | 0.6084166 |\n",
       "| 1009 | 0.4117051 | 0.5882949 |\n",
       "| 1010 | 0.4364739 | 0.5635261 |\n",
       "| 1011 | 0.4873943 | 0.5126057 |\n",
       "| 1012 | 0.4503740 | 0.5496260 |\n",
       "| 1013 | 0.4843749 | 0.5156251 |\n",
       "| 1014 | 0.4763343 | 0.5236657 |\n",
       "| 1015 | 0.3432114 | 0.6567886 |\n",
       "| ⋮ | ⋮ | ⋮ |\n",
       "| 1060 | 0.4440434 | 0.5559566 |\n",
       "| 1061 | 0.4813566 | 0.5186434 |\n",
       "| 1062 | 0.4082387 | 0.5917613 |\n",
       "| 1063 | 0.4102722 | 0.5897278 |\n",
       "| 1064 | 0.5030618 | 0.4969382 |\n",
       "| 1065 | 0.5246312 | 0.4753688 |\n",
       "| 1066 | 0.3653130 | 0.6346870 |\n",
       "| 1067 | 0.4652200 | 0.5347800 |\n",
       "| 1068 | 0.3926973 | 0.6073027 |\n",
       "| 1069 | 0.4479537 | 0.5520463 |\n",
       "| 1070 | 0.4186641 | 0.5813359 |\n",
       "| 1071 | 0.5051334 | 0.4948666 |\n",
       "| 1072 | 0.4572773 | 0.5427227 |\n",
       "| 1073 | 0.4567052 | 0.5432948 |\n",
       "| 1074 | 0.3896998 | 0.6103002 |\n",
       "| 1075 | 0.4394646 | 0.5605354 |\n",
       "| 1076 | 0.4243309 | 0.5756691 |\n",
       "| 1077 | 0.4151653 | 0.5848347 |\n",
       "| 1078 | 0.4497417 | 0.5502583 |\n",
       "| 1079 | 0.4212291 | 0.5787709 |\n",
       "| 1080 | 0.4319277 | 0.5680723 |\n",
       "| 1081 | 0.4374702 | 0.5625298 |\n",
       "| 1082 | 0.4462440 | 0.5537560 |\n",
       "| 1083 | 0.3919397 | 0.6080603 |\n",
       "| 1084 | 0.4801278 | 0.5198722 |\n",
       "| 1085 | 0.4458130 | 0.5541870 |\n",
       "| 1086 | 0.4597679 | 0.5402321 |\n",
       "| 1087 | 0.4013333 | 0.5986667 |\n",
       "| 1088 | 0.4268442 | 0.5731558 |\n",
       "| 1089 | 0.4421215 | 0.5578785 |\n",
       "\n",
       "\n",
       "$x\n",
       ":   \n",
       "A matrix: 104 × 1 of type dbl\n",
       "\n",
       "| <!--/--> | LD1 |\n",
       "|---|---|\n",
       "| 986 | -0.7861401 |\n",
       "| 987 |  2.8097979 |\n",
       "| 988 | -1.9553089 |\n",
       "| 989 | -1.9850696 |\n",
       "| 990 | -0.9727820 |\n",
       "| 991 | -0.3745927 |\n",
       "| 992 |  2.1350812 |\n",
       "| 993 | -2.1083637 |\n",
       "| 994 | -2.9841774 |\n",
       "| 995 | -1.9944229 |\n",
       "| 996 | -3.0551779 |\n",
       "| 997 |  4.4878739 |\n",
       "| 998 |  0.6096348 |\n",
       "| 999 |  2.5581077 |\n",
       "| 1000 |  1.3196391 |\n",
       "| 1001 |  0.6453476 |\n",
       "| 1002 |  0.5828502 |\n",
       "| 1003 | -0.2291907 |\n",
       "| 1004 |  0.4897419 |\n",
       "| 1005 |  2.4411908 |\n",
       "| 1006 | -2.1848912 |\n",
       "| 1007 |  0.1343145 |\n",
       "| 1008 |  1.4760951 |\n",
       "| 1009 |  0.9046905 |\n",
       "| 1010 |  0.2125426 |\n",
       "| 1011 | -1.1866336 |\n",
       "| 1012 | -0.1717951 |\n",
       "| 1013 | -1.1041541 |\n",
       "| 1014 | -0.8843503 |\n",
       "| 1015 |  2.8978044 |\n",
       "| ⋮ | ⋮ |\n",
       "| 1060 |  0.002942491 |\n",
       "| 1061 | -1.021674510 |\n",
       "| 1062 |  1.002475507 |\n",
       "| 1063 |  0.945079949 |\n",
       "| 1064 | -1.614336791 |\n",
       "| 1065 | -2.203597855 |\n",
       "| 1066 |  2.238393192 |\n",
       "| 1067 | -0.579941288 |\n",
       "| 1068 |  1.444208729 |\n",
       "| 1069 | -0.105046189 |\n",
       "| 1070 |  0.709120432 |\n",
       "| 1071 | -1.670882045 |\n",
       "| 1072 | -0.361838167 |\n",
       "| 1073 | -0.346107533 |\n",
       "| 1074 |  1.530089490 |\n",
       "| 1075 |  0.129637871 |\n",
       "| 1076 |  0.550538631 |\n",
       "| 1077 |  0.807330609 |\n",
       "| 1078 | -0.154363853 |\n",
       "| 1079 |  0.637269696 |\n",
       "| 1080 |  0.338812794 |\n",
       "| 1081 |  0.184907668 |\n",
       "| 1082 | -0.057854285 |\n",
       "| 1083 |  1.465891495 |\n",
       "| 1084 | -0.988087479 |\n",
       "| 1085 | -0.045950021 |\n",
       "| 1086 | -0.430287685 |\n",
       "| 1087 |  1.198045557 |\n",
       "| 1088 |  0.480388504 |\n",
       "| 1089 |  0.056086526 |\n",
       "\n",
       "\n",
       "\n",
       "\n"
      ],
      "text/plain": [
       "$class\n",
       "  [1] Up   Up   Down Down Up   Up   Up   Down Down Down Down Up   Up   Up   Up  \n",
       " [16] Up   Up   Up   Up   Up   Down Up   Up   Up   Up   Up   Up   Up   Up   Up  \n",
       " [31] Up   Up   Up   Up   Up   Up   Up   Up   Up   Up   Up   Up   Up   Up   Down\n",
       " [46] Up   Up   Up   Up   Up   Up   Up   Up   Up   Up   Up   Down Up   Up   Up  \n",
       " [61] Up   Up   Up   Up   Up   Up   Up   Up   Up   Up   Up   Down Up   Down Up  \n",
       " [76] Up   Up   Up   Down Down Up   Up   Up   Up   Up   Down Up   Up   Up   Up  \n",
       " [91] Up   Up   Up   Up   Up   Up   Up   Up   Up   Up   Up   Up   Up   Up  \n",
       "Levels: Down Up\n",
       "\n",
       "$posterior\n",
       "          Down        Up\n",
       "986  0.4727454 0.5272546\n",
       "987  0.3461246 0.6538754\n",
       "988  0.5155494 0.4844506\n",
       "989  0.5166386 0.4833614\n",
       "990  0.4795680 0.5204320\n",
       "991  0.4577412 0.5422588\n",
       "992  0.3688306 0.6311694\n",
       "993  0.5211494 0.4788506\n",
       "994  0.5530496 0.4469504\n",
       "995  0.5169809 0.4830191\n",
       "996  0.5556202 0.4443798\n",
       "997  0.2927545 0.7072455\n",
       "998  0.4222168 0.5777832\n",
       "999  0.3545193 0.6454807\n",
       "1000 0.3970595 0.6029405\n",
       "1001 0.4209405 0.5790595\n",
       "1002 0.4231746 0.5768254\n",
       "1003 0.4524570 0.5475430\n",
       "1004 0.4265089 0.5734911\n",
       "1005 0.3584500 0.6415500\n",
       "1006 0.5239475 0.4760525\n",
       "1007 0.4392957 0.5607043\n",
       "1008 0.3915834 0.6084166\n",
       "1009 0.4117051 0.5882949\n",
       "1010 0.4364739 0.5635261\n",
       "1011 0.4873943 0.5126057\n",
       "1012 0.4503740 0.5496260\n",
       "1013 0.4843749 0.5156251\n",
       "1014 0.4763343 0.5236657\n",
       "1015 0.3432114 0.6567886\n",
       "1016 0.3840247 0.6159753\n",
       "1017 0.4335949 0.5664051\n",
       "1018 0.4109508 0.5890492\n",
       "1019 0.4562260 0.5437740\n",
       "1020 0.4129734 0.5870266\n",
       "1021 0.4422752 0.5577248\n",
       "1022 0.4652975 0.5347025\n",
       "1023 0.4070050 0.5929950\n",
       "1024 0.4090969 0.5909031\n",
       "1025 0.4811543 0.5188457\n",
       "1026 0.4748891 0.5251109\n",
       "1027 0.3784396 0.6215604\n",
       "1028 0.4233420 0.5766580\n",
       "1029 0.4579422 0.5420578\n",
       "1030 0.5089022 0.4910978\n",
       "1031 0.3979548 0.6020452\n",
       "1032 0.4119768 0.5880232\n",
       "1033 0.4494333 0.5505667\n",
       "1034 0.4463210 0.5536790\n",
       "1035 0.4261279 0.5738721\n",
       "1036 0.4458746 0.5541254\n",
       "1037 0.4519631 0.5480369\n",
       "1038 0.4132302 0.5867698\n",
       "1039 0.4620746 0.5379254\n",
       "1040 0.4056673 0.5943327\n",
       "1041 0.4585455 0.5414545\n",
       "1042 0.5069712 0.4930288\n",
       "1043 0.4718292 0.5281708\n",
       "1044 0.4575092 0.5424908\n",
       "1045 0.4330594 0.5669406\n",
       "1046 0.3989255 0.6010745\n",
       "1047 0.4529818 0.5470182\n",
       "1048 0.3994187 0.6005813\n",
       "1049 0.4312705 0.5687295\n",
       "1050 0.4332430 0.5667570\n",
       "1051 0.4376083 0.5623917\n",
       "1052 0.4313316 0.5686684\n",
       "1053 0.4253205 0.5746795\n",
       "1054 0.4493717 0.5506283\n",
       "1055 0.4142579 0.5857421\n",
       "1056 0.4854176 0.5145824\n",
       "1057 0.5456458 0.4543542\n",
       "1058 0.4124146 0.5875854\n",
       "1059 0.5120940 0.4879060\n",
       "1060 0.4440434 0.5559566\n",
       "1061 0.4813566 0.5186434\n",
       "1062 0.4082387 0.5917613\n",
       "1063 0.4102722 0.5897278\n",
       "1064 0.5030618 0.4969382\n",
       "1065 0.5246312 0.4753688\n",
       "1066 0.3653130 0.6346870\n",
       "1067 0.4652200 0.5347800\n",
       "1068 0.3926973 0.6073027\n",
       "1069 0.4479537 0.5520463\n",
       "1070 0.4186641 0.5813359\n",
       "1071 0.5051334 0.4948666\n",
       "1072 0.4572773 0.5427227\n",
       "1073 0.4567052 0.5432948\n",
       "1074 0.3896998 0.6103002\n",
       "1075 0.4394646 0.5605354\n",
       "1076 0.4243309 0.5756691\n",
       "1077 0.4151653 0.5848347\n",
       "1078 0.4497417 0.5502583\n",
       "1079 0.4212291 0.5787709\n",
       "1080 0.4319277 0.5680723\n",
       "1081 0.4374702 0.5625298\n",
       "1082 0.4462440 0.5537560\n",
       "1083 0.3919397 0.6080603\n",
       "1084 0.4801278 0.5198722\n",
       "1085 0.4458130 0.5541870\n",
       "1086 0.4597679 0.5402321\n",
       "1087 0.4013333 0.5986667\n",
       "1088 0.4268442 0.5731558\n",
       "1089 0.4421215 0.5578785\n",
       "\n",
       "$x\n",
       "              LD1\n",
       "986  -0.786140145\n",
       "987   2.809797860\n",
       "988  -1.955308922\n",
       "989  -1.985069582\n",
       "990  -0.972781997\n",
       "991  -0.374592736\n",
       "992   2.135081188\n",
       "993  -2.108363744\n",
       "994  -2.984177445\n",
       "995  -1.994422932\n",
       "996  -3.055177877\n",
       "997   4.487873919\n",
       "998   0.609634798\n",
       "999   2.558107709\n",
       "1000  1.319639110\n",
       "1001  0.645347590\n",
       "1002  0.582850204\n",
       "1003 -0.229190655\n",
       "1004  0.489741854\n",
       "1005  2.441190831\n",
       "1006 -2.184891154\n",
       "1007  0.134314546\n",
       "1008  1.476095150\n",
       "1009  0.904690482\n",
       "1010  0.212542566\n",
       "1011 -1.186633595\n",
       "1012 -0.171795097\n",
       "1013 -1.104154052\n",
       "1014 -0.884350322\n",
       "1015  2.897804382\n",
       "1016  1.693347966\n",
       "1017  0.292471195\n",
       "1018  0.925948096\n",
       "1019 -0.332927812\n",
       "1020  0.868977690\n",
       "1021  0.051835004\n",
       "1022 -0.582067050\n",
       "1023  1.037337994\n",
       "1024  0.978241827\n",
       "1025 -1.016147530\n",
       "1026 -0.844811160\n",
       "1027  1.854905833\n",
       "1028  0.578173529\n",
       "1029 -0.380119715\n",
       "1030 -1.773768897\n",
       "1031  1.294129973\n",
       "1032  0.897037741\n",
       "1033 -0.145860808\n",
       "1034 -0.059980047\n",
       "1035  0.500370662\n",
       "1036 -0.047650631\n",
       "1037 -0.215585782\n",
       "1038  0.861750102\n",
       "1039 -0.493635375\n",
       "1040  1.075176547\n",
       "1041 -0.396700654\n",
       "1042 -1.721050014\n",
       "1043 -0.761056161\n",
       "1044 -0.368215452\n",
       "1045  0.307351525\n",
       "1046  1.266495074\n",
       "1047 -0.243645833\n",
       "1048  1.252465049\n",
       "1049  0.357094342\n",
       "1050  0.302249698\n",
       "1051  0.181081297\n",
       "1052  0.355393733\n",
       "1053  0.522903732\n",
       "1054 -0.144160199\n",
       "1055  0.832839746\n",
       "1056 -1.132639255\n",
       "1057 -2.780104350\n",
       "1058  0.884708325\n",
       "1059 -1.860925115\n",
       "1060  0.002942491\n",
       "1061 -1.021674510\n",
       "1062  1.002475507\n",
       "1063  0.945079949\n",
       "1064 -1.614336791\n",
       "1065 -2.203597855\n",
       "1066  2.238393192\n",
       "1067 -0.579941288\n",
       "1068  1.444208729\n",
       "1069 -0.105046189\n",
       "1070  0.709120432\n",
       "1071 -1.670882045\n",
       "1072 -0.361838167\n",
       "1073 -0.346107533\n",
       "1074  1.530089490\n",
       "1075  0.129637871\n",
       "1076  0.550538631\n",
       "1077  0.807330609\n",
       "1078 -0.154363853\n",
       "1079  0.637269696\n",
       "1080  0.338812794\n",
       "1081  0.184907668\n",
       "1082 -0.057854285\n",
       "1083  1.465891495\n",
       "1084 -0.988087479\n",
       "1085 -0.045950021\n",
       "1086 -0.430287685\n",
       "1087  1.198045557\n",
       "1088  0.480388504\n",
       "1089  0.056086526\n"
      ]
     },
     "metadata": {},
     "output_type": "display_data"
    },
    {
     "data": {
      "text/plain": [
       "Confusion Matrix and Statistics\n",
       "\n",
       "          Reference\n",
       "Prediction Down Up\n",
       "      Down    9  5\n",
       "      Up     34 56\n",
       "                                         \n",
       "               Accuracy : 0.625          \n",
       "                 95% CI : (0.5247, 0.718)\n",
       "    No Information Rate : 0.5865         \n",
       "    P-Value [Acc > NIR] : 0.2439         \n",
       "                                         \n",
       "                  Kappa : 0.1414         \n",
       "                                         \n",
       " Mcnemar's Test P-Value : 7.34e-06       \n",
       "                                         \n",
       "            Sensitivity : 0.9180         \n",
       "            Specificity : 0.2093         \n",
       "         Pos Pred Value : 0.6222         \n",
       "         Neg Pred Value : 0.6429         \n",
       "             Prevalence : 0.5865         \n",
       "         Detection Rate : 0.5385         \n",
       "   Detection Prevalence : 0.8654         \n",
       "      Balanced Accuracy : 0.5637         \n",
       "                                         \n",
       "       'Positive' Class : Up             \n",
       "                                         "
      ]
     },
     "metadata": {},
     "output_type": "display_data"
    },
    {
     "data": {
      "text/plain": [
       "\n",
       "Down   Up \n",
       "  14   90 "
      ]
     },
     "metadata": {},
     "output_type": "display_data"
    }
   ],
   "source": [
    "lda_model <- lda(Direction ~ Lag2, data = Weekly)\n",
    "lda_model\n",
    "lda_predicted <- predict(lda_model, test)\n",
    "\n",
    "lda_predicted\n",
    "confusionMatrix(lda_predicted$class, test$Direction, positive = 'Up')\n",
    "\n",
    "table(lda_predicted$class)"
   ]
  },
  {
   "cell_type": "markdown",
   "id": "e1b8ada1",
   "metadata": {},
   "source": [
    "## f"
   ]
  },
  {
   "cell_type": "code",
   "execution_count": 10,
   "id": "80d53b4d",
   "metadata": {},
   "outputs": [
    {
     "data": {
      "text/plain": [
       "Call:\n",
       "qda(Direction ~ Lag2, data = Weekly)\n",
       "\n",
       "Prior probabilities of groups:\n",
       "     Down        Up \n",
       "0.4444444 0.5555556 \n",
       "\n",
       "Group means:\n",
       "            Lag2\n",
       "Down -0.04042355\n",
       "Up    0.30428099"
      ]
     },
     "metadata": {},
     "output_type": "display_data"
    },
    {
     "data": {
      "text/html": [
       "<dl>\n",
       "\t<dt>$class</dt>\n",
       "\t\t<dd><style>\n",
       ".list-inline {list-style: none; margin:0; padding: 0}\n",
       ".list-inline>li {display: inline-block}\n",
       ".list-inline>li:not(:last-child)::after {content: \"\\00b7\"; padding: 0 .5ex}\n",
       "</style>\n",
       "<ol class=list-inline><li>Up</li><li>Up</li><li>Up</li><li>Up</li><li>Up</li><li>Up</li><li>Up</li><li>Up</li><li>Up</li><li>Up</li><li>Up</li><li>Up</li><li>Up</li><li>Up</li><li>Up</li><li>Up</li><li>Up</li><li>Up</li><li>Up</li><li>Up</li><li>Up</li><li>Up</li><li>Up</li><li>Up</li><li>Up</li><li>Up</li><li>Up</li><li>Up</li><li>Up</li><li>Up</li><li>Up</li><li>Up</li><li>Up</li><li>Up</li><li>Up</li><li>Up</li><li>Up</li><li>Up</li><li>Up</li><li>Up</li><li>Up</li><li>Up</li><li>Up</li><li>Up</li><li>Up</li><li>Up</li><li>Up</li><li>Up</li><li>Up</li><li>Up</li><li>Up</li><li>Up</li><li>Up</li><li>Up</li><li>Up</li><li>Up</li><li>Up</li><li>Up</li><li>Up</li><li>Up</li><li>Up</li><li>Up</li><li>Up</li><li>Up</li><li>Up</li><li>Up</li><li>Up</li><li>Up</li><li>Up</li><li>Up</li><li>Up</li><li>Up</li><li>Up</li><li>Up</li><li>Up</li><li>Up</li><li>Up</li><li>Up</li><li>Up</li><li>Up</li><li>Up</li><li>Up</li><li>Up</li><li>Up</li><li>Up</li><li>Up</li><li>Up</li><li>Up</li><li>Up</li><li>Up</li><li>Up</li><li>Up</li><li>Up</li><li>Up</li><li>Up</li><li>Up</li><li>Up</li><li>Up</li><li>Up</li><li>Up</li><li>Up</li><li>Up</li><li>Up</li><li>Up</li></ol>\n",
       "\n",
       "<details>\n",
       "\t<summary style=display:list-item;cursor:pointer>\n",
       "\t\t<strong>Levels</strong>:\n",
       "\t</summary>\n",
       "\t<style>\n",
       "\t.list-inline {list-style: none; margin:0; padding: 0}\n",
       "\t.list-inline>li {display: inline-block}\n",
       "\t.list-inline>li:not(:last-child)::after {content: \"\\00b7\"; padding: 0 .5ex}\n",
       "\t</style>\n",
       "\t<ol class=list-inline><li>'Down'</li><li>'Up'</li></ol>\n",
       "</details></dd>\n",
       "\t<dt>$posterior</dt>\n",
       "\t\t<dd><table class=\"dataframe\">\n",
       "<caption>A matrix: 104 × 2 of type dbl</caption>\n",
       "<thead>\n",
       "\t<tr><th></th><th scope=col>Down</th><th scope=col>Up</th></tr>\n",
       "</thead>\n",
       "<tbody>\n",
       "\t<tr><th scope=row>986</th><td>0.4773510</td><td>0.5226490</td></tr>\n",
       "\t<tr><th scope=row>987</th><td>0.2769713</td><td>0.7230287</td></tr>\n",
       "\t<tr><th scope=row>988</th><td>0.4837734</td><td>0.5162266</td></tr>\n",
       "\t<tr><th scope=row>989</th><td>0.4835263</td><td>0.5164737</td></tr>\n",
       "\t<tr><th scope=row>990</th><td>0.4804852</td><td>0.5195148</td></tr>\n",
       "\t<tr><th scope=row>991</th><td>0.4676210</td><td>0.5323790</td></tr>\n",
       "\t<tr><th scope=row>992</th><td>0.3305580</td><td>0.6694420</td></tr>\n",
       "\t<tr><th scope=row>993</th><td>0.4822854</td><td>0.5177146</td></tr>\n",
       "\t<tr><th scope=row>994</th><td>0.4634357</td><td>0.5365643</td></tr>\n",
       "\t<tr><th scope=row>995</th><td>0.4834444</td><td>0.5165556</td></tr>\n",
       "\t<tr><th scope=row>996</th><td>0.4611415</td><td>0.5388585</td></tr>\n",
       "\t<tr><th scope=row>997</th><td>0.1451815</td><td>0.8548185</td></tr>\n",
       "\t<tr><th scope=row>998</th><td>0.4288909</td><td>0.5711091</td></tr>\n",
       "\t<tr><th scope=row>999</th><td>0.2973549</td><td>0.7026451</td></tr>\n",
       "\t<tr><th scope=row>1000</th><td>0.3882093</td><td>0.6117907</td></tr>\n",
       "\t<tr><th scope=row>1001</th><td>0.4270881</td><td>0.5729119</td></tr>\n",
       "\t<tr><th scope=row>1002</th><td>0.4302254</td><td>0.5697746</td></tr>\n",
       "\t<tr><th scope=row>1003</th><td>0.4632607</td><td>0.5367393</td></tr>\n",
       "\t<tr><th scope=row>1004</th><td>0.4347454</td><td>0.5652546</td></tr>\n",
       "\t<tr><th scope=row>1005</th><td>0.3066899</td><td>0.6933101</td></tr>\n",
       "\t<tr><th scope=row>1006</th><td>0.4813393</td><td>0.5186607</td></tr>\n",
       "\t<tr><th scope=row>1007</th><td>0.4502744</td><td>0.5497256</td></tr>\n",
       "\t<tr><th scope=row>1008</th><td>0.3779598</td><td>0.6220402</td></tr>\n",
       "\t<tr><th scope=row>1009</th><td>0.4132018</td><td>0.5867982</td></tr>\n",
       "\t<tr><th scope=row>1010</th><td>0.4470942</td><td>0.5529058</td></tr>\n",
       "\t<tr><th scope=row>1011</th><td>0.4830925</td><td>0.5169075</td></tr>\n",
       "\t<tr><th scope=row>1012</th><td>0.4614076</td><td>0.5385924</td></tr>\n",
       "\t<tr><th scope=row>1013</th><td>0.4822115</td><td>0.5177885</td></tr>\n",
       "\t<tr><th scope=row>1014</th><td>0.4790999</td><td>0.5209001</td></tr>\n",
       "\t<tr><th scope=row>1015</th><td>0.2697794</td><td>0.7302206</td></tr>\n",
       "\t<tr><th scope=row>⋮</th><td>⋮</td><td>⋮</td></tr>\n",
       "\t<tr><th scope=row>1060</th><td>0.4553093</td><td>0.5446907</td></tr>\n",
       "\t<tr><th scope=row>1061</th><td>0.4811740</td><td>0.5188260</td></tr>\n",
       "\t<tr><th scope=row>1062</th><td>0.4076117</td><td>0.5923883</td></tr>\n",
       "\t<tr><th scope=row>1063</th><td>0.4109159</td><td>0.5890841</td></tr>\n",
       "\t<tr><th scope=row>1064</th><td>0.4851501</td><td>0.5148499</td></tr>\n",
       "\t<tr><th scope=row>1065</th><td>0.4810875</td><td>0.5189125</td></tr>\n",
       "\t<tr><th scope=row>1066</th><td>0.3226075</td><td>0.6773925</td></tr>\n",
       "\t<tr><th scope=row>1067</th><td>0.4729598</td><td>0.5270402</td></tr>\n",
       "\t<tr><th scope=row>1068</th><td>0.3800833</td><td>0.6199167</td></tr>\n",
       "\t<tr><th scope=row>1069</th><td>0.4591592</td><td>0.5408408</td></tr>\n",
       "\t<tr><th scope=row>1070</th><td>0.4238023</td><td>0.5761977</td></tr>\n",
       "\t<tr><th scope=row>1071</th><td>0.4851069</td><td>0.5148931</td></tr>\n",
       "\t<tr><th scope=row>1072</th><td>0.4672577</td><td>0.5327423</td></tr>\n",
       "\t<tr><th scope=row>1073</th><td>0.4668046</td><td>0.5331954</td></tr>\n",
       "\t<tr><th scope=row>1074</th><td>0.3743246</td><td>0.6256754</td></tr>\n",
       "\t<tr><th scope=row>1075</th><td>0.4504602</td><td>0.5495398</td></tr>\n",
       "\t<tr><th scope=row>1076</th><td>0.4318149</td><td>0.5681851</td></tr>\n",
       "\t<tr><th scope=row>1077</th><td>0.4185769</td><td>0.5814231</td></tr>\n",
       "\t<tr><th scope=row>1078</th><td>0.4608301</td><td>0.5391699</td></tr>\n",
       "\t<tr><th scope=row>1079</th><td>0.4274983</td><td>0.5725017</td></tr>\n",
       "\t<tr><th scope=row>1080</th><td>0.4416766</td><td>0.5583234</td></tr>\n",
       "\t<tr><th scope=row>1081</th><td>0.4482331</td><td>0.5517669</td></tr>\n",
       "\t<tr><th scope=row>1082</th><td>0.4575090</td><td>0.5424910</td></tr>\n",
       "\t<tr><th scope=row>1083</th><td>0.3786412</td><td>0.6213588</td></tr>\n",
       "\t<tr><th scope=row>1084</th><td>0.4807068</td><td>0.5192932</td></tr>\n",
       "\t<tr><th scope=row>1085</th><td>0.4570848</td><td>0.5429152</td></tr>\n",
       "\t<tr><th scope=row>1086</th><td>0.4691640</td><td>0.5308360</td></tr>\n",
       "\t<tr><th scope=row>1087</th><td>0.3958717</td><td>0.6041283</td></tr>\n",
       "\t<tr><th scope=row>1088</th><td>0.4351893</td><td>0.5648107</td></tr>\n",
       "\t<tr><th scope=row>1089</th><td>0.4533189</td><td>0.5466811</td></tr>\n",
       "</tbody>\n",
       "</table>\n",
       "</dd>\n",
       "</dl>\n"
      ],
      "text/latex": [
       "\\begin{description}\n",
       "\\item[\\$class] \\begin{enumerate*}\n",
       "\\item Up\n",
       "\\item Up\n",
       "\\item Up\n",
       "\\item Up\n",
       "\\item Up\n",
       "\\item Up\n",
       "\\item Up\n",
       "\\item Up\n",
       "\\item Up\n",
       "\\item Up\n",
       "\\item Up\n",
       "\\item Up\n",
       "\\item Up\n",
       "\\item Up\n",
       "\\item Up\n",
       "\\item Up\n",
       "\\item Up\n",
       "\\item Up\n",
       "\\item Up\n",
       "\\item Up\n",
       "\\item Up\n",
       "\\item Up\n",
       "\\item Up\n",
       "\\item Up\n",
       "\\item Up\n",
       "\\item Up\n",
       "\\item Up\n",
       "\\item Up\n",
       "\\item Up\n",
       "\\item Up\n",
       "\\item Up\n",
       "\\item Up\n",
       "\\item Up\n",
       "\\item Up\n",
       "\\item Up\n",
       "\\item Up\n",
       "\\item Up\n",
       "\\item Up\n",
       "\\item Up\n",
       "\\item Up\n",
       "\\item Up\n",
       "\\item Up\n",
       "\\item Up\n",
       "\\item Up\n",
       "\\item Up\n",
       "\\item Up\n",
       "\\item Up\n",
       "\\item Up\n",
       "\\item Up\n",
       "\\item Up\n",
       "\\item Up\n",
       "\\item Up\n",
       "\\item Up\n",
       "\\item Up\n",
       "\\item Up\n",
       "\\item Up\n",
       "\\item Up\n",
       "\\item Up\n",
       "\\item Up\n",
       "\\item Up\n",
       "\\item Up\n",
       "\\item Up\n",
       "\\item Up\n",
       "\\item Up\n",
       "\\item Up\n",
       "\\item Up\n",
       "\\item Up\n",
       "\\item Up\n",
       "\\item Up\n",
       "\\item Up\n",
       "\\item Up\n",
       "\\item Up\n",
       "\\item Up\n",
       "\\item Up\n",
       "\\item Up\n",
       "\\item Up\n",
       "\\item Up\n",
       "\\item Up\n",
       "\\item Up\n",
       "\\item Up\n",
       "\\item Up\n",
       "\\item Up\n",
       "\\item Up\n",
       "\\item Up\n",
       "\\item Up\n",
       "\\item Up\n",
       "\\item Up\n",
       "\\item Up\n",
       "\\item Up\n",
       "\\item Up\n",
       "\\item Up\n",
       "\\item Up\n",
       "\\item Up\n",
       "\\item Up\n",
       "\\item Up\n",
       "\\item Up\n",
       "\\item Up\n",
       "\\item Up\n",
       "\\item Up\n",
       "\\item Up\n",
       "\\item Up\n",
       "\\item Up\n",
       "\\item Up\n",
       "\\item Up\n",
       "\\end{enumerate*}\n",
       "\n",
       "\\emph{Levels}: \\begin{enumerate*}\n",
       "\\item 'Down'\n",
       "\\item 'Up'\n",
       "\\end{enumerate*}\n",
       "\n",
       "\\item[\\$posterior] A matrix: 104 × 2 of type dbl\n",
       "\\begin{tabular}{r|ll}\n",
       "  & Down & Up\\\\\n",
       "\\hline\n",
       "\t986 & 0.4773510 & 0.5226490\\\\\n",
       "\t987 & 0.2769713 & 0.7230287\\\\\n",
       "\t988 & 0.4837734 & 0.5162266\\\\\n",
       "\t989 & 0.4835263 & 0.5164737\\\\\n",
       "\t990 & 0.4804852 & 0.5195148\\\\\n",
       "\t991 & 0.4676210 & 0.5323790\\\\\n",
       "\t992 & 0.3305580 & 0.6694420\\\\\n",
       "\t993 & 0.4822854 & 0.5177146\\\\\n",
       "\t994 & 0.4634357 & 0.5365643\\\\\n",
       "\t995 & 0.4834444 & 0.5165556\\\\\n",
       "\t996 & 0.4611415 & 0.5388585\\\\\n",
       "\t997 & 0.1451815 & 0.8548185\\\\\n",
       "\t998 & 0.4288909 & 0.5711091\\\\\n",
       "\t999 & 0.2973549 & 0.7026451\\\\\n",
       "\t1000 & 0.3882093 & 0.6117907\\\\\n",
       "\t1001 & 0.4270881 & 0.5729119\\\\\n",
       "\t1002 & 0.4302254 & 0.5697746\\\\\n",
       "\t1003 & 0.4632607 & 0.5367393\\\\\n",
       "\t1004 & 0.4347454 & 0.5652546\\\\\n",
       "\t1005 & 0.3066899 & 0.6933101\\\\\n",
       "\t1006 & 0.4813393 & 0.5186607\\\\\n",
       "\t1007 & 0.4502744 & 0.5497256\\\\\n",
       "\t1008 & 0.3779598 & 0.6220402\\\\\n",
       "\t1009 & 0.4132018 & 0.5867982\\\\\n",
       "\t1010 & 0.4470942 & 0.5529058\\\\\n",
       "\t1011 & 0.4830925 & 0.5169075\\\\\n",
       "\t1012 & 0.4614076 & 0.5385924\\\\\n",
       "\t1013 & 0.4822115 & 0.5177885\\\\\n",
       "\t1014 & 0.4790999 & 0.5209001\\\\\n",
       "\t1015 & 0.2697794 & 0.7302206\\\\\n",
       "\t⋮ & ⋮ & ⋮\\\\\n",
       "\t1060 & 0.4553093 & 0.5446907\\\\\n",
       "\t1061 & 0.4811740 & 0.5188260\\\\\n",
       "\t1062 & 0.4076117 & 0.5923883\\\\\n",
       "\t1063 & 0.4109159 & 0.5890841\\\\\n",
       "\t1064 & 0.4851501 & 0.5148499\\\\\n",
       "\t1065 & 0.4810875 & 0.5189125\\\\\n",
       "\t1066 & 0.3226075 & 0.6773925\\\\\n",
       "\t1067 & 0.4729598 & 0.5270402\\\\\n",
       "\t1068 & 0.3800833 & 0.6199167\\\\\n",
       "\t1069 & 0.4591592 & 0.5408408\\\\\n",
       "\t1070 & 0.4238023 & 0.5761977\\\\\n",
       "\t1071 & 0.4851069 & 0.5148931\\\\\n",
       "\t1072 & 0.4672577 & 0.5327423\\\\\n",
       "\t1073 & 0.4668046 & 0.5331954\\\\\n",
       "\t1074 & 0.3743246 & 0.6256754\\\\\n",
       "\t1075 & 0.4504602 & 0.5495398\\\\\n",
       "\t1076 & 0.4318149 & 0.5681851\\\\\n",
       "\t1077 & 0.4185769 & 0.5814231\\\\\n",
       "\t1078 & 0.4608301 & 0.5391699\\\\\n",
       "\t1079 & 0.4274983 & 0.5725017\\\\\n",
       "\t1080 & 0.4416766 & 0.5583234\\\\\n",
       "\t1081 & 0.4482331 & 0.5517669\\\\\n",
       "\t1082 & 0.4575090 & 0.5424910\\\\\n",
       "\t1083 & 0.3786412 & 0.6213588\\\\\n",
       "\t1084 & 0.4807068 & 0.5192932\\\\\n",
       "\t1085 & 0.4570848 & 0.5429152\\\\\n",
       "\t1086 & 0.4691640 & 0.5308360\\\\\n",
       "\t1087 & 0.3958717 & 0.6041283\\\\\n",
       "\t1088 & 0.4351893 & 0.5648107\\\\\n",
       "\t1089 & 0.4533189 & 0.5466811\\\\\n",
       "\\end{tabular}\n",
       "\n",
       "\\end{description}\n"
      ],
      "text/markdown": [
       "$class\n",
       ":   1. Up\n",
       "2. Up\n",
       "3. Up\n",
       "4. Up\n",
       "5. Up\n",
       "6. Up\n",
       "7. Up\n",
       "8. Up\n",
       "9. Up\n",
       "10. Up\n",
       "11. Up\n",
       "12. Up\n",
       "13. Up\n",
       "14. Up\n",
       "15. Up\n",
       "16. Up\n",
       "17. Up\n",
       "18. Up\n",
       "19. Up\n",
       "20. Up\n",
       "21. Up\n",
       "22. Up\n",
       "23. Up\n",
       "24. Up\n",
       "25. Up\n",
       "26. Up\n",
       "27. Up\n",
       "28. Up\n",
       "29. Up\n",
       "30. Up\n",
       "31. Up\n",
       "32. Up\n",
       "33. Up\n",
       "34. Up\n",
       "35. Up\n",
       "36. Up\n",
       "37. Up\n",
       "38. Up\n",
       "39. Up\n",
       "40. Up\n",
       "41. Up\n",
       "42. Up\n",
       "43. Up\n",
       "44. Up\n",
       "45. Up\n",
       "46. Up\n",
       "47. Up\n",
       "48. Up\n",
       "49. Up\n",
       "50. Up\n",
       "51. Up\n",
       "52. Up\n",
       "53. Up\n",
       "54. Up\n",
       "55. Up\n",
       "56. Up\n",
       "57. Up\n",
       "58. Up\n",
       "59. Up\n",
       "60. Up\n",
       "61. Up\n",
       "62. Up\n",
       "63. Up\n",
       "64. Up\n",
       "65. Up\n",
       "66. Up\n",
       "67. Up\n",
       "68. Up\n",
       "69. Up\n",
       "70. Up\n",
       "71. Up\n",
       "72. Up\n",
       "73. Up\n",
       "74. Up\n",
       "75. Up\n",
       "76. Up\n",
       "77. Up\n",
       "78. Up\n",
       "79. Up\n",
       "80. Up\n",
       "81. Up\n",
       "82. Up\n",
       "83. Up\n",
       "84. Up\n",
       "85. Up\n",
       "86. Up\n",
       "87. Up\n",
       "88. Up\n",
       "89. Up\n",
       "90. Up\n",
       "91. Up\n",
       "92. Up\n",
       "93. Up\n",
       "94. Up\n",
       "95. Up\n",
       "96. Up\n",
       "97. Up\n",
       "98. Up\n",
       "99. Up\n",
       "100. Up\n",
       "101. Up\n",
       "102. Up\n",
       "103. Up\n",
       "104. Up\n",
       "\n",
       "\n",
       "\n",
       "**Levels**: 1. 'Down'\n",
       "2. 'Up'\n",
       "\n",
       "\n",
       "\n",
       "$posterior\n",
       ":   \n",
       "A matrix: 104 × 2 of type dbl\n",
       "\n",
       "| <!--/--> | Down | Up |\n",
       "|---|---|---|\n",
       "| 986 | 0.4773510 | 0.5226490 |\n",
       "| 987 | 0.2769713 | 0.7230287 |\n",
       "| 988 | 0.4837734 | 0.5162266 |\n",
       "| 989 | 0.4835263 | 0.5164737 |\n",
       "| 990 | 0.4804852 | 0.5195148 |\n",
       "| 991 | 0.4676210 | 0.5323790 |\n",
       "| 992 | 0.3305580 | 0.6694420 |\n",
       "| 993 | 0.4822854 | 0.5177146 |\n",
       "| 994 | 0.4634357 | 0.5365643 |\n",
       "| 995 | 0.4834444 | 0.5165556 |\n",
       "| 996 | 0.4611415 | 0.5388585 |\n",
       "| 997 | 0.1451815 | 0.8548185 |\n",
       "| 998 | 0.4288909 | 0.5711091 |\n",
       "| 999 | 0.2973549 | 0.7026451 |\n",
       "| 1000 | 0.3882093 | 0.6117907 |\n",
       "| 1001 | 0.4270881 | 0.5729119 |\n",
       "| 1002 | 0.4302254 | 0.5697746 |\n",
       "| 1003 | 0.4632607 | 0.5367393 |\n",
       "| 1004 | 0.4347454 | 0.5652546 |\n",
       "| 1005 | 0.3066899 | 0.6933101 |\n",
       "| 1006 | 0.4813393 | 0.5186607 |\n",
       "| 1007 | 0.4502744 | 0.5497256 |\n",
       "| 1008 | 0.3779598 | 0.6220402 |\n",
       "| 1009 | 0.4132018 | 0.5867982 |\n",
       "| 1010 | 0.4470942 | 0.5529058 |\n",
       "| 1011 | 0.4830925 | 0.5169075 |\n",
       "| 1012 | 0.4614076 | 0.5385924 |\n",
       "| 1013 | 0.4822115 | 0.5177885 |\n",
       "| 1014 | 0.4790999 | 0.5209001 |\n",
       "| 1015 | 0.2697794 | 0.7302206 |\n",
       "| ⋮ | ⋮ | ⋮ |\n",
       "| 1060 | 0.4553093 | 0.5446907 |\n",
       "| 1061 | 0.4811740 | 0.5188260 |\n",
       "| 1062 | 0.4076117 | 0.5923883 |\n",
       "| 1063 | 0.4109159 | 0.5890841 |\n",
       "| 1064 | 0.4851501 | 0.5148499 |\n",
       "| 1065 | 0.4810875 | 0.5189125 |\n",
       "| 1066 | 0.3226075 | 0.6773925 |\n",
       "| 1067 | 0.4729598 | 0.5270402 |\n",
       "| 1068 | 0.3800833 | 0.6199167 |\n",
       "| 1069 | 0.4591592 | 0.5408408 |\n",
       "| 1070 | 0.4238023 | 0.5761977 |\n",
       "| 1071 | 0.4851069 | 0.5148931 |\n",
       "| 1072 | 0.4672577 | 0.5327423 |\n",
       "| 1073 | 0.4668046 | 0.5331954 |\n",
       "| 1074 | 0.3743246 | 0.6256754 |\n",
       "| 1075 | 0.4504602 | 0.5495398 |\n",
       "| 1076 | 0.4318149 | 0.5681851 |\n",
       "| 1077 | 0.4185769 | 0.5814231 |\n",
       "| 1078 | 0.4608301 | 0.5391699 |\n",
       "| 1079 | 0.4274983 | 0.5725017 |\n",
       "| 1080 | 0.4416766 | 0.5583234 |\n",
       "| 1081 | 0.4482331 | 0.5517669 |\n",
       "| 1082 | 0.4575090 | 0.5424910 |\n",
       "| 1083 | 0.3786412 | 0.6213588 |\n",
       "| 1084 | 0.4807068 | 0.5192932 |\n",
       "| 1085 | 0.4570848 | 0.5429152 |\n",
       "| 1086 | 0.4691640 | 0.5308360 |\n",
       "| 1087 | 0.3958717 | 0.6041283 |\n",
       "| 1088 | 0.4351893 | 0.5648107 |\n",
       "| 1089 | 0.4533189 | 0.5466811 |\n",
       "\n",
       "\n",
       "\n",
       "\n"
      ],
      "text/plain": [
       "$class\n",
       "  [1] Up Up Up Up Up Up Up Up Up Up Up Up Up Up Up Up Up Up Up Up Up Up Up Up Up\n",
       " [26] Up Up Up Up Up Up Up Up Up Up Up Up Up Up Up Up Up Up Up Up Up Up Up Up Up\n",
       " [51] Up Up Up Up Up Up Up Up Up Up Up Up Up Up Up Up Up Up Up Up Up Up Up Up Up\n",
       " [76] Up Up Up Up Up Up Up Up Up Up Up Up Up Up Up Up Up Up Up Up Up Up Up Up Up\n",
       "[101] Up Up Up Up\n",
       "Levels: Down Up\n",
       "\n",
       "$posterior\n",
       "          Down        Up\n",
       "986  0.4773510 0.5226490\n",
       "987  0.2769713 0.7230287\n",
       "988  0.4837734 0.5162266\n",
       "989  0.4835263 0.5164737\n",
       "990  0.4804852 0.5195148\n",
       "991  0.4676210 0.5323790\n",
       "992  0.3305580 0.6694420\n",
       "993  0.4822854 0.5177146\n",
       "994  0.4634357 0.5365643\n",
       "995  0.4834444 0.5165556\n",
       "996  0.4611415 0.5388585\n",
       "997  0.1451815 0.8548185\n",
       "998  0.4288909 0.5711091\n",
       "999  0.2973549 0.7026451\n",
       "1000 0.3882093 0.6117907\n",
       "1001 0.4270881 0.5729119\n",
       "1002 0.4302254 0.5697746\n",
       "1003 0.4632607 0.5367393\n",
       "1004 0.4347454 0.5652546\n",
       "1005 0.3066899 0.6933101\n",
       "1006 0.4813393 0.5186607\n",
       "1007 0.4502744 0.5497256\n",
       "1008 0.3779598 0.6220402\n",
       "1009 0.4132018 0.5867982\n",
       "1010 0.4470942 0.5529058\n",
       "1011 0.4830925 0.5169075\n",
       "1012 0.4614076 0.5385924\n",
       "1013 0.4822115 0.5177885\n",
       "1014 0.4790999 0.5209001\n",
       "1015 0.2697794 0.7302206\n",
       "1016 0.3630423 0.6369577\n",
       "1017 0.4437055 0.5562945\n",
       "1018 0.4120028 0.5879972\n",
       "1019 0.4664206 0.5335794\n",
       "1020 0.4151958 0.5848042\n",
       "1021 0.4534804 0.5465196\n",
       "1022 0.4730100 0.5269900\n",
       "1023 0.4055730 0.5944270\n",
       "1024 0.4090148 0.5909852\n",
       "1025 0.4810989 0.5189011\n",
       "1026 0.4784225 0.5215775\n",
       "1027 0.3514725 0.6485275\n",
       "1028 0.4304568 0.5695432\n",
       "1029 0.4677773 0.5322227\n",
       "1030 0.4848395 0.5151605\n",
       "1031 0.3898393 0.6101607\n",
       "1032 0.4136313 0.5863687\n",
       "1033 0.4605460 0.5394540\n",
       "1034 0.4575844 0.5424156\n",
       "1035 0.4342388 0.5657612\n",
       "1036 0.4571456 0.5428544\n",
       "1037 0.4628282 0.5371718\n",
       "1038 0.4155962 0.5844038\n",
       "1039 0.4708331 0.5291669\n",
       "1040 0.4033335 0.5966665\n",
       "1041 0.4682419 0.5317581\n",
       "1042 0.4850070 0.5149930\n",
       "1043 0.4768689 0.5231311\n",
       "1044 0.4674398 0.5325602\n",
       "1045 0.4430591 0.5569409\n",
       "1046 0.3915917 0.6084083\n",
       "1047 0.4637156 0.5362844\n",
       "1048 0.3924760 0.6075240\n",
       "1049 0.4408633 0.5591367\n",
       "1050 0.4432813 0.5567187\n",
       "1051 0.4483894 0.5516106\n",
       "1052 0.4409393 0.5590607\n",
       "1053 0.4331568 0.5668432\n",
       "1054 0.4604889 0.5395111\n",
       "1055 0.4171872 0.5828128\n",
       "1056 0.4825334 0.5174666\n",
       "1057 0.4693938 0.5306062\n",
       "1058 0.4143207 0.5856793\n",
       "1059 0.4844224 0.5155776\n",
       "1060 0.4553093 0.5446907\n",
       "1061 0.4811740 0.5188260\n",
       "1062 0.4076117 0.5923883\n",
       "1063 0.4109159 0.5890841\n",
       "1064 0.4851501 0.5148499\n",
       "1065 0.4810875 0.5189125\n",
       "1066 0.3226075 0.6773925\n",
       "1067 0.4729598 0.5270402\n",
       "1068 0.3800833 0.6199167\n",
       "1069 0.4591592 0.5408408\n",
       "1070 0.4238023 0.5761977\n",
       "1071 0.4851069 0.5148931\n",
       "1072 0.4672577 0.5327423\n",
       "1073 0.4668046 0.5331954\n",
       "1074 0.3743246 0.6256754\n",
       "1075 0.4504602 0.5495398\n",
       "1076 0.4318149 0.5681851\n",
       "1077 0.4185769 0.5814231\n",
       "1078 0.4608301 0.5391699\n",
       "1079 0.4274983 0.5725017\n",
       "1080 0.4416766 0.5583234\n",
       "1081 0.4482331 0.5517669\n",
       "1082 0.4575090 0.5424910\n",
       "1083 0.3786412 0.6213588\n",
       "1084 0.4807068 0.5192932\n",
       "1085 0.4570848 0.5429152\n",
       "1086 0.4691640 0.5308360\n",
       "1087 0.3958717 0.6041283\n",
       "1088 0.4351893 0.5648107\n",
       "1089 0.4533189 0.5466811\n"
      ]
     },
     "metadata": {},
     "output_type": "display_data"
    },
    {
     "data": {
      "text/plain": [
       "Confusion Matrix and Statistics\n",
       "\n",
       "          Reference\n",
       "Prediction Down Up\n",
       "      Down    0  0\n",
       "      Up     43 61\n",
       "                                          \n",
       "               Accuracy : 0.5865          \n",
       "                 95% CI : (0.4858, 0.6823)\n",
       "    No Information Rate : 0.5865          \n",
       "    P-Value [Acc > NIR] : 0.5419          \n",
       "                                          \n",
       "                  Kappa : 0               \n",
       "                                          \n",
       " Mcnemar's Test P-Value : 1.504e-10       \n",
       "                                          \n",
       "            Sensitivity : 1.0000          \n",
       "            Specificity : 0.0000          \n",
       "         Pos Pred Value : 0.5865          \n",
       "         Neg Pred Value :    NaN          \n",
       "             Prevalence : 0.5865          \n",
       "         Detection Rate : 0.5865          \n",
       "   Detection Prevalence : 1.0000          \n",
       "      Balanced Accuracy : 0.5000          \n",
       "                                          \n",
       "       'Positive' Class : Up              \n",
       "                                          "
      ]
     },
     "metadata": {},
     "output_type": "display_data"
    },
    {
     "data": {
      "text/plain": [
       "\n",
       "Down   Up \n",
       "   0  104 "
      ]
     },
     "metadata": {},
     "output_type": "display_data"
    }
   ],
   "source": [
    "qda_model <- qda(Direction ~ Lag2, data = Weekly)\n",
    "qda_model\n",
    "qda_predicted <- predict(qda_model, test)\n",
    "\n",
    "qda_predicted\n",
    "confusionMatrix(qda_predicted$class, test$Direction, positive = 'Up')\n",
    "\n",
    "table(qda_predicted$class)"
   ]
  },
  {
   "cell_type": "markdown",
   "id": "353580fe",
   "metadata": {},
   "source": [
    "## g"
   ]
  },
  {
   "cell_type": "code",
   "execution_count": 11,
   "id": "15b789c3",
   "metadata": {},
   "outputs": [
    {
     "name": "stdout",
     "output_type": "stream",
     "text": [
      "[1] \"Confusion Matrix:\"\n"
     ]
    },
    {
     "data": {
      "text/plain": [
       "         \n",
       "knn_model Down Up\n",
       "     Down   21 29\n",
       "     Up     22 32"
      ]
     },
     "metadata": {},
     "output_type": "display_data"
    },
    {
     "data": {
      "text/plain": [
       "knn_model\n",
       "Down   Up \n",
       "  50   54 "
      ]
     },
     "metadata": {},
     "output_type": "display_data"
    }
   ],
   "source": [
    "library(class)\n",
    "\n",
    "set.seed(123)\n",
    "knn_model <- knn(train = data.frame(train[,'Lag2']),\n",
    "                test = data.frame(test[,'Lag2']),\n",
    "                cl = train$Direction,\n",
    "                k = 1)\n",
    "\n",
    "print('Confusion Matrix:')\n",
    "table(knn_model, test$Direction)\n",
    "\n",
    "table(knn_model)"
   ]
  },
  {
   "cell_type": "markdown",
   "id": "d9710c1b",
   "metadata": {},
   "source": [
    "# h\n",
    "\n",
    "### Looking at the models accuracy and confusion matrix LDA and Logistic Regression models are the best models"
   ]
  },
  {
   "cell_type": "markdown",
   "id": "1d772d60",
   "metadata": {},
   "source": [
    "# Question 11\n",
    "## a"
   ]
  },
  {
   "cell_type": "code",
   "execution_count": 12,
   "id": "cb6752bc",
   "metadata": {},
   "outputs": [],
   "source": [
    "library(ISLR)"
   ]
  },
  {
   "cell_type": "code",
   "execution_count": 13,
   "id": "30917c4a",
   "metadata": {},
   "outputs": [
    {
     "name": "stderr",
     "output_type": "stream",
     "text": [
      "The following object is masked from package:ggplot2:\n",
      "\n",
      "    mpg\n",
      "\n",
      "\n"
     ]
    }
   ],
   "source": [
    "attach(Auto)"
   ]
  },
  {
   "cell_type": "code",
   "execution_count": 14,
   "id": "a4deae04",
   "metadata": {},
   "outputs": [
    {
     "data": {
      "text/html": [
       "22.75"
      ],
      "text/latex": [
       "22.75"
      ],
      "text/markdown": [
       "22.75"
      ],
      "text/plain": [
       "[1] 22.75"
      ]
     },
     "metadata": {},
     "output_type": "display_data"
    }
   ],
   "source": [
    "median(Auto$mpg)"
   ]
  },
  {
   "cell_type": "code",
   "execution_count": 15,
   "id": "b038e25f",
   "metadata": {},
   "outputs": [],
   "source": [
    "Auto <- Auto %>% \n",
    "mutate(mpg01 = ifelse(Auto$mpg >= median(Auto$mpg), 1,0))"
   ]
  },
  {
   "cell_type": "code",
   "execution_count": 16,
   "id": "81145234",
   "metadata": {},
   "outputs": [
    {
     "data": {
      "text/html": [
       "<table class=\"dataframe\">\n",
       "<caption>A data.frame: 6 × 10</caption>\n",
       "<thead>\n",
       "\t<tr><th></th><th scope=col>mpg</th><th scope=col>cylinders</th><th scope=col>displacement</th><th scope=col>horsepower</th><th scope=col>weight</th><th scope=col>acceleration</th><th scope=col>year</th><th scope=col>origin</th><th scope=col>name</th><th scope=col>mpg01</th></tr>\n",
       "\t<tr><th></th><th scope=col>&lt;dbl&gt;</th><th scope=col>&lt;dbl&gt;</th><th scope=col>&lt;dbl&gt;</th><th scope=col>&lt;dbl&gt;</th><th scope=col>&lt;dbl&gt;</th><th scope=col>&lt;dbl&gt;</th><th scope=col>&lt;dbl&gt;</th><th scope=col>&lt;dbl&gt;</th><th scope=col>&lt;fct&gt;</th><th scope=col>&lt;dbl&gt;</th></tr>\n",
       "</thead>\n",
       "<tbody>\n",
       "\t<tr><th scope=row>1</th><td>18</td><td>8</td><td>307</td><td>130</td><td>3504</td><td>12.0</td><td>70</td><td>1</td><td>chevrolet chevelle malibu</td><td>0</td></tr>\n",
       "\t<tr><th scope=row>2</th><td>15</td><td>8</td><td>350</td><td>165</td><td>3693</td><td>11.5</td><td>70</td><td>1</td><td>buick skylark 320        </td><td>0</td></tr>\n",
       "\t<tr><th scope=row>3</th><td>18</td><td>8</td><td>318</td><td>150</td><td>3436</td><td>11.0</td><td>70</td><td>1</td><td>plymouth satellite       </td><td>0</td></tr>\n",
       "\t<tr><th scope=row>4</th><td>16</td><td>8</td><td>304</td><td>150</td><td>3433</td><td>12.0</td><td>70</td><td>1</td><td>amc rebel sst            </td><td>0</td></tr>\n",
       "\t<tr><th scope=row>5</th><td>17</td><td>8</td><td>302</td><td>140</td><td>3449</td><td>10.5</td><td>70</td><td>1</td><td>ford torino              </td><td>0</td></tr>\n",
       "\t<tr><th scope=row>6</th><td>15</td><td>8</td><td>429</td><td>198</td><td>4341</td><td>10.0</td><td>70</td><td>1</td><td>ford galaxie 500         </td><td>0</td></tr>\n",
       "</tbody>\n",
       "</table>\n"
      ],
      "text/latex": [
       "A data.frame: 6 × 10\n",
       "\\begin{tabular}{r|llllllllll}\n",
       "  & mpg & cylinders & displacement & horsepower & weight & acceleration & year & origin & name & mpg01\\\\\n",
       "  & <dbl> & <dbl> & <dbl> & <dbl> & <dbl> & <dbl> & <dbl> & <dbl> & <fct> & <dbl>\\\\\n",
       "\\hline\n",
       "\t1 & 18 & 8 & 307 & 130 & 3504 & 12.0 & 70 & 1 & chevrolet chevelle malibu & 0\\\\\n",
       "\t2 & 15 & 8 & 350 & 165 & 3693 & 11.5 & 70 & 1 & buick skylark 320         & 0\\\\\n",
       "\t3 & 18 & 8 & 318 & 150 & 3436 & 11.0 & 70 & 1 & plymouth satellite        & 0\\\\\n",
       "\t4 & 16 & 8 & 304 & 150 & 3433 & 12.0 & 70 & 1 & amc rebel sst             & 0\\\\\n",
       "\t5 & 17 & 8 & 302 & 140 & 3449 & 10.5 & 70 & 1 & ford torino               & 0\\\\\n",
       "\t6 & 15 & 8 & 429 & 198 & 4341 & 10.0 & 70 & 1 & ford galaxie 500          & 0\\\\\n",
       "\\end{tabular}\n"
      ],
      "text/markdown": [
       "\n",
       "A data.frame: 6 × 10\n",
       "\n",
       "| <!--/--> | mpg &lt;dbl&gt; | cylinders &lt;dbl&gt; | displacement &lt;dbl&gt; | horsepower &lt;dbl&gt; | weight &lt;dbl&gt; | acceleration &lt;dbl&gt; | year &lt;dbl&gt; | origin &lt;dbl&gt; | name &lt;fct&gt; | mpg01 &lt;dbl&gt; |\n",
       "|---|---|---|---|---|---|---|---|---|---|---|\n",
       "| 1 | 18 | 8 | 307 | 130 | 3504 | 12.0 | 70 | 1 | chevrolet chevelle malibu | 0 |\n",
       "| 2 | 15 | 8 | 350 | 165 | 3693 | 11.5 | 70 | 1 | buick skylark 320         | 0 |\n",
       "| 3 | 18 | 8 | 318 | 150 | 3436 | 11.0 | 70 | 1 | plymouth satellite        | 0 |\n",
       "| 4 | 16 | 8 | 304 | 150 | 3433 | 12.0 | 70 | 1 | amc rebel sst             | 0 |\n",
       "| 5 | 17 | 8 | 302 | 140 | 3449 | 10.5 | 70 | 1 | ford torino               | 0 |\n",
       "| 6 | 15 | 8 | 429 | 198 | 4341 | 10.0 | 70 | 1 | ford galaxie 500          | 0 |\n",
       "\n"
      ],
      "text/plain": [
       "  mpg cylinders displacement horsepower weight acceleration year origin\n",
       "1 18  8         307          130        3504   12.0         70   1     \n",
       "2 15  8         350          165        3693   11.5         70   1     \n",
       "3 18  8         318          150        3436   11.0         70   1     \n",
       "4 16  8         304          150        3433   12.0         70   1     \n",
       "5 17  8         302          140        3449   10.5         70   1     \n",
       "6 15  8         429          198        4341   10.0         70   1     \n",
       "  name                      mpg01\n",
       "1 chevrolet chevelle malibu 0    \n",
       "2 buick skylark 320         0    \n",
       "3 plymouth satellite        0    \n",
       "4 amc rebel sst             0    \n",
       "5 ford torino               0    \n",
       "6 ford galaxie 500          0    "
      ]
     },
     "metadata": {},
     "output_type": "display_data"
    }
   ],
   "source": [
    "head(Auto)"
   ]
  },
  {
   "cell_type": "code",
   "execution_count": 17,
   "id": "9d6a29ea",
   "metadata": {},
   "outputs": [
    {
     "data": {
      "text/plain": [
       "\n",
       "  0   1 \n",
       "196 196 "
      ]
     },
     "metadata": {},
     "output_type": "display_data"
    }
   ],
   "source": [
    "table(Auto$mpg01)"
   ]
  },
  {
   "cell_type": "code",
   "execution_count": 18,
   "id": "2f1b4981",
   "metadata": {},
   "outputs": [],
   "source": [
    "Auto$mpg01 <- factor(Auto$mpg01)"
   ]
  },
  {
   "cell_type": "code",
   "execution_count": 19,
   "id": "2c13e75b",
   "metadata": {},
   "outputs": [],
   "source": [
    "Auto$origin <- factor(Auto$origin)"
   ]
  },
  {
   "cell_type": "code",
   "execution_count": 20,
   "id": "43252a90",
   "metadata": {},
   "outputs": [
    {
     "data": {
      "text/html": [
       "<style>\n",
       ".list-inline {list-style: none; margin:0; padding: 0}\n",
       ".list-inline>li {display: inline-block}\n",
       ".list-inline>li:not(:last-child)::after {content: \"\\00b7\"; padding: 0 .5ex}\n",
       "</style>\n",
       "<ol class=list-inline><li>'mpg'</li><li>'cylinders'</li><li>'displacement'</li><li>'horsepower'</li><li>'weight'</li><li>'acceleration'</li><li>'year'</li><li>'origin'</li><li>'name'</li><li>'mpg01'</li></ol>\n"
      ],
      "text/latex": [
       "\\begin{enumerate*}\n",
       "\\item 'mpg'\n",
       "\\item 'cylinders'\n",
       "\\item 'displacement'\n",
       "\\item 'horsepower'\n",
       "\\item 'weight'\n",
       "\\item 'acceleration'\n",
       "\\item 'year'\n",
       "\\item 'origin'\n",
       "\\item 'name'\n",
       "\\item 'mpg01'\n",
       "\\end{enumerate*}\n"
      ],
      "text/markdown": [
       "1. 'mpg'\n",
       "2. 'cylinders'\n",
       "3. 'displacement'\n",
       "4. 'horsepower'\n",
       "5. 'weight'\n",
       "6. 'acceleration'\n",
       "7. 'year'\n",
       "8. 'origin'\n",
       "9. 'name'\n",
       "10. 'mpg01'\n",
       "\n",
       "\n"
      ],
      "text/plain": [
       " [1] \"mpg\"          \"cylinders\"    \"displacement\" \"horsepower\"   \"weight\"      \n",
       " [6] \"acceleration\" \"year\"         \"origin\"       \"name\"         \"mpg01\"       "
      ]
     },
     "metadata": {},
     "output_type": "display_data"
    }
   ],
   "source": [
    "colnames(Auto)"
   ]
  },
  {
   "cell_type": "markdown",
   "id": "709c5030",
   "metadata": {},
   "source": [
    "## b"
   ]
  },
  {
   "cell_type": "code",
   "execution_count": 21,
   "id": "4c909eca",
   "metadata": {},
   "outputs": [
    {
     "data": {
      "image/png": "[encoded data removed]",
      "text/plain": [
       "plot without title"
      ]
     },
     "metadata": {
      "image/png": {
       "height": 420,
       "width": 420
      }
     },
     "output_type": "display_data"
    },
    {
     "data": {
      "image/png": "[encoded data removed]",
      "text/plain": [
       "plot without title"
      ]
     },
     "metadata": {
      "image/png": {
       "height": 420,
       "width": 420
      }
     },
     "output_type": "display_data"
    },
    {
     "data": {
      "image/png": "[encoded data removed]",
      "text/plain": [
       "plot without title"
      ]
     },
     "metadata": {
      "image/png": {
       "height": 420,
       "width": 420
      }
     },
     "output_type": "display_data"
    },
    {
     "data": {
      "image/png": "[encoded data removed]",
      "text/plain": [
       "plot without title"
      ]
     },
     "metadata": {
      "image/png": {
       "height": 420,
       "width": 420
      }
     },
     "output_type": "display_data"
    },
    {
     "data": {
      "image/png": "[encoded data removed]",
      "text/plain": [
       "plot without title"
      ]
     },
     "metadata": {
      "image/png": {
       "height": 420,
       "width": 420
      }
     },
     "output_type": "display_data"
    },
    {
     "data": {
      "image/png": "[encoded data removed]",
      "text/plain": [
       "plot without title"
      ]
     },
     "metadata": {
      "image/png": {
       "height": 420,
       "width": 420
      }
     },
     "output_type": "display_data"
    },
    {
     "data": {
      "image/png": "[encoded data removed]",
      "text/plain": [
       "plot without title"
      ]
     },
     "metadata": {
      "image/png": {
       "height": 420,
       "width": 420
      }
     },
     "output_type": "display_data"
    }
   ],
   "source": [
    "\n",
    "ggplot(Auto, aes(x= mpg01, y = cylinders, fill = mpg01))+\n",
    "geom_boxplot()\n",
    "\n",
    "\n",
    "ggplot(Auto, aes(x= mpg01, y = displacement, fill = mpg01))+\n",
    "geom_boxplot()\n",
    "\n",
    "\n",
    "ggplot(Auto, aes(x= mpg01, y = horsepower, fill = mpg01))+\n",
    "geom_boxplot()\n",
    "\n",
    "\n",
    "ggplot(Auto, aes(x= mpg01, y = weight, fill = mpg01))+\n",
    "geom_boxplot()\n",
    "\n",
    "\n",
    "ggplot(Auto, aes(x= mpg01, y = acceleration, fill = mpg01))+\n",
    "geom_boxplot()\n",
    "\n",
    "\n",
    "ggplot(Auto, aes(x= mpg01, y = year, fill = mpg01))+\n",
    "geom_boxplot()\n",
    "\n",
    "#ggplot(Auto, aes(x= mpg01, y = origin, fill = mpg01))+\n",
    "#geom_boxplot()\n",
    "\n",
    "ggplot(Auto, aes(x= origin, fill = mpg01))+\n",
    "geom_bar()\n",
    "\n",
    "\n",
    "\n"
   ]
  },
  {
   "cell_type": "markdown",
   "id": "9028d39f",
   "metadata": {},
   "source": [
    "### Looking at each graphs, I feel cylinders, displacement, horsepower and weight are strongest predictors for mpg01"
   ]
  },
  {
   "cell_type": "markdown",
   "id": "3588132c",
   "metadata": {},
   "source": [
    "## c"
   ]
  },
  {
   "cell_type": "code",
   "execution_count": 22,
   "id": "cf50659d",
   "metadata": {},
   "outputs": [
    {
     "data": {
      "text/html": [
       "236"
      ],
      "text/latex": [
       "236"
      ],
      "text/markdown": [
       "236"
      ],
      "text/plain": [
       "[1] 236"
      ]
     },
     "metadata": {},
     "output_type": "display_data"
    },
    {
     "data": {
      "text/html": [
       "156"
      ],
      "text/latex": [
       "156"
      ],
      "text/markdown": [
       "156"
      ],
      "text/plain": [
       "[1] 156"
      ]
     },
     "metadata": {},
     "output_type": "display_data"
    }
   ],
   "source": [
    "train_ind <- createDataPartition(Auto$mpg01,p=0.6,list=FALSE)\n",
    "\n",
    "train <- Auto[train_ind, ]\n",
    "test <- Auto[-train_ind, ]\n",
    "\n",
    "#train_ind\n",
    "\n",
    "nrow(train)\n",
    "nrow(test)"
   ]
  },
  {
   "cell_type": "markdown",
   "id": "bceccfb0",
   "metadata": {},
   "source": [
    "## d"
   ]
  },
  {
   "cell_type": "code",
   "execution_count": 23,
   "id": "4caae799",
   "metadata": {},
   "outputs": [
    {
     "data": {
      "text/plain": [
       "Call:\n",
       "lda(mpg01 ~ cylinders + displacement + horsepower + weight, data = Auto)\n",
       "\n",
       "Prior probabilities of groups:\n",
       "  0   1 \n",
       "0.5 0.5 \n",
       "\n",
       "Group means:\n",
       "  cylinders displacement horsepower   weight\n",
       "0  6.765306     273.1582  130.11224 3620.403\n",
       "1  4.178571     115.6658   78.82653 2334.765\n",
       "\n",
       "Coefficients of linear discriminants:\n",
       "                       LD1\n",
       "cylinders    -0.4708126926\n",
       "displacement -0.0014339977\n",
       "horsepower    0.0044241441\n",
       "weight       -0.0009846242"
      ]
     },
     "metadata": {},
     "output_type": "display_data"
    }
   ],
   "source": [
    "auto_lda <- lda(mpg01 ~ cylinders+displacement+horsepower+weight, data=Auto)\n",
    "\n",
    "auto_lda "
   ]
  },
  {
   "cell_type": "code",
   "execution_count": 24,
   "id": "7aa7d67b",
   "metadata": {},
   "outputs": [
    {
     "data": {
      "text/plain": [
       "Confusion Matrix and Statistics\n",
       "\n",
       "          Reference\n",
       "Prediction   0   1\n",
       "         0  99   9\n",
       "         1  19 109\n",
       "                                          \n",
       "               Accuracy : 0.8814          \n",
       "                 95% CI : (0.8331, 0.9197)\n",
       "    No Information Rate : 0.5             \n",
       "    P-Value [Acc > NIR] : < 2e-16         \n",
       "                                          \n",
       "                  Kappa : 0.7627          \n",
       "                                          \n",
       " Mcnemar's Test P-Value : 0.08897         \n",
       "                                          \n",
       "            Sensitivity : 0.8390          \n",
       "            Specificity : 0.9237          \n",
       "         Pos Pred Value : 0.9167          \n",
       "         Neg Pred Value : 0.8516          \n",
       "             Prevalence : 0.5000          \n",
       "         Detection Rate : 0.4195          \n",
       "   Detection Prevalence : 0.4576          \n",
       "      Balanced Accuracy : 0.8814          \n",
       "                                          \n",
       "       'Positive' Class : 0               \n",
       "                                          "
      ]
     },
     "metadata": {},
     "output_type": "display_data"
    }
   ],
   "source": [
    "lda_train <- predict(auto_lda, train)\n",
    "confusionMatrix(lda_train$class, train$mpg01)"
   ]
  },
  {
   "cell_type": "code",
   "execution_count": 25,
   "id": "fdec4a2a",
   "metadata": {},
   "outputs": [
    {
     "data": {
      "text/plain": [
       "Confusion Matrix and Statistics\n",
       "\n",
       "          Reference\n",
       "Prediction  0  1\n",
       "         0 68  3\n",
       "         1 10 75\n",
       "                                          \n",
       "               Accuracy : 0.9167          \n",
       "                 95% CI : (0.8617, 0.9549)\n",
       "    No Information Rate : 0.5             \n",
       "    P-Value [Acc > NIR] : < 2e-16         \n",
       "                                          \n",
       "                  Kappa : 0.8333          \n",
       "                                          \n",
       " Mcnemar's Test P-Value : 0.09609         \n",
       "                                          \n",
       "            Sensitivity : 0.8718          \n",
       "            Specificity : 0.9615          \n",
       "         Pos Pred Value : 0.9577          \n",
       "         Neg Pred Value : 0.8824          \n",
       "             Prevalence : 0.5000          \n",
       "         Detection Rate : 0.4359          \n",
       "   Detection Prevalence : 0.4551          \n",
       "      Balanced Accuracy : 0.9167          \n",
       "                                          \n",
       "       'Positive' Class : 0               \n",
       "                                          "
      ]
     },
     "metadata": {},
     "output_type": "display_data"
    }
   ],
   "source": [
    "lda_test <- predict(auto_lda, test)\n",
    "\n",
    "confusionMatrix(lda_test$class, test$mpg01)"
   ]
  },
  {
   "cell_type": "markdown",
   "id": "f4a96260",
   "metadata": {},
   "source": [
    "### by looking at the confusion matrix, there are 16 observations which are predicted falsely,\n",
    "### so the test error is 16/156 = 0.102"
   ]
  },
  {
   "cell_type": "markdown",
   "id": "72bd3708",
   "metadata": {},
   "source": [
    "## e"
   ]
  },
  {
   "cell_type": "code",
   "execution_count": 26,
   "id": "bc6b835f",
   "metadata": {},
   "outputs": [
    {
     "data": {
      "text/plain": [
       "Call:\n",
       "qda(mpg01 ~ cylinders + displacement + horsepower + weight, data = Auto)\n",
       "\n",
       "Prior probabilities of groups:\n",
       "  0   1 \n",
       "0.5 0.5 \n",
       "\n",
       "Group means:\n",
       "  cylinders displacement horsepower   weight\n",
       "0  6.765306     273.1582  130.11224 3620.403\n",
       "1  4.178571     115.6658   78.82653 2334.765"
      ]
     },
     "metadata": {},
     "output_type": "display_data"
    }
   ],
   "source": [
    "auto_qda <- qda(mpg01 ~ cylinders+displacement+horsepower+weight, data=Auto)\n",
    "\n",
    "auto_qda "
   ]
  },
  {
   "cell_type": "code",
   "execution_count": 27,
   "id": "9af9d125",
   "metadata": {},
   "outputs": [
    {
     "data": {
      "text/plain": [
       "Confusion Matrix and Statistics\n",
       "\n",
       "          Reference\n",
       "Prediction   0   1\n",
       "         0 104  15\n",
       "         1  14 103\n",
       "                                          \n",
       "               Accuracy : 0.8771          \n",
       "                 95% CI : (0.8283, 0.9161)\n",
       "    No Information Rate : 0.5             \n",
       "    P-Value [Acc > NIR] : <2e-16          \n",
       "                                          \n",
       "                  Kappa : 0.7542          \n",
       "                                          \n",
       " Mcnemar's Test P-Value : 1               \n",
       "                                          \n",
       "            Sensitivity : 0.8814          \n",
       "            Specificity : 0.8729          \n",
       "         Pos Pred Value : 0.8739          \n",
       "         Neg Pred Value : 0.8803          \n",
       "             Prevalence : 0.5000          \n",
       "         Detection Rate : 0.4407          \n",
       "   Detection Prevalence : 0.5042          \n",
       "      Balanced Accuracy : 0.8771          \n",
       "                                          \n",
       "       'Positive' Class : 0               \n",
       "                                          "
      ]
     },
     "metadata": {},
     "output_type": "display_data"
    }
   ],
   "source": [
    "qda_train <- predict(auto_qda, train)\n",
    "\n",
    "confusionMatrix(qda_train$class, train$mpg01)"
   ]
  },
  {
   "cell_type": "code",
   "execution_count": 28,
   "id": "51c145bf",
   "metadata": {},
   "outputs": [
    {
     "data": {
      "text/plain": [
       "Confusion Matrix and Statistics\n",
       "\n",
       "          Reference\n",
       "Prediction  0  1\n",
       "         0 69  4\n",
       "         1  9 74\n",
       "                                          \n",
       "               Accuracy : 0.9167          \n",
       "                 95% CI : (0.8617, 0.9549)\n",
       "    No Information Rate : 0.5             \n",
       "    P-Value [Acc > NIR] : <2e-16          \n",
       "                                          \n",
       "                  Kappa : 0.8333          \n",
       "                                          \n",
       " Mcnemar's Test P-Value : 0.2673          \n",
       "                                          \n",
       "            Sensitivity : 0.8846          \n",
       "            Specificity : 0.9487          \n",
       "         Pos Pred Value : 0.9452          \n",
       "         Neg Pred Value : 0.8916          \n",
       "             Prevalence : 0.5000          \n",
       "         Detection Rate : 0.4423          \n",
       "   Detection Prevalence : 0.4679          \n",
       "      Balanced Accuracy : 0.9167          \n",
       "                                          \n",
       "       'Positive' Class : 0               \n",
       "                                          "
      ]
     },
     "metadata": {},
     "output_type": "display_data"
    }
   ],
   "source": [
    "qda_test <- predict(auto_qda, test)\n",
    "\n",
    "confusionMatrix(qda_test$class, test$mpg01)"
   ]
  },
  {
   "cell_type": "markdown",
   "id": "1f5f8ab8",
   "metadata": {},
   "source": [
    "### by looking at the confusion matrix, there are 16 observations which are predicted falsely,\n",
    "### so the test error is 16/156 = 0.102"
   ]
  },
  {
   "cell_type": "markdown",
   "id": "e4c7b194",
   "metadata": {},
   "source": [
    "## f"
   ]
  },
  {
   "cell_type": "code",
   "execution_count": 29,
   "id": "b2329f34",
   "metadata": {},
   "outputs": [
    {
     "data": {
      "text/plain": [
       "\n",
       "Call:\n",
       "glm(formula = mpg01 ~ cylinders + displacement + horsepower + \n",
       "    weight, family = \"binomial\", data = train)\n",
       "\n",
       "Deviance Residuals: \n",
       "    Min       1Q   Median       3Q      Max  \n",
       "-2.4498  -0.2891   0.0524   0.3954   3.2919  \n",
       "\n",
       "Coefficients:\n",
       "               Estimate Std. Error z value Pr(>|z|)    \n",
       "(Intercept)  10.6333380  2.0205243   5.263 1.42e-07 ***\n",
       "cylinders     0.1361301  0.4527745   0.301   0.7637    \n",
       "displacement -0.0164796  0.0101176  -1.629   0.1034    \n",
       "horsepower   -0.0340747  0.0172017  -1.981   0.0476 *  \n",
       "weight       -0.0018228  0.0008044  -2.266   0.0234 *  \n",
       "---\n",
       "Signif. codes:  0 '***' 0.001 '**' 0.01 '*' 0.05 '.' 0.1 ' ' 1\n",
       "\n",
       "(Dispersion parameter for binomial family taken to be 1)\n",
       "\n",
       "    Null deviance: 327.17  on 235  degrees of freedom\n",
       "Residual deviance: 135.38  on 231  degrees of freedom\n",
       "AIC: 145.38\n",
       "\n",
       "Number of Fisher Scoring iterations: 7\n"
      ]
     },
     "metadata": {},
     "output_type": "display_data"
    },
    {
     "data": {
      "text/plain": [
       "Confusion Matrix and Statistics\n",
       "\n",
       "          Reference\n",
       "Prediction  0  1\n",
       "         0 70  5\n",
       "         1  8 73\n",
       "                                          \n",
       "               Accuracy : 0.9167          \n",
       "                 95% CI : (0.8617, 0.9549)\n",
       "    No Information Rate : 0.5             \n",
       "    P-Value [Acc > NIR] : <2e-16          \n",
       "                                          \n",
       "                  Kappa : 0.8333          \n",
       "                                          \n",
       " Mcnemar's Test P-Value : 0.5791          \n",
       "                                          \n",
       "            Sensitivity : 0.8974          \n",
       "            Specificity : 0.9359          \n",
       "         Pos Pred Value : 0.9333          \n",
       "         Neg Pred Value : 0.9012          \n",
       "             Prevalence : 0.5000          \n",
       "         Detection Rate : 0.4487          \n",
       "   Detection Prevalence : 0.4808          \n",
       "      Balanced Accuracy : 0.9167          \n",
       "                                          \n",
       "       'Positive' Class : 0               \n",
       "                                          "
      ]
     },
     "metadata": {},
     "output_type": "display_data"
    }
   ],
   "source": [
    "auto_glm <- glm(mpg01 ~ cylinders+displacement+horsepower+weight, data = train, family = 'binomial')\n",
    "summary(auto_glm)\n",
    "\n",
    "glm_pred <- factor(ifelse(predict(auto_glm, test)<0.5, 0, 1 ))\n",
    "#confusionMatrix(glm_pred, test$mpg01)\n",
    "\n",
    "confusionMatrix(glm_pred, test$mpg01)"
   ]
  },
  {
   "cell_type": "markdown",
   "id": "3b6c9d07",
   "metadata": {},
   "source": [
    "### by looking at the confusion matrix, there are 14 observations which are predicted falsely,\n",
    "### so the test error is 14/156 = 0.0897"
   ]
  },
  {
   "cell_type": "markdown",
   "id": "c1776789",
   "metadata": {},
   "source": [
    "### g"
   ]
  },
  {
   "cell_type": "code",
   "execution_count": 41,
   "id": "c47b3db2",
   "metadata": {},
   "outputs": [
    {
     "name": "stdout",
     "output_type": "stream",
     "text": [
      "[1] \"Confusion Matrix:\"\n"
     ]
    },
    {
     "data": {
      "text/plain": [
       "         \n",
       "knn_model  0  1\n",
       "        0 67  5\n",
       "        1 11 73"
      ]
     },
     "metadata": {},
     "output_type": "display_data"
    }
   ],
   "source": [
    "library(class)\n",
    "\n",
    "set.seed(123)\n",
    "knn_model <- knn(train = data.frame(train[,c('cylinders','displacement','horsepower','weight')]),\n",
    "                test = data.frame(test[, c('cylinders','displacement','horsepower','weight')]),\n",
    "                cl = train$mpg01,\n",
    "                k = 76)\n",
    "print('Confusion Matrix:')\n",
    "table(knn_model, test$mpg01)"
   ]
  },
  {
   "cell_type": "markdown",
   "id": "0d7d814a",
   "metadata": {},
   "source": [
    "### k = 76, test error = 16/156 = 0.096"
   ]
  }
 ],
 "metadata": {
  "kernelspec": {
   "display_name": "R",
   "language": "R",
   "name": "ir"
  },
  "language_info": {
   "codemirror_mode": "r",
   "file_extension": ".r",
   "mimetype": "text/x-r-source",
   "name": "R",
   "pygments_lexer": "r",
   "version": "4.0.5"
  }
 },
 "nbformat": 4,
 "nbformat_minor": 5
}
