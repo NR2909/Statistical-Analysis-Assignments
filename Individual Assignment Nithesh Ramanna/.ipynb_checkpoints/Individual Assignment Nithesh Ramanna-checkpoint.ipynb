{
 "cells": [
  {
   "cell_type": "code",
   "execution_count": 1,
   "id": "b7c1ec55",
   "metadata": {},
   "outputs": [
    {
     "name": "stderr",
     "output_type": "stream",
     "text": [
      "Loading required package: ParamHelpers\n",
      "\n",
      "Warning message: 'mlr' is in 'maintenance-only' mode since July 2019.\n",
      "Future development will only happen in 'mlr3'\n",
      "(<https://mlr3.mlr-org.com>). Due to the focus on 'mlr3' there might be\n",
      "uncaught bugs meanwhile in {mlr} - please consider switching.\n",
      "\n",
      "Loading required package: ggplot2\n",
      "\n",
      "Loading required package: lattice\n",
      "\n",
      "\n",
      "Attaching package: 'caret'\n",
      "\n",
      "\n",
      "The following object is masked from 'package:mlr':\n",
      "\n",
      "    train\n",
      "\n",
      "\n",
      "Type 'citation(\"pROC\")' for a citation.\n",
      "\n",
      "\n",
      "Attaching package: 'pROC'\n",
      "\n",
      "\n",
      "The following objects are masked from 'package:stats':\n",
      "\n",
      "    cov, smooth, var\n",
      "\n",
      "\n",
      "\n",
      "Attaching package: 'e1071'\n",
      "\n",
      "\n",
      "The following object is masked from 'package:mlr':\n",
      "\n",
      "    impute\n",
      "\n",
      "\n",
      "\n",
      "Attaching package: 'kknn'\n",
      "\n",
      "\n",
      "The following object is masked from 'package:caret':\n",
      "\n",
      "    contr.dummy\n",
      "\n",
      "\n",
      "dummies-1.5.6 provided by Decision Patterns\n",
      "\n",
      "\n",
      "\n",
      "Attaching package: 'dplyr'\n",
      "\n",
      "\n",
      "The following object is masked from 'package:gridExtra':\n",
      "\n",
      "    combine\n",
      "\n",
      "\n",
      "The following objects are masked from 'package:data.table':\n",
      "\n",
      "    between, first, last\n",
      "\n",
      "\n",
      "The following objects are masked from 'package:stats':\n",
      "\n",
      "    filter, lag\n",
      "\n",
      "\n",
      "The following objects are masked from 'package:base':\n",
      "\n",
      "    intersect, setdiff, setequal, union\n",
      "\n",
      "\n",
      "\n",
      "Attaching package: 'MASS'\n",
      "\n",
      "\n",
      "The following object is masked from 'package:dplyr':\n",
      "\n",
      "    select\n",
      "\n",
      "\n"
     ]
    },
    {
     "data": {
      "text/html": [
       "'R version 4.0.5 (2021-03-31)'"
      ],
      "text/latex": [
       "'R version 4.0.5 (2021-03-31)'"
      ],
      "text/markdown": [
       "'R version 4.0.5 (2021-03-31)'"
      ],
      "text/plain": [
       "[1] \"R version 4.0.5 (2021-03-31)\""
      ]
     },
     "metadata": {},
     "output_type": "display_data"
    }
   ],
   "source": [
    "# Set environment params\n",
    "Sys.setenv(LANG='en')  # English\n",
    "\n",
    "# Import libraries\n",
    "library(data.table)  # Data manipulate\n",
    "library(mlr)         # ML toolkit\n",
    "library(caret)       # ML toolkit\n",
    "library(ggplot2)     # Visualization\n",
    "library(pROC)        # AUC, ROC\n",
    "library(e1071)       # Evaluation\n",
    "library(gridExtra)   # Visualization\n",
    "library(kknn)        # kNN model\n",
    "library(nnet)        # One-vs-All Logistic Regression\n",
    "library(dummies)     # Data processing\n",
    "library(dplyr)\n",
    "# Import data\n",
    "library(ISLR)      # Data from the course book\n",
    "library(MASS)      # Boston housing dataset\n",
    "library(datasets)  # US crime dataset\n",
    "\n",
    "# Resize plot\n",
    "library(repr)  # String and binary representations\n",
    "#options(repr.plot.width=4, repr.plot.height=4)\n",
    "\n",
    "R.version.string"
   ]
  },
  {
   "cell_type": "code",
   "execution_count": 2,
   "id": "24ab2d2b",
   "metadata": {},
   "outputs": [],
   "source": [
    "# read the data into a dataframe\n",
    "data_df <- read.csv('./Dataset 1_Bank Marketing/bank_mkt_train.csv')"
   ]
  },
  {
   "cell_type": "code",
   "execution_count": 3,
   "id": "9655b12a",
   "metadata": {},
   "outputs": [
    {
     "data": {
      "text/plain": [
       "   client_id          age            job              marital         \n",
       " Min.   :    2   Min.   :17.00   Length:20000       Length:20000      \n",
       " 1st Qu.:10312   1st Qu.:32.00   Class :character   Class :character  \n",
       " Median :20762   Median :38.00   Mode  :character   Mode  :character  \n",
       " Mean   :20683   Mean   :40.05                                        \n",
       " 3rd Qu.:30993   3rd Qu.:47.00                                        \n",
       " Max.   :41188   Max.   :98.00                                        \n",
       "                 NA's   :202                                          \n",
       "  education           default            housing              loan          \n",
       " Length:20000       Length:20000       Length:20000       Length:20000      \n",
       " Class :character   Class :character   Class :character   Class :character  \n",
       " Mode  :character   Mode  :character   Mode  :character   Mode  :character  \n",
       "                                                                            \n",
       "                                                                            \n",
       "                                                                            \n",
       "                                                                            \n",
       "   contact             month           day_of_week           campaign    \n",
       " Length:20000       Length:20000       Length:20000       Min.   : 1.00  \n",
       " Class :character   Class :character   Class :character   1st Qu.: 1.00  \n",
       " Mode  :character   Mode  :character   Mode  :character   Median : 2.00  \n",
       "                                                          Mean   : 2.58  \n",
       "                                                          3rd Qu.: 3.00  \n",
       "                                                          Max.   :56.00  \n",
       "                                                          NA's   :203    \n",
       "     pdays          previous        poutcome          emp.var.rate     \n",
       " Min.   :  0.0   Min.   :0.0000   Length:20000       Min.   :-3.40000  \n",
       " 1st Qu.:999.0   1st Qu.:0.0000   Class :character   1st Qu.:-1.80000  \n",
       " Median :999.0   Median :0.0000   Mode  :character   Median : 1.10000  \n",
       " Mean   :961.4   Mean   :0.1717                      Mean   : 0.08844  \n",
       " 3rd Qu.:999.0   3rd Qu.:0.0000                      3rd Qu.: 1.40000  \n",
       " Max.   :999.0   Max.   :6.0000                      Max.   : 1.40000  \n",
       " NA's   :185     NA's   :209                         NA's   :165       \n",
       " cons.price.idx  cons.conf.idx      euribor3m      nr.employed  \n",
       " Min.   :92.20   Min.   :-50.80   Min.   :0.634   Min.   :4964  \n",
       " 1st Qu.:93.08   1st Qu.:-42.70   1st Qu.:1.344   1st Qu.:5099  \n",
       " Median :93.80   Median :-41.80   Median :4.857   Median :5191  \n",
       " Mean   :93.58   Mean   :-40.47   Mean   :3.633   Mean   :5167  \n",
       " 3rd Qu.:93.99   3rd Qu.:-36.40   3rd Qu.:4.961   3rd Qu.:5228  \n",
       " Max.   :94.77   Max.   :-26.90   Max.   :5.045   Max.   :5228  \n",
       " NA's   :181     NA's   :197      NA's   :204     NA's   :184   \n",
       "   subscribe     \n",
       " Min.   :0.0000  \n",
       " 1st Qu.:0.0000  \n",
       " Median :0.0000  \n",
       " Mean   :0.1135  \n",
       " 3rd Qu.:0.0000  \n",
       " Max.   :1.0000  \n",
       "                 "
      ]
     },
     "metadata": {},
     "output_type": "display_data"
    }
   ],
   "source": [
    "summary(data_df)"
   ]
  },
  {
   "cell_type": "code",
   "execution_count": 4,
   "id": "02b3fd85",
   "metadata": {},
   "outputs": [
    {
     "data": {
      "text/html": [
       "<table class=\"dataframe\">\n",
       "<caption>A data.frame: 6 × 21</caption>\n",
       "<thead>\n",
       "\t<tr><th></th><th scope=col>client_id</th><th scope=col>age</th><th scope=col>job</th><th scope=col>marital</th><th scope=col>education</th><th scope=col>default</th><th scope=col>housing</th><th scope=col>loan</th><th scope=col>contact</th><th scope=col>month</th><th scope=col>⋯</th><th scope=col>campaign</th><th scope=col>pdays</th><th scope=col>previous</th><th scope=col>poutcome</th><th scope=col>emp.var.rate</th><th scope=col>cons.price.idx</th><th scope=col>cons.conf.idx</th><th scope=col>euribor3m</th><th scope=col>nr.employed</th><th scope=col>subscribe</th></tr>\n",
       "\t<tr><th></th><th scope=col>&lt;int&gt;</th><th scope=col>&lt;int&gt;</th><th scope=col>&lt;chr&gt;</th><th scope=col>&lt;chr&gt;</th><th scope=col>&lt;chr&gt;</th><th scope=col>&lt;chr&gt;</th><th scope=col>&lt;chr&gt;</th><th scope=col>&lt;chr&gt;</th><th scope=col>&lt;chr&gt;</th><th scope=col>&lt;chr&gt;</th><th scope=col>⋯</th><th scope=col>&lt;int&gt;</th><th scope=col>&lt;int&gt;</th><th scope=col>&lt;int&gt;</th><th scope=col>&lt;chr&gt;</th><th scope=col>&lt;dbl&gt;</th><th scope=col>&lt;dbl&gt;</th><th scope=col>&lt;dbl&gt;</th><th scope=col>&lt;dbl&gt;</th><th scope=col>&lt;dbl&gt;</th><th scope=col>&lt;int&gt;</th></tr>\n",
       "</thead>\n",
       "<tbody>\n",
       "\t<tr><th scope=row>1</th><td>29925</td><td>42</td><td>management</td><td>married</td><td>basic.9y           </td><td>no     </td><td>no     </td><td>no     </td><td>cellular </td><td>jul</td><td>⋯</td><td>1</td><td>999</td><td>0</td><td>nonexistent</td><td> 1.4</td><td>93.918</td><td>-42.7</td><td>4.968</td><td>5228.1</td><td>0</td></tr>\n",
       "\t<tr><th scope=row>2</th><td>37529</td><td>35</td><td>unemployed</td><td>married</td><td>university.degree  </td><td>no     </td><td>yes    </td><td>no     </td><td>telephone</td><td>jun</td><td>⋯</td><td>4</td><td>999</td><td>0</td><td>nonexistent</td><td> 1.4</td><td>94.465</td><td>-41.8</td><td>4.960</td><td>5228.1</td><td>0</td></tr>\n",
       "\t<tr><th scope=row>3</th><td> 2757</td><td>44</td><td>technician</td><td>married</td><td>basic.9y           </td><td>no     </td><td>yes    </td><td>yes    </td><td>cellular </td><td>may</td><td>⋯</td><td>1</td><td>999</td><td>0</td><td>nonexistent</td><td>-1.8</td><td>92.893</td><td>-46.2</td><td>1.264</td><td>5099.1</td><td>0</td></tr>\n",
       "\t<tr><th scope=row>4</th><td> 9642</td><td>45</td><td>services  </td><td>married</td><td>high.school        </td><td>no     </td><td>yes    </td><td>no     </td><td>cellular </td><td>apr</td><td>⋯</td><td>1</td><td>999</td><td>0</td><td>nonexistent</td><td>-1.8</td><td>93.075</td><td>-47.1</td><td>1.453</td><td>5099.1</td><td>0</td></tr>\n",
       "\t<tr><th scope=row>5</th><td>14183</td><td>45</td><td>unknown   </td><td>married</td><td>unknown            </td><td>unknown</td><td>unknown</td><td>unknown</td><td>telephone</td><td>may</td><td>⋯</td><td>1</td><td>999</td><td>0</td><td>nonexistent</td><td> 1.1</td><td>93.994</td><td>-36.4</td><td>4.859</td><td>5191.0</td><td>0</td></tr>\n",
       "\t<tr><th scope=row>6</th><td>15180</td><td>38</td><td>technician</td><td>married</td><td>professional.course</td><td>no     </td><td>no     </td><td>no     </td><td>telephone</td><td>may</td><td>⋯</td><td>2</td><td>999</td><td>0</td><td>nonexistent</td><td> 1.1</td><td>93.994</td><td>-36.4</td><td>4.858</td><td>5191.0</td><td>0</td></tr>\n",
       "</tbody>\n",
       "</table>\n"
      ],
      "text/latex": [
       "A data.frame: 6 × 21\n",
       "\\begin{tabular}{r|lllllllllllllllllllll}\n",
       "  & client\\_id & age & job & marital & education & default & housing & loan & contact & month & ⋯ & campaign & pdays & previous & poutcome & emp.var.rate & cons.price.idx & cons.conf.idx & euribor3m & nr.employed & subscribe\\\\\n",
       "  & <int> & <int> & <chr> & <chr> & <chr> & <chr> & <chr> & <chr> & <chr> & <chr> & ⋯ & <int> & <int> & <int> & <chr> & <dbl> & <dbl> & <dbl> & <dbl> & <dbl> & <int>\\\\\n",
       "\\hline\n",
       "\t1 & 29925 & 42 & management & married & basic.9y            & no      & no      & no      & cellular  & jul & ⋯ & 1 & 999 & 0 & nonexistent &  1.4 & 93.918 & -42.7 & 4.968 & 5228.1 & 0\\\\\n",
       "\t2 & 37529 & 35 & unemployed & married & university.degree   & no      & yes     & no      & telephone & jun & ⋯ & 4 & 999 & 0 & nonexistent &  1.4 & 94.465 & -41.8 & 4.960 & 5228.1 & 0\\\\\n",
       "\t3 &  2757 & 44 & technician & married & basic.9y            & no      & yes     & yes     & cellular  & may & ⋯ & 1 & 999 & 0 & nonexistent & -1.8 & 92.893 & -46.2 & 1.264 & 5099.1 & 0\\\\\n",
       "\t4 &  9642 & 45 & services   & married & high.school         & no      & yes     & no      & cellular  & apr & ⋯ & 1 & 999 & 0 & nonexistent & -1.8 & 93.075 & -47.1 & 1.453 & 5099.1 & 0\\\\\n",
       "\t5 & 14183 & 45 & unknown    & married & unknown             & unknown & unknown & unknown & telephone & may & ⋯ & 1 & 999 & 0 & nonexistent &  1.1 & 93.994 & -36.4 & 4.859 & 5191.0 & 0\\\\\n",
       "\t6 & 15180 & 38 & technician & married & professional.course & no      & no      & no      & telephone & may & ⋯ & 2 & 999 & 0 & nonexistent &  1.1 & 93.994 & -36.4 & 4.858 & 5191.0 & 0\\\\\n",
       "\\end{tabular}\n"
      ],
      "text/markdown": [
       "\n",
       "A data.frame: 6 × 21\n",
       "\n",
       "| <!--/--> | client_id &lt;int&gt; | age &lt;int&gt; | job &lt;chr&gt; | marital &lt;chr&gt; | education &lt;chr&gt; | default &lt;chr&gt; | housing &lt;chr&gt; | loan &lt;chr&gt; | contact &lt;chr&gt; | month &lt;chr&gt; | ⋯ ⋯ | campaign &lt;int&gt; | pdays &lt;int&gt; | previous &lt;int&gt; | poutcome &lt;chr&gt; | emp.var.rate &lt;dbl&gt; | cons.price.idx &lt;dbl&gt; | cons.conf.idx &lt;dbl&gt; | euribor3m &lt;dbl&gt; | nr.employed &lt;dbl&gt; | subscribe &lt;int&gt; |\n",
       "|---|---|---|---|---|---|---|---|---|---|---|---|---|---|---|---|---|---|---|---|---|---|\n",
       "| 1 | 29925 | 42 | management | married | basic.9y            | no      | no      | no      | cellular  | jul | ⋯ | 1 | 999 | 0 | nonexistent |  1.4 | 93.918 | -42.7 | 4.968 | 5228.1 | 0 |\n",
       "| 2 | 37529 | 35 | unemployed | married | university.degree   | no      | yes     | no      | telephone | jun | ⋯ | 4 | 999 | 0 | nonexistent |  1.4 | 94.465 | -41.8 | 4.960 | 5228.1 | 0 |\n",
       "| 3 |  2757 | 44 | technician | married | basic.9y            | no      | yes     | yes     | cellular  | may | ⋯ | 1 | 999 | 0 | nonexistent | -1.8 | 92.893 | -46.2 | 1.264 | 5099.1 | 0 |\n",
       "| 4 |  9642 | 45 | services   | married | high.school         | no      | yes     | no      | cellular  | apr | ⋯ | 1 | 999 | 0 | nonexistent | -1.8 | 93.075 | -47.1 | 1.453 | 5099.1 | 0 |\n",
       "| 5 | 14183 | 45 | unknown    | married | unknown             | unknown | unknown | unknown | telephone | may | ⋯ | 1 | 999 | 0 | nonexistent |  1.1 | 93.994 | -36.4 | 4.859 | 5191.0 | 0 |\n",
       "| 6 | 15180 | 38 | technician | married | professional.course | no      | no      | no      | telephone | may | ⋯ | 2 | 999 | 0 | nonexistent |  1.1 | 93.994 | -36.4 | 4.858 | 5191.0 | 0 |\n",
       "\n"
      ],
      "text/plain": [
       "  client_id age job        marital education           default housing loan   \n",
       "1 29925     42  management married basic.9y            no      no      no     \n",
       "2 37529     35  unemployed married university.degree   no      yes     no     \n",
       "3  2757     44  technician married basic.9y            no      yes     yes    \n",
       "4  9642     45  services   married high.school         no      yes     no     \n",
       "5 14183     45  unknown    married unknown             unknown unknown unknown\n",
       "6 15180     38  technician married professional.course no      no      no     \n",
       "  contact   month <U+22EF>        campaign pdays previous poutcome    emp.var.rate\n",
       "1 cellular  jul   <U+22EF> 1        999   0        nonexistent  1.4        \n",
       "2 telephone jun   <U+22EF> 4        999   0        nonexistent  1.4        \n",
       "3 cellular  may   <U+22EF> 1        999   0        nonexistent -1.8        \n",
       "4 cellular  apr   <U+22EF> 1        999   0        nonexistent -1.8        \n",
       "5 telephone may   <U+22EF> 1        999   0        nonexistent  1.1        \n",
       "6 telephone may   <U+22EF> 2        999   0        nonexistent  1.1        \n",
       "  cons.price.idx cons.conf.idx euribor3m nr.employed subscribe\n",
       "1 93.918         -42.7         4.968     5228.1      0        \n",
       "2 94.465         -41.8         4.960     5228.1      0        \n",
       "3 92.893         -46.2         1.264     5099.1      0        \n",
       "4 93.075         -47.1         1.453     5099.1      0        \n",
       "5 93.994         -36.4         4.859     5191.0      0        \n",
       "6 93.994         -36.4         4.858     5191.0      0        "
      ]
     },
     "metadata": {},
     "output_type": "display_data"
    }
   ],
   "source": [
    "head(data_df)"
   ]
  },
  {
   "cell_type": "code",
   "execution_count": 5,
   "id": "e5da8778",
   "metadata": {},
   "outputs": [
    {
     "data": {
      "text/html": [
       "<style>\n",
       ".list-inline {list-style: none; margin:0; padding: 0}\n",
       ".list-inline>li {display: inline-block}\n",
       ".list-inline>li:not(:last-child)::after {content: \"\\00b7\"; padding: 0 .5ex}\n",
       "</style>\n",
       "<ol class=list-inline><li>'client_id'</li><li>'age'</li><li>'job'</li><li>'marital'</li><li>'education'</li><li>'default'</li><li>'housing'</li><li>'loan'</li><li>'contact'</li><li>'month'</li><li>'day_of_week'</li><li>'campaign'</li><li>'pdays'</li><li>'previous'</li><li>'poutcome'</li><li>'emp.var.rate'</li><li>'cons.price.idx'</li><li>'cons.conf.idx'</li><li>'euribor3m'</li><li>'nr.employed'</li><li>'subscribe'</li></ol>\n"
      ],
      "text/latex": [
       "\\begin{enumerate*}\n",
       "\\item 'client\\_id'\n",
       "\\item 'age'\n",
       "\\item 'job'\n",
       "\\item 'marital'\n",
       "\\item 'education'\n",
       "\\item 'default'\n",
       "\\item 'housing'\n",
       "\\item 'loan'\n",
       "\\item 'contact'\n",
       "\\item 'month'\n",
       "\\item 'day\\_of\\_week'\n",
       "\\item 'campaign'\n",
       "\\item 'pdays'\n",
       "\\item 'previous'\n",
       "\\item 'poutcome'\n",
       "\\item 'emp.var.rate'\n",
       "\\item 'cons.price.idx'\n",
       "\\item 'cons.conf.idx'\n",
       "\\item 'euribor3m'\n",
       "\\item 'nr.employed'\n",
       "\\item 'subscribe'\n",
       "\\end{enumerate*}\n"
      ],
      "text/markdown": [
       "1. 'client_id'\n",
       "2. 'age'\n",
       "3. 'job'\n",
       "4. 'marital'\n",
       "5. 'education'\n",
       "6. 'default'\n",
       "7. 'housing'\n",
       "8. 'loan'\n",
       "9. 'contact'\n",
       "10. 'month'\n",
       "11. 'day_of_week'\n",
       "12. 'campaign'\n",
       "13. 'pdays'\n",
       "14. 'previous'\n",
       "15. 'poutcome'\n",
       "16. 'emp.var.rate'\n",
       "17. 'cons.price.idx'\n",
       "18. 'cons.conf.idx'\n",
       "19. 'euribor3m'\n",
       "20. 'nr.employed'\n",
       "21. 'subscribe'\n",
       "\n",
       "\n"
      ],
      "text/plain": [
       " [1] \"client_id\"      \"age\"            \"job\"            \"marital\"       \n",
       " [5] \"education\"      \"default\"        \"housing\"        \"loan\"          \n",
       " [9] \"contact\"        \"month\"          \"day_of_week\"    \"campaign\"      \n",
       "[13] \"pdays\"          \"previous\"       \"poutcome\"       \"emp.var.rate\"  \n",
       "[17] \"cons.price.idx\" \"cons.conf.idx\"  \"euribor3m\"      \"nr.employed\"   \n",
       "[21] \"subscribe\"     "
      ]
     },
     "metadata": {},
     "output_type": "display_data"
    }
   ],
   "source": [
    "names(data_df)"
   ]
  },
  {
   "cell_type": "code",
   "execution_count": 6,
   "id": "577465ff",
   "metadata": {},
   "outputs": [
    {
     "data": {
      "text/html": [
       "20000"
      ],
      "text/latex": [
       "20000"
      ],
      "text/markdown": [
       "20000"
      ],
      "text/plain": [
       "[1] 20000"
      ]
     },
     "metadata": {},
     "output_type": "display_data"
    }
   ],
   "source": [
    "nrow(data_df)"
   ]
  },
  {
   "cell_type": "code",
   "execution_count": 7,
   "id": "2a308977",
   "metadata": {},
   "outputs": [
    {
     "data": {
      "text/html": [
       "2271"
      ],
      "text/latex": [
       "2271"
      ],
      "text/markdown": [
       "2271"
      ],
      "text/plain": [
       "[1] 2271"
      ]
     },
     "metadata": {},
     "output_type": "display_data"
    }
   ],
   "source": [
    "length(data_df['subscribe'][data_df['subscribe'] == 1])"
   ]
  },
  {
   "cell_type": "code",
   "execution_count": 8,
   "id": "7caf4da2",
   "metadata": {},
   "outputs": [
    {
     "name": "stdout",
     "output_type": "stream",
     "text": [
      "'data.frame':\t20000 obs. of  21 variables:\n",
      " $ client_id     : int  29925 37529 2757 9642 14183 15180 27168 9097 30538 28981 ...\n",
      " $ age           : int  42 35 44 45 45 38 33 38 29 34 ...\n",
      " $ job           : chr  \"management\" \"unemployed\" \"technician\" \"services\" ...\n",
      " $ marital       : chr  \"married\" \"married\" \"married\" \"married\" ...\n",
      " $ education     : chr  \"basic.9y\" \"university.degree\" \"basic.9y\" \"high.school\" ...\n",
      " $ default       : chr  \"no\" \"no\" \"no\" \"no\" ...\n",
      " $ housing       : chr  \"no\" \"yes\" \"yes\" \"yes\" ...\n",
      " $ loan          : chr  \"no\" \"no\" \"yes\" \"no\" ...\n",
      " $ contact       : chr  \"cellular\" \"telephone\" \"cellular\" \"cellular\" ...\n",
      " $ month         : chr  \"jul\" \"jun\" \"may\" \"apr\" ...\n",
      " $ day_of_week   : chr  \"thu\" \"mon\" \"mon\" \"tue\" ...\n",
      " $ campaign      : int  1 4 1 1 1 2 1 1 1 1 ...\n",
      " $ pdays         : int  999 999 999 999 999 999 NA 999 999 999 ...\n",
      " $ previous      : int  0 0 0 0 0 0 1 0 1 0 ...\n",
      " $ poutcome      : chr  \"nonexistent\" \"nonexistent\" \"nonexistent\" \"nonexistent\" ...\n",
      " $ emp.var.rate  : num  1.4 1.4 -1.8 -1.8 1.1 1.1 -1.8 1.1 -1.8 1.4 ...\n",
      " $ cons.price.idx: num  93.9 94.5 92.9 93.1 94 ...\n",
      " $ cons.conf.idx : num  -42.7 -41.8 -46.2 -47.1 -36.4 -36.4 -47.1 -36.4 -46.2 -36.1 ...\n",
      " $ euribor3m     : num  4.97 4.96 1.26 1.45 4.86 ...\n",
      " $ nr.employed   : num  5228 5228 5099 5099 5191 ...\n",
      " $ subscribe     : int  0 0 0 0 0 0 1 0 0 0 ...\n"
     ]
    }
   ],
   "source": [
    "str(data_df)"
   ]
  },
  {
   "cell_type": "markdown",
   "id": "b1aaead4",
   "metadata": {},
   "source": [
    "# Data Description\n",
    "Bank client data:\n",
    "- client_id (numeric) - age (numeric)\n",
    "- job : type of job (categorical: 'admin.','blue-collar','entrepreneur','housemaid','management','retired','self-employed','services','student','technician','unemployed','unknown')\n",
    "- marital : marital status (categorical: 'divorced','married','single','unknown'; note: 'divorced' means divorced or widowed)\n",
    "- education (categorical: 'basic.4y','basic.6y','basic.9y','high.school','illiterate','professional.course','university.degree','unknown')\n",
    "- default: has credit in default? (categorical: 'no','yes','unknown')\n",
    "- housing: has housing loan? (categorical: 'no','yes','unknown')\n",
    "- loan: has personal loan? (categorical: 'no','yes','unknown')\n",
    "Related with the last contact of the current campaign:\n",
    "- contact: contact communication type (categorical: 'cellular','telephone')\n",
    "- month: last contact month of year (categorical: 'jan', 'feb', 'mar', ..., 'nov', 'dec')\n",
    "- day_of_week: last contact day of the week (categorical: 'mon','tue','wed','thu','fri')\n",
    "Other attributes:\n",
    "- campaign: number of contacts performed during this campaign and for this client (numeric, includes last contact)\n",
    "- pdays: number of days that passed by after the client was last contacted from a previous campaign (numeric; 999 means client was not previously contacted)\n",
    "- previous: number of contacts performed before this campaign and for this client (numeric)\n",
    "- poutcome: outcome of the previous marketing campaign (categorical: 'failure','nonexistent','success')\n",
    "Social and economic context attributes:\n",
    "- emp.var.rate: employment variation rate - quarterly indicator (numeric)\n",
    "- cons.price.idx: consumer price index - monthly indicator (numeric)\n",
    "- cons.conf.idx: consumer confidence index - monthly indicator (numeric)\n",
    "- euribor3m: euribor 3 month rate - daily indicator (numeric)\n",
    "- nr.employed: number of employees - quarterly indicator (numeric)\n",
    "Target variable\n",
    "subscribe: did the customer subscribe? (binary: 1='yes', 0='no')\n"
   ]
  },
  {
   "cell_type": "markdown",
   "id": "9ca96092",
   "metadata": {},
   "source": [
    "# Preprocessing NA's in the dataframe"
   ]
  },
  {
   "cell_type": "code",
   "execution_count": 9,
   "id": "3721eaa1",
   "metadata": {},
   "outputs": [
    {
     "data": {
      "text/html": [
       "<style>\n",
       ".dl-inline {width: auto; margin:0; padding: 0}\n",
       ".dl-inline>dt, .dl-inline>dd {float: none; width: auto; display: inline-block}\n",
       ".dl-inline>dt::after {content: \":\\0020\"; padding-right: .5ex}\n",
       ".dl-inline>dt:not(:first-of-type) {padding-left: .5ex}\n",
       "</style><dl class=dl-inline><dt>client_id</dt><dd>0</dd><dt>age</dt><dd>202</dd><dt>job</dt><dd>161</dd><dt>marital</dt><dd>199</dd><dt>education</dt><dd>170</dd><dt>default</dt><dd>214</dd><dt>housing</dt><dd>195</dd><dt>loan</dt><dd>219</dd><dt>contact</dt><dd>217</dd><dt>month</dt><dd>199</dd><dt>day_of_week</dt><dd>185</dd><dt>campaign</dt><dd>203</dd><dt>pdays</dt><dd>185</dd><dt>previous</dt><dd>209</dd><dt>poutcome</dt><dd>175</dd><dt>emp.var.rate</dt><dd>165</dd><dt>cons.price.idx</dt><dd>181</dd><dt>cons.conf.idx</dt><dd>197</dd><dt>euribor3m</dt><dd>204</dd><dt>nr.employed</dt><dd>184</dd><dt>subscribe</dt><dd>0</dd></dl>\n"
      ],
      "text/latex": [
       "\\begin{description*}\n",
       "\\item[client\\textbackslash{}\\_id] 0\n",
       "\\item[age] 202\n",
       "\\item[job] 161\n",
       "\\item[marital] 199\n",
       "\\item[education] 170\n",
       "\\item[default] 214\n",
       "\\item[housing] 195\n",
       "\\item[loan] 219\n",
       "\\item[contact] 217\n",
       "\\item[month] 199\n",
       "\\item[day\\textbackslash{}\\_of\\textbackslash{}\\_week] 185\n",
       "\\item[campaign] 203\n",
       "\\item[pdays] 185\n",
       "\\item[previous] 209\n",
       "\\item[poutcome] 175\n",
       "\\item[emp.var.rate] 165\n",
       "\\item[cons.price.idx] 181\n",
       "\\item[cons.conf.idx] 197\n",
       "\\item[euribor3m] 204\n",
       "\\item[nr.employed] 184\n",
       "\\item[subscribe] 0\n",
       "\\end{description*}\n"
      ],
      "text/markdown": [
       "client_id\n",
       ":   0age\n",
       ":   202job\n",
       ":   161marital\n",
       ":   199education\n",
       ":   170default\n",
       ":   214housing\n",
       ":   195loan\n",
       ":   219contact\n",
       ":   217month\n",
       ":   199day_of_week\n",
       ":   185campaign\n",
       ":   203pdays\n",
       ":   185previous\n",
       ":   209poutcome\n",
       ":   175emp.var.rate\n",
       ":   165cons.price.idx\n",
       ":   181cons.conf.idx\n",
       ":   197euribor3m\n",
       ":   204nr.employed\n",
       ":   184subscribe\n",
       ":   0\n",
       "\n"
      ],
      "text/plain": [
       "     client_id            age            job        marital      education \n",
       "             0            202            161            199            170 \n",
       "       default        housing           loan        contact          month \n",
       "           214            195            219            217            199 \n",
       "   day_of_week       campaign          pdays       previous       poutcome \n",
       "           185            203            185            209            175 \n",
       "  emp.var.rate cons.price.idx  cons.conf.idx      euribor3m    nr.employed \n",
       "           165            181            197            204            184 \n",
       "     subscribe \n",
       "             0 "
      ]
     },
     "metadata": {},
     "output_type": "display_data"
    }
   ],
   "source": [
    "# Finding number of NA's in each column\n",
    "sapply(data_df, function(x) sum(is.na(x)))"
   ]
  },
  {
   "cell_type": "code",
   "execution_count": 10,
   "id": "ad982e79",
   "metadata": {},
   "outputs": [
    {
     "name": "stdout",
     "output_type": "stream",
     "text": [
      "'data.frame':\t20000 obs. of  21 variables:\n",
      " $ client_id     : int  29925 37529 2757 9642 14183 15180 27168 9097 30538 28981 ...\n",
      " $ age           : int  42 35 44 45 45 38 33 38 29 34 ...\n",
      " $ job           : chr  \"management\" \"unemployed\" \"technician\" \"services\" ...\n",
      " $ marital       : chr  \"married\" \"married\" \"married\" \"married\" ...\n",
      " $ education     : chr  \"basic.9y\" \"university.degree\" \"basic.9y\" \"high.school\" ...\n",
      " $ default       : chr  \"no\" \"no\" \"no\" \"no\" ...\n",
      " $ housing       : chr  \"no\" \"yes\" \"yes\" \"yes\" ...\n",
      " $ loan          : chr  \"no\" \"no\" \"yes\" \"no\" ...\n",
      " $ contact       : chr  \"cellular\" \"telephone\" \"cellular\" \"cellular\" ...\n",
      " $ month         : chr  \"jul\" \"jun\" \"may\" \"apr\" ...\n",
      " $ day_of_week   : chr  \"thu\" \"mon\" \"mon\" \"tue\" ...\n",
      " $ campaign      : int  1 4 1 1 1 2 1 1 1 1 ...\n",
      " $ pdays         : int  999 999 999 999 999 999 NA 999 999 999 ...\n",
      " $ previous      : int  0 0 0 0 0 0 1 0 1 0 ...\n",
      " $ poutcome      : chr  \"nonexistent\" \"nonexistent\" \"nonexistent\" \"nonexistent\" ...\n",
      " $ emp.var.rate  : num  1.4 1.4 -1.8 -1.8 1.1 1.1 -1.8 1.1 -1.8 1.4 ...\n",
      " $ cons.price.idx: num  93.9 94.5 92.9 93.1 94 ...\n",
      " $ cons.conf.idx : num  -42.7 -41.8 -46.2 -47.1 -36.4 -36.4 -47.1 -36.4 -46.2 -36.1 ...\n",
      " $ euribor3m     : num  4.97 4.96 1.26 1.45 4.86 ...\n",
      " $ nr.employed   : num  5228 5228 5099 5099 5191 ...\n",
      " $ subscribe     : int  0 0 0 0 0 0 1 0 0 0 ...\n"
     ]
    }
   ],
   "source": [
    "str(data_df)"
   ]
  },
  {
   "cell_type": "code",
   "execution_count": 11,
   "id": "f700f6ec",
   "metadata": {},
   "outputs": [],
   "source": [
    "# filling NA's in numerical columns by taking the mean of the column values\n",
    "data_df$age[is.na(data_df$age)] <- mean(data_df$age, na.rm = TRUE)\n",
    "data_df$pdays[is.na(data_df$pdays)] <- mean(data_df$pdays, na.rm = TRUE)\n",
    "data_df$previous[is.na(data_df$previous)] <- mean(data_df$previous, na.rm = TRUE)\n",
    "data_df$emp.var.rate[is.na(data_df$emp.var.rate)] <- mean(data_df$emp.var.rate, na.rm = TRUE)\n",
    "data_df$cons.price.idx[is.na(data_df$cons.price.idx)] <- mean(data_df$cons.price.idx, na.rm = TRUE)\n",
    "data_df$cons.conf.idx[is.na(data_df$cons.conf.idx)] <- mean(data_df$cons.conf.idx, na.rm = TRUE)\n",
    "data_df$euribor3m[is.na(data_df$euribor3m)] <- mean(data_df$euribor3m, na.rm = TRUE)\n",
    "data_df$nr.employed[is.na(data_df$nr.employed)] <- mean(data_df$nr.employed, na.rm = TRUE)"
   ]
  },
  {
   "cell_type": "code",
   "execution_count": 12,
   "id": "f04c6190",
   "metadata": {},
   "outputs": [
    {
     "data": {
      "text/html": [
       "<table class=\"dataframe\">\n",
       "<caption>A data.frame: 13 × 2</caption>\n",
       "<thead>\n",
       "\t<tr><th scope=col>job</th><th scope=col>n</th></tr>\n",
       "\t<tr><th scope=col>&lt;chr&gt;</th><th scope=col>&lt;int&gt;</th></tr>\n",
       "</thead>\n",
       "<tbody>\n",
       "\t<tr><td>admin.       </td><td>4976</td></tr>\n",
       "\t<tr><td>blue-collar  </td><td>4486</td></tr>\n",
       "\t<tr><td>technician   </td><td>3278</td></tr>\n",
       "\t<tr><td>services     </td><td>1913</td></tr>\n",
       "\t<tr><td>management   </td><td>1420</td></tr>\n",
       "\t<tr><td>retired      </td><td> 829</td></tr>\n",
       "\t<tr><td>entrepreneur </td><td> 716</td></tr>\n",
       "\t<tr><td>self-employed</td><td> 694</td></tr>\n",
       "\t<tr><td>housemaid    </td><td> 524</td></tr>\n",
       "\t<tr><td>unemployed   </td><td> 467</td></tr>\n",
       "\t<tr><td>student      </td><td> 392</td></tr>\n",
       "\t<tr><td>NA           </td><td> 161</td></tr>\n",
       "\t<tr><td>unknown      </td><td> 144</td></tr>\n",
       "</tbody>\n",
       "</table>\n"
      ],
      "text/latex": [
       "A data.frame: 13 × 2\n",
       "\\begin{tabular}{ll}\n",
       " job & n\\\\\n",
       " <chr> & <int>\\\\\n",
       "\\hline\n",
       "\t admin.        & 4976\\\\\n",
       "\t blue-collar   & 4486\\\\\n",
       "\t technician    & 3278\\\\\n",
       "\t services      & 1913\\\\\n",
       "\t management    & 1420\\\\\n",
       "\t retired       &  829\\\\\n",
       "\t entrepreneur  &  716\\\\\n",
       "\t self-employed &  694\\\\\n",
       "\t housemaid     &  524\\\\\n",
       "\t unemployed    &  467\\\\\n",
       "\t student       &  392\\\\\n",
       "\t NA            &  161\\\\\n",
       "\t unknown       &  144\\\\\n",
       "\\end{tabular}\n"
      ],
      "text/markdown": [
       "\n",
       "A data.frame: 13 × 2\n",
       "\n",
       "| job &lt;chr&gt; | n &lt;int&gt; |\n",
       "|---|---|\n",
       "| admin.        | 4976 |\n",
       "| blue-collar   | 4486 |\n",
       "| technician    | 3278 |\n",
       "| services      | 1913 |\n",
       "| management    | 1420 |\n",
       "| retired       |  829 |\n",
       "| entrepreneur  |  716 |\n",
       "| self-employed |  694 |\n",
       "| housemaid     |  524 |\n",
       "| unemployed    |  467 |\n",
       "| student       |  392 |\n",
       "| NA            |  161 |\n",
       "| unknown       |  144 |\n",
       "\n"
      ],
      "text/plain": [
       "   job           n   \n",
       "1  admin.        4976\n",
       "2  blue-collar   4486\n",
       "3  technician    3278\n",
       "4  services      1913\n",
       "5  management    1420\n",
       "6  retired        829\n",
       "7  entrepreneur   716\n",
       "8  self-employed  694\n",
       "9  housemaid      524\n",
       "10 unemployed     467\n",
       "11 student        392\n",
       "12 NA             161\n",
       "13 unknown        144"
      ]
     },
     "metadata": {},
     "output_type": "display_data"
    },
    {
     "data": {
      "text/html": [
       "<table class=\"dataframe\">\n",
       "<caption>A data.frame: 5 × 2</caption>\n",
       "<thead>\n",
       "\t<tr><th scope=col>marital</th><th scope=col>n</th></tr>\n",
       "\t<tr><th scope=col>&lt;chr&gt;</th><th scope=col>&lt;int&gt;</th></tr>\n",
       "</thead>\n",
       "<tbody>\n",
       "\t<tr><td>married </td><td>11925</td></tr>\n",
       "\t<tr><td>single  </td><td> 5576</td></tr>\n",
       "\t<tr><td>divorced</td><td> 2261</td></tr>\n",
       "\t<tr><td>NA      </td><td>  199</td></tr>\n",
       "\t<tr><td>unknown </td><td>   39</td></tr>\n",
       "</tbody>\n",
       "</table>\n"
      ],
      "text/latex": [
       "A data.frame: 5 × 2\n",
       "\\begin{tabular}{ll}\n",
       " marital & n\\\\\n",
       " <chr> & <int>\\\\\n",
       "\\hline\n",
       "\t married  & 11925\\\\\n",
       "\t single   &  5576\\\\\n",
       "\t divorced &  2261\\\\\n",
       "\t NA       &   199\\\\\n",
       "\t unknown  &    39\\\\\n",
       "\\end{tabular}\n"
      ],
      "text/markdown": [
       "\n",
       "A data.frame: 5 × 2\n",
       "\n",
       "| marital &lt;chr&gt; | n &lt;int&gt; |\n",
       "|---|---|\n",
       "| married  | 11925 |\n",
       "| single   |  5576 |\n",
       "| divorced |  2261 |\n",
       "| NA       |   199 |\n",
       "| unknown  |    39 |\n",
       "\n"
      ],
      "text/plain": [
       "  marital  n    \n",
       "1 married  11925\n",
       "2 single    5576\n",
       "3 divorced  2261\n",
       "4 NA         199\n",
       "5 unknown     39"
      ]
     },
     "metadata": {},
     "output_type": "display_data"
    },
    {
     "data": {
      "text/html": [
       "<table class=\"dataframe\">\n",
       "<caption>A data.frame: 9 × 2</caption>\n",
       "<thead>\n",
       "\t<tr><th scope=col>education</th><th scope=col>n</th></tr>\n",
       "\t<tr><th scope=col>&lt;chr&gt;</th><th scope=col>&lt;int&gt;</th></tr>\n",
       "</thead>\n",
       "<tbody>\n",
       "\t<tr><td>university.degree  </td><td>5916</td></tr>\n",
       "\t<tr><td>high.school        </td><td>4526</td></tr>\n",
       "\t<tr><td>basic.9y           </td><td>2942</td></tr>\n",
       "\t<tr><td>professional.course</td><td>2520</td></tr>\n",
       "\t<tr><td>basic.4y           </td><td>2039</td></tr>\n",
       "\t<tr><td>basic.6y           </td><td>1100</td></tr>\n",
       "\t<tr><td>unknown            </td><td> 778</td></tr>\n",
       "\t<tr><td>NA                 </td><td> 170</td></tr>\n",
       "\t<tr><td>illiterate         </td><td>   9</td></tr>\n",
       "</tbody>\n",
       "</table>\n"
      ],
      "text/latex": [
       "A data.frame: 9 × 2\n",
       "\\begin{tabular}{ll}\n",
       " education & n\\\\\n",
       " <chr> & <int>\\\\\n",
       "\\hline\n",
       "\t university.degree   & 5916\\\\\n",
       "\t high.school         & 4526\\\\\n",
       "\t basic.9y            & 2942\\\\\n",
       "\t professional.course & 2520\\\\\n",
       "\t basic.4y            & 2039\\\\\n",
       "\t basic.6y            & 1100\\\\\n",
       "\t unknown             &  778\\\\\n",
       "\t NA                  &  170\\\\\n",
       "\t illiterate          &    9\\\\\n",
       "\\end{tabular}\n"
      ],
      "text/markdown": [
       "\n",
       "A data.frame: 9 × 2\n",
       "\n",
       "| education &lt;chr&gt; | n &lt;int&gt; |\n",
       "|---|---|\n",
       "| university.degree   | 5916 |\n",
       "| high.school         | 4526 |\n",
       "| basic.9y            | 2942 |\n",
       "| professional.course | 2520 |\n",
       "| basic.4y            | 2039 |\n",
       "| basic.6y            | 1100 |\n",
       "| unknown             |  778 |\n",
       "| NA                  |  170 |\n",
       "| illiterate          |    9 |\n",
       "\n"
      ],
      "text/plain": [
       "  education           n   \n",
       "1 university.degree   5916\n",
       "2 high.school         4526\n",
       "3 basic.9y            2942\n",
       "4 professional.course 2520\n",
       "5 basic.4y            2039\n",
       "6 basic.6y            1100\n",
       "7 unknown              778\n",
       "8 NA                   170\n",
       "9 illiterate             9"
      ]
     },
     "metadata": {},
     "output_type": "display_data"
    },
    {
     "data": {
      "text/html": [
       "<table class=\"dataframe\">\n",
       "<caption>A data.frame: 4 × 2</caption>\n",
       "<thead>\n",
       "\t<tr><th scope=col>default</th><th scope=col>n</th></tr>\n",
       "\t<tr><th scope=col>&lt;chr&gt;</th><th scope=col>&lt;int&gt;</th></tr>\n",
       "</thead>\n",
       "<tbody>\n",
       "\t<tr><td>no     </td><td>15675</td></tr>\n",
       "\t<tr><td>unknown</td><td> 4109</td></tr>\n",
       "\t<tr><td>NA     </td><td>  214</td></tr>\n",
       "\t<tr><td>yes    </td><td>    2</td></tr>\n",
       "</tbody>\n",
       "</table>\n"
      ],
      "text/latex": [
       "A data.frame: 4 × 2\n",
       "\\begin{tabular}{ll}\n",
       " default & n\\\\\n",
       " <chr> & <int>\\\\\n",
       "\\hline\n",
       "\t no      & 15675\\\\\n",
       "\t unknown &  4109\\\\\n",
       "\t NA      &   214\\\\\n",
       "\t yes     &     2\\\\\n",
       "\\end{tabular}\n"
      ],
      "text/markdown": [
       "\n",
       "A data.frame: 4 × 2\n",
       "\n",
       "| default &lt;chr&gt; | n &lt;int&gt; |\n",
       "|---|---|\n",
       "| no      | 15675 |\n",
       "| unknown |  4109 |\n",
       "| NA      |   214 |\n",
       "| yes     |     2 |\n",
       "\n"
      ],
      "text/plain": [
       "  default n    \n",
       "1 no      15675\n",
       "2 unknown  4109\n",
       "3 NA        214\n",
       "4 yes         2"
      ]
     },
     "metadata": {},
     "output_type": "display_data"
    },
    {
     "data": {
      "text/html": [
       "<table class=\"dataframe\">\n",
       "<caption>A data.frame: 4 × 2</caption>\n",
       "<thead>\n",
       "\t<tr><th scope=col>housing</th><th scope=col>n</th></tr>\n",
       "\t<tr><th scope=col>&lt;chr&gt;</th><th scope=col>&lt;int&gt;</th></tr>\n",
       "</thead>\n",
       "<tbody>\n",
       "\t<tr><td>yes    </td><td>10369</td></tr>\n",
       "\t<tr><td>no     </td><td> 8987</td></tr>\n",
       "\t<tr><td>unknown</td><td>  449</td></tr>\n",
       "\t<tr><td>NA     </td><td>  195</td></tr>\n",
       "</tbody>\n",
       "</table>\n"
      ],
      "text/latex": [
       "A data.frame: 4 × 2\n",
       "\\begin{tabular}{ll}\n",
       " housing & n\\\\\n",
       " <chr> & <int>\\\\\n",
       "\\hline\n",
       "\t yes     & 10369\\\\\n",
       "\t no      &  8987\\\\\n",
       "\t unknown &   449\\\\\n",
       "\t NA      &   195\\\\\n",
       "\\end{tabular}\n"
      ],
      "text/markdown": [
       "\n",
       "A data.frame: 4 × 2\n",
       "\n",
       "| housing &lt;chr&gt; | n &lt;int&gt; |\n",
       "|---|---|\n",
       "| yes     | 10369 |\n",
       "| no      |  8987 |\n",
       "| unknown |   449 |\n",
       "| NA      |   195 |\n",
       "\n"
      ],
      "text/plain": [
       "  housing n    \n",
       "1 yes     10369\n",
       "2 no       8987\n",
       "3 unknown   449\n",
       "4 NA        195"
      ]
     },
     "metadata": {},
     "output_type": "display_data"
    },
    {
     "data": {
      "text/html": [
       "<table class=\"dataframe\">\n",
       "<caption>A data.frame: 4 × 2</caption>\n",
       "<thead>\n",
       "\t<tr><th scope=col>loan</th><th scope=col>n</th></tr>\n",
       "\t<tr><th scope=col>&lt;chr&gt;</th><th scope=col>&lt;int&gt;</th></tr>\n",
       "</thead>\n",
       "<tbody>\n",
       "\t<tr><td>no     </td><td>16316</td></tr>\n",
       "\t<tr><td>yes    </td><td> 3014</td></tr>\n",
       "\t<tr><td>unknown</td><td>  451</td></tr>\n",
       "\t<tr><td>NA     </td><td>  219</td></tr>\n",
       "</tbody>\n",
       "</table>\n"
      ],
      "text/latex": [
       "A data.frame: 4 × 2\n",
       "\\begin{tabular}{ll}\n",
       " loan & n\\\\\n",
       " <chr> & <int>\\\\\n",
       "\\hline\n",
       "\t no      & 16316\\\\\n",
       "\t yes     &  3014\\\\\n",
       "\t unknown &   451\\\\\n",
       "\t NA      &   219\\\\\n",
       "\\end{tabular}\n"
      ],
      "text/markdown": [
       "\n",
       "A data.frame: 4 × 2\n",
       "\n",
       "| loan &lt;chr&gt; | n &lt;int&gt; |\n",
       "|---|---|\n",
       "| no      | 16316 |\n",
       "| yes     |  3014 |\n",
       "| unknown |   451 |\n",
       "| NA      |   219 |\n",
       "\n"
      ],
      "text/plain": [
       "  loan    n    \n",
       "1 no      16316\n",
       "2 yes      3014\n",
       "3 unknown   451\n",
       "4 NA        219"
      ]
     },
     "metadata": {},
     "output_type": "display_data"
    },
    {
     "data": {
      "text/html": [
       "<table class=\"dataframe\">\n",
       "<caption>A data.frame: 3 × 2</caption>\n",
       "<thead>\n",
       "\t<tr><th scope=col>contact</th><th scope=col>n</th></tr>\n",
       "\t<tr><th scope=col>&lt;chr&gt;</th><th scope=col>&lt;int&gt;</th></tr>\n",
       "</thead>\n",
       "<tbody>\n",
       "\t<tr><td>cellular </td><td>12522</td></tr>\n",
       "\t<tr><td>telephone</td><td> 7261</td></tr>\n",
       "\t<tr><td>NA       </td><td>  217</td></tr>\n",
       "</tbody>\n",
       "</table>\n"
      ],
      "text/latex": [
       "A data.frame: 3 × 2\n",
       "\\begin{tabular}{ll}\n",
       " contact & n\\\\\n",
       " <chr> & <int>\\\\\n",
       "\\hline\n",
       "\t cellular  & 12522\\\\\n",
       "\t telephone &  7261\\\\\n",
       "\t NA        &   217\\\\\n",
       "\\end{tabular}\n"
      ],
      "text/markdown": [
       "\n",
       "A data.frame: 3 × 2\n",
       "\n",
       "| contact &lt;chr&gt; | n &lt;int&gt; |\n",
       "|---|---|\n",
       "| cellular  | 12522 |\n",
       "| telephone |  7261 |\n",
       "| NA        |   217 |\n",
       "\n"
      ],
      "text/plain": [
       "  contact   n    \n",
       "1 cellular  12522\n",
       "2 telephone  7261\n",
       "3 NA          217"
      ]
     },
     "metadata": {},
     "output_type": "display_data"
    },
    {
     "data": {
      "text/html": [
       "<table class=\"dataframe\">\n",
       "<caption>A data.frame: 11 × 2</caption>\n",
       "<thead>\n",
       "\t<tr><th scope=col>month</th><th scope=col>n</th></tr>\n",
       "\t<tr><th scope=col>&lt;chr&gt;</th><th scope=col>&lt;int&gt;</th></tr>\n",
       "</thead>\n",
       "<tbody>\n",
       "\t<tr><td>may</td><td>6601</td></tr>\n",
       "\t<tr><td>jul</td><td>3501</td></tr>\n",
       "\t<tr><td>aug</td><td>2948</td></tr>\n",
       "\t<tr><td>jun</td><td>2571</td></tr>\n",
       "\t<tr><td>nov</td><td>2001</td></tr>\n",
       "\t<tr><td>apr</td><td>1220</td></tr>\n",
       "\t<tr><td>oct</td><td> 345</td></tr>\n",
       "\t<tr><td>sep</td><td> 286</td></tr>\n",
       "\t<tr><td>mar</td><td> 234</td></tr>\n",
       "\t<tr><td>NA </td><td> 199</td></tr>\n",
       "\t<tr><td>dec</td><td>  94</td></tr>\n",
       "</tbody>\n",
       "</table>\n"
      ],
      "text/latex": [
       "A data.frame: 11 × 2\n",
       "\\begin{tabular}{ll}\n",
       " month & n\\\\\n",
       " <chr> & <int>\\\\\n",
       "\\hline\n",
       "\t may & 6601\\\\\n",
       "\t jul & 3501\\\\\n",
       "\t aug & 2948\\\\\n",
       "\t jun & 2571\\\\\n",
       "\t nov & 2001\\\\\n",
       "\t apr & 1220\\\\\n",
       "\t oct &  345\\\\\n",
       "\t sep &  286\\\\\n",
       "\t mar &  234\\\\\n",
       "\t NA  &  199\\\\\n",
       "\t dec &   94\\\\\n",
       "\\end{tabular}\n"
      ],
      "text/markdown": [
       "\n",
       "A data.frame: 11 × 2\n",
       "\n",
       "| month &lt;chr&gt; | n &lt;int&gt; |\n",
       "|---|---|\n",
       "| may | 6601 |\n",
       "| jul | 3501 |\n",
       "| aug | 2948 |\n",
       "| jun | 2571 |\n",
       "| nov | 2001 |\n",
       "| apr | 1220 |\n",
       "| oct |  345 |\n",
       "| sep |  286 |\n",
       "| mar |  234 |\n",
       "| NA  |  199 |\n",
       "| dec |   94 |\n",
       "\n"
      ],
      "text/plain": [
       "   month n   \n",
       "1  may   6601\n",
       "2  jul   3501\n",
       "3  aug   2948\n",
       "4  jun   2571\n",
       "5  nov   2001\n",
       "6  apr   1220\n",
       "7  oct    345\n",
       "8  sep    286\n",
       "9  mar    234\n",
       "10 NA     199\n",
       "11 dec     94"
      ]
     },
     "metadata": {},
     "output_type": "display_data"
    },
    {
     "data": {
      "text/html": [
       "<table class=\"dataframe\">\n",
       "<caption>A data.frame: 6 × 2</caption>\n",
       "<thead>\n",
       "\t<tr><th scope=col>day_of_week</th><th scope=col>n</th></tr>\n",
       "\t<tr><th scope=col>&lt;chr&gt;</th><th scope=col>&lt;int&gt;</th></tr>\n",
       "</thead>\n",
       "<tbody>\n",
       "\t<tr><td>thu</td><td>4211</td></tr>\n",
       "\t<tr><td>mon</td><td>4152</td></tr>\n",
       "\t<tr><td>wed</td><td>3916</td></tr>\n",
       "\t<tr><td>tue</td><td>3840</td></tr>\n",
       "\t<tr><td>fri</td><td>3696</td></tr>\n",
       "\t<tr><td>NA </td><td> 185</td></tr>\n",
       "</tbody>\n",
       "</table>\n"
      ],
      "text/latex": [
       "A data.frame: 6 × 2\n",
       "\\begin{tabular}{ll}\n",
       " day\\_of\\_week & n\\\\\n",
       " <chr> & <int>\\\\\n",
       "\\hline\n",
       "\t thu & 4211\\\\\n",
       "\t mon & 4152\\\\\n",
       "\t wed & 3916\\\\\n",
       "\t tue & 3840\\\\\n",
       "\t fri & 3696\\\\\n",
       "\t NA  &  185\\\\\n",
       "\\end{tabular}\n"
      ],
      "text/markdown": [
       "\n",
       "A data.frame: 6 × 2\n",
       "\n",
       "| day_of_week &lt;chr&gt; | n &lt;int&gt; |\n",
       "|---|---|\n",
       "| thu | 4211 |\n",
       "| mon | 4152 |\n",
       "| wed | 3916 |\n",
       "| tue | 3840 |\n",
       "| fri | 3696 |\n",
       "| NA  |  185 |\n",
       "\n"
      ],
      "text/plain": [
       "  day_of_week n   \n",
       "1 thu         4211\n",
       "2 mon         4152\n",
       "3 wed         3916\n",
       "4 tue         3840\n",
       "5 fri         3696\n",
       "6 NA           185"
      ]
     },
     "metadata": {},
     "output_type": "display_data"
    },
    {
     "data": {
      "text/html": [
       "<table class=\"dataframe\">\n",
       "<caption>A data.frame: 41 × 2</caption>\n",
       "<thead>\n",
       "\t<tr><th scope=col>campaign</th><th scope=col>n</th></tr>\n",
       "\t<tr><th scope=col>&lt;int&gt;</th><th scope=col>&lt;int&gt;</th></tr>\n",
       "</thead>\n",
       "<tbody>\n",
       "\t<tr><td> 1</td><td>8471</td></tr>\n",
       "\t<tr><td> 2</td><td>4982</td></tr>\n",
       "\t<tr><td> 3</td><td>2626</td></tr>\n",
       "\t<tr><td> 4</td><td>1292</td></tr>\n",
       "\t<tr><td> 5</td><td> 805</td></tr>\n",
       "\t<tr><td> 6</td><td> 466</td></tr>\n",
       "\t<tr><td> 7</td><td> 283</td></tr>\n",
       "\t<tr><td>NA</td><td> 203</td></tr>\n",
       "\t<tr><td> 8</td><td> 195</td></tr>\n",
       "\t<tr><td> 9</td><td> 150</td></tr>\n",
       "\t<tr><td>10</td><td> 104</td></tr>\n",
       "\t<tr><td>11</td><td>  89</td></tr>\n",
       "\t<tr><td>12</td><td>  63</td></tr>\n",
       "\t<tr><td>13</td><td>  45</td></tr>\n",
       "\t<tr><td>14</td><td>  33</td></tr>\n",
       "\t<tr><td>17</td><td>  30</td></tr>\n",
       "\t<tr><td>16</td><td>  24</td></tr>\n",
       "\t<tr><td>15</td><td>  19</td></tr>\n",
       "\t<tr><td>18</td><td>  15</td></tr>\n",
       "\t<tr><td>20</td><td>  15</td></tr>\n",
       "\t<tr><td>21</td><td>  12</td></tr>\n",
       "\t<tr><td>23</td><td>  12</td></tr>\n",
       "\t<tr><td>19</td><td>  10</td></tr>\n",
       "\t<tr><td>22</td><td>  10</td></tr>\n",
       "\t<tr><td>24</td><td>  10</td></tr>\n",
       "\t<tr><td>29</td><td>   5</td></tr>\n",
       "\t<tr><td>30</td><td>   5</td></tr>\n",
       "\t<tr><td>27</td><td>   4</td></tr>\n",
       "\t<tr><td>25</td><td>   3</td></tr>\n",
       "\t<tr><td>26</td><td>   3</td></tr>\n",
       "\t<tr><td>28</td><td>   2</td></tr>\n",
       "\t<tr><td>32</td><td>   2</td></tr>\n",
       "\t<tr><td>33</td><td>   2</td></tr>\n",
       "\t<tr><td>34</td><td>   2</td></tr>\n",
       "\t<tr><td>43</td><td>   2</td></tr>\n",
       "\t<tr><td>31</td><td>   1</td></tr>\n",
       "\t<tr><td>35</td><td>   1</td></tr>\n",
       "\t<tr><td>39</td><td>   1</td></tr>\n",
       "\t<tr><td>40</td><td>   1</td></tr>\n",
       "\t<tr><td>41</td><td>   1</td></tr>\n",
       "\t<tr><td>56</td><td>   1</td></tr>\n",
       "</tbody>\n",
       "</table>\n"
      ],
      "text/latex": [
       "A data.frame: 41 × 2\n",
       "\\begin{tabular}{ll}\n",
       " campaign & n\\\\\n",
       " <int> & <int>\\\\\n",
       "\\hline\n",
       "\t  1 & 8471\\\\\n",
       "\t  2 & 4982\\\\\n",
       "\t  3 & 2626\\\\\n",
       "\t  4 & 1292\\\\\n",
       "\t  5 &  805\\\\\n",
       "\t  6 &  466\\\\\n",
       "\t  7 &  283\\\\\n",
       "\t NA &  203\\\\\n",
       "\t  8 &  195\\\\\n",
       "\t  9 &  150\\\\\n",
       "\t 10 &  104\\\\\n",
       "\t 11 &   89\\\\\n",
       "\t 12 &   63\\\\\n",
       "\t 13 &   45\\\\\n",
       "\t 14 &   33\\\\\n",
       "\t 17 &   30\\\\\n",
       "\t 16 &   24\\\\\n",
       "\t 15 &   19\\\\\n",
       "\t 18 &   15\\\\\n",
       "\t 20 &   15\\\\\n",
       "\t 21 &   12\\\\\n",
       "\t 23 &   12\\\\\n",
       "\t 19 &   10\\\\\n",
       "\t 22 &   10\\\\\n",
       "\t 24 &   10\\\\\n",
       "\t 29 &    5\\\\\n",
       "\t 30 &    5\\\\\n",
       "\t 27 &    4\\\\\n",
       "\t 25 &    3\\\\\n",
       "\t 26 &    3\\\\\n",
       "\t 28 &    2\\\\\n",
       "\t 32 &    2\\\\\n",
       "\t 33 &    2\\\\\n",
       "\t 34 &    2\\\\\n",
       "\t 43 &    2\\\\\n",
       "\t 31 &    1\\\\\n",
       "\t 35 &    1\\\\\n",
       "\t 39 &    1\\\\\n",
       "\t 40 &    1\\\\\n",
       "\t 41 &    1\\\\\n",
       "\t 56 &    1\\\\\n",
       "\\end{tabular}\n"
      ],
      "text/markdown": [
       "\n",
       "A data.frame: 41 × 2\n",
       "\n",
       "| campaign &lt;int&gt; | n &lt;int&gt; |\n",
       "|---|---|\n",
       "|  1 | 8471 |\n",
       "|  2 | 4982 |\n",
       "|  3 | 2626 |\n",
       "|  4 | 1292 |\n",
       "|  5 |  805 |\n",
       "|  6 |  466 |\n",
       "|  7 |  283 |\n",
       "| NA |  203 |\n",
       "|  8 |  195 |\n",
       "|  9 |  150 |\n",
       "| 10 |  104 |\n",
       "| 11 |   89 |\n",
       "| 12 |   63 |\n",
       "| 13 |   45 |\n",
       "| 14 |   33 |\n",
       "| 17 |   30 |\n",
       "| 16 |   24 |\n",
       "| 15 |   19 |\n",
       "| 18 |   15 |\n",
       "| 20 |   15 |\n",
       "| 21 |   12 |\n",
       "| 23 |   12 |\n",
       "| 19 |   10 |\n",
       "| 22 |   10 |\n",
       "| 24 |   10 |\n",
       "| 29 |    5 |\n",
       "| 30 |    5 |\n",
       "| 27 |    4 |\n",
       "| 25 |    3 |\n",
       "| 26 |    3 |\n",
       "| 28 |    2 |\n",
       "| 32 |    2 |\n",
       "| 33 |    2 |\n",
       "| 34 |    2 |\n",
       "| 43 |    2 |\n",
       "| 31 |    1 |\n",
       "| 35 |    1 |\n",
       "| 39 |    1 |\n",
       "| 40 |    1 |\n",
       "| 41 |    1 |\n",
       "| 56 |    1 |\n",
       "\n"
      ],
      "text/plain": [
       "   campaign n   \n",
       "1   1       8471\n",
       "2   2       4982\n",
       "3   3       2626\n",
       "4   4       1292\n",
       "5   5        805\n",
       "6   6        466\n",
       "7   7        283\n",
       "8  NA        203\n",
       "9   8        195\n",
       "10  9        150\n",
       "11 10        104\n",
       "12 11         89\n",
       "13 12         63\n",
       "14 13         45\n",
       "15 14         33\n",
       "16 17         30\n",
       "17 16         24\n",
       "18 15         19\n",
       "19 18         15\n",
       "20 20         15\n",
       "21 21         12\n",
       "22 23         12\n",
       "23 19         10\n",
       "24 22         10\n",
       "25 24         10\n",
       "26 29          5\n",
       "27 30          5\n",
       "28 27          4\n",
       "29 25          3\n",
       "30 26          3\n",
       "31 28          2\n",
       "32 32          2\n",
       "33 33          2\n",
       "34 34          2\n",
       "35 43          2\n",
       "36 31          1\n",
       "37 35          1\n",
       "38 39          1\n",
       "39 40          1\n",
       "40 41          1\n",
       "41 56          1"
      ]
     },
     "metadata": {},
     "output_type": "display_data"
    },
    {
     "data": {
      "text/html": [
       "<table class=\"dataframe\">\n",
       "<caption>A data.frame: 4 × 2</caption>\n",
       "<thead>\n",
       "\t<tr><th scope=col>poutcome</th><th scope=col>n</th></tr>\n",
       "\t<tr><th scope=col>&lt;chr&gt;</th><th scope=col>&lt;int&gt;</th></tr>\n",
       "</thead>\n",
       "<tbody>\n",
       "\t<tr><td>nonexistent</td><td>17155</td></tr>\n",
       "\t<tr><td>failure    </td><td> 1977</td></tr>\n",
       "\t<tr><td>success    </td><td>  693</td></tr>\n",
       "\t<tr><td>NA         </td><td>  175</td></tr>\n",
       "</tbody>\n",
       "</table>\n"
      ],
      "text/latex": [
       "A data.frame: 4 × 2\n",
       "\\begin{tabular}{ll}\n",
       " poutcome & n\\\\\n",
       " <chr> & <int>\\\\\n",
       "\\hline\n",
       "\t nonexistent & 17155\\\\\n",
       "\t failure     &  1977\\\\\n",
       "\t success     &   693\\\\\n",
       "\t NA          &   175\\\\\n",
       "\\end{tabular}\n"
      ],
      "text/markdown": [
       "\n",
       "A data.frame: 4 × 2\n",
       "\n",
       "| poutcome &lt;chr&gt; | n &lt;int&gt; |\n",
       "|---|---|\n",
       "| nonexistent | 17155 |\n",
       "| failure     |  1977 |\n",
       "| success     |   693 |\n",
       "| NA          |   175 |\n",
       "\n"
      ],
      "text/plain": [
       "  poutcome    n    \n",
       "1 nonexistent 17155\n",
       "2 failure      1977\n",
       "3 success       693\n",
       "4 NA            175"
      ]
     },
     "metadata": {},
     "output_type": "display_data"
    }
   ],
   "source": [
    "# filling the NA's in categorical variables by most occured values\n",
    "data_df%>%count(job)%>%arrange(desc(n))\n",
    "data_df%>%count(marital)%>%arrange(desc(n))\n",
    "data_df%>%count(education)%>%arrange(desc(n))\n",
    "data_df%>%count(default)%>%arrange(desc(n))\n",
    "data_df%>%count(housing)%>%arrange(desc(n))\n",
    "data_df%>%count(loan)%>%arrange(desc(n))\n",
    "data_df%>%count(contact)%>%arrange(desc(n))\n",
    "data_df%>%count(month)%>%arrange(desc(n))\n",
    "data_df%>%count(day_of_week)%>%arrange(desc(n))\n",
    "data_df%>%count(campaign)%>%arrange(desc(n))\n",
    "data_df%>%count(poutcome)%>%arrange(desc(n))"
   ]
  },
  {
   "cell_type": "code",
   "execution_count": 13,
   "id": "01037550",
   "metadata": {},
   "outputs": [],
   "source": [
    "# fill NA's in job with admin.\n",
    "data_df$job[is.na(data_df$job)] <- 'admin.'\n",
    "\n",
    "# fill NA's in martial with married\n",
    "data_df$marital[is.na(data_df$marital)] <- 'married'\n",
    "\n",
    "# fill NA's in education with university.degree\n",
    "data_df$education[is.na(data_df$education)] <- 'university.degree'\n",
    "\n",
    "# fill NA's in default with admin.\n",
    "data_df$default[is.na(data_df$default)] <- 'no'\n",
    "\n",
    "# fill NA's in housing with yes\n",
    "data_df$housing[is.na(data_df$housing)] <- 'yes'\n",
    "\n",
    "# fill NA's in loan with no\n",
    "data_df$loan[is.na(data_df$loan)] <- 'no'\n",
    "\n",
    "# fill NA's in contact with cellular\n",
    "data_df$contact[is.na(data_df$contact)] <- 'cellular'\n",
    "\n",
    "# fill NA's in month with may\n",
    "data_df$month[is.na(data_df$month)] <- 'may'\n",
    "\n",
    "# fill NA's in day_of_week with cellular\n",
    "data_df$day_of_week[is.na(data_df$day_of_week)] <- 'thu'\n",
    "\n",
    "# fill NA's in campaign with 1\n",
    "data_df$campaign[is.na(data_df$campaign)] <- 1\n",
    "\n",
    "# fill NA's in contact with cellular\n",
    "data_df$poutcome[is.na(data_df$poutcome)] <- 'nonexistent'"
   ]
  },
  {
   "cell_type": "code",
   "execution_count": 14,
   "id": "c08d5f52",
   "metadata": {},
   "outputs": [
    {
     "data": {
      "text/html": [
       "<style>\n",
       ".dl-inline {width: auto; margin:0; padding: 0}\n",
       ".dl-inline>dt, .dl-inline>dd {float: none; width: auto; display: inline-block}\n",
       ".dl-inline>dt::after {content: \":\\0020\"; padding-right: .5ex}\n",
       ".dl-inline>dt:not(:first-of-type) {padding-left: .5ex}\n",
       "</style><dl class=dl-inline><dt>client_id</dt><dd>0</dd><dt>age</dt><dd>0</dd><dt>job</dt><dd>0</dd><dt>marital</dt><dd>0</dd><dt>education</dt><dd>0</dd><dt>default</dt><dd>0</dd><dt>housing</dt><dd>0</dd><dt>loan</dt><dd>0</dd><dt>contact</dt><dd>0</dd><dt>month</dt><dd>0</dd><dt>day_of_week</dt><dd>0</dd><dt>campaign</dt><dd>0</dd><dt>pdays</dt><dd>0</dd><dt>previous</dt><dd>0</dd><dt>poutcome</dt><dd>0</dd><dt>emp.var.rate</dt><dd>0</dd><dt>cons.price.idx</dt><dd>0</dd><dt>cons.conf.idx</dt><dd>0</dd><dt>euribor3m</dt><dd>0</dd><dt>nr.employed</dt><dd>0</dd><dt>subscribe</dt><dd>0</dd></dl>\n"
      ],
      "text/latex": [
       "\\begin{description*}\n",
       "\\item[client\\textbackslash{}\\_id] 0\n",
       "\\item[age] 0\n",
       "\\item[job] 0\n",
       "\\item[marital] 0\n",
       "\\item[education] 0\n",
       "\\item[default] 0\n",
       "\\item[housing] 0\n",
       "\\item[loan] 0\n",
       "\\item[contact] 0\n",
       "\\item[month] 0\n",
       "\\item[day\\textbackslash{}\\_of\\textbackslash{}\\_week] 0\n",
       "\\item[campaign] 0\n",
       "\\item[pdays] 0\n",
       "\\item[previous] 0\n",
       "\\item[poutcome] 0\n",
       "\\item[emp.var.rate] 0\n",
       "\\item[cons.price.idx] 0\n",
       "\\item[cons.conf.idx] 0\n",
       "\\item[euribor3m] 0\n",
       "\\item[nr.employed] 0\n",
       "\\item[subscribe] 0\n",
       "\\end{description*}\n"
      ],
      "text/markdown": [
       "client_id\n",
       ":   0age\n",
       ":   0job\n",
       ":   0marital\n",
       ":   0education\n",
       ":   0default\n",
       ":   0housing\n",
       ":   0loan\n",
       ":   0contact\n",
       ":   0month\n",
       ":   0day_of_week\n",
       ":   0campaign\n",
       ":   0pdays\n",
       ":   0previous\n",
       ":   0poutcome\n",
       ":   0emp.var.rate\n",
       ":   0cons.price.idx\n",
       ":   0cons.conf.idx\n",
       ":   0euribor3m\n",
       ":   0nr.employed\n",
       ":   0subscribe\n",
       ":   0\n",
       "\n"
      ],
      "text/plain": [
       "     client_id            age            job        marital      education \n",
       "             0              0              0              0              0 \n",
       "       default        housing           loan        contact          month \n",
       "             0              0              0              0              0 \n",
       "   day_of_week       campaign          pdays       previous       poutcome \n",
       "             0              0              0              0              0 \n",
       "  emp.var.rate cons.price.idx  cons.conf.idx      euribor3m    nr.employed \n",
       "             0              0              0              0              0 \n",
       "     subscribe \n",
       "             0 "
      ]
     },
     "metadata": {},
     "output_type": "display_data"
    }
   ],
   "source": [
    "sapply(data_df, function(x) sum(is.na(x)))"
   ]
  },
  {
   "cell_type": "code",
   "execution_count": 15,
   "id": "761e08ee",
   "metadata": {},
   "outputs": [],
   "source": [
    "data_df <- data_df %>% \n",
    "  mutate(\n",
    "    # Create categories\n",
    "    age_group = dplyr::case_when(\n",
    "      age <= 14            ~ \"0-20\",\n",
    "      age > 14 & age <= 44 ~ \"21-44\",\n",
    "      age > 44 & age <= 64 ~ \"45-64\",\n",
    "      age > 64             ~ \"> 64\"\n",
    "    ),\n",
    "    # Convert to factor\n",
    "    age_group = factor(\n",
    "      age_group,\n",
    "      level = c(\"0-20\", \"21-44\",\"45-64\", \"> 64\")\n",
    "    )\n",
    "  )"
   ]
  },
  {
   "cell_type": "code",
   "execution_count": 16,
   "id": "b935dd3b",
   "metadata": {},
   "outputs": [],
   "source": [
    "# ordinal encoding the categorical variables\n",
    "encode_ordinal <- function(x, order = unique(x)) {\n",
    "  x <- as.numeric(factor(x, levels = order, exclude = NULL))\n",
    "  x\n",
    "}"
   ]
  },
  {
   "cell_type": "code",
   "execution_count": 17,
   "id": "2f874ea5",
   "metadata": {},
   "outputs": [
    {
     "data": {
      "text/html": [
       "<table class=\"dataframe\">\n",
       "<caption>A data.frame: 6 × 34</caption>\n",
       "<thead>\n",
       "\t<tr><th></th><th scope=col>client_id</th><th scope=col>age</th><th scope=col>job</th><th scope=col>marital</th><th scope=col>education</th><th scope=col>default</th><th scope=col>housing</th><th scope=col>loan</th><th scope=col>contact</th><th scope=col>month</th><th scope=col>⋯</th><th scope=col>education_encoded</th><th scope=col>default_encoded</th><th scope=col>housing_encoded</th><th scope=col>loan_encoded</th><th scope=col>contact_encoded</th><th scope=col>month_encoded</th><th scope=col>day_of_week_encoded</th><th scope=col>campaign_encoded</th><th scope=col>poutcome_encoded</th><th scope=col>age_group_encoded</th></tr>\n",
       "\t<tr><th></th><th scope=col>&lt;int&gt;</th><th scope=col>&lt;dbl&gt;</th><th scope=col>&lt;chr&gt;</th><th scope=col>&lt;chr&gt;</th><th scope=col>&lt;chr&gt;</th><th scope=col>&lt;chr&gt;</th><th scope=col>&lt;chr&gt;</th><th scope=col>&lt;chr&gt;</th><th scope=col>&lt;chr&gt;</th><th scope=col>&lt;chr&gt;</th><th scope=col>⋯</th><th scope=col>&lt;dbl&gt;</th><th scope=col>&lt;dbl&gt;</th><th scope=col>&lt;dbl&gt;</th><th scope=col>&lt;dbl&gt;</th><th scope=col>&lt;dbl&gt;</th><th scope=col>&lt;dbl&gt;</th><th scope=col>&lt;dbl&gt;</th><th scope=col>&lt;dbl&gt;</th><th scope=col>&lt;dbl&gt;</th><th scope=col>&lt;dbl&gt;</th></tr>\n",
       "</thead>\n",
       "<tbody>\n",
       "\t<tr><th scope=row>1</th><td>29925</td><td>42</td><td>management</td><td>married</td><td>basic.9y           </td><td>no     </td><td>no     </td><td>no     </td><td>cellular </td><td>jul</td><td>⋯</td><td>1</td><td>1</td><td>1</td><td>1</td><td>1</td><td>1</td><td>1</td><td>1</td><td>1</td><td>1</td></tr>\n",
       "\t<tr><th scope=row>2</th><td>37529</td><td>35</td><td>unemployed</td><td>married</td><td>university.degree  </td><td>no     </td><td>yes    </td><td>no     </td><td>telephone</td><td>jun</td><td>⋯</td><td>2</td><td>1</td><td>2</td><td>1</td><td>2</td><td>2</td><td>2</td><td>2</td><td>1</td><td>1</td></tr>\n",
       "\t<tr><th scope=row>3</th><td> 2757</td><td>44</td><td>technician</td><td>married</td><td>basic.9y           </td><td>no     </td><td>yes    </td><td>yes    </td><td>cellular </td><td>may</td><td>⋯</td><td>1</td><td>1</td><td>2</td><td>2</td><td>1</td><td>3</td><td>2</td><td>1</td><td>1</td><td>1</td></tr>\n",
       "\t<tr><th scope=row>4</th><td> 9642</td><td>45</td><td>services  </td><td>married</td><td>high.school        </td><td>no     </td><td>yes    </td><td>no     </td><td>cellular </td><td>apr</td><td>⋯</td><td>3</td><td>1</td><td>2</td><td>1</td><td>1</td><td>4</td><td>3</td><td>1</td><td>1</td><td>2</td></tr>\n",
       "\t<tr><th scope=row>5</th><td>14183</td><td>45</td><td>unknown   </td><td>married</td><td>unknown            </td><td>unknown</td><td>unknown</td><td>unknown</td><td>telephone</td><td>may</td><td>⋯</td><td>4</td><td>2</td><td>3</td><td>3</td><td>2</td><td>3</td><td>4</td><td>1</td><td>1</td><td>2</td></tr>\n",
       "\t<tr><th scope=row>6</th><td>15180</td><td>38</td><td>technician</td><td>married</td><td>professional.course</td><td>no     </td><td>no     </td><td>no     </td><td>telephone</td><td>may</td><td>⋯</td><td>5</td><td>1</td><td>1</td><td>1</td><td>2</td><td>3</td><td>4</td><td>3</td><td>1</td><td>1</td></tr>\n",
       "</tbody>\n",
       "</table>\n"
      ],
      "text/latex": [
       "A data.frame: 6 × 34\n",
       "\\begin{tabular}{r|lllllllllllllllllllll}\n",
       "  & client\\_id & age & job & marital & education & default & housing & loan & contact & month & ⋯ & education\\_encoded & default\\_encoded & housing\\_encoded & loan\\_encoded & contact\\_encoded & month\\_encoded & day\\_of\\_week\\_encoded & campaign\\_encoded & poutcome\\_encoded & age\\_group\\_encoded\\\\\n",
       "  & <int> & <dbl> & <chr> & <chr> & <chr> & <chr> & <chr> & <chr> & <chr> & <chr> & ⋯ & <dbl> & <dbl> & <dbl> & <dbl> & <dbl> & <dbl> & <dbl> & <dbl> & <dbl> & <dbl>\\\\\n",
       "\\hline\n",
       "\t1 & 29925 & 42 & management & married & basic.9y            & no      & no      & no      & cellular  & jul & ⋯ & 1 & 1 & 1 & 1 & 1 & 1 & 1 & 1 & 1 & 1\\\\\n",
       "\t2 & 37529 & 35 & unemployed & married & university.degree   & no      & yes     & no      & telephone & jun & ⋯ & 2 & 1 & 2 & 1 & 2 & 2 & 2 & 2 & 1 & 1\\\\\n",
       "\t3 &  2757 & 44 & technician & married & basic.9y            & no      & yes     & yes     & cellular  & may & ⋯ & 1 & 1 & 2 & 2 & 1 & 3 & 2 & 1 & 1 & 1\\\\\n",
       "\t4 &  9642 & 45 & services   & married & high.school         & no      & yes     & no      & cellular  & apr & ⋯ & 3 & 1 & 2 & 1 & 1 & 4 & 3 & 1 & 1 & 2\\\\\n",
       "\t5 & 14183 & 45 & unknown    & married & unknown             & unknown & unknown & unknown & telephone & may & ⋯ & 4 & 2 & 3 & 3 & 2 & 3 & 4 & 1 & 1 & 2\\\\\n",
       "\t6 & 15180 & 38 & technician & married & professional.course & no      & no      & no      & telephone & may & ⋯ & 5 & 1 & 1 & 1 & 2 & 3 & 4 & 3 & 1 & 1\\\\\n",
       "\\end{tabular}\n"
      ],
      "text/markdown": [
       "\n",
       "A data.frame: 6 × 34\n",
       "\n",
       "| <!--/--> | client_id &lt;int&gt; | age &lt;dbl&gt; | job &lt;chr&gt; | marital &lt;chr&gt; | education &lt;chr&gt; | default &lt;chr&gt; | housing &lt;chr&gt; | loan &lt;chr&gt; | contact &lt;chr&gt; | month &lt;chr&gt; | ⋯ ⋯ | education_encoded &lt;dbl&gt; | default_encoded &lt;dbl&gt; | housing_encoded &lt;dbl&gt; | loan_encoded &lt;dbl&gt; | contact_encoded &lt;dbl&gt; | month_encoded &lt;dbl&gt; | day_of_week_encoded &lt;dbl&gt; | campaign_encoded &lt;dbl&gt; | poutcome_encoded &lt;dbl&gt; | age_group_encoded &lt;dbl&gt; |\n",
       "|---|---|---|---|---|---|---|---|---|---|---|---|---|---|---|---|---|---|---|---|---|---|\n",
       "| 1 | 29925 | 42 | management | married | basic.9y            | no      | no      | no      | cellular  | jul | ⋯ | 1 | 1 | 1 | 1 | 1 | 1 | 1 | 1 | 1 | 1 |\n",
       "| 2 | 37529 | 35 | unemployed | married | university.degree   | no      | yes     | no      | telephone | jun | ⋯ | 2 | 1 | 2 | 1 | 2 | 2 | 2 | 2 | 1 | 1 |\n",
       "| 3 |  2757 | 44 | technician | married | basic.9y            | no      | yes     | yes     | cellular  | may | ⋯ | 1 | 1 | 2 | 2 | 1 | 3 | 2 | 1 | 1 | 1 |\n",
       "| 4 |  9642 | 45 | services   | married | high.school         | no      | yes     | no      | cellular  | apr | ⋯ | 3 | 1 | 2 | 1 | 1 | 4 | 3 | 1 | 1 | 2 |\n",
       "| 5 | 14183 | 45 | unknown    | married | unknown             | unknown | unknown | unknown | telephone | may | ⋯ | 4 | 2 | 3 | 3 | 2 | 3 | 4 | 1 | 1 | 2 |\n",
       "| 6 | 15180 | 38 | technician | married | professional.course | no      | no      | no      | telephone | may | ⋯ | 5 | 1 | 1 | 1 | 2 | 3 | 4 | 3 | 1 | 1 |\n",
       "\n"
      ],
      "text/plain": [
       "  client_id age job        marital education           default housing loan   \n",
       "1 29925     42  management married basic.9y            no      no      no     \n",
       "2 37529     35  unemployed married university.degree   no      yes     no     \n",
       "3  2757     44  technician married basic.9y            no      yes     yes    \n",
       "4  9642     45  services   married high.school         no      yes     no     \n",
       "5 14183     45  unknown    married unknown             unknown unknown unknown\n",
       "6 15180     38  technician married professional.course no      no      no     \n",
       "  contact   month <U+22EF>        education_encoded default_encoded housing_encoded\n",
       "1 cellular  jul   <U+22EF> 1                 1               1              \n",
       "2 telephone jun   <U+22EF> 2                 1               2              \n",
       "3 cellular  may   <U+22EF> 1                 1               2              \n",
       "4 cellular  apr   <U+22EF> 3                 1               2              \n",
       "5 telephone may   <U+22EF> 4                 2               3              \n",
       "6 telephone may   <U+22EF> 5                 1               1              \n",
       "  loan_encoded contact_encoded month_encoded day_of_week_encoded\n",
       "1 1            1               1             1                  \n",
       "2 1            2               2             2                  \n",
       "3 2            1               3             2                  \n",
       "4 1            1               4             3                  \n",
       "5 3            2               3             4                  \n",
       "6 1            2               3             4                  \n",
       "  campaign_encoded poutcome_encoded age_group_encoded\n",
       "1 1                1                1                \n",
       "2 2                1                1                \n",
       "3 1                1                1                \n",
       "4 1                1                2                \n",
       "5 1                1                2                \n",
       "6 3                1                1                "
      ]
     },
     "metadata": {},
     "output_type": "display_data"
    }
   ],
   "source": [
    "new_df <- data_df\n",
    "new_df[[\"job_encoded\"]] <- encode_ordinal(data_df[[\"job\"]])\n",
    "new_df[[\"marital_encoded\"]] <- encode_ordinal(data_df[[\"marital\"]])\n",
    "new_df[[\"education_encoded\"]] <- encode_ordinal(data_df[[\"education\"]])\n",
    "new_df[[\"default_encoded\"]] <- encode_ordinal(data_df[[\"default\"]])\n",
    "new_df[[\"housing_encoded\"]] <- encode_ordinal(data_df[[\"housing\"]])\n",
    "new_df[[\"loan_encoded\"]] <- encode_ordinal(data_df[[\"loan\"]])\n",
    "new_df[[\"contact_encoded\"]] <- encode_ordinal(data_df[[\"contact\"]])\n",
    "new_df[[\"month_encoded\"]] <- encode_ordinal(data_df[[\"month\"]])\n",
    "new_df[[\"day_of_week_encoded\"]] <- encode_ordinal(data_df[[\"day_of_week\"]])\n",
    "new_df[[\"campaign_encoded\"]] <- encode_ordinal(data_df[[\"campaign\"]])\n",
    "new_df[[\"poutcome_encoded\"]] <- encode_ordinal(data_df[[\"poutcome\"]])\n",
    "new_df[[\"age_group_encoded\"]] <- encode_ordinal(data_df[[\"age_group\"]])\n",
    "head(new_df)"
   ]
  },
  {
   "cell_type": "code",
   "execution_count": 18,
   "id": "ee8f3aed",
   "metadata": {},
   "outputs": [
    {
     "data": {
      "text/html": [
       "<table class=\"dataframe\">\n",
       "<caption>A data.frame: 6 × 21</caption>\n",
       "<thead>\n",
       "\t<tr><th></th><th scope=col>client_id</th><th scope=col>pdays</th><th scope=col>previous</th><th scope=col>emp.var.rate</th><th scope=col>cons.price.idx</th><th scope=col>cons.conf.idx</th><th scope=col>euribor3m</th><th scope=col>nr.employed</th><th scope=col>subscribe</th><th scope=col>job_encoded</th><th scope=col>⋯</th><th scope=col>education_encoded</th><th scope=col>default_encoded</th><th scope=col>housing_encoded</th><th scope=col>loan_encoded</th><th scope=col>contact_encoded</th><th scope=col>month_encoded</th><th scope=col>day_of_week_encoded</th><th scope=col>campaign_encoded</th><th scope=col>poutcome_encoded</th><th scope=col>age_group_encoded</th></tr>\n",
       "\t<tr><th></th><th scope=col>&lt;int&gt;</th><th scope=col>&lt;dbl&gt;</th><th scope=col>&lt;dbl&gt;</th><th scope=col>&lt;dbl&gt;</th><th scope=col>&lt;dbl&gt;</th><th scope=col>&lt;dbl&gt;</th><th scope=col>&lt;dbl&gt;</th><th scope=col>&lt;dbl&gt;</th><th scope=col>&lt;int&gt;</th><th scope=col>&lt;dbl&gt;</th><th scope=col>⋯</th><th scope=col>&lt;dbl&gt;</th><th scope=col>&lt;dbl&gt;</th><th scope=col>&lt;dbl&gt;</th><th scope=col>&lt;dbl&gt;</th><th scope=col>&lt;dbl&gt;</th><th scope=col>&lt;dbl&gt;</th><th scope=col>&lt;dbl&gt;</th><th scope=col>&lt;dbl&gt;</th><th scope=col>&lt;dbl&gt;</th><th scope=col>&lt;dbl&gt;</th></tr>\n",
       "</thead>\n",
       "<tbody>\n",
       "\t<tr><th scope=row>1</th><td>29925</td><td>999</td><td>0</td><td> 1.4</td><td>93.918</td><td>-42.7</td><td>4.968</td><td>5228.1</td><td>0</td><td>1</td><td>⋯</td><td>1</td><td>1</td><td>1</td><td>1</td><td>1</td><td>1</td><td>1</td><td>1</td><td>1</td><td>1</td></tr>\n",
       "\t<tr><th scope=row>2</th><td>37529</td><td>999</td><td>0</td><td> 1.4</td><td>94.465</td><td>-41.8</td><td>4.960</td><td>5228.1</td><td>0</td><td>2</td><td>⋯</td><td>2</td><td>1</td><td>2</td><td>1</td><td>2</td><td>2</td><td>2</td><td>2</td><td>1</td><td>1</td></tr>\n",
       "\t<tr><th scope=row>3</th><td> 2757</td><td>999</td><td>0</td><td>-1.8</td><td>92.893</td><td>-46.2</td><td>1.264</td><td>5099.1</td><td>0</td><td>3</td><td>⋯</td><td>1</td><td>1</td><td>2</td><td>2</td><td>1</td><td>3</td><td>2</td><td>1</td><td>1</td><td>1</td></tr>\n",
       "\t<tr><th scope=row>4</th><td> 9642</td><td>999</td><td>0</td><td>-1.8</td><td>93.075</td><td>-47.1</td><td>1.453</td><td>5099.1</td><td>0</td><td>4</td><td>⋯</td><td>3</td><td>1</td><td>2</td><td>1</td><td>1</td><td>4</td><td>3</td><td>1</td><td>1</td><td>2</td></tr>\n",
       "\t<tr><th scope=row>5</th><td>14183</td><td>999</td><td>0</td><td> 1.1</td><td>93.994</td><td>-36.4</td><td>4.859</td><td>5191.0</td><td>0</td><td>5</td><td>⋯</td><td>4</td><td>2</td><td>3</td><td>3</td><td>2</td><td>3</td><td>4</td><td>1</td><td>1</td><td>2</td></tr>\n",
       "\t<tr><th scope=row>6</th><td>15180</td><td>999</td><td>0</td><td> 1.1</td><td>93.994</td><td>-36.4</td><td>4.858</td><td>5191.0</td><td>0</td><td>3</td><td>⋯</td><td>5</td><td>1</td><td>1</td><td>1</td><td>2</td><td>3</td><td>4</td><td>3</td><td>1</td><td>1</td></tr>\n",
       "</tbody>\n",
       "</table>\n"
      ],
      "text/latex": [
       "A data.frame: 6 × 21\n",
       "\\begin{tabular}{r|lllllllllllllllllllll}\n",
       "  & client\\_id & pdays & previous & emp.var.rate & cons.price.idx & cons.conf.idx & euribor3m & nr.employed & subscribe & job\\_encoded & ⋯ & education\\_encoded & default\\_encoded & housing\\_encoded & loan\\_encoded & contact\\_encoded & month\\_encoded & day\\_of\\_week\\_encoded & campaign\\_encoded & poutcome\\_encoded & age\\_group\\_encoded\\\\\n",
       "  & <int> & <dbl> & <dbl> & <dbl> & <dbl> & <dbl> & <dbl> & <dbl> & <int> & <dbl> & ⋯ & <dbl> & <dbl> & <dbl> & <dbl> & <dbl> & <dbl> & <dbl> & <dbl> & <dbl> & <dbl>\\\\\n",
       "\\hline\n",
       "\t1 & 29925 & 999 & 0 &  1.4 & 93.918 & -42.7 & 4.968 & 5228.1 & 0 & 1 & ⋯ & 1 & 1 & 1 & 1 & 1 & 1 & 1 & 1 & 1 & 1\\\\\n",
       "\t2 & 37529 & 999 & 0 &  1.4 & 94.465 & -41.8 & 4.960 & 5228.1 & 0 & 2 & ⋯ & 2 & 1 & 2 & 1 & 2 & 2 & 2 & 2 & 1 & 1\\\\\n",
       "\t3 &  2757 & 999 & 0 & -1.8 & 92.893 & -46.2 & 1.264 & 5099.1 & 0 & 3 & ⋯ & 1 & 1 & 2 & 2 & 1 & 3 & 2 & 1 & 1 & 1\\\\\n",
       "\t4 &  9642 & 999 & 0 & -1.8 & 93.075 & -47.1 & 1.453 & 5099.1 & 0 & 4 & ⋯ & 3 & 1 & 2 & 1 & 1 & 4 & 3 & 1 & 1 & 2\\\\\n",
       "\t5 & 14183 & 999 & 0 &  1.1 & 93.994 & -36.4 & 4.859 & 5191.0 & 0 & 5 & ⋯ & 4 & 2 & 3 & 3 & 2 & 3 & 4 & 1 & 1 & 2\\\\\n",
       "\t6 & 15180 & 999 & 0 &  1.1 & 93.994 & -36.4 & 4.858 & 5191.0 & 0 & 3 & ⋯ & 5 & 1 & 1 & 1 & 2 & 3 & 4 & 3 & 1 & 1\\\\\n",
       "\\end{tabular}\n"
      ],
      "text/markdown": [
       "\n",
       "A data.frame: 6 × 21\n",
       "\n",
       "| <!--/--> | client_id &lt;int&gt; | pdays &lt;dbl&gt; | previous &lt;dbl&gt; | emp.var.rate &lt;dbl&gt; | cons.price.idx &lt;dbl&gt; | cons.conf.idx &lt;dbl&gt; | euribor3m &lt;dbl&gt; | nr.employed &lt;dbl&gt; | subscribe &lt;int&gt; | job_encoded &lt;dbl&gt; | ⋯ ⋯ | education_encoded &lt;dbl&gt; | default_encoded &lt;dbl&gt; | housing_encoded &lt;dbl&gt; | loan_encoded &lt;dbl&gt; | contact_encoded &lt;dbl&gt; | month_encoded &lt;dbl&gt; | day_of_week_encoded &lt;dbl&gt; | campaign_encoded &lt;dbl&gt; | poutcome_encoded &lt;dbl&gt; | age_group_encoded &lt;dbl&gt; |\n",
       "|---|---|---|---|---|---|---|---|---|---|---|---|---|---|---|---|---|---|---|---|---|---|\n",
       "| 1 | 29925 | 999 | 0 |  1.4 | 93.918 | -42.7 | 4.968 | 5228.1 | 0 | 1 | ⋯ | 1 | 1 | 1 | 1 | 1 | 1 | 1 | 1 | 1 | 1 |\n",
       "| 2 | 37529 | 999 | 0 |  1.4 | 94.465 | -41.8 | 4.960 | 5228.1 | 0 | 2 | ⋯ | 2 | 1 | 2 | 1 | 2 | 2 | 2 | 2 | 1 | 1 |\n",
       "| 3 |  2757 | 999 | 0 | -1.8 | 92.893 | -46.2 | 1.264 | 5099.1 | 0 | 3 | ⋯ | 1 | 1 | 2 | 2 | 1 | 3 | 2 | 1 | 1 | 1 |\n",
       "| 4 |  9642 | 999 | 0 | -1.8 | 93.075 | -47.1 | 1.453 | 5099.1 | 0 | 4 | ⋯ | 3 | 1 | 2 | 1 | 1 | 4 | 3 | 1 | 1 | 2 |\n",
       "| 5 | 14183 | 999 | 0 |  1.1 | 93.994 | -36.4 | 4.859 | 5191.0 | 0 | 5 | ⋯ | 4 | 2 | 3 | 3 | 2 | 3 | 4 | 1 | 1 | 2 |\n",
       "| 6 | 15180 | 999 | 0 |  1.1 | 93.994 | -36.4 | 4.858 | 5191.0 | 0 | 3 | ⋯ | 5 | 1 | 1 | 1 | 2 | 3 | 4 | 3 | 1 | 1 |\n",
       "\n"
      ],
      "text/plain": [
       "  client_id pdays previous emp.var.rate cons.price.idx cons.conf.idx euribor3m\n",
       "1 29925     999   0         1.4         93.918         -42.7         4.968    \n",
       "2 37529     999   0         1.4         94.465         -41.8         4.960    \n",
       "3  2757     999   0        -1.8         92.893         -46.2         1.264    \n",
       "4  9642     999   0        -1.8         93.075         -47.1         1.453    \n",
       "5 14183     999   0         1.1         93.994         -36.4         4.859    \n",
       "6 15180     999   0         1.1         93.994         -36.4         4.858    \n",
       "  nr.employed subscribe job_encoded <U+22EF>        education_encoded default_encoded\n",
       "1 5228.1      0         1           <U+22EF> 1                 1              \n",
       "2 5228.1      0         2           <U+22EF> 2                 1              \n",
       "3 5099.1      0         3           <U+22EF> 1                 1              \n",
       "4 5099.1      0         4           <U+22EF> 3                 1              \n",
       "5 5191.0      0         5           <U+22EF> 4                 2              \n",
       "6 5191.0      0         3           <U+22EF> 5                 1              \n",
       "  housing_encoded loan_encoded contact_encoded month_encoded\n",
       "1 1               1            1               1            \n",
       "2 2               1            2               2            \n",
       "3 2               2            1               3            \n",
       "4 2               1            1               4            \n",
       "5 3               3            2               3            \n",
       "6 1               1            2               3            \n",
       "  day_of_week_encoded campaign_encoded poutcome_encoded age_group_encoded\n",
       "1 1                   1                1                1                \n",
       "2 2                   2                1                1                \n",
       "3 2                   1                1                1                \n",
       "4 3                   1                1                2                \n",
       "5 4                   1                1                2                \n",
       "6 4                   3                1                1                "
      ]
     },
     "metadata": {},
     "output_type": "display_data"
    }
   ],
   "source": [
    "# dropping all the categorical variables\n",
    "drop <- c('job', 'marital', 'education', 'default', 'housing', 'loan', 'contact', 'month', 'day_of_week', 'campaign', 'poutcome', 'age_group', 'age')\n",
    "new_df <- new_df[,!(names(new_df) %in% drop)]\n",
    "head(new_df)"
   ]
  },
  {
   "cell_type": "code",
   "execution_count": 19,
   "id": "140a400d",
   "metadata": {},
   "outputs": [
    {
     "data": {
      "text/html": [
       "0"
      ],
      "text/latex": [
       "0"
      ],
      "text/markdown": [
       "0"
      ],
      "text/plain": [
       "[1] 0"
      ]
     },
     "metadata": {},
     "output_type": "display_data"
    }
   ],
   "source": [
    "# check whether there are no NA's now\n",
    "sum(is.na(new_df))"
   ]
  },
  {
   "cell_type": "code",
   "execution_count": 20,
   "id": "80012ce9",
   "metadata": {},
   "outputs": [
    {
     "data": {
      "text/html": [
       "21"
      ],
      "text/latex": [
       "21"
      ],
      "text/markdown": [
       "21"
      ],
      "text/plain": [
       "[1] 21"
      ]
     },
     "metadata": {},
     "output_type": "display_data"
    }
   ],
   "source": [
    "length(new_df)"
   ]
  },
  {
   "cell_type": "markdown",
   "id": "f30ecd1e",
   "metadata": {},
   "source": [
    "## DATA EXPLORATION"
   ]
  },
  {
   "cell_type": "code",
   "execution_count": 21,
   "id": "5260bce8",
   "metadata": {},
   "outputs": [
    {
     "name": "stderr",
     "output_type": "stream",
     "text": [
      "corrplot 0.92 loaded\n",
      "\n"
     ]
    }
   ],
   "source": [
    "#install.packages('corrplot')\n",
    "library(corrplot)"
   ]
  },
  {
   "cell_type": "code",
   "execution_count": 22,
   "id": "02019824",
   "metadata": {},
   "outputs": [],
   "source": [
    "M<-cor(new_df[,!names(new_df) %in% 'subscribe'])"
   ]
  },
  {
   "cell_type": "code",
   "execution_count": 23,
   "id": "f1006682",
   "metadata": {},
   "outputs": [
    {
     "data": {
      "image/png": "[encoded data removed]",
      "text/plain": [
       "Plot with title \"\""
      ]
     },
     "metadata": {
      "image/png": {
       "height": 420,
       "width": 420
      }
     },
     "output_type": "display_data"
    }
   ],
   "source": [
    "corrplot(M, method=\"color\")"
   ]
  },
  {
   "cell_type": "code",
   "execution_count": 24,
   "id": "1bf9ffe2",
   "metadata": {},
   "outputs": [
    {
     "data": {
      "image/png": "[encoded data removed]",
      "text/plain": [
       "Plot with title \"Relation between Subscribe and emp.var.rate\""
      ]
     },
     "metadata": {
      "image/png": {
       "height": 420,
       "width": 420
      }
     },
     "output_type": "display_data"
    }
   ],
   "source": [
    "boxplot(data_df$emp.var.rate~data_df$subscribe, main=\"Relation between Subscribe and emp.var.rate\",  names = c('Not subscribed', 'Subscribed'))"
   ]
  },
  {
   "cell_type": "code",
   "execution_count": 25,
   "id": "e55b74f4",
   "metadata": {},
   "outputs": [
    {
     "data": {
      "image/png": "[encoded data removed]",
      "text/plain": [
       "Plot with title \"Relation between Subscribe and previous\""
      ]
     },
     "metadata": {
      "image/png": {
       "height": 420,
       "width": 420
      }
     },
     "output_type": "display_data"
    }
   ],
   "source": [
    "boxplot(data_df$previous~data_df$subscribe, main=\"Relation between Subscribe and previous\", names = c('Not subscribed', 'Subscribed'))"
   ]
  },
  {
   "cell_type": "code",
   "execution_count": 26,
   "id": "ed77000e",
   "metadata": {},
   "outputs": [
    {
     "data": {
      "image/png": "[encoded data removed]",
      "text/plain": [
       "Plot with title \"Relation between Subscribe and cons.price.idx\""
      ]
     },
     "metadata": {
      "image/png": {
       "height": 420,
       "width": 420
      }
     },
     "output_type": "display_data"
    }
   ],
   "source": [
    "boxplot(new_df$cons.price.idx ~ new_df$subscribe, main=\"Relation between Subscribe and cons.price.idx\", names = c('Not subscribed', 'Subscribed'))"
   ]
  },
  {
   "cell_type": "code",
   "execution_count": 27,
   "id": "8fa0a16b",
   "metadata": {},
   "outputs": [
    {
     "data": {
      "image/png": "[encoded data removed]",
      "text/plain": [
       "Plot with title \"Relation between Subscribe and cons.conf.idx\""
      ]
     },
     "metadata": {
      "image/png": {
       "height": 420,
       "width": 420
      }
     },
     "output_type": "display_data"
    }
   ],
   "source": [
    "boxplot(data_df$cons.conf.idx ~ data_df$subscribe, main=\"Relation between Subscribe and cons.conf.idx\", names = c('Not subscribed', 'Subscribed'))"
   ]
  },
  {
   "cell_type": "code",
   "execution_count": 28,
   "id": "eb58ec60",
   "metadata": {},
   "outputs": [
    {
     "data": {
      "image/png": "[encoded data removed]",
      "text/plain": [
       "Plot with title \"Relation between Subscribe and euribor3m\""
      ]
     },
     "metadata": {
      "image/png": {
       "height": 420,
       "width": 420
      }
     },
     "output_type": "display_data"
    }
   ],
   "source": [
    "boxplot(data_df$euribor3m ~ data_df$subscribe, main=\"Relation between Subscribe and euribor3m\", names = c('Not subscribed', 'Subscribed'))"
   ]
  },
  {
   "cell_type": "code",
   "execution_count": 29,
   "id": "66dc7c98",
   "metadata": {},
   "outputs": [
    {
     "data": {
      "image/png": "[encoded data removed]",
      "text/plain": [
       "Plot with title \"Relation between Subscribe and nr.employed\""
      ]
     },
     "metadata": {
      "image/png": {
       "height": 420,
       "width": 420
      }
     },
     "output_type": "display_data"
    }
   ],
   "source": [
    "boxplot(data_df$nr.employed ~ data_df$subscribe, main=\"Relation between Subscribe and nr.employed\", names = c('Not subscribed', 'Subscribed'))"
   ]
  },
  {
   "cell_type": "code",
   "execution_count": 30,
   "id": "c51f79d9",
   "metadata": {},
   "outputs": [
    {
     "data": {
      "image/png": "[encoded data removed]",
      "text/plain": [
       "Plot with title \"Relation between Subscribe and age\""
      ]
     },
     "metadata": {
      "image/png": {
       "height": 420,
       "width": 420
      }
     },
     "output_type": "display_data"
    }
   ],
   "source": [
    "boxplot(data_df$age ~ data_df$subscribe, main=\"Relation between Subscribe and age\", names = c('Not subscribed', 'Subscribed'))"
   ]
  },
  {
   "cell_type": "markdown",
   "id": "f3679919",
   "metadata": {},
   "source": [
    "# Feature selection\n",
    "## exhaustive feature selection"
   ]
  },
  {
   "cell_type": "code",
   "execution_count": 31,
   "id": "f4843aec",
   "metadata": {},
   "outputs": [
    {
     "data": {
      "image/png": "[encoded data removed]",
      "text/plain": [
       "plot without title"
      ]
     },
     "metadata": {
      "image/png": {
       "height": 420,
       "width": 420
      }
     },
     "output_type": "display_data"
    },
    {
     "data": {
      "image/png": "[encoded data removed]",
      "text/plain": [
       "plot without title"
      ]
     },
     "metadata": {
      "image/png": {
       "height": 420,
       "width": 420
      }
     },
     "output_type": "display_data"
    },
    {
     "data": {
      "image/png": "[encoded data removed]",
      "text/plain": [
       "plot without title"
      ]
     },
     "metadata": {
      "image/png": {
       "height": 420,
       "width": 420
      }
     },
     "output_type": "display_data"
    }
   ],
   "source": [
    "library(leaps)\n",
    "# fit the model\n",
    "regfit.full=regsubsets(subscribe~.,data=new_df,nvmax=20)\n",
    "# summary of the feature selection\n",
    "reg.summary.full=summary(regfit.full)\n",
    "\n",
    "# plots of the exhaustive feature selection using Cp coefficients\n",
    "plot(reg.summary.full$cp, xlab = 'Number of features', ylab = 'Cp')\n",
    "points(which.min(reg.summary.full$cp),reg.summary.full$cp[which.min(reg.summary.full$cp)] ,pch = 20, col = 'red')\n",
    "# plots of the exhaustive feature selection using bic coefficients\n",
    "plot(reg.summary.full$bic, xlab = 'Number of features', ylab = 'BIC')\n",
    "points(which.min(reg.summary.full$bic),reg.summary.full$bic[which.min(reg.summary.full$bic)] ,pch = 20, col = 'red')\n",
    "# plots of the exhaustive feature selection using adjr2 coefficients\n",
    "plot(reg.summary.full$adjr2, xlab = 'Number of features', ylab = 'Adjusted R Square')\n",
    "points(which.max(reg.summary.full$adjr2),reg.summary.full$adjr2[which.max(reg.summary.full$adjr2)] ,pch = 20, col = 'red')"
   ]
  },
  {
   "cell_type": "code",
   "execution_count": 32,
   "id": "f0f886f1",
   "metadata": {},
   "outputs": [
    {
     "data": {
      "text/html": [
       "<style>\n",
       ".dl-inline {width: auto; margin:0; padding: 0}\n",
       ".dl-inline>dt, .dl-inline>dd {float: none; width: auto; display: inline-block}\n",
       ".dl-inline>dt::after {content: \":\\0020\"; padding-right: .5ex}\n",
       ".dl-inline>dt:not(:first-of-type) {padding-left: .5ex}\n",
       "</style><dl class=dl-inline><dt>(Intercept)</dt><dd>-12.3502582275305</dd><dt>pdays</dt><dd>-0.000416601920423301</dd><dt>previous</dt><dd>-0.0295089532679454</dd><dt>emp.var.rate</dt><dd>-0.0623833359138552</dd><dt>cons.price.idx</dt><dd>0.156571609440536</dd><dt>cons.conf.idx</dt><dd>0.00814912550456594</dd><dt>euribor3m</dt><dd>-0.0139034200027513</dd><dt>nr.employed</dt><dd>-0.000243822913207525</dd><dt>marital_encoded</dt><dd>0.00567523163380913</dd><dt>default_encoded</dt><dd>-0.0232535916120382</dd><dt>contact_encoded</dt><dd>-0.0938144128858069</dd><dt>month_encoded</dt><dd>0.00777488716789442</dd><dt>poutcome_encoded</dt><dd>-0.028865646749613</dd><dt>age_group_encoded</dt><dd>0.0136743490268125</dd></dl>\n"
      ],
      "text/latex": [
       "\\begin{description*}\n",
       "\\item[(Intercept)] -12.3502582275305\n",
       "\\item[pdays] -0.000416601920423301\n",
       "\\item[previous] -0.0295089532679454\n",
       "\\item[emp.var.rate] -0.0623833359138552\n",
       "\\item[cons.price.idx] 0.156571609440536\n",
       "\\item[cons.conf.idx] 0.00814912550456594\n",
       "\\item[euribor3m] -0.0139034200027513\n",
       "\\item[nr.employed] -0.000243822913207525\n",
       "\\item[marital\\textbackslash{}\\_encoded] 0.00567523163380913\n",
       "\\item[default\\textbackslash{}\\_encoded] -0.0232535916120382\n",
       "\\item[contact\\textbackslash{}\\_encoded] -0.0938144128858069\n",
       "\\item[month\\textbackslash{}\\_encoded] 0.00777488716789442\n",
       "\\item[poutcome\\textbackslash{}\\_encoded] -0.028865646749613\n",
       "\\item[age\\textbackslash{}\\_group\\textbackslash{}\\_encoded] 0.0136743490268125\n",
       "\\end{description*}\n"
      ],
      "text/markdown": [
       "(Intercept)\n",
       ":   -12.3502582275305pdays\n",
       ":   -0.000416601920423301previous\n",
       ":   -0.0295089532679454emp.var.rate\n",
       ":   -0.0623833359138552cons.price.idx\n",
       ":   0.156571609440536cons.conf.idx\n",
       ":   0.00814912550456594euribor3m\n",
       ":   -0.0139034200027513nr.employed\n",
       ":   -0.000243822913207525marital_encoded\n",
       ":   0.00567523163380913default_encoded\n",
       ":   -0.0232535916120382contact_encoded\n",
       ":   -0.0938144128858069month_encoded\n",
       ":   0.00777488716789442poutcome_encoded\n",
       ":   -0.028865646749613age_group_encoded\n",
       ":   0.0136743490268125\n",
       "\n"
      ],
      "text/plain": [
       "      (Intercept)             pdays          previous      emp.var.rate \n",
       "    -1.235026e+01     -4.166019e-04     -2.950895e-02     -6.238334e-02 \n",
       "   cons.price.idx     cons.conf.idx         euribor3m       nr.employed \n",
       "     1.565716e-01      8.149126e-03     -1.390342e-02     -2.438229e-04 \n",
       "  marital_encoded   default_encoded   contact_encoded     month_encoded \n",
       "     5.675232e-03     -2.325359e-02     -9.381441e-02      7.774887e-03 \n",
       " poutcome_encoded age_group_encoded \n",
       "    -2.886565e-02      1.367435e-02 "
      ]
     },
     "metadata": {},
     "output_type": "display_data"
    },
    {
     "data": {
      "image/png": "[encoded data removed]",
      "text/plain": [
       "plot without title"
      ]
     },
     "metadata": {
      "image/png": {
       "height": 420,
       "width": 420
      }
     },
     "output_type": "display_data"
    }
   ],
   "source": [
    "#cp co-efficients \n",
    "coef(regfit.full,which.min(reg.summary.full$cp))\n",
    "\n",
    "plot(regfit.full, scale = 'Cp')"
   ]
  },
  {
   "cell_type": "code",
   "execution_count": 33,
   "id": "60d21045",
   "metadata": {},
   "outputs": [],
   "source": [
    "# saving the names of features \n",
    "selection.exhaustive.cp=names(coef(regfit.full,which.min(reg.summary.full$cp)))[-1]"
   ]
  },
  {
   "cell_type": "code",
   "execution_count": 34,
   "id": "83a25d74",
   "metadata": {},
   "outputs": [
    {
     "data": {
      "text/html": [
       "<style>\n",
       ".list-inline {list-style: none; margin:0; padding: 0}\n",
       ".list-inline>li {display: inline-block}\n",
       ".list-inline>li:not(:last-child)::after {content: \"\\00b7\"; padding: 0 .5ex}\n",
       "</style>\n",
       "<ol class=list-inline><li>'pdays'</li><li>'previous'</li><li>'emp.var.rate'</li><li>'cons.price.idx'</li><li>'cons.conf.idx'</li><li>'euribor3m'</li><li>'nr.employed'</li><li>'marital_encoded'</li><li>'default_encoded'</li><li>'contact_encoded'</li><li>'month_encoded'</li><li>'poutcome_encoded'</li><li>'age_group_encoded'</li></ol>\n"
      ],
      "text/latex": [
       "\\begin{enumerate*}\n",
       "\\item 'pdays'\n",
       "\\item 'previous'\n",
       "\\item 'emp.var.rate'\n",
       "\\item 'cons.price.idx'\n",
       "\\item 'cons.conf.idx'\n",
       "\\item 'euribor3m'\n",
       "\\item 'nr.employed'\n",
       "\\item 'marital\\_encoded'\n",
       "\\item 'default\\_encoded'\n",
       "\\item 'contact\\_encoded'\n",
       "\\item 'month\\_encoded'\n",
       "\\item 'poutcome\\_encoded'\n",
       "\\item 'age\\_group\\_encoded'\n",
       "\\end{enumerate*}\n"
      ],
      "text/markdown": [
       "1. 'pdays'\n",
       "2. 'previous'\n",
       "3. 'emp.var.rate'\n",
       "4. 'cons.price.idx'\n",
       "5. 'cons.conf.idx'\n",
       "6. 'euribor3m'\n",
       "7. 'nr.employed'\n",
       "8. 'marital_encoded'\n",
       "9. 'default_encoded'\n",
       "10. 'contact_encoded'\n",
       "11. 'month_encoded'\n",
       "12. 'poutcome_encoded'\n",
       "13. 'age_group_encoded'\n",
       "\n",
       "\n"
      ],
      "text/plain": [
       " [1] \"pdays\"             \"previous\"          \"emp.var.rate\"     \n",
       " [4] \"cons.price.idx\"    \"cons.conf.idx\"     \"euribor3m\"        \n",
       " [7] \"nr.employed\"       \"marital_encoded\"   \"default_encoded\"  \n",
       "[10] \"contact_encoded\"   \"month_encoded\"     \"poutcome_encoded\" \n",
       "[13] \"age_group_encoded\""
      ]
     },
     "metadata": {},
     "output_type": "display_data"
    }
   ],
   "source": [
    "selection.exhaustive.cp"
   ]
  },
  {
   "cell_type": "markdown",
   "id": "743f1f9f",
   "metadata": {},
   "source": [
    "## Forward stepwise selection"
   ]
  },
  {
   "cell_type": "code",
   "execution_count": 35,
   "id": "20a3a74c",
   "metadata": {},
   "outputs": [
    {
     "data": {
      "image/png": "[encoded data removed]",
      "text/plain": [
       "plot without title"
      ]
     },
     "metadata": {
      "image/png": {
       "height": 420,
       "width": 420
      }
     },
     "output_type": "display_data"
    },
    {
     "data": {
      "image/png": "[encoded data removed]",
      "text/plain": [
       "plot without title"
      ]
     },
     "metadata": {
      "image/png": {
       "height": 420,
       "width": 420
      }
     },
     "output_type": "display_data"
    },
    {
     "data": {
      "image/png": "[encoded data removed]",
      "text/plain": [
       "plot without title"
      ]
     },
     "metadata": {
      "image/png": {
       "height": 420,
       "width": 420
      }
     },
     "output_type": "display_data"
    }
   ],
   "source": [
    "# fit the model\n",
    "regfit.fwd=regsubsets(subscribe~.,data=new_df,method = 'forward', nvmax=20)\n",
    "# summary of the feature selection\n",
    "reg.summary.fwd=summary(regfit.fwd)\n",
    "\n",
    "# plots of the exhaustive feature selection using Cp coefficients\n",
    "plot(reg.summary.fwd$cp, xlab = 'Number of features', ylab = 'Cp')\n",
    "points(which.min(reg.summary.fwd$cp),reg.summary.fwd$cp[which.min(reg.summary.fwd$cp)] ,pch = 20, col = 'red')\n",
    "# plots of the exhaustive feature selection using bic coefficients\n",
    "plot(reg.summary.fwd$bic, xlab = 'Number of features', ylab = 'BIC')\n",
    "points(which.min(reg.summary.fwd$bic),reg.summary.fwd$bic[which.min(reg.summary.fwd$bic)] ,pch = 20, col = 'red')\n",
    "# plots of the exhaustive feature selection using adjr2 coefficients\n",
    "plot(reg.summary.fwd$adjr2, xlab = 'Number of features', ylab = 'Adjusted R Square')\n",
    "points(which.max(reg.summary.fwd$adjr2),reg.summary.fwd$adjr2[which.max(reg.summary.fwd$adjr2)] ,pch = 20, col = 'red')"
   ]
  },
  {
   "cell_type": "code",
   "execution_count": 36,
   "id": "6a94a75a",
   "metadata": {},
   "outputs": [
    {
     "data": {
      "text/html": [
       "<style>\n",
       ".dl-inline {width: auto; margin:0; padding: 0}\n",
       ".dl-inline>dt, .dl-inline>dd {float: none; width: auto; display: inline-block}\n",
       ".dl-inline>dt::after {content: \":\\0020\"; padding-right: .5ex}\n",
       ".dl-inline>dt:not(:first-of-type) {padding-left: .5ex}\n",
       "</style><dl class=dl-inline><dt>(Intercept)</dt><dd>-12.3502582275304</dd><dt>pdays</dt><dd>-0.000416601920423301</dd><dt>previous</dt><dd>-0.0295089532679452</dd><dt>emp.var.rate</dt><dd>-0.062383335913855</dd><dt>cons.price.idx</dt><dd>0.156571609440536</dd><dt>cons.conf.idx</dt><dd>0.00814912550456593</dd><dt>euribor3m</dt><dd>-0.0139034200027512</dd><dt>nr.employed</dt><dd>-0.000243822913207528</dd><dt>marital_encoded</dt><dd>0.0056752316338091</dd><dt>default_encoded</dt><dd>-0.0232535916120383</dd><dt>contact_encoded</dt><dd>-0.0938144128858073</dd><dt>month_encoded</dt><dd>0.00777488716789436</dd><dt>poutcome_encoded</dt><dd>-0.0288656467496124</dd><dt>age_group_encoded</dt><dd>0.0136743490268126</dd></dl>\n"
      ],
      "text/latex": [
       "\\begin{description*}\n",
       "\\item[(Intercept)] -12.3502582275304\n",
       "\\item[pdays] -0.000416601920423301\n",
       "\\item[previous] -0.0295089532679452\n",
       "\\item[emp.var.rate] -0.062383335913855\n",
       "\\item[cons.price.idx] 0.156571609440536\n",
       "\\item[cons.conf.idx] 0.00814912550456593\n",
       "\\item[euribor3m] -0.0139034200027512\n",
       "\\item[nr.employed] -0.000243822913207528\n",
       "\\item[marital\\textbackslash{}\\_encoded] 0.0056752316338091\n",
       "\\item[default\\textbackslash{}\\_encoded] -0.0232535916120383\n",
       "\\item[contact\\textbackslash{}\\_encoded] -0.0938144128858073\n",
       "\\item[month\\textbackslash{}\\_encoded] 0.00777488716789436\n",
       "\\item[poutcome\\textbackslash{}\\_encoded] -0.0288656467496124\n",
       "\\item[age\\textbackslash{}\\_group\\textbackslash{}\\_encoded] 0.0136743490268126\n",
       "\\end{description*}\n"
      ],
      "text/markdown": [
       "(Intercept)\n",
       ":   -12.3502582275304pdays\n",
       ":   -0.000416601920423301previous\n",
       ":   -0.0295089532679452emp.var.rate\n",
       ":   -0.062383335913855cons.price.idx\n",
       ":   0.156571609440536cons.conf.idx\n",
       ":   0.00814912550456593euribor3m\n",
       ":   -0.0139034200027512nr.employed\n",
       ":   -0.000243822913207528marital_encoded\n",
       ":   0.0056752316338091default_encoded\n",
       ":   -0.0232535916120383contact_encoded\n",
       ":   -0.0938144128858073month_encoded\n",
       ":   0.00777488716789436poutcome_encoded\n",
       ":   -0.0288656467496124age_group_encoded\n",
       ":   0.0136743490268126\n",
       "\n"
      ],
      "text/plain": [
       "      (Intercept)             pdays          previous      emp.var.rate \n",
       "    -1.235026e+01     -4.166019e-04     -2.950895e-02     -6.238334e-02 \n",
       "   cons.price.idx     cons.conf.idx         euribor3m       nr.employed \n",
       "     1.565716e-01      8.149126e-03     -1.390342e-02     -2.438229e-04 \n",
       "  marital_encoded   default_encoded   contact_encoded     month_encoded \n",
       "     5.675232e-03     -2.325359e-02     -9.381441e-02      7.774887e-03 \n",
       " poutcome_encoded age_group_encoded \n",
       "    -2.886565e-02      1.367435e-02 "
      ]
     },
     "metadata": {},
     "output_type": "display_data"
    },
    {
     "data": {
      "image/png": "[encoded data removed]",
      "text/plain": [
       "plot without title"
      ]
     },
     "metadata": {
      "image/png": {
       "height": 420,
       "width": 420
      }
     },
     "output_type": "display_data"
    }
   ],
   "source": [
    "#cp co-efficients \n",
    "coef(regfit.fwd,which.min(reg.summary.fwd$cp))\n",
    "\n",
    "plot(regfit.fwd, scale = 'Cp')"
   ]
  },
  {
   "cell_type": "code",
   "execution_count": 37,
   "id": "eebe0059",
   "metadata": {},
   "outputs": [
    {
     "data": {
      "text/html": [
       "<style>\n",
       ".list-inline {list-style: none; margin:0; padding: 0}\n",
       ".list-inline>li {display: inline-block}\n",
       ".list-inline>li:not(:last-child)::after {content: \"\\00b7\"; padding: 0 .5ex}\n",
       "</style>\n",
       "<ol class=list-inline><li>'pdays'</li><li>'previous'</li><li>'emp.var.rate'</li><li>'cons.price.idx'</li><li>'cons.conf.idx'</li><li>'euribor3m'</li><li>'nr.employed'</li><li>'marital_encoded'</li><li>'default_encoded'</li><li>'contact_encoded'</li><li>'month_encoded'</li><li>'poutcome_encoded'</li><li>'age_group_encoded'</li></ol>\n"
      ],
      "text/latex": [
       "\\begin{enumerate*}\n",
       "\\item 'pdays'\n",
       "\\item 'previous'\n",
       "\\item 'emp.var.rate'\n",
       "\\item 'cons.price.idx'\n",
       "\\item 'cons.conf.idx'\n",
       "\\item 'euribor3m'\n",
       "\\item 'nr.employed'\n",
       "\\item 'marital\\_encoded'\n",
       "\\item 'default\\_encoded'\n",
       "\\item 'contact\\_encoded'\n",
       "\\item 'month\\_encoded'\n",
       "\\item 'poutcome\\_encoded'\n",
       "\\item 'age\\_group\\_encoded'\n",
       "\\end{enumerate*}\n"
      ],
      "text/markdown": [
       "1. 'pdays'\n",
       "2. 'previous'\n",
       "3. 'emp.var.rate'\n",
       "4. 'cons.price.idx'\n",
       "5. 'cons.conf.idx'\n",
       "6. 'euribor3m'\n",
       "7. 'nr.employed'\n",
       "8. 'marital_encoded'\n",
       "9. 'default_encoded'\n",
       "10. 'contact_encoded'\n",
       "11. 'month_encoded'\n",
       "12. 'poutcome_encoded'\n",
       "13. 'age_group_encoded'\n",
       "\n",
       "\n"
      ],
      "text/plain": [
       " [1] \"pdays\"             \"previous\"          \"emp.var.rate\"     \n",
       " [4] \"cons.price.idx\"    \"cons.conf.idx\"     \"euribor3m\"        \n",
       " [7] \"nr.employed\"       \"marital_encoded\"   \"default_encoded\"  \n",
       "[10] \"contact_encoded\"   \"month_encoded\"     \"poutcome_encoded\" \n",
       "[13] \"age_group_encoded\""
      ]
     },
     "metadata": {},
     "output_type": "display_data"
    }
   ],
   "source": [
    "# saving the names of features \n",
    "selection.forward.cp=names(coef(regfit.fwd,which.min(reg.summary.fwd$cp)))[-1]\n",
    "selection.forward.cp"
   ]
  },
  {
   "cell_type": "markdown",
   "id": "1e3ceba8",
   "metadata": {},
   "source": [
    "## Split the data"
   ]
  },
  {
   "cell_type": "code",
   "execution_count": 38,
   "id": "f8c8b126",
   "metadata": {},
   "outputs": [],
   "source": [
    "set.seed(1)\n",
    "#new_df[selection.forward.cp]\n",
    "index <- sample(1:nrow(new_df), round(0.7 * nrow(new_df), 0))\n",
    "\n",
    "train <- new_df[index, ]\n",
    "test <- new_df[-index, ]"
   ]
  },
  {
   "cell_type": "markdown",
   "id": "14f72864",
   "metadata": {},
   "source": [
    "# Models\n",
    "## Logistic regression"
   ]
  },
  {
   "cell_type": "code",
   "execution_count": 39,
   "id": "ae4d4da1",
   "metadata": {},
   "outputs": [
    {
     "name": "stderr",
     "output_type": "stream",
     "text": [
      "Resampling: cross-validation\n",
      "\n",
      "Measures:             auc       \n",
      "\n",
      "[Resample] iter 1:    0.7685936 \n",
      "\n",
      "[Resample] iter 2:    0.7562454 \n",
      "\n",
      "[Resample] iter 3:    0.7698784 \n",
      "\n",
      "[Resample] iter 4:    0.7772114 \n",
      "\n",
      "[Resample] iter 5:    0.7771029 \n",
      "\n",
      "[Resample] iter 6:    0.7364128 \n",
      "\n",
      "[Resample] iter 7:    0.7995673 \n",
      "\n",
      "[Resample] iter 8:    0.8109741 \n",
      "\n",
      "[Resample] iter 9:    0.7725434 \n",
      "\n",
      "[Resample] iter 10:   0.7851794 \n",
      "\n",
      "\n",
      "\n",
      "\n",
      "Aggregated Result: auc.test.mean=0.7753709\n",
      "\n",
      "\n",
      "\n",
      "\n"
     ]
    },
    {
     "data": {
      "text/plain": [
       "Resample Result\n",
       "Task: new_df\n",
       "Learner: classif.logreg\n",
       "Aggr perf: auc.test.mean=0.7753709\n",
       "Runtime: 1.67214"
      ]
     },
     "metadata": {},
     "output_type": "display_data"
    }
   ],
   "source": [
    "# Set up cross-validation\n",
    "cross = makeResampleDesc(\"CV\", iters=10)\n",
    "\n",
    "# Define the model\n",
    "model <- makeLearner(\"classif.logreg\", predict.type=\"prob\", fix.factors.prediction=T)\n",
    "\n",
    "# Define the model\n",
    "task <- makeClassifTask(data=new_df, target='subscribe')\n",
    "\n",
    "# Run the k-fold CV\n",
    "resample(model, task, cross, measures=list(mlr::auc))"
   ]
  },
  {
   "cell_type": "code",
   "execution_count": 106,
   "id": "b5e52158",
   "metadata": {},
   "outputs": [
    {
     "data": {
      "text/plain": [
       "\n",
       "Call:\n",
       "glm(formula = subscribe ~ ., family = \"binomial\", data = train)\n",
       "\n",
       "Deviance Residuals: \n",
       "    Min       1Q   Median       3Q      Max  \n",
       "-1.8601  -0.4213  -0.3245  -0.2708   2.9186  \n",
       "\n",
       "Coefficients:\n",
       "                      Estimate Std. Error z value Pr(>|z|)    \n",
       "(Intercept)         -1.069e+02  2.120e+01  -5.040 4.65e-07 ***\n",
       "client_id           -5.312e-08  2.518e-06  -0.021 0.983171    \n",
       "pdays               -2.028e-03  1.819e-04 -11.150  < 2e-16 ***\n",
       "previous            -1.719e-01  7.682e-02  -2.238 0.025248 *  \n",
       "emp.var.rate        -5.301e-01  8.823e-02  -6.008 1.88e-09 ***\n",
       "cons.price.idx       1.148e+00  1.445e-01   7.942 2.00e-15 ***\n",
       "cons.conf.idx        4.505e-02  7.535e-03   5.979 2.24e-09 ***\n",
       "euribor3m           -1.912e-01  9.155e-02  -2.088 0.036754 *  \n",
       "nr.employed          5.639e-04  1.787e-03   0.315 0.752389    \n",
       "job_encoded          1.648e-02  1.100e-02   1.498 0.134207    \n",
       "marital_encoded      5.897e-02  4.257e-02   1.385 0.165943    \n",
       "education_encoded   -2.002e-02  1.719e-02  -1.165 0.244212    \n",
       "default_encoded     -4.379e-01  9.820e-02  -4.459 8.23e-06 ***\n",
       "housing_encoded     -2.424e-02  5.818e-02  -0.417 0.676924    \n",
       "loan_encoded         3.395e-02  6.902e-02   0.492 0.622765    \n",
       "contact_encoded     -7.619e-01  9.136e-02  -8.340  < 2e-16 ***\n",
       "month_encoded        6.456e-02  1.809e-02   3.568 0.000359 ***\n",
       "day_of_week_encoded  1.345e-02  2.111e-02   0.637 0.523904    \n",
       "campaign_encoded    -1.800e-02  1.264e-02  -1.424 0.154447    \n",
       "poutcome_encoded    -2.713e-01  1.149e-01  -2.361 0.018208 *  \n",
       "age_group_encoded    1.571e-01  5.682e-02   2.766 0.005678 ** \n",
       "---\n",
       "Signif. codes:  0 '***' 0.001 '**' 0.01 '*' 0.05 '.' 0.1 ' ' 1\n",
       "\n",
       "(Dispersion parameter for binomial family taken to be 1)\n",
       "\n",
       "    Null deviance: 9913.8  on 13999  degrees of freedom\n",
       "Residual deviance: 7943.4  on 13979  degrees of freedom\n",
       "AIC: 7985.4\n",
       "\n",
       "Number of Fisher Scoring iterations: 5\n"
      ]
     },
     "metadata": {},
     "output_type": "display_data"
    }
   ],
   "source": [
    "# Define model for all features\n",
    "log.model <- glm(subscribe ~ ., data = train, family = 'binomial')\n",
    "summary(log.model)"
   ]
  },
  {
   "cell_type": "code",
   "execution_count": 107,
   "id": "3e220364",
   "metadata": {},
   "outputs": [
    {
     "name": "stderr",
     "output_type": "stream",
     "text": [
      "Setting levels: control = 0, case = 1\n",
      "\n",
      "Setting direction: controls < cases\n",
      "\n"
     ]
    },
    {
     "data": {
      "image/png": "[encoded data removed]",
      "text/plain": [
       "plot without title"
      ]
     },
     "metadata": {
      "image/png": {
       "height": 420,
       "width": 420
      }
     },
     "output_type": "display_data"
    }
   ],
   "source": [
    "predicted_train <- predict(log.model, train, type= 'response')\n",
    "predicted_test <- predict(log.model, test,  type= 'response')\n",
    "\n",
    "# # # find optimal cutoff probability to use to maximize accuracy\n",
    "\n",
    "optimal <- 0.1135\n",
    "predictions_train<- ifelse(predicted_train > optimal, 1, 0)\n",
    "predictions_test<- ifelse(predicted_test > optimal, 1, 0)\n",
    "\n",
    "\n",
    "# ROC Curves\n",
    "test_roc = roc(test$subscribe ~ predicted_test, plot = TRUE, print.auc = TRUE)"
   ]
  },
  {
   "cell_type": "code",
   "execution_count": 108,
   "id": "b0a87407",
   "metadata": {},
   "outputs": [
    {
     "data": {
      "text/plain": [
       "   predictions_train\n",
       "       0    1\n",
       "  0 9913 2496\n",
       "  1  543 1048"
      ]
     },
     "metadata": {},
     "output_type": "display_data"
    },
    {
     "data": {
      "text/plain": [
       "   predictions_test\n",
       "       0    1\n",
       "  0 4238 1082\n",
       "  1  235  445"
      ]
     },
     "metadata": {},
     "output_type": "display_data"
    }
   ],
   "source": [
    "conf_mat_train <- table(train$subscribe, predictions_train)\n",
    "conf_mat_train\n",
    "conf_mat_test <- table(test$subscribe, predictions_test)\n",
    "conf_mat_test"
   ]
  },
  {
   "cell_type": "code",
   "execution_count": 109,
   "id": "2a156550",
   "metadata": {},
   "outputs": [
    {
     "name": "stdout",
     "output_type": "stream",
     "text": [
      "[1] \"Train Accuracy =  0.782928571428571\"\n"
     ]
    },
    {
     "name": "stderr",
     "output_type": "stream",
     "text": [
      "Setting levels: control = 0, case = 1\n",
      "\n",
      "Setting direction: controls < cases\n",
      "\n"
     ]
    },
    {
     "name": "stdout",
     "output_type": "stream",
     "text": [
      "[1] \"Train AUC =  0.779632886432715\"\n",
      "[1] \"Test Accuracy =  0.7805\"\n"
     ]
    },
    {
     "name": "stderr",
     "output_type": "stream",
     "text": [
      "Setting levels: control = 0, case = 1\n",
      "\n",
      "Setting direction: controls < cases\n",
      "\n"
     ]
    },
    {
     "name": "stdout",
     "output_type": "stream",
     "text": [
      "[1] \"Test AUC =  0.771144128704113\"\n"
     ]
    }
   ],
   "source": [
    "#accuracy for train\n",
    "accuracy <- (conf_mat_train[1,1]+conf_mat_train[2,2])/(conf_mat_train[1,1]+conf_mat_train[1,2]+conf_mat_train[2,1]+conf_mat_train[2,2])\n",
    "print(paste('Train Accuracy = ', accuracy))\n",
    "\n",
    "print(paste('Train AUC = ', auc(train$subscribe, predicted_train)))\n",
    "\n",
    "#accuracy for test\n",
    "accuracy <- (conf_mat_test[1,1]+conf_mat_test[2,2])/(conf_mat_test[1,1]+conf_mat_test[1,2]+conf_mat_test[2,1]+conf_mat_test[2,2])\n",
    "print(paste('Test Accuracy = ', accuracy))\n",
    "\n",
    "print(paste('Test AUC = ', auc(test$subscribe, predicted_test)))"
   ]
  },
  {
   "cell_type": "code",
   "execution_count": 110,
   "id": "c9d2f44e",
   "metadata": {},
   "outputs": [
    {
     "data": {
      "text/plain": [
       "\n",
       "Call:\n",
       "glm(formula = subscribe ~ ., family = \"binomial\", data = train[c(selection.forward.cp, \n",
       "    \"subscribe\")])\n",
       "\n",
       "Deviance Residuals: \n",
       "    Min       1Q   Median       3Q      Max  \n",
       "-1.8764  -0.4179  -0.3237  -0.2721   2.8918  \n",
       "\n",
       "Coefficients:\n",
       "                    Estimate Std. Error z value Pr(>|z|)    \n",
       "(Intercept)       -1.071e+02  2.117e+01  -5.059 4.22e-07 ***\n",
       "pdays             -2.027e-03  1.818e-04 -11.149  < 2e-16 ***\n",
       "previous          -1.732e-01  7.664e-02  -2.260 0.023799 *  \n",
       "emp.var.rate      -5.425e-01  8.810e-02  -6.158 7.36e-10 ***\n",
       "cons.price.idx     1.153e+00  1.443e-01   7.988 1.38e-15 ***\n",
       "cons.conf.idx      4.532e-02  7.526e-03   6.022 1.73e-09 ***\n",
       "euribor3m         -1.844e-01  9.138e-02  -2.018 0.043615 *  \n",
       "nr.employed        5.162e-04  1.784e-03   0.289 0.772284    \n",
       "marital_encoded    6.328e-02  4.242e-02   1.492 0.135769    \n",
       "default_encoded   -4.434e-01  9.778e-02  -4.534 5.78e-06 ***\n",
       "contact_encoded   -7.634e-01  9.116e-02  -8.375  < 2e-16 ***\n",
       "month_encoded      6.555e-02  1.806e-02   3.629 0.000284 ***\n",
       "poutcome_encoded  -2.681e-01  1.147e-01  -2.337 0.019421 *  \n",
       "age_group_encoded  1.513e-01  5.491e-02   2.756 0.005857 ** \n",
       "---\n",
       "Signif. codes:  0 '***' 0.001 '**' 0.01 '*' 0.05 '.' 0.1 ' ' 1\n",
       "\n",
       "(Dispersion parameter for binomial family taken to be 1)\n",
       "\n",
       "    Null deviance: 9913.8  on 13999  degrees of freedom\n",
       "Residual deviance: 7949.9  on 13986  degrees of freedom\n",
       "AIC: 7977.9\n",
       "\n",
       "Number of Fisher Scoring iterations: 5\n"
      ]
     },
     "metadata": {},
     "output_type": "display_data"
    }
   ],
   "source": [
    "# Define model for selected features\n",
    "log.model <- glm(subscribe ~ ., data = train[c(selection.forward.cp, 'subscribe')], family = 'binomial')\n",
    "summary(log.model)"
   ]
  },
  {
   "cell_type": "code",
   "execution_count": 111,
   "id": "dfbc1f19",
   "metadata": {},
   "outputs": [
    {
     "name": "stderr",
     "output_type": "stream",
     "text": [
      "Setting levels: control = 0, case = 1\n",
      "\n",
      "Setting direction: controls < cases\n",
      "\n"
     ]
    },
    {
     "data": {
      "image/png": "[encoded data removed]",
      "text/plain": [
       "plot without title"
      ]
     },
     "metadata": {
      "image/png": {
       "height": 420,
       "width": 420
      }
     },
     "output_type": "display_data"
    }
   ],
   "source": [
    "#use model to predict probability of subscribe\n",
    "predicted_train <- predict(log.model, train[c(selection.forward.cp, 'subscribe')], type=\"response\")\n",
    "predicted_test <- predict(log.model, test[c(selection.forward.cp, 'subscribe')], type=\"response\")\n",
    "\n",
    "# find optimal cutoff probability to use to maximize accuracy\n",
    "\n",
    "optimal <- 0.1135\n",
    "predictions_train<- ifelse(predicted_train > optimal, 1, 0)\n",
    "predictions_test<- ifelse(predicted_test > optimal, 1, 0)\n",
    "\n",
    "\n",
    "# ROC Curves\n",
    "test_roc = roc(test$subscribe ~ predicted_test, plot = TRUE, print.auc = TRUE)"
   ]
  },
  {
   "cell_type": "code",
   "execution_count": 112,
   "id": "cff58095",
   "metadata": {},
   "outputs": [
    {
     "data": {
      "text/plain": [
       "   predictions_train\n",
       "       0    1\n",
       "  0 9901 2508\n",
       "  1  546 1045"
      ]
     },
     "metadata": {},
     "output_type": "display_data"
    },
    {
     "data": {
      "text/plain": [
       "   predictions_test\n",
       "       0    1\n",
       "  0 4231 1089\n",
       "  1  234  446"
      ]
     },
     "metadata": {},
     "output_type": "display_data"
    }
   ],
   "source": [
    "conf_mat_train <- table(train$subscribe, predictions_train)\n",
    "conf_mat_train\n",
    "conf_mat_test <- table(test$subscribe, predictions_test)\n",
    "conf_mat_test"
   ]
  },
  {
   "cell_type": "code",
   "execution_count": 113,
   "id": "5d57ffd0",
   "metadata": {
    "scrolled": true
   },
   "outputs": [
    {
     "name": "stdout",
     "output_type": "stream",
     "text": [
      "[1] \"Train Accuracy =  0.781857142857143\"\n"
     ]
    },
    {
     "name": "stderr",
     "output_type": "stream",
     "text": [
      "Setting levels: control = 0, case = 1\n",
      "\n",
      "Setting direction: controls < cases\n",
      "\n"
     ]
    },
    {
     "name": "stdout",
     "output_type": "stream",
     "text": [
      "[1] \"train AUC =  0.779569141413602\"\n",
      "[1] \"Test Accuracy =  0.7795\"\n"
     ]
    },
    {
     "name": "stderr",
     "output_type": "stream",
     "text": [
      "Setting levels: control = 0, case = 1\n",
      "\n",
      "Setting direction: controls < cases\n",
      "\n"
     ]
    },
    {
     "name": "stdout",
     "output_type": "stream",
     "text": [
      "[1] \"Test AUC =  0.771167072091995\"\n"
     ]
    }
   ],
   "source": [
    "#accuracy train\n",
    "accuracy <- (conf_mat_train[1,1]+conf_mat_train[2,2])/(conf_mat_train[1,1]+conf_mat_train[1,2]+conf_mat_train[2,1]+conf_mat_train[2,2])\n",
    "print(paste('Train Accuracy = ', accuracy))\n",
    "print(paste('train AUC = ', auc(train$subscribe, predicted_train)))\n",
    "#accuracy for test\n",
    "accuracy <- (conf_mat_test[1,1]+conf_mat_test[2,2])/(conf_mat_test[1,1]+conf_mat_test[1,2]+conf_mat_test[2,1]+conf_mat_test[2,2])\n",
    "print(paste('Test Accuracy = ', accuracy))\n",
    "print(paste('Test AUC = ', auc(test$subscribe, predicted_test)))"
   ]
  },
  {
   "cell_type": "markdown",
   "id": "26a28393",
   "metadata": {},
   "source": [
    "# Decision Tree"
   ]
  },
  {
   "cell_type": "code",
   "execution_count": 41,
   "id": "59c8e510",
   "metadata": {},
   "outputs": [
    {
     "name": "stderr",
     "output_type": "stream",
     "text": [
      "Resampling: cross-validation\n",
      "\n",
      "Measures:             auc       \n",
      "\n",
      "[Resample] iter 1:    0.6737066 \n",
      "\n",
      "[Resample] iter 2:    0.7049169 \n",
      "\n",
      "[Resample] iter 3:    0.7119244 \n",
      "\n",
      "[Resample] iter 4:    0.7175825 \n",
      "\n",
      "[Resample] iter 5:    0.7343568 \n",
      "\n",
      "[Resample] iter 6:    0.6785446 \n",
      "\n",
      "[Resample] iter 7:    0.7099096 \n",
      "\n",
      "[Resample] iter 8:    0.6949153 \n",
      "\n",
      "[Resample] iter 9:    0.7020975 \n",
      "\n",
      "[Resample] iter 10:   0.7174152 \n",
      "\n",
      "\n",
      "\n",
      "\n",
      "Aggregated Result: auc.test.mean=0.7045370\n",
      "\n",
      "\n",
      "\n",
      "\n"
     ]
    },
    {
     "data": {
      "text/plain": [
       "Resample Result\n",
       "Task: new_df\n",
       "Learner: classif.rpart\n",
       "Aggr perf: auc.test.mean=0.7045370\n",
       "Runtime: 1.71963"
      ]
     },
     "metadata": {},
     "output_type": "display_data"
    }
   ],
   "source": [
    "# Set up cross-validation\n",
    "cross = makeResampleDesc(\"CV\", iters=10)\n",
    "\n",
    "# Define the model\n",
    "model <- makeLearner(\"classif.rpart\", predict.type=\"prob\", fix.factors.prediction=T)\n",
    "\n",
    "# Define the model\n",
    "task <- makeClassifTask(data=new_df, target='subscribe')\n",
    "\n",
    "# Run the k-fold CV\n",
    "resample(model, task, cross, measures=list(mlr::auc))"
   ]
  },
  {
   "cell_type": "code",
   "execution_count": 42,
   "id": "f596c9e8",
   "metadata": {},
   "outputs": [],
   "source": [
    "library(rpart)"
   ]
  },
  {
   "cell_type": "code",
   "execution_count": 43,
   "id": "1d529640",
   "metadata": {},
   "outputs": [
    {
     "name": "stdout",
     "output_type": "stream",
     "text": [
      "Call:\n",
      "rpart(formula = as.factor(subscribe) ~ ., data = train[c(selection.forward.cp, \n",
      "    \"subscribe\")], method = \"class\")\n",
      "  n= 14000 \n",
      "\n",
      "          CP nsplit rel error    xerror       xstd\n",
      "1 0.05908234      0 1.0000000 1.0000000 0.02360311\n",
      "2 0.01000000      2 0.8818353 0.8868636 0.02238850\n",
      "\n",
      "Variable importance\n",
      "     nr.employed        euribor3m     emp.var.rate    cons.conf.idx \n",
      "              25               21               14               13 \n",
      "  cons.price.idx    month_encoded            pdays poutcome_encoded \n",
      "              11                6                5                4 \n",
      "        previous \n",
      "               1 \n",
      "\n",
      "Node number 1: 14000 observations,    complexity param=0.05908234\n",
      "  predicted class=0  expected loss=0.1136429  P(node) =1\n",
      "    class counts: 12409  1591\n",
      "   probabilities: 0.886 0.114 \n",
      "  left son=2 (12316 obs) right son=3 (1684 obs)\n",
      "  Primary splits:\n",
      "      nr.employed      < 5087.65    to the right, improve=438.0513, (0 missing)\n",
      "      euribor3m        < 1.2395     to the right, improve=400.6177, (0 missing)\n",
      "      pdays            < 491.7066   to the right, improve=306.5425, (0 missing)\n",
      "      poutcome_encoded < 2.5        to the left,  improve=292.2733, (0 missing)\n",
      "      emp.var.rate     < -0.65      to the right, improve=243.0793, (0 missing)\n",
      "  Surrogate splits:\n",
      "      euribor3m      < 1.2395     to the right, agree=0.982, adj=0.853, (0 split)\n",
      "      emp.var.rate   < -2.35      to the right, agree=0.950, adj=0.586, (0 split)\n",
      "      cons.conf.idx  < -35.45     to the left,  agree=0.943, adj=0.524, (0 split)\n",
      "      cons.price.idx < 92.7345    to the right, agree=0.934, adj=0.448, (0 split)\n",
      "      month_encoded  < 6.5        to the left,  agree=0.910, adj=0.255, (0 split)\n",
      "\n",
      "Node number 2: 12316 observations\n",
      "  predicted class=0  expected loss=0.06739201  P(node) =0.8797143\n",
      "    class counts: 11486   830\n",
      "   probabilities: 0.933 0.067 \n",
      "\n",
      "Node number 3: 1684 observations,    complexity param=0.05908234\n",
      "  predicted class=0  expected loss=0.4519002  P(node) =0.1202857\n",
      "    class counts:   923   761\n",
      "   probabilities: 0.548 0.452 \n",
      "  left son=6 (1256 obs) right son=7 (428 obs)\n",
      "  Primary splits:\n",
      "      pdays            < 16.5       to the right, improve=82.26348, (0 missing)\n",
      "      poutcome_encoded < 2.5        to the left,  improve=79.83024, (0 missing)\n",
      "      emp.var.rate     < -2.35      to the left,  improve=20.52780, (0 missing)\n",
      "      nr.employed      < 5013.1     to the right, improve=19.15226, (0 missing)\n",
      "      previous         < 0.08587237 to the left,  improve=18.70083, (0 missing)\n",
      "  Surrogate splits:\n",
      "      poutcome_encoded < 2.5        to the left,  agree=0.967, adj=0.869, (0 split)\n",
      "      previous         < 1.5        to the left,  agree=0.803, adj=0.224, (0 split)\n",
      "      emp.var.rate     < -0.5057802 to the left,  agree=0.746, adj=0.002, (0 split)\n",
      "\n",
      "Node number 6: 1256 observations\n",
      "  predicted class=0  expected loss=0.3606688  P(node) =0.08971429\n",
      "    class counts:   803   453\n",
      "   probabilities: 0.639 0.361 \n",
      "\n",
      "Node number 7: 428 observations\n",
      "  predicted class=1  expected loss=0.2803738  P(node) =0.03057143\n",
      "    class counts:   120   308\n",
      "   probabilities: 0.280 0.720 \n",
      "\n"
     ]
    }
   ],
   "source": [
    "library(tree)          # CART model\n",
    "# Build simple decision tree model\n",
    "md_tree <- rpart(as.factor(subscribe) ~ ., data=train[c(selection.forward.cp, 'subscribe')], method = 'class')\n",
    "summary(md_tree)"
   ]
  },
  {
   "cell_type": "code",
   "execution_count": 44,
   "id": "2593a959",
   "metadata": {},
   "outputs": [
    {
     "data": {
      "text/plain": [
       "n= 14000 \n",
       "\n",
       "node), split, n, loss, yval, (yprob)\n",
       "      * denotes terminal node\n",
       "\n",
       "1) root 14000 1591 0 (0.88635714 0.11364286)  \n",
       "  2) nr.employed>=5087.65 12316  830 0 (0.93260799 0.06739201) *\n",
       "  3) nr.employed< 5087.65 1684  761 0 (0.54809976 0.45190024)  \n",
       "    6) pdays>=16.5 1256  453 0 (0.63933121 0.36066879) *\n",
       "    7) pdays< 16.5 428  120 1 (0.28037383 0.71962617) *"
      ]
     },
     "metadata": {},
     "output_type": "display_data"
    }
   ],
   "source": [
    "# Print out the tree details\n",
    "md_tree"
   ]
  },
  {
   "cell_type": "code",
   "execution_count": 45,
   "id": "d1bfd753",
   "metadata": {},
   "outputs": [
    {
     "data": {
      "image/png": "[encoded data removed]",
      "text/plain": [
       "plot without title"
      ]
     },
     "metadata": {
      "image/png": {
       "height": 420,
       "width": 420
      }
     },
     "output_type": "display_data"
    }
   ],
   "source": [
    "plot(md_tree)\n",
    "text(md_tree, pretty=0)"
   ]
  },
  {
   "cell_type": "code",
   "execution_count": 46,
   "id": "eb42c5aa",
   "metadata": {},
   "outputs": [
    {
     "name": "stderr",
     "output_type": "stream",
     "text": [
      "\n",
      "Attaching package: 'InformationValue'\n",
      "\n",
      "\n",
      "The following objects are masked from 'package:caret':\n",
      "\n",
      "    confusionMatrix, precision, sensitivity, specificity\n",
      "\n",
      "\n"
     ]
    },
    {
     "data": {
      "text/html": [
       "<table class=\"dataframe\">\n",
       "<caption>A data.frame: 2 × 2</caption>\n",
       "<thead>\n",
       "\t<tr><th></th><th scope=col>0</th><th scope=col>1</th></tr>\n",
       "\t<tr><th></th><th scope=col>&lt;int&gt;</th><th scope=col>&lt;int&gt;</th></tr>\n",
       "</thead>\n",
       "<tbody>\n",
       "\t<tr><th scope=row>0</th><td>12289</td><td>1283</td></tr>\n",
       "\t<tr><th scope=row>1</th><td>  120</td><td> 308</td></tr>\n",
       "</tbody>\n",
       "</table>\n"
      ],
      "text/latex": [
       "A data.frame: 2 × 2\n",
       "\\begin{tabular}{r|ll}\n",
       "  & 0 & 1\\\\\n",
       "  & <int> & <int>\\\\\n",
       "\\hline\n",
       "\t0 & 12289 & 1283\\\\\n",
       "\t1 &   120 &  308\\\\\n",
       "\\end{tabular}\n"
      ],
      "text/markdown": [
       "\n",
       "A data.frame: 2 × 2\n",
       "\n",
       "| <!--/--> | 0 &lt;int&gt; | 1 &lt;int&gt; |\n",
       "|---|---|---|\n",
       "| 0 | 12289 | 1283 |\n",
       "| 1 |   120 |  308 |\n",
       "\n"
      ],
      "text/plain": [
       "  0     1   \n",
       "0 12289 1283\n",
       "1   120  308"
      ]
     },
     "metadata": {},
     "output_type": "display_data"
    },
    {
     "data": {
      "text/html": [
       "<table class=\"dataframe\">\n",
       "<caption>A data.frame: 2 × 2</caption>\n",
       "<thead>\n",
       "\t<tr><th></th><th scope=col>0</th><th scope=col>1</th></tr>\n",
       "\t<tr><th></th><th scope=col>&lt;int&gt;</th><th scope=col>&lt;int&gt;</th></tr>\n",
       "</thead>\n",
       "<tbody>\n",
       "\t<tr><th scope=row>0</th><td>5273</td><td>561</td></tr>\n",
       "\t<tr><th scope=row>1</th><td>  47</td><td>119</td></tr>\n",
       "</tbody>\n",
       "</table>\n"
      ],
      "text/latex": [
       "A data.frame: 2 × 2\n",
       "\\begin{tabular}{r|ll}\n",
       "  & 0 & 1\\\\\n",
       "  & <int> & <int>\\\\\n",
       "\\hline\n",
       "\t0 & 5273 & 561\\\\\n",
       "\t1 &   47 & 119\\\\\n",
       "\\end{tabular}\n"
      ],
      "text/markdown": [
       "\n",
       "A data.frame: 2 × 2\n",
       "\n",
       "| <!--/--> | 0 &lt;int&gt; | 1 &lt;int&gt; |\n",
       "|---|---|---|\n",
       "| 0 | 5273 | 561 |\n",
       "| 1 |   47 | 119 |\n",
       "\n"
      ],
      "text/plain": [
       "  0    1  \n",
       "0 5273 561\n",
       "1   47 119"
      ]
     },
     "metadata": {},
     "output_type": "display_data"
    }
   ],
   "source": [
    "library(InformationValue)\n",
    "#use model to predict probability of subscribe\n",
    "predicted_train <- predict(md_tree, train[c(selection.forward.cp, 'subscribe')],type = \"prob\")[,2]\n",
    "predicted_test <- predict(md_tree, test[c(selection.forward.cp, 'subscribe')], type = \"prob\")[,2]\n",
    "\n",
    "# # find optimal cutoff probability to use to maximize accuracy\n",
    "# optimal <- optimalCutoff(test$subscribe, predicted_test)[1]\n",
    "optimal <- 0.1135\n",
    "predictions_train<- ifelse(predicted_train > optimal, 1, 0)\n",
    "predictions_test<- ifelse(predicted_test > optimal, 1, 0)\n",
    "\n",
    "# #create confusion matrix\n",
    "conf_mat_train <- confusionMatrix(train$subscribe, predicted_train)\n",
    "conf_mat_train\n",
    "conf_mat_test <- confusionMatrix(test$subscribe, predicted_test)\n",
    "conf_mat_test"
   ]
  },
  {
   "cell_type": "code",
   "execution_count": 47,
   "id": "c233a5b6",
   "metadata": {},
   "outputs": [
    {
     "name": "stderr",
     "output_type": "stream",
     "text": [
      "Setting levels: control = 0, case = 1\n",
      "\n",
      "Setting direction: controls < cases\n",
      "\n"
     ]
    },
    {
     "data": {
      "image/png": "[encoded data removed]",
      "text/plain": [
       "plot without title"
      ]
     },
     "metadata": {
      "image/png": {
       "height": 420,
       "width": 420
      }
     },
     "output_type": "display_data"
    }
   ],
   "source": [
    "# ROC Curves\n",
    "test_roc = roc(test$subscribe ~ predicted_test, plot = TRUE, print.auc = TRUE)"
   ]
  },
  {
   "cell_type": "code",
   "execution_count": 48,
   "id": "2b2b1e72",
   "metadata": {},
   "outputs": [],
   "source": [
    "# Grow a tree with minsplit of 100 and max depth of 8\n",
    "hr_model_preprun <- rpart(as.factor(subscribe) ~ ., data = train[c(selection.forward.cp, 'subscribe')], method = \"class\", \n",
    "                   control = rpart.control(cp = 0, maxdepth = 8,minsplit = 100))"
   ]
  },
  {
   "cell_type": "code",
   "execution_count": 49,
   "id": "122f8e4f",
   "metadata": {},
   "outputs": [
    {
     "data": {
      "text/plain": [
       "n= 14000 \n",
       "\n",
       "node), split, n, loss, yval, (yprob)\n",
       "      * denotes terminal node\n",
       "\n",
       "  1) root 14000 1591 0 (0.88635714 0.11364286)  \n",
       "    2) nr.employed>=5087.65 12316  830 0 (0.93260799 0.06739201)  \n",
       "      4) month_encoded< 7 12202  775 0 (0.93648582 0.06351418) *\n",
       "      5) month_encoded>=7 114   55 0 (0.51754386 0.48245614)  \n",
       "       10) marital_encoded< 1.5 53   22 0 (0.58490566 0.41509434) *\n",
       "       11) marital_encoded>=1.5 61   28 1 (0.45901639 0.54098361) *\n",
       "    3) nr.employed< 5087.65 1684  761 0 (0.54809976 0.45190024)  \n",
       "      6) pdays>=16.5 1256  453 0 (0.63933121 0.36066879)  \n",
       "       12) contact_encoded>=1.5 206   52 0 (0.74757282 0.25242718) *\n",
       "       13) contact_encoded< 1.5 1050  401 0 (0.61809524 0.38190476)  \n",
       "         26) emp.var.rate< -2.35 706  239 0 (0.66147309 0.33852691) *\n",
       "         27) emp.var.rate>=-2.35 344  162 0 (0.52906977 0.47093023)  \n",
       "           54) previous>=0.5858724 150   49 0 (0.67333333 0.32666667) *\n",
       "           55) previous< 0.5858724 194   81 1 (0.41752577 0.58247423)  \n",
       "            110) cons.conf.idx< -37.9 112   52 1 (0.46428571 0.53571429)  \n",
       "              220) cons.conf.idx>=-39.9 40   18 0 (0.55000000 0.45000000) *\n",
       "              221) cons.conf.idx< -39.9 72   30 1 (0.41666667 0.58333333) *\n",
       "            111) cons.conf.idx>=-37.9 82   29 1 (0.35365854 0.64634146) *\n",
       "      7) pdays< 16.5 428  120 1 (0.28037383 0.71962617) *"
      ]
     },
     "metadata": {},
     "output_type": "display_data"
    }
   ],
   "source": [
    "hr_model_preprun"
   ]
  },
  {
   "cell_type": "code",
   "execution_count": 50,
   "id": "239c0d7e",
   "metadata": {},
   "outputs": [
    {
     "data": {
      "image/png": "[encoded data removed]",
      "text/plain": [
       "plot without title"
      ]
     },
     "metadata": {
      "image/png": {
       "height": 420,
       "width": 420
      }
     },
     "output_type": "display_data"
    }
   ],
   "source": [
    "plot(hr_model_preprun)\n",
    "text(hr_model_preprun, pretty=0)"
   ]
  },
  {
   "cell_type": "code",
   "execution_count": 51,
   "id": "1461ecd4",
   "metadata": {},
   "outputs": [
    {
     "data": {
      "image/png": "[encoded data removed]",
      "text/plain": [
       "plot without title"
      ]
     },
     "metadata": {
      "image/png": {
       "height": 420,
       "width": 420
      }
     },
     "output_type": "display_data"
    }
   ],
   "source": [
    "plotcp(hr_model_preprun)"
   ]
  },
  {
   "cell_type": "code",
   "execution_count": 52,
   "id": "8b317063",
   "metadata": {},
   "outputs": [],
   "source": [
    "#Postpruning\n",
    "# Prune the hr_base_model based on the optimal cp value\n",
    "hr_model_pruned <- prune(md_tree, cp = 0.0014)"
   ]
  },
  {
   "cell_type": "code",
   "execution_count": 53,
   "id": "5465735b",
   "metadata": {},
   "outputs": [
    {
     "data": {
      "text/html": [
       "<table class=\"dataframe\">\n",
       "<caption>A data.frame: 2 × 2</caption>\n",
       "<thead>\n",
       "\t<tr><th></th><th scope=col>0</th><th scope=col>1</th></tr>\n",
       "\t<tr><th></th><th scope=col>&lt;int&gt;</th><th scope=col>&lt;int&gt;</th></tr>\n",
       "</thead>\n",
       "<tbody>\n",
       "\t<tr><th scope=row>0</th><td>5273</td><td>561</td></tr>\n",
       "\t<tr><th scope=row>1</th><td>  47</td><td>119</td></tr>\n",
       "</tbody>\n",
       "</table>\n"
      ],
      "text/latex": [
       "A data.frame: 2 × 2\n",
       "\\begin{tabular}{r|ll}\n",
       "  & 0 & 1\\\\\n",
       "  & <int> & <int>\\\\\n",
       "\\hline\n",
       "\t0 & 5273 & 561\\\\\n",
       "\t1 &   47 & 119\\\\\n",
       "\\end{tabular}\n"
      ],
      "text/markdown": [
       "\n",
       "A data.frame: 2 × 2\n",
       "\n",
       "| <!--/--> | 0 &lt;int&gt; | 1 &lt;int&gt; |\n",
       "|---|---|---|\n",
       "| 0 | 5273 | 561 |\n",
       "| 1 |   47 | 119 |\n",
       "\n"
      ],
      "text/plain": [
       "  0    1  \n",
       "0 5273 561\n",
       "1   47 119"
      ]
     },
     "metadata": {},
     "output_type": "display_data"
    }
   ],
   "source": [
    "predicted_test <- predict(md_tree, test[c(selection.forward.cp, 'subscribe')], type = \"prob\")[,2]\n",
    "\n",
    "# # find optimal cutoff probability to use to maximize accuracy\n",
    "# optimal <- optimalCutoff(test$subscribe, predicted_test)[1]\n",
    "optimal <- 0.1135\n",
    "predictions_test<- ifelse(predicted_test > optimal, 1, 0)\n",
    "\n",
    "conf_mat_test <- confusionMatrix(test$subscribe, predicted_test)\n",
    "conf_mat_test"
   ]
  },
  {
   "cell_type": "markdown",
   "id": "1df1d8cd",
   "metadata": {},
   "source": [
    "## Random forest"
   ]
  },
  {
   "cell_type": "code",
   "execution_count": 54,
   "id": "ff1fc662",
   "metadata": {},
   "outputs": [
    {
     "name": "stderr",
     "output_type": "stream",
     "text": [
      "randomForest 4.6-14\n",
      "\n",
      "Type rfNews() to see new features/changes/bug fixes.\n",
      "\n",
      "\n",
      "Attaching package: 'randomForest'\n",
      "\n",
      "\n",
      "The following object is masked from 'package:dplyr':\n",
      "\n",
      "    combine\n",
      "\n",
      "\n",
      "The following object is masked from 'package:gridExtra':\n",
      "\n",
      "    combine\n",
      "\n",
      "\n",
      "The following object is masked from 'package:ggplot2':\n",
      "\n",
      "    margin\n",
      "\n",
      "\n"
     ]
    }
   ],
   "source": [
    "library(randomForest)"
   ]
  },
  {
   "cell_type": "code",
   "execution_count": 55,
   "id": "933d68bc",
   "metadata": {},
   "outputs": [
    {
     "name": "stderr",
     "output_type": "stream",
     "text": [
      "Resampling: cross-validation\n",
      "\n",
      "Measures:             auc       \n",
      "\n",
      "[Resample] iter 1:    0.7807661 \n",
      "\n",
      "[Resample] iter 2:    0.7692130 \n",
      "\n",
      "[Resample] iter 3:    0.7873681 \n",
      "\n",
      "[Resample] iter 4:    0.7689153 \n",
      "\n",
      "[Resample] iter 5:    0.7963574 \n",
      "\n",
      "[Resample] iter 6:    0.7748414 \n",
      "\n",
      "[Resample] iter 7:    0.7976851 \n",
      "\n",
      "[Resample] iter 8:    0.7964823 \n",
      "\n",
      "[Resample] iter 9:    0.7540444 \n",
      "\n",
      "[Resample] iter 10:   0.7592664 \n",
      "\n",
      "\n",
      "\n",
      "\n",
      "Aggregated Result: auc.test.mean=0.7784939\n",
      "\n",
      "\n",
      "\n",
      "\n"
     ]
    },
    {
     "data": {
      "text/plain": [
       "Resample Result\n",
       "Task: new_df\n",
       "Learner: classif.randomForest\n",
       "Aggr perf: auc.test.mean=0.7784939\n",
       "Runtime: 191.851"
      ]
     },
     "metadata": {},
     "output_type": "display_data"
    }
   ],
   "source": [
    "# Set up cross-validation\n",
    "cross = makeResampleDesc(\"CV\", iters=10)\n",
    "\n",
    "# Define the model\n",
    "model <- makeLearner(\"classif.randomForest\", predict.type=\"prob\", fix.factors.prediction=T)\n",
    "\n",
    "# Define the model\n",
    "task <- makeClassifTask(data=new_df, target='subscribe')\n",
    "\n",
    "# Run the k-fold CV\n",
    "resample(model, task, cross, measures=list(mlr::auc))"
   ]
  },
  {
   "cell_type": "code",
   "execution_count": 56,
   "id": "26f4dbcf",
   "metadata": {},
   "outputs": [],
   "source": [
    "# Random forest with all the features\n",
    "RF<- randomForest(as.factor(subscribe)~., data=train)"
   ]
  },
  {
   "cell_type": "code",
   "execution_count": 57,
   "id": "d1e2c892",
   "metadata": {},
   "outputs": [
    {
     "data": {
      "text/plain": [
       "                Length Class  Mode     \n",
       "call                3  -none- call     \n",
       "type                1  -none- character\n",
       "predicted       14000  factor numeric  \n",
       "err.rate         1500  -none- numeric  \n",
       "confusion           6  -none- numeric  \n",
       "votes           28000  matrix numeric  \n",
       "oob.times       14000  -none- numeric  \n",
       "classes             2  -none- character\n",
       "importance         20  -none- numeric  \n",
       "importanceSD        0  -none- NULL     \n",
       "localImportance     0  -none- NULL     \n",
       "proximity           0  -none- NULL     \n",
       "ntree               1  -none- numeric  \n",
       "mtry                1  -none- numeric  \n",
       "forest             14  -none- list     \n",
       "y               14000  factor numeric  \n",
       "test                0  -none- NULL     \n",
       "inbag               0  -none- NULL     \n",
       "terms               3  terms  call     "
      ]
     },
     "metadata": {},
     "output_type": "display_data"
    }
   ],
   "source": [
    "summary(RF)"
   ]
  },
  {
   "cell_type": "code",
   "execution_count": 58,
   "id": "f1c9812b",
   "metadata": {},
   "outputs": [
    {
     "data": {
      "text/plain": [
       "\n",
       "Call:\n",
       " randomForest(formula = as.factor(subscribe) ~ ., data = train) \n",
       "               Type of random forest: classification\n",
       "                     Number of trees: 500\n",
       "No. of variables tried at each split: 4\n",
       "\n",
       "        OOB estimate of  error rate: 10.09%\n",
       "Confusion matrix:\n",
       "      0   1 class.error\n",
       "0 12140 269  0.02167781\n",
       "1  1144 447  0.71904463"
      ]
     },
     "metadata": {},
     "output_type": "display_data"
    }
   ],
   "source": [
    "RF"
   ]
  },
  {
   "cell_type": "code",
   "execution_count": 59,
   "id": "0fe6ebfa",
   "metadata": {},
   "outputs": [
    {
     "data": {
      "text/html": [
       "<table class=\"dataframe\">\n",
       "<caption>A data.frame: 2 × 2</caption>\n",
       "<thead>\n",
       "\t<tr><th></th><th scope=col>0</th><th scope=col>1</th></tr>\n",
       "\t<tr><th></th><th scope=col>&lt;int&gt;</th><th scope=col>&lt;int&gt;</th></tr>\n",
       "</thead>\n",
       "<tbody>\n",
       "\t<tr><th scope=row>0</th><td>11504</td><td>   0</td></tr>\n",
       "\t<tr><th scope=row>1</th><td>  905</td><td>1591</td></tr>\n",
       "</tbody>\n",
       "</table>\n"
      ],
      "text/latex": [
       "A data.frame: 2 × 2\n",
       "\\begin{tabular}{r|ll}\n",
       "  & 0 & 1\\\\\n",
       "  & <int> & <int>\\\\\n",
       "\\hline\n",
       "\t0 & 11504 &    0\\\\\n",
       "\t1 &   905 & 1591\\\\\n",
       "\\end{tabular}\n"
      ],
      "text/markdown": [
       "\n",
       "A data.frame: 2 × 2\n",
       "\n",
       "| <!--/--> | 0 &lt;int&gt; | 1 &lt;int&gt; |\n",
       "|---|---|---|\n",
       "| 0 | 11504 |    0 |\n",
       "| 1 |   905 | 1591 |\n",
       "\n"
      ],
      "text/plain": [
       "  0     1   \n",
       "0 11504    0\n",
       "1   905 1591"
      ]
     },
     "metadata": {},
     "output_type": "display_data"
    },
    {
     "data": {
      "text/html": [
       "<table class=\"dataframe\">\n",
       "<caption>A data.frame: 2 × 2</caption>\n",
       "<thead>\n",
       "\t<tr><th></th><th scope=col>0</th><th scope=col>1</th></tr>\n",
       "\t<tr><th></th><th scope=col>&lt;int&gt;</th><th scope=col>&lt;int&gt;</th></tr>\n",
       "</thead>\n",
       "<tbody>\n",
       "\t<tr><th scope=row>0</th><td>4342</td><td>238</td></tr>\n",
       "\t<tr><th scope=row>1</th><td> 978</td><td>442</td></tr>\n",
       "</tbody>\n",
       "</table>\n"
      ],
      "text/latex": [
       "A data.frame: 2 × 2\n",
       "\\begin{tabular}{r|ll}\n",
       "  & 0 & 1\\\\\n",
       "  & <int> & <int>\\\\\n",
       "\\hline\n",
       "\t0 & 4342 & 238\\\\\n",
       "\t1 &  978 & 442\\\\\n",
       "\\end{tabular}\n"
      ],
      "text/markdown": [
       "\n",
       "A data.frame: 2 × 2\n",
       "\n",
       "| <!--/--> | 0 &lt;int&gt; | 1 &lt;int&gt; |\n",
       "|---|---|---|\n",
       "| 0 | 4342 | 238 |\n",
       "| 1 |  978 | 442 |\n",
       "\n"
      ],
      "text/plain": [
       "  0    1  \n",
       "0 4342 238\n",
       "1  978 442"
      ]
     },
     "metadata": {},
     "output_type": "display_data"
    },
    {
     "name": "stderr",
     "output_type": "stream",
     "text": [
      "Setting levels: control = 0, case = 1\n",
      "\n",
      "Setting direction: controls < cases\n",
      "\n"
     ]
    },
    {
     "data": {
      "image/png": "[encoded data removed]",
      "text/plain": [
       "plot without title"
      ]
     },
     "metadata": {
      "image/png": {
       "height": 420,
       "width": 420
      }
     },
     "output_type": "display_data"
    }
   ],
   "source": [
    "predicted_train <- predict(RF, train, type = 'prob')[,2]\n",
    "predicted_test <- predict(RF, test, type = 'prob')[,2]\n",
    "\n",
    "# # find optimal cutoff probability to use to maximize accuracy\n",
    "\n",
    "optimal <- 0.1135\n",
    "predictions_train<- ifelse(predicted_train > optimal, 1, 0)\n",
    "predictions_test<- ifelse(predicted_test > optimal, 1, 0)\n",
    "\n",
    "# #create confusion matrix\n",
    "conf_mat_train <- confusionMatrix(train$subscribe, predictions_train)\n",
    "conf_mat_train\n",
    "conf_mat_test <- confusionMatrix(test$subscribe, predictions_test)\n",
    "conf_mat_test\n",
    "\n",
    "# ROC Curves\n",
    "test_roc = roc(test$subscribe ~ predicted_test, plot = TRUE, print.auc = TRUE)"
   ]
  },
  {
   "cell_type": "code",
   "execution_count": 60,
   "id": "e37f3ab8",
   "metadata": {},
   "outputs": [
    {
     "name": "stdout",
     "output_type": "stream",
     "text": [
      "[1] \"Train Accuracy =  0.935357142857143\"\n"
     ]
    },
    {
     "name": "stderr",
     "output_type": "stream",
     "text": [
      "Setting levels: control = 0, case = 1\n",
      "\n",
      "Setting direction: controls < cases\n",
      "\n"
     ]
    },
    {
     "name": "stdout",
     "output_type": "stream",
     "text": [
      "[1] \"train AUC =  0.999839789038177\"\n",
      "[1] \"Test Accuracy =  0.797333333333333\"\n"
     ]
    },
    {
     "name": "stderr",
     "output_type": "stream",
     "text": [
      "Setting levels: control = 0, case = 1\n",
      "\n",
      "Setting direction: controls < cases\n",
      "\n"
     ]
    },
    {
     "name": "stdout",
     "output_type": "stream",
     "text": [
      "[1] \"Test AUC =  0.771026232861566\"\n"
     ]
    }
   ],
   "source": [
    "#accuracy train\n",
    "accuracy <- (conf_mat_train[1,1]+conf_mat_train[2,2])/(conf_mat_train[1,1]+conf_mat_train[1,2]+conf_mat_train[2,1]+conf_mat_train[2,2])\n",
    "print(paste('Train Accuracy = ', accuracy))\n",
    "print(paste('train AUC = ', auc(train$subscribe, predicted_train)))\n",
    "#accuracy for test\n",
    "accuracy <- (conf_mat_test[1,1]+conf_mat_test[2,2])/(conf_mat_test[1,1]+conf_mat_test[1,2]+conf_mat_test[2,1]+conf_mat_test[2,2])\n",
    "print(paste('Test Accuracy = ', accuracy))\n",
    "print(paste('Test AUC = ', auc(test$subscribe, predicted_test)))"
   ]
  },
  {
   "cell_type": "code",
   "execution_count": 61,
   "id": "bda3f77f",
   "metadata": {},
   "outputs": [
    {
     "data": {
      "text/plain": [
       "\n",
       "Call:\n",
       " randomForest(formula = as.factor(subscribe) ~ ., data = train[c(selection.forward.cp,      \"subscribe\")], mtry = 10, ntree = 1000, importance = T) \n",
       "               Type of random forest: classification\n",
       "                     Number of trees: 1000\n",
       "No. of variables tried at each split: 10\n",
       "\n",
       "        OOB estimate of  error rate: 11.09%\n",
       "Confusion matrix:\n",
       "      0   1 class.error\n",
       "0 11994 415  0.03344347\n",
       "1  1137 454  0.71464488"
      ]
     },
     "metadata": {},
     "output_type": "display_data"
    }
   ],
   "source": [
    "# Random forest with selected features\n",
    "RF<- randomForest(as.factor(subscribe)~., data=train[c(selection.forward.cp, 'subscribe')], mtry = 10, ntree = 1000, importance=T )\n",
    "RF"
   ]
  },
  {
   "cell_type": "code",
   "execution_count": 62,
   "id": "bc88d6e2",
   "metadata": {},
   "outputs": [
    {
     "data": {
      "text/html": [
       "<table class=\"dataframe\">\n",
       "<caption>A data.frame: 2 × 2</caption>\n",
       "<thead>\n",
       "\t<tr><th></th><th scope=col>0</th><th scope=col>1</th></tr>\n",
       "\t<tr><th></th><th scope=col>&lt;int&gt;</th><th scope=col>&lt;int&gt;</th></tr>\n",
       "</thead>\n",
       "<tbody>\n",
       "\t<tr><th scope=row>0</th><td>11632</td><td> 561</td></tr>\n",
       "\t<tr><th scope=row>1</th><td>  777</td><td>1030</td></tr>\n",
       "</tbody>\n",
       "</table>\n"
      ],
      "text/latex": [
       "A data.frame: 2 × 2\n",
       "\\begin{tabular}{r|ll}\n",
       "  & 0 & 1\\\\\n",
       "  & <int> & <int>\\\\\n",
       "\\hline\n",
       "\t0 & 11632 &  561\\\\\n",
       "\t1 &   777 & 1030\\\\\n",
       "\\end{tabular}\n"
      ],
      "text/markdown": [
       "\n",
       "A data.frame: 2 × 2\n",
       "\n",
       "| <!--/--> | 0 &lt;int&gt; | 1 &lt;int&gt; |\n",
       "|---|---|---|\n",
       "| 0 | 11632 |  561 |\n",
       "| 1 |   777 | 1030 |\n",
       "\n"
      ],
      "text/plain": [
       "  0     1   \n",
       "0 11632  561\n",
       "1   777 1030"
      ]
     },
     "metadata": {},
     "output_type": "display_data"
    },
    {
     "data": {
      "text/html": [
       "<table class=\"dataframe\">\n",
       "<caption>A data.frame: 2 × 2</caption>\n",
       "<thead>\n",
       "\t<tr><th></th><th scope=col>0</th><th scope=col>1</th></tr>\n",
       "\t<tr><th></th><th scope=col>&lt;int&gt;</th><th scope=col>&lt;int&gt;</th></tr>\n",
       "</thead>\n",
       "<tbody>\n",
       "\t<tr><th scope=row>0</th><td>4804</td><td>339</td></tr>\n",
       "\t<tr><th scope=row>1</th><td> 516</td><td>341</td></tr>\n",
       "</tbody>\n",
       "</table>\n"
      ],
      "text/latex": [
       "A data.frame: 2 × 2\n",
       "\\begin{tabular}{r|ll}\n",
       "  & 0 & 1\\\\\n",
       "  & <int> & <int>\\\\\n",
       "\\hline\n",
       "\t0 & 4804 & 339\\\\\n",
       "\t1 &  516 & 341\\\\\n",
       "\\end{tabular}\n"
      ],
      "text/markdown": [
       "\n",
       "A data.frame: 2 × 2\n",
       "\n",
       "| <!--/--> | 0 &lt;int&gt; | 1 &lt;int&gt; |\n",
       "|---|---|---|\n",
       "| 0 | 4804 | 339 |\n",
       "| 1 |  516 | 341 |\n",
       "\n"
      ],
      "text/plain": [
       "  0    1  \n",
       "0 4804 339\n",
       "1  516 341"
      ]
     },
     "metadata": {},
     "output_type": "display_data"
    },
    {
     "name": "stderr",
     "output_type": "stream",
     "text": [
      "Setting levels: control = 0, case = 1\n",
      "\n",
      "Setting direction: controls < cases\n",
      "\n"
     ]
    },
    {
     "data": {
      "image/png": "[encoded data removed]",
      "text/plain": [
       "plot without title"
      ]
     },
     "metadata": {
      "image/png": {
       "height": 420,
       "width": 420
      }
     },
     "output_type": "display_data"
    }
   ],
   "source": [
    "predicted_train <- predict(RF, train, type = 'prob')[,2]\n",
    "predicted_test <- predict(RF, test, type = 'prob')[,2]\n",
    "\n",
    "# # find optimal cutoff probability to use to maximize accuracy\n",
    "\n",
    "optimal <- 0.1135\n",
    "predictions_train<- ifelse(predicted_train > optimal, 1, 0)\n",
    "predictions_test<- ifelse(predicted_test > optimal, 1, 0)\n",
    "\n",
    "# #create confusion matrix\n",
    "conf_mat_train <- confusionMatrix(train$subscribe, predictions_train)\n",
    "conf_mat_train\n",
    "conf_mat_test <- confusionMatrix(test$subscribe, predictions_test)\n",
    "conf_mat_test\n",
    "\n",
    "# ROC Curves\n",
    "test_roc = roc(test$subscribe ~ predicted_test, plot = TRUE, print.auc = TRUE)"
   ]
  },
  {
   "cell_type": "code",
   "execution_count": 63,
   "id": "3f6a58e5",
   "metadata": {},
   "outputs": [
    {
     "name": "stdout",
     "output_type": "stream",
     "text": [
      "[1] \"Train Accuracy =  0.904428571428571\"\n"
     ]
    },
    {
     "name": "stderr",
     "output_type": "stream",
     "text": [
      "Setting levels: control = 0, case = 1\n",
      "\n",
      "Setting direction: controls < cases\n",
      "\n"
     ]
    },
    {
     "name": "stdout",
     "output_type": "stream",
     "text": [
      "[1] \"train AUC =  0.821673195064976\"\n",
      "[1] \"Test Accuracy =  0.8575\"\n"
     ]
    },
    {
     "name": "stderr",
     "output_type": "stream",
     "text": [
      "Setting levels: control = 0, case = 1\n",
      "\n",
      "Setting direction: controls < cases\n",
      "\n"
     ]
    },
    {
     "name": "stdout",
     "output_type": "stream",
     "text": [
      "[1] \"Test AUC =  0.753264318885449\"\n"
     ]
    }
   ],
   "source": [
    "#accuracy train\n",
    "accuracy <- (conf_mat_train[1,1]+conf_mat_train[2,2])/(conf_mat_train[1,1]+conf_mat_train[1,2]+conf_mat_train[2,1]+conf_mat_train[2,2])\n",
    "print(paste('Train Accuracy = ', accuracy))\n",
    "print(paste('train AUC = ', auc(train$subscribe, predicted_train)))\n",
    "#accuracy for test\n",
    "accuracy <- (conf_mat_test[1,1]+conf_mat_test[2,2])/(conf_mat_test[1,1]+conf_mat_test[1,2]+conf_mat_test[2,1]+conf_mat_test[2,2])\n",
    "print(paste('Test Accuracy = ', accuracy))\n",
    "print(paste('Test AUC = ', auc(test$subscribe, predicted_test)))"
   ]
  },
  {
   "cell_type": "code",
   "execution_count": 64,
   "id": "67a4216c",
   "metadata": {},
   "outputs": [
    {
     "data": {
      "text/html": [
       "0.1135"
      ],
      "text/latex": [
       "0.1135"
      ],
      "text/markdown": [
       "0.1135"
      ],
      "text/plain": [
       "[1] 0.1135"
      ]
     },
     "metadata": {},
     "output_type": "display_data"
    }
   ],
   "source": [
    "optimal"
   ]
  },
  {
   "cell_type": "markdown",
   "id": "3e0b9ba1",
   "metadata": {},
   "source": [
    "## KNN"
   ]
  },
  {
   "cell_type": "code",
   "execution_count": 65,
   "id": "2bfe9795",
   "metadata": {},
   "outputs": [
    {
     "name": "stderr",
     "output_type": "stream",
     "text": [
      "Resampling: cross-validation\n",
      "\n",
      "Measures:             auc       \n",
      "\n",
      "[Resample] iter 1:    0.6919903 \n",
      "\n",
      "[Resample] iter 2:    0.7261006 \n",
      "\n",
      "[Resample] iter 3:    0.6973153 \n",
      "\n",
      "[Resample] iter 4:    0.7009757 \n",
      "\n",
      "[Resample] iter 5:    0.7624660 \n",
      "\n",
      "[Resample] iter 6:    0.7251493 \n",
      "\n",
      "[Resample] iter 7:    0.7220548 \n",
      "\n",
      "[Resample] iter 8:    0.7065068 \n",
      "\n",
      "[Resample] iter 9:    0.7173381 \n",
      "\n",
      "[Resample] iter 10:   0.7277568 \n",
      "\n",
      "\n",
      "\n",
      "\n",
      "Aggregated Result: auc.test.mean=0.7177654\n",
      "\n",
      "\n",
      "\n",
      "\n"
     ]
    },
    {
     "data": {
      "text/plain": [
       "Resample Result\n",
       "Task: new_df\n",
       "Learner: classif.kknn\n",
       "Aggr perf: auc.test.mean=0.7177654\n",
       "Runtime: 12.3154"
      ]
     },
     "metadata": {},
     "output_type": "display_data"
    }
   ],
   "source": [
    "# Set up cross-validation\n",
    "cross = makeResampleDesc(\"CV\", iters=10)\n",
    "\n",
    "# Define the model\n",
    "model <- makeLearner(\"classif.kknn\", predict.type=\"prob\", fix.factors.prediction=T)\n",
    "\n",
    "# Define the model\n",
    "task <- makeClassifTask(data=new_df, target='subscribe')\n",
    "\n",
    "# Run the k-fold CV\n",
    "resample(model, task, cross, measures=list(mlr::auc))"
   ]
  },
  {
   "cell_type": "code",
   "execution_count": 66,
   "id": "15d009f0",
   "metadata": {},
   "outputs": [],
   "source": [
    "library(class)\n",
    "set.seed(123)\n",
    "knn_pred <- knn(train=train[c(selection.forward.cp)],\n",
    "                 test=test[c(selection.forward.cp)],\n",
    "                 cl=train$subscribe,\n",
    "                 k=200,\n",
    "                prob = TRUE)"
   ]
  },
  {
   "cell_type": "code",
   "execution_count": 67,
   "id": "22279c98",
   "metadata": {},
   "outputs": [
    {
     "data": {
      "text/plain": [
       "   knn_pred\n",
       "       0    1\n",
       "  0 5290   30\n",
       "  1  574  106"
      ]
     },
     "metadata": {},
     "output_type": "display_data"
    }
   ],
   "source": [
    "# Confusiin Matrix\n",
    "cm <- table(test$subscribe, knn_pred)\n",
    "cm"
   ]
  },
  {
   "cell_type": "code",
   "execution_count": 68,
   "id": "7d0a9656",
   "metadata": {},
   "outputs": [
    {
     "name": "stdout",
     "output_type": "stream",
     "text": [
      "[1] \"Accuracy = 0.899333333333333\"\n"
     ]
    }
   ],
   "source": [
    "# Model Evaluation - Choosing K\n",
    "# Calculate out of Sample error\n",
    "misClassError <- mean(knn_pred != test$subscribe)\n",
    "print(paste('Accuracy =', 1-misClassError))"
   ]
  },
  {
   "cell_type": "code",
   "execution_count": 69,
   "id": "59218de6",
   "metadata": {},
   "outputs": [],
   "source": [
    "# With selected features\n",
    "predicted_test <- predict(caret::knn3(train[c(selection.forward.cp)], as.factor(train$subscribe), k = 5), test[c(selection.forward.cp)])[,2]"
   ]
  },
  {
   "cell_type": "code",
   "execution_count": 70,
   "id": "e31d91a4",
   "metadata": {},
   "outputs": [
    {
     "data": {
      "text/html": [
       "<table class=\"dataframe\">\n",
       "<caption>A data.frame: 2 × 2</caption>\n",
       "<thead>\n",
       "\t<tr><th></th><th scope=col>0</th><th scope=col>1</th></tr>\n",
       "\t<tr><th></th><th scope=col>&lt;int&gt;</th><th scope=col>&lt;int&gt;</th></tr>\n",
       "</thead>\n",
       "<tbody>\n",
       "\t<tr><th scope=row>0</th><td>4254</td><td>246</td></tr>\n",
       "\t<tr><th scope=row>1</th><td>1066</td><td>434</td></tr>\n",
       "</tbody>\n",
       "</table>\n"
      ],
      "text/latex": [
       "A data.frame: 2 × 2\n",
       "\\begin{tabular}{r|ll}\n",
       "  & 0 & 1\\\\\n",
       "  & <int> & <int>\\\\\n",
       "\\hline\n",
       "\t0 & 4254 & 246\\\\\n",
       "\t1 & 1066 & 434\\\\\n",
       "\\end{tabular}\n"
      ],
      "text/markdown": [
       "\n",
       "A data.frame: 2 × 2\n",
       "\n",
       "| <!--/--> | 0 &lt;int&gt; | 1 &lt;int&gt; |\n",
       "|---|---|---|\n",
       "| 0 | 4254 | 246 |\n",
       "| 1 | 1066 | 434 |\n",
       "\n"
      ],
      "text/plain": [
       "  0    1  \n",
       "0 4254 246\n",
       "1 1066 434"
      ]
     },
     "metadata": {},
     "output_type": "display_data"
    },
    {
     "name": "stderr",
     "output_type": "stream",
     "text": [
      "Setting levels: control = 0, case = 1\n",
      "\n",
      "Setting direction: controls < cases\n",
      "\n"
     ]
    },
    {
     "data": {
      "image/png": "[encoded data removed]",
      "text/plain": [
       "plot without title"
      ]
     },
     "metadata": {
      "image/png": {
       "height": 420,
       "width": 420
      }
     },
     "output_type": "display_data"
    }
   ],
   "source": [
    "# # find optimal cutoff probability to use to maximize accuracy\n",
    "#optimal <- optimalCutoff(test$subscribe, predicted_test)[1]\n",
    "optimal <- 0.1135\n",
    "predictions_test<- ifelse(predicted_test > optimal, 1, 0)\n",
    "\n",
    "\n",
    "conf_mat_test <- confusionMatrix(test$subscribe, predictions_test)\n",
    "conf_mat_test\n",
    "\n",
    "# ROC Curves\n",
    "test_roc = roc(test$subscribe ~ predicted_test, plot = TRUE, print.auc = TRUE)"
   ]
  },
  {
   "cell_type": "code",
   "execution_count": 71,
   "id": "91aa1e69",
   "metadata": {},
   "outputs": [
    {
     "name": "stdout",
     "output_type": "stream",
     "text": [
      "[1] \"Test Accuracy =  0.781333333333333\"\n"
     ]
    },
    {
     "name": "stderr",
     "output_type": "stream",
     "text": [
      "Setting levels: control = 0, case = 1\n",
      "\n",
      "Setting direction: controls < cases\n",
      "\n"
     ]
    },
    {
     "name": "stdout",
     "output_type": "stream",
     "text": [
      "[1] \"Test AUC =  0.752925558381247\"\n"
     ]
    }
   ],
   "source": [
    "#accuracy for test\n",
    "accuracy <- (conf_mat_test[1,1]+conf_mat_test[2,2])/(conf_mat_test[1,1]+conf_mat_test[1,2]+conf_mat_test[2,1]+conf_mat_test[2,2])\n",
    "print(paste('Test Accuracy = ', accuracy))\n",
    "print(paste('Test AUC = ', auc(test$subscribe, predicted_test)))"
   ]
  },
  {
   "cell_type": "code",
   "execution_count": 72,
   "id": "a1069d9d",
   "metadata": {},
   "outputs": [],
   "source": [
    "# with all features\n",
    "predicted_test <- predict(caret::knn3(train[,!(names(train) %in% 'subscribe')], as.factor(train$subscribe), k = 5), test[,!(names(train) %in% 'subscribe')])[,2]"
   ]
  },
  {
   "cell_type": "code",
   "execution_count": 73,
   "id": "7eff4e3a",
   "metadata": {},
   "outputs": [
    {
     "data": {
      "text/html": [
       "<table class=\"dataframe\">\n",
       "<caption>A data.frame: 2 × 2</caption>\n",
       "<thead>\n",
       "\t<tr><th></th><th scope=col>0</th><th scope=col>1</th></tr>\n",
       "\t<tr><th></th><th scope=col>&lt;int&gt;</th><th scope=col>&lt;int&gt;</th></tr>\n",
       "</thead>\n",
       "<tbody>\n",
       "\t<tr><th scope=row>0</th><td>3583</td><td>277</td></tr>\n",
       "\t<tr><th scope=row>1</th><td>1737</td><td>403</td></tr>\n",
       "</tbody>\n",
       "</table>\n"
      ],
      "text/latex": [
       "A data.frame: 2 × 2\n",
       "\\begin{tabular}{r|ll}\n",
       "  & 0 & 1\\\\\n",
       "  & <int> & <int>\\\\\n",
       "\\hline\n",
       "\t0 & 3583 & 277\\\\\n",
       "\t1 & 1737 & 403\\\\\n",
       "\\end{tabular}\n"
      ],
      "text/markdown": [
       "\n",
       "A data.frame: 2 × 2\n",
       "\n",
       "| <!--/--> | 0 &lt;int&gt; | 1 &lt;int&gt; |\n",
       "|---|---|---|\n",
       "| 0 | 3583 | 277 |\n",
       "| 1 | 1737 | 403 |\n",
       "\n"
      ],
      "text/plain": [
       "  0    1  \n",
       "0 3583 277\n",
       "1 1737 403"
      ]
     },
     "metadata": {},
     "output_type": "display_data"
    },
    {
     "name": "stderr",
     "output_type": "stream",
     "text": [
      "Setting levels: control = 0, case = 1\n",
      "\n",
      "Setting direction: controls < cases\n",
      "\n"
     ]
    },
    {
     "data": {
      "image/png": "[encoded data removed]",
      "text/plain": [
       "plot without title"
      ]
     },
     "metadata": {
      "image/png": {
       "height": 420,
       "width": 420
      }
     },
     "output_type": "display_data"
    }
   ],
   "source": [
    "# # find optimal cutoff probability to use to maximize accuracy\n",
    "#optimal <- optimalCutoff(test$subscribe, predicted_test)[1]\n",
    "optimal <- 0.1135\n",
    "predictions_test<- ifelse(predicted_test > optimal, 1, 0)\n",
    "\n",
    "\n",
    "conf_mat_test <- confusionMatrix(test$subscribe, predictions_test)\n",
    "conf_mat_test\n",
    "\n",
    "# ROC Curves\n",
    "test_roc = roc(test$subscribe ~ predicted_test, plot = TRUE, print.auc = TRUE)"
   ]
  },
  {
   "cell_type": "code",
   "execution_count": 74,
   "id": "509e2dc9",
   "metadata": {},
   "outputs": [
    {
     "name": "stdout",
     "output_type": "stream",
     "text": [
      "[1] \"Test Accuracy =  0.664333333333333\"\n"
     ]
    },
    {
     "name": "stderr",
     "output_type": "stream",
     "text": [
      "Setting levels: control = 0, case = 1\n",
      "\n",
      "Setting direction: controls < cases\n",
      "\n"
     ]
    },
    {
     "name": "stdout",
     "output_type": "stream",
     "text": [
      "[1] \"Test AUC =  0.667153223131358\"\n"
     ]
    }
   ],
   "source": [
    "#accuracy for test\n",
    "accuracy <- (conf_mat_test[1,1]+conf_mat_test[2,2])/(conf_mat_test[1,1]+conf_mat_test[1,2]+conf_mat_test[2,1]+conf_mat_test[2,2])\n",
    "print(paste('Test Accuracy = ', accuracy))\n",
    "print(paste('Test AUC = ', auc(test$subscribe, predicted_test)))"
   ]
  },
  {
   "cell_type": "markdown",
   "id": "e03877af",
   "metadata": {},
   "source": [
    "## SVM"
   ]
  },
  {
   "cell_type": "code",
   "execution_count": 75,
   "id": "c65e8390",
   "metadata": {},
   "outputs": [],
   "source": [
    "md_svm <- svm(as.factor(subscribe) ~ ., data=train, kernal='linear')"
   ]
  },
  {
   "cell_type": "code",
   "execution_count": 76,
   "id": "6b47cb38",
   "metadata": {},
   "outputs": [
    {
     "data": {
      "text/plain": [
       "\n",
       "Call:\n",
       "svm(formula = as.factor(subscribe) ~ ., data = train, kernal = \"linear\")\n",
       "\n",
       "\n",
       "Parameters:\n",
       "   SVM-Type:  C-classification \n",
       " SVM-Kernel:  radial \n",
       "       cost:  1 \n",
       "\n",
       "Number of Support Vectors:  4125\n"
      ]
     },
     "metadata": {},
     "output_type": "display_data"
    }
   ],
   "source": [
    "md_svm"
   ]
  },
  {
   "cell_type": "code",
   "execution_count": 77,
   "id": "98a57273",
   "metadata": {},
   "outputs": [],
   "source": [
    "# Prediction and evaluation on test\n",
    "predicted_test <- predict(md_svm, test)"
   ]
  },
  {
   "cell_type": "code",
   "execution_count": 78,
   "id": "d0a6cd27",
   "metadata": {},
   "outputs": [
    {
     "data": {
      "text/plain": [
       "   predicted_test\n",
       "       0    1\n",
       "  0 5254   66\n",
       "  1  538  142"
      ]
     },
     "metadata": {},
     "output_type": "display_data"
    }
   ],
   "source": [
    "table(test$subscribe, predicted_test)"
   ]
  },
  {
   "cell_type": "code",
   "execution_count": 79,
   "id": "5d4c5349",
   "metadata": {},
   "outputs": [],
   "source": [
    "md_svm_radial <- svm(as.factor(subscribe) ~ ., data=train, kernal='radial')"
   ]
  },
  {
   "cell_type": "code",
   "execution_count": 80,
   "id": "f1ed49f2",
   "metadata": {},
   "outputs": [
    {
     "data": {
      "text/plain": [
       "\n",
       "Call:\n",
       "svm(formula = as.factor(subscribe) ~ ., data = train, kernal = \"radial\")\n",
       "\n",
       "\n",
       "Parameters:\n",
       "   SVM-Type:  C-classification \n",
       " SVM-Kernel:  radial \n",
       "       cost:  1 \n",
       "\n",
       "Number of Support Vectors:  4125\n"
      ]
     },
     "metadata": {},
     "output_type": "display_data"
    }
   ],
   "source": [
    "md_svm_radial"
   ]
  },
  {
   "cell_type": "code",
   "execution_count": 81,
   "id": "b18db120",
   "metadata": {},
   "outputs": [],
   "source": [
    "# Prediction and evaluation on test\n",
    "predicted_test <- predict(md_svm_radial, test)"
   ]
  },
  {
   "cell_type": "code",
   "execution_count": 82,
   "id": "9c6a94f3",
   "metadata": {},
   "outputs": [
    {
     "data": {
      "text/plain": [
       "   predicted_test\n",
       "       0    1\n",
       "  0 5254   66\n",
       "  1  538  142"
      ]
     },
     "metadata": {},
     "output_type": "display_data"
    }
   ],
   "source": [
    "conf_mat_test <- table(test$subscribe, predicted_test)\n",
    "conf_mat_test"
   ]
  },
  {
   "cell_type": "code",
   "execution_count": 83,
   "id": "6c1a3bbe",
   "metadata": {},
   "outputs": [
    {
     "name": "stderr",
     "output_type": "stream",
     "text": [
      "Setting levels: control = 0, case = 1\n",
      "\n",
      "Setting direction: controls < cases\n",
      "\n"
     ]
    },
    {
     "data": {
      "image/png": "[encoded data removed]",
      "text/plain": [
       "plot without title"
      ]
     },
     "metadata": {
      "image/png": {
       "height": 420,
       "width": 420
      }
     },
     "output_type": "display_data"
    }
   ],
   "source": [
    "# ROC Curves\n",
    "test_roc = roc(test$subscribe ~ as.numeric(predicted_test), plot = TRUE, print.auc = TRUE)"
   ]
  },
  {
   "cell_type": "code",
   "execution_count": 84,
   "id": "3bd9891e",
   "metadata": {},
   "outputs": [
    {
     "name": "stdout",
     "output_type": "stream",
     "text": [
      "[1] \"Test Accuracy =  0.899333333333333\"\n"
     ]
    }
   ],
   "source": [
    "#accuracy for test\n",
    "accuracy <- (conf_mat_test[1,1]+conf_mat_test[2,2])/(conf_mat_test[1,1]+conf_mat_test[1,2]+conf_mat_test[2,1]+conf_mat_test[2,2])\n",
    "print(paste('Test Accuracy = ', accuracy))"
   ]
  },
  {
   "cell_type": "code",
   "execution_count": 85,
   "id": "5c3ce762",
   "metadata": {},
   "outputs": [],
   "source": [
    "md_svm_radial <- svm(as.factor(subscribe) ~ ., data=train[c(selection.forward.cp, 'subscribe')], kernal='radial')"
   ]
  },
  {
   "cell_type": "code",
   "execution_count": 86,
   "id": "0d9e0bc7",
   "metadata": {},
   "outputs": [],
   "source": [
    "# Prediction and evaluation on test\n",
    "predicted_test <- predict(md_svm_radial, test[c(selection.forward.cp, 'subscribe')], type=\"prob\")"
   ]
  },
  {
   "cell_type": "code",
   "execution_count": 87,
   "id": "fbd74750",
   "metadata": {},
   "outputs": [
    {
     "data": {
      "text/plain": [
       "   predicted_test\n",
       "       0    1\n",
       "  0 5243   77\n",
       "  1  526  154"
      ]
     },
     "metadata": {},
     "output_type": "display_data"
    }
   ],
   "source": [
    "conf_mat_test <- table(test$subscribe, predicted_test)\n",
    "conf_mat_test"
   ]
  },
  {
   "cell_type": "code",
   "execution_count": 88,
   "id": "654aef02",
   "metadata": {
    "scrolled": true
   },
   "outputs": [
    {
     "name": "stderr",
     "output_type": "stream",
     "text": [
      "Setting levels: control = 0, case = 1\n",
      "\n",
      "Setting direction: controls < cases\n",
      "\n"
     ]
    },
    {
     "data": {
      "image/png": "[encoded data removed]",
      "text/plain": [
       "plot without title"
      ]
     },
     "metadata": {
      "image/png": {
       "height": 420,
       "width": 420
      }
     },
     "output_type": "display_data"
    }
   ],
   "source": [
    "# ROC Curves\n",
    "test_roc = roc(test$subscribe ~ as.numeric(predicted_test), plot = TRUE, print.auc = TRUE)"
   ]
  },
  {
   "cell_type": "code",
   "execution_count": 89,
   "id": "98873edb",
   "metadata": {},
   "outputs": [
    {
     "name": "stdout",
     "output_type": "stream",
     "text": [
      "[1] \"Test Accuracy =  0.8995\"\n"
     ]
    }
   ],
   "source": [
    "#accuracy for test\n",
    "accuracy <- (conf_mat_test[1,1]+conf_mat_test[2,2])/(conf_mat_test[1,1]+conf_mat_test[1,2]+conf_mat_test[2,1]+conf_mat_test[2,2])\n",
    "print(paste('Test Accuracy = ', accuracy))"
   ]
  },
  {
   "cell_type": "code",
   "execution_count": 90,
   "id": "325d231f",
   "metadata": {},
   "outputs": [],
   "source": [
    "md_svm_radial <- svm(as.factor(subscribe) ~ ., data=train[c(selection.forward.cp, 'subscribe')], \n",
    "                     kernal='radial', cost = 100, gamma = 0.2)"
   ]
  },
  {
   "cell_type": "code",
   "execution_count": 91,
   "id": "6be26b8e",
   "metadata": {},
   "outputs": [],
   "source": [
    "# Prediction and evaluation on test\n",
    "predicted_test <- predict(md_svm_radial, test[c(selection.forward.cp, 'subscribe')], type=\"prob\")"
   ]
  },
  {
   "cell_type": "code",
   "execution_count": 92,
   "id": "2271fe0a",
   "metadata": {},
   "outputs": [
    {
     "data": {
      "text/plain": [
       "   predicted_test\n",
       "       0    1\n",
       "  0 5177  143\n",
       "  1  523  157"
      ]
     },
     "metadata": {},
     "output_type": "display_data"
    }
   ],
   "source": [
    "conf_mat_test <- table(test$subscribe, predicted_test)\n",
    "conf_mat_test"
   ]
  },
  {
   "cell_type": "code",
   "execution_count": 93,
   "id": "c67744de",
   "metadata": {},
   "outputs": [
    {
     "name": "stdout",
     "output_type": "stream",
     "text": [
      "[1] \"Test Accuracy =  0.889\"\n"
     ]
    }
   ],
   "source": [
    "#accuracy for test\n",
    "accuracy <- (conf_mat_test[1,1]+conf_mat_test[2,2])/(conf_mat_test[1,1]+conf_mat_test[1,2]+conf_mat_test[2,1]+conf_mat_test[2,2])\n",
    "print(paste('Test Accuracy = ', accuracy))"
   ]
  },
  {
   "cell_type": "code",
   "execution_count": 94,
   "id": "fe359ccb",
   "metadata": {},
   "outputs": [
    {
     "name": "stderr",
     "output_type": "stream",
     "text": [
      "Setting levels: control = 0, case = 1\n",
      "\n",
      "Setting direction: controls < cases\n",
      "\n"
     ]
    },
    {
     "data": {
      "image/png": "[encoded data removed]",
      "text/plain": [
       "plot without title"
      ]
     },
     "metadata": {
      "image/png": {
       "height": 420,
       "width": 420
      }
     },
     "output_type": "display_data"
    }
   ],
   "source": [
    "# ROC Curves\n",
    "test_roc = roc(test$subscribe ~ as.numeric(predicted_test), plot = TRUE, print.auc = TRUE)"
   ]
  },
  {
   "cell_type": "code",
   "execution_count": 98,
   "id": "93d0d6ed",
   "metadata": {},
   "outputs": [
    {
     "data": {
      "text/plain": [
       "   predictions_train\n",
       "       0    1\n",
       "  0 9913 2496\n",
       "  1  543 1048"
      ]
     },
     "metadata": {},
     "output_type": "display_data"
    }
   ],
   "source": [
    "conf_mat_train <- table(train$subscribe, predictions_train)\n",
    "conf_mat_train"
   ]
  },
  {
   "cell_type": "code",
   "execution_count": 99,
   "id": "99129e78",
   "metadata": {},
   "outputs": [
    {
     "data": {
      "text/plain": [
       "   predictions_test\n",
       "       0    1\n",
       "  0 4238 1082\n",
       "  1  235  445"
      ]
     },
     "metadata": {},
     "output_type": "display_data"
    }
   ],
   "source": [
    "conf_mat_test <- table(test$subscribe, predictions_test)\n",
    "conf_mat_test"
   ]
  }
 ],
 "metadata": {
  "kernelspec": {
   "display_name": "R",
   "language": "R",
   "name": "ir"
  },
  "language_info": {
   "codemirror_mode": "r",
   "file_extension": ".r",
   "mimetype": "text/x-r-source",
   "name": "R",
   "pygments_lexer": "r",
   "version": "4.0.5"
  }
 },
 "nbformat": 4,
 "nbformat_minor": 5
}
