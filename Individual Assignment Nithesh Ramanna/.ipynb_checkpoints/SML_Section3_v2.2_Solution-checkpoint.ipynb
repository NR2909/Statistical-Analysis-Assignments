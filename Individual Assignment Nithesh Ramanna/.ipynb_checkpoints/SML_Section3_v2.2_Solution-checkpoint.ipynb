{
 "cells": [
  {
   "cell_type": "markdown",
   "metadata": {},
   "source": [
    "![ieseg logo](./img/ieseg.png)\n",
    "\n",
    "#### MBD 2020-2021\n",
    "# Statistical & Machine Learning Approaches for Marketing\n",
    "\n",
    "## Section 3: Chapter 5, 6, 7 - Solution"
   ]
  },
  {
   "cell_type": "markdown",
   "metadata": {},
   "source": [
    "### 1. Import all required libraries and datasets"
   ]
  },
  {
   "cell_type": "code",
   "execution_count": 229,
   "metadata": {},
   "outputs": [
    {
     "name": "stderr",
     "output_type": "stream",
     "text": [
      "Warning message:\n",
      "\"package 'gam' was built under R version 4.0.4\"\n",
      "Loading required package: foreach\n",
      "\n",
      "Loaded gam 1.20\n",
      "\n",
      "\n"
     ]
    },
    {
     "data": {
      "text/html": [
       "'R version 4.0.3 (2020-10-10)'"
      ],
      "text/latex": [
       "'R version 4.0.3 (2020-10-10)'"
      ],
      "text/markdown": [
       "'R version 4.0.3 (2020-10-10)'"
      ],
      "text/plain": [
       "[1] \"R version 4.0.3 (2020-10-10)\""
      ]
     },
     "metadata": {},
     "output_type": "display_data"
    }
   ],
   "source": [
    "# Set environment params\n",
    "Sys.setenv(LANG='en')  # English\n",
    "\n",
    "# Import libraries\n",
    "library(data.table)  # Data manipulate\n",
    "library(mlr)         # ML toolkit\n",
    "library(boot)        # CV, Bootstrap\n",
    "library(leaps)       # Best subset, forward, backward selection\n",
    "library(glmnet)      # Ridge, Lasso\n",
    "library(pls)         # PCR, PLS\n",
    "library(splines)     # Splines\n",
    "library(gam)         # GAM model\n",
    "library(ggplot2)     # Visualization\n",
    "library(pROC)        # AUC, ROC\n",
    "library(lmvar)       # CV for linear model\n",
    "\n",
    "# Import data\n",
    "library(ISLR)      # Data from the course book\n",
    "library(MASS)      # Boston housing dataset\n",
    "library(datasets)  # US crime dataset\n",
    "\n",
    "# Resize plot\n",
    "library(repr)  # String and binary representations\n",
    "#options(repr.plot.width=4, repr.plot.height=4)\n",
    "\n",
    "R.version.string"
   ]
  },
  {
   "cell_type": "code",
   "execution_count": 72,
   "metadata": {},
   "outputs": [],
   "source": [
    "# Install missing packages\n",
    "# install.packages(c(\"data.table\", \"caret\", \"mlr\", \"ggplot2\", \"ISLR\", \"MASS\", \"datasets\"))"
   ]
  },
  {
   "cell_type": "markdown",
   "metadata": {},
   "source": [
    "## Homework\n",
    "- Exercise 3 (p.198, Chap.5), 8 (p.200, Chap.5), 1 (p.259, Chap.6), 9 (p.263, Chap.6), 9 (p.299, Chap.7) and 10 (p.300, Chap.7)."
   ]
  },
  {
   "cell_type": "markdown",
   "metadata": {},
   "source": [
    "#### Exercise 3 (p.198, Chap.5)"
   ]
  },
  {
   "cell_type": "markdown",
   "metadata": {},
   "source": [
    "(a) Explain how k-fold cross-validation (p.181)\n",
    "\n",
    "![k-fold_cv](./img/k-fold_cv.jpg)"
   ]
  },
  {
   "cell_type": "markdown",
   "metadata": {},
   "source": [
    "(b) Advantages and disadvantages of k-fold cross-validation vs. Hold-out and LOOCV\n",
    "\n",
    "Advantages:\n",
    "- Estimate the error equivalent to LOOCV, but faster and lower variance than LOOCV\n",
    "- Estimate the error better than Hold-out when the data size is small\n",
    "\n",
    "Disadvantages:\n",
    "- Slower and more complex than Hold-out\n",
    "- Might not have enough data to fit the model if the data size is very small"
   ]
  },
  {
   "cell_type": "markdown",
   "metadata": {},
   "source": [
    "#### Exercise 8 (p.200, Chap.5)"
   ]
  },
  {
   "cell_type": "markdown",
   "metadata": {},
   "source": [
    "(a) Generate a simulated data\n",
    "\n",
    "$$ y = f(x) = -2x^2 + x + e $$\n",
    "$$ x, e \\sim \\mathcal{N}(\\mu,\\,\\sigma^{2}) $$\n",
    "$$ n = 100, p = 1 $$"
   ]
  },
  {
   "cell_type": "code",
   "execution_count": 2,
   "metadata": {},
   "outputs": [],
   "source": [
    "set.seed(1)\n",
    "x = rnorm(100)\n",
    "y = x - 2*x^2 + rnorm(100)"
   ]
  },
  {
   "cell_type": "markdown",
   "metadata": {},
   "source": [
    "(b) Scatterplot of X, Y"
   ]
  },
  {
   "cell_type": "code",
   "execution_count": 5,
   "metadata": {},
   "outputs": [
    {
     "data": {
      "image/png": "[encoded data removed]",
      "text/plain": [
       "plot without title"
      ]
     },
     "metadata": {
      "image/png": {
       "height": 420,
       "width": 420
      }
     },
     "output_type": "display_data"
    }
   ],
   "source": [
    "# Polinomial function\n",
    "plot(x, y)"
   ]
  },
  {
   "cell_type": "markdown",
   "metadata": {},
   "source": [
    "(c) Compute LOOCV errors"
   ]
  },
  {
   "cell_type": "code",
   "execution_count": 12,
   "metadata": {},
   "outputs": [
    {
     "data": {
      "text/html": [
       "<style>\n",
       ".list-inline {list-style: none; margin:0; padding: 0}\n",
       ".list-inline>li {display: inline-block}\n",
       ".list-inline>li:not(:last-child)::after {content: \"\\00b7\"; padding: 0 .5ex}\n",
       "</style>\n",
       "<ol class=list-inline><li>7.28816160667281</li><li>0.937423637615552</li><li>0.956621830108939</li><li>0.953904892744804</li></ol>\n"
      ],
      "text/latex": [
       "\\begin{enumerate*}\n",
       "\\item 7.28816160667281\n",
       "\\item 0.937423637615552\n",
       "\\item 0.956621830108939\n",
       "\\item 0.953904892744804\n",
       "\\end{enumerate*}\n"
      ],
      "text/markdown": [
       "1. 7.28816160667281\n",
       "2. 0.937423637615552\n",
       "3. 0.956621830108939\n",
       "4. 0.953904892744804\n",
       "\n",
       "\n"
      ],
      "text/plain": [
       "[1] 7.2881616 0.9374236 0.9566218 0.9539049"
      ]
     },
     "metadata": {},
     "output_type": "display_data"
    }
   ],
   "source": [
    "sim_data <- data.frame(x, y)\n",
    "cv_err <- rep(0, 4)\n",
    "\n",
    "# Loop through 4 LR models\n",
    "set.seed(1)\n",
    "for (i in 1:4) {\n",
    "    glm_fit <- glm(y ∼ poly(x, i), data=sim_data)\n",
    "    cv_err[i] <- cv.glm(sim_data, glm_fit)$delta[1]\n",
    "}\n",
    "\n",
    "# Print out the LOOCV errors\n",
    "cv_err"
   ]
  },
  {
   "cell_type": "markdown",
   "metadata": {},
   "source": [
    "(d) Repeat (c) with different seed\n",
    "\n",
    "LOOCV is not affected by the seed, since it repeats the train-predict process for all data points."
   ]
  },
  {
   "cell_type": "code",
   "execution_count": 13,
   "metadata": {},
   "outputs": [
    {
     "data": {
      "text/html": [
       "<style>\n",
       ".list-inline {list-style: none; margin:0; padding: 0}\n",
       ".list-inline>li {display: inline-block}\n",
       ".list-inline>li:not(:last-child)::after {content: \"\\00b7\"; padding: 0 .5ex}\n",
       "</style>\n",
       "<ol class=list-inline><li>7.28816160667281</li><li>0.937423637615552</li><li>0.95662183010894</li><li>0.953904892744804</li></ol>\n"
      ],
      "text/latex": [
       "\\begin{enumerate*}\n",
       "\\item 7.28816160667281\n",
       "\\item 0.937423637615552\n",
       "\\item 0.95662183010894\n",
       "\\item 0.953904892744804\n",
       "\\end{enumerate*}\n"
      ],
      "text/markdown": [
       "1. 7.28816160667281\n",
       "2. 0.937423637615552\n",
       "3. 0.95662183010894\n",
       "4. 0.953904892744804\n",
       "\n",
       "\n"
      ],
      "text/plain": [
       "[1] 7.2881616 0.9374236 0.9566218 0.9539049"
      ]
     },
     "metadata": {},
     "output_type": "display_data"
    }
   ],
   "source": [
    "sim_data <- data.frame(x, y)\n",
    "cv_err <- rep(0, 4)\n",
    "\n",
    "# Loop through 4 LR models\n",
    "set.seed(3)\n",
    "for (i in 1:4) {\n",
    "    glm_fit <- glm(y ∼ poly(x, i), data=sim_data)\n",
    "    cv_err[i] <- cv.glm(sim_data, glm_fit)$delta[1]\n",
    "}\n",
    "\n",
    "# Print out the LOOCV errors\n",
    "cv_err"
   ]
  },
  {
   "cell_type": "markdown",
   "metadata": {},
   "source": [
    "(e) Best model(s) with smallest LOOCV error\n",
    "\n",
    "The 2nd model poly(d=2) has the smallest LOOCV error, since it has the closest form of the function used to simulate the data in (a)."
   ]
  },
  {
   "cell_type": "markdown",
   "metadata": {},
   "source": [
    "(f) The statistical significance of the coefficient\n",
    "\n",
    "For all 4 models, only x and x^2 are significant. This result confirms the conclusion on (e)."
   ]
  },
  {
   "cell_type": "code",
   "execution_count": 15,
   "metadata": {
    "scrolled": true
   },
   "outputs": [
    {
     "name": "stdout",
     "output_type": "stream",
     "text": [
      "\n",
      "Call:\n",
      "glm(formula = y ~ poly(x, i), data = sim_data)\n",
      "\n",
      "Deviance Residuals: \n",
      "    Min       1Q   Median       3Q      Max  \n",
      "-9.5161  -0.6800   0.6812   1.5491   3.8183  \n",
      "\n",
      "Coefficients:\n",
      "            Estimate Std. Error t value Pr(>|t|)    \n",
      "(Intercept)   -1.550      0.260  -5.961 3.95e-08 ***\n",
      "poly(x, i)     6.189      2.600   2.380   0.0192 *  \n",
      "---\n",
      "Signif. codes:  0 '***' 0.001 '**' 0.01 '*' 0.05 '.' 0.1 ' ' 1\n",
      "\n",
      "(Dispersion parameter for gaussian family taken to be 6.760719)\n",
      "\n",
      "    Null deviance: 700.85  on 99  degrees of freedom\n",
      "Residual deviance: 662.55  on 98  degrees of freedom\n",
      "AIC: 478.88\n",
      "\n",
      "Number of Fisher Scoring iterations: 2\n",
      "\n",
      "\n",
      "Call:\n",
      "glm(formula = y ~ poly(x, i), data = sim_data)\n",
      "\n",
      "Deviance Residuals: \n",
      "    Min       1Q   Median       3Q      Max  \n",
      "-1.9650  -0.6254  -0.1288   0.5803   2.2700  \n",
      "\n",
      "Coefficients:\n",
      "            Estimate Std. Error t value Pr(>|t|)    \n",
      "(Intercept)  -1.5500     0.0958  -16.18  < 2e-16 ***\n",
      "poly(x, i)1   6.1888     0.9580    6.46 4.18e-09 ***\n",
      "poly(x, i)2 -23.9483     0.9580  -25.00  < 2e-16 ***\n",
      "---\n",
      "Signif. codes:  0 '***' 0.001 '**' 0.01 '*' 0.05 '.' 0.1 ' ' 1\n",
      "\n",
      "(Dispersion parameter for gaussian family taken to be 0.9178258)\n",
      "\n",
      "    Null deviance: 700.852  on 99  degrees of freedom\n",
      "Residual deviance:  89.029  on 97  degrees of freedom\n",
      "AIC: 280.17\n",
      "\n",
      "Number of Fisher Scoring iterations: 2\n",
      "\n",
      "\n",
      "Call:\n",
      "glm(formula = y ~ poly(x, i), data = sim_data)\n",
      "\n",
      "Deviance Residuals: \n",
      "    Min       1Q   Median       3Q      Max  \n",
      "-1.9765  -0.6302  -0.1227   0.5545   2.2843  \n",
      "\n",
      "Coefficients:\n",
      "             Estimate Std. Error t value Pr(>|t|)    \n",
      "(Intercept)  -1.55002    0.09626 -16.102  < 2e-16 ***\n",
      "poly(x, i)1   6.18883    0.96263   6.429 4.97e-09 ***\n",
      "poly(x, i)2 -23.94830    0.96263 -24.878  < 2e-16 ***\n",
      "poly(x, i)3   0.26411    0.96263   0.274    0.784    \n",
      "---\n",
      "Signif. codes:  0 '***' 0.001 '**' 0.01 '*' 0.05 '.' 0.1 ' ' 1\n",
      "\n",
      "(Dispersion parameter for gaussian family taken to be 0.9266599)\n",
      "\n",
      "    Null deviance: 700.852  on 99  degrees of freedom\n",
      "Residual deviance:  88.959  on 96  degrees of freedom\n",
      "AIC: 282.09\n",
      "\n",
      "Number of Fisher Scoring iterations: 2\n",
      "\n",
      "\n",
      "Call:\n",
      "glm(formula = y ~ poly(x, i), data = sim_data)\n",
      "\n",
      "Deviance Residuals: \n",
      "    Min       1Q   Median       3Q      Max  \n",
      "-2.0550  -0.6212  -0.1567   0.5952   2.2267  \n",
      "\n",
      "Coefficients:\n",
      "             Estimate Std. Error t value Pr(>|t|)    \n",
      "(Intercept)  -1.55002    0.09591 -16.162  < 2e-16 ***\n",
      "poly(x, i)1   6.18883    0.95905   6.453 4.59e-09 ***\n",
      "poly(x, i)2 -23.94830    0.95905 -24.971  < 2e-16 ***\n",
      "poly(x, i)3   0.26411    0.95905   0.275    0.784    \n",
      "poly(x, i)4   1.25710    0.95905   1.311    0.193    \n",
      "---\n",
      "Signif. codes:  0 '***' 0.001 '**' 0.01 '*' 0.05 '.' 0.1 ' ' 1\n",
      "\n",
      "(Dispersion parameter for gaussian family taken to be 0.9197797)\n",
      "\n",
      "    Null deviance: 700.852  on 99  degrees of freedom\n",
      "Residual deviance:  87.379  on 95  degrees of freedom\n",
      "AIC: 282.3\n",
      "\n",
      "Number of Fisher Scoring iterations: 2\n",
      "\n"
     ]
    },
    {
     "data": {
      "text/html": [
       "<style>\n",
       ".list-inline {list-style: none; margin:0; padding: 0}\n",
       ".list-inline>li {display: inline-block}\n",
       ".list-inline>li:not(:last-child)::after {content: \"\\00b7\"; padding: 0 .5ex}\n",
       "</style>\n",
       "<ol class=list-inline><li>7.28816160667281</li><li>0.937423637615552</li><li>0.95662183010894</li><li>0.953904892744804</li></ol>\n"
      ],
      "text/latex": [
       "\\begin{enumerate*}\n",
       "\\item 7.28816160667281\n",
       "\\item 0.937423637615552\n",
       "\\item 0.95662183010894\n",
       "\\item 0.953904892744804\n",
       "\\end{enumerate*}\n"
      ],
      "text/markdown": [
       "1. 7.28816160667281\n",
       "2. 0.937423637615552\n",
       "3. 0.95662183010894\n",
       "4. 0.953904892744804\n",
       "\n",
       "\n"
      ],
      "text/plain": [
       "[1] 7.2881616 0.9374236 0.9566218 0.9539049"
      ]
     },
     "metadata": {},
     "output_type": "display_data"
    }
   ],
   "source": [
    "sim_data <- data.frame(x, y)\n",
    "cv_err <- rep(0, 4)\n",
    "\n",
    "# Loop through 4 LR models\n",
    "set.seed(3)\n",
    "for (i in 1:4) {\n",
    "    glm_fit <- glm(y ∼ poly(x, i), data=sim_data)\n",
    "    print(summary(glm_fit))\n",
    "    cv_err[i] <- cv.glm(sim_data, glm_fit)$delta[1]\n",
    "}\n",
    "\n",
    "# Print out the LOOCV errors\n",
    "cv_err"
   ]
  },
  {
   "cell_type": "markdown",
   "metadata": {},
   "source": [
    "#### Exercise 1 (p.259, Chap.6)"
   ]
  },
  {
   "cell_type": "markdown",
   "metadata": {},
   "source": [
    "(a) The models with k = p will have smallest *training* RSS.\n",
    "\n",
    "(b) Currently, we don't know yet. We need to look at the cross-validation results to pick the model with lowest estimated *test* RSS. However, for most of the case, it will be the best subset model.\n",
    "\n",
    "(c) True or False:\n",
    "- i. True\n",
    "- ii. True\n",
    "- iii. False\n",
    "- iv. False\n",
    "- v. False"
   ]
  },
  {
   "cell_type": "markdown",
   "metadata": {},
   "source": [
    "#### Exercise 9 (p.263, Chap.6)"
   ]
  },
  {
   "cell_type": "code",
   "execution_count": 17,
   "metadata": {},
   "outputs": [
    {
     "name": "stdout",
     "output_type": "stream",
     "text": [
      "'data.frame':\t777 obs. of  18 variables:\n",
      " $ Private    : Factor w/ 2 levels \"No\",\"Yes\": 2 2 2 2 2 2 2 2 2 2 ...\n",
      " $ Apps       : num  1660 2186 1428 417 193 ...\n",
      " $ Accept     : num  1232 1924 1097 349 146 ...\n",
      " $ Enroll     : num  721 512 336 137 55 158 103 489 227 172 ...\n",
      " $ Top10perc  : num  23 16 22 60 16 38 17 37 30 21 ...\n",
      " $ Top25perc  : num  52 29 50 89 44 62 45 68 63 44 ...\n",
      " $ F.Undergrad: num  2885 2683 1036 510 249 ...\n",
      " $ P.Undergrad: num  537 1227 99 63 869 ...\n",
      " $ Outstate   : num  7440 12280 11250 12960 7560 ...\n",
      " $ Room.Board : num  3300 6450 3750 5450 4120 ...\n",
      " $ Books      : num  450 750 400 450 800 500 500 450 300 660 ...\n",
      " $ Personal   : num  2200 1500 1165 875 1500 ...\n",
      " $ PhD        : num  70 29 53 92 76 67 90 89 79 40 ...\n",
      " $ Terminal   : num  78 30 66 97 72 73 93 100 84 41 ...\n",
      " $ S.F.Ratio  : num  18.1 12.2 12.9 7.7 11.9 9.4 11.5 13.7 11.3 11.5 ...\n",
      " $ perc.alumni: num  12 16 30 37 2 11 26 37 23 15 ...\n",
      " $ Expend     : num  7041 10527 8735 19016 10922 ...\n",
      " $ Grad.Rate  : num  60 56 54 59 15 55 63 73 80 52 ...\n"
     ]
    }
   ],
   "source": [
    "library(ISLR)\n",
    "str(College)"
   ]
  },
  {
   "cell_type": "markdown",
   "metadata": {},
   "source": [
    "(a) Split the data to train, test"
   ]
  },
  {
   "cell_type": "code",
   "execution_count": 43,
   "metadata": {},
   "outputs": [],
   "source": [
    "# Convert the categorical variable to numeric\n",
    "college_df <- College\n",
    "college_df$PrivateYes <- as.numeric(college_df$Private == \"Yes\")\n",
    "college_df$Private <- NULL"
   ]
  },
  {
   "cell_type": "code",
   "execution_count": 44,
   "metadata": {},
   "outputs": [],
   "source": [
    "set.seed(1)\n",
    "train_index <- sample(1:nrow(college_df), round(0.5 * nrow(college_df), 0))\n",
    "train <- college_df[train_index, ]\n",
    "test <- college_df[-train_index, ]"
   ]
  },
  {
   "cell_type": "markdown",
   "metadata": {},
   "source": [
    "(b) Fit a linear model"
   ]
  },
  {
   "cell_type": "code",
   "execution_count": 49,
   "metadata": {},
   "outputs": [
    {
     "data": {
      "text/html": [
       "1135758.31783053"
      ],
      "text/latex": [
       "1135758.31783053"
      ],
      "text/markdown": [
       "1135758.31783053"
      ],
      "text/plain": [
       "[1] 1135758"
      ]
     },
     "metadata": {},
     "output_type": "display_data"
    }
   ],
   "source": [
    "lr_model <- lm(Apps ~ ., data=train)\n",
    "pred <- predict(lr_model, newdata=test)\n",
    "mse <- mean((pred - test$Apps)^2)\n",
    "mse"
   ]
  },
  {
   "cell_type": "markdown",
   "metadata": {},
   "source": [
    "(c) Fit a ridge regression model"
   ]
  },
  {
   "cell_type": "code",
   "execution_count": 67,
   "metadata": {},
   "outputs": [
    {
     "name": "stdout",
     "output_type": "stream",
     "text": [
      "[1] \"Best lambda = 405.840359582873\"\n"
     ]
    },
    {
     "data": {
      "image/png": "[encoded data removed]",
      "text/plain": [
       "plot without title"
      ]
     },
     "metadata": {
      "image/png": {
       "height": 420,
       "width": 420
      }
     },
     "output_type": "display_data"
    }
   ],
   "source": [
    "# Find the best lambda using CV\n",
    "lr_l2_cv <- cv.glmnet(as.matrix(train[, predictor_list]), train$Apps, alpha=0)\n",
    "plot(lr_l2_cv)\n",
    "best_l2_lambda <- lr_l2_cv$lambda.min\n",
    "print(paste('Best lambda =', best_l2_lambda))"
   ]
  },
  {
   "cell_type": "code",
   "execution_count": 68,
   "metadata": {},
   "outputs": [
    {
     "data": {
      "text/html": [
       "976252.508628819"
      ],
      "text/latex": [
       "976252.508628819"
      ],
      "text/markdown": [
       "976252.508628819"
      ],
      "text/plain": [
       "[1] 976252.5"
      ]
     },
     "metadata": {},
     "output_type": "display_data"
    }
   ],
   "source": [
    "# Refit the model using best lambda selected from CV\n",
    "lr_l2_model <- glmnet(as.matrix(train[, predictor_list]), train$Apps, alpha=0)\n",
    "pred <- predict(lr_l2_model, s=best_l2_lambda, newx=as.matrix(test[, predictor_list]))\n",
    "mse <- mean((pred - test$Apps)^2)\n",
    "mse"
   ]
  },
  {
   "cell_type": "markdown",
   "metadata": {},
   "source": [
    "(d) Fit a lasso regression model"
   ]
  },
  {
   "cell_type": "code",
   "execution_count": 64,
   "metadata": {},
   "outputs": [
    {
     "name": "stdout",
     "output_type": "stream",
     "text": [
      "[1] \"Best lambda = 1.97343997085518\"\n"
     ]
    },
    {
     "data": {
      "image/png": "[encoded data removed]",
      "text/plain": [
       "plot without title"
      ]
     },
     "metadata": {
      "image/png": {
       "height": 420,
       "width": 420
      }
     },
     "output_type": "display_data"
    }
   ],
   "source": [
    "# Find the best lambda using CV\n",
    "lr_l1_cv <- cv.glmnet(as.matrix(train[, predictor_list]), train$Apps, alpha=1)\n",
    "plot(lr_l1_cv)\n",
    "best_l1_lambda <- lr_l1_cv$lambda.min\n",
    "print(paste('Best lambda =', best_l1_lambda))"
   ]
  },
  {
   "cell_type": "code",
   "execution_count": 65,
   "metadata": {},
   "outputs": [
    {
     "data": {
      "text/html": [
       "1115751.24079692"
      ],
      "text/latex": [
       "1115751.24079692"
      ],
      "text/markdown": [
       "1115751.24079692"
      ],
      "text/plain": [
       "[1] 1115751"
      ]
     },
     "metadata": {},
     "output_type": "display_data"
    }
   ],
   "source": [
    "# Refit the model using best lambda selected from CV\n",
    "lr_l1_model <- glmnet(as.matrix(train[, predictor_list]), train$Apps, alpha=1)\n",
    "pred <- predict(lr_l1_model, s=best_l1_lambda, newx=as.matrix(test[, predictor_list]))\n",
    "mse <- mean((pred - test$Apps)^2)\n",
    "mse"
   ]
  },
  {
   "cell_type": "code",
   "execution_count": 66,
   "metadata": {
    "scrolled": true
   },
   "outputs": [
    {
     "data": {
      "text/plain": [
       "18 x 1 sparse Matrix of class \"dgCMatrix\"\n",
       "                        1\n",
       "(Intercept) -7.684195e+02\n",
       "Accept       1.762636e+00\n",
       "Enroll      -1.317551e+00\n",
       "Top10perc    6.481218e+01\n",
       "Top25perc   -2.080729e+01\n",
       "F.Undergrad  7.110645e-02\n",
       "P.Undergrad  1.247181e-02\n",
       "Outstate    -1.048866e-01\n",
       "Room.Board   2.088311e-01\n",
       "Books        2.927866e-01\n",
       "Personal     3.950939e-03\n",
       "PhD         -1.454388e+01\n",
       "Terminal     5.386019e+00\n",
       "S.F.Ratio    2.170870e+01\n",
       "perc.alumni  5.078635e-01\n",
       "Expend       4.824238e-02\n",
       "Grad.Rate    7.034140e+00\n",
       "PrivateYes  -3.135558e+02"
      ]
     },
     "metadata": {},
     "output_type": "display_data"
    }
   ],
   "source": [
    "# Report the coefficient\n",
    "predict(lr_l1_model, type='coefficients', s=best_l1_lambda)"
   ]
  },
  {
   "cell_type": "markdown",
   "metadata": {},
   "source": [
    "(e) Fit a PCR model"
   ]
  },
  {
   "cell_type": "code",
   "execution_count": 94,
   "metadata": {},
   "outputs": [
    {
     "data": {
      "image/png": "[encoded data removed]",
      "text/plain": [
       "Plot with title \"Apps\""
      ]
     },
     "metadata": {
      "image/png": {
       "height": 420,
       "width": 420
      }
     },
     "output_type": "display_data"
    }
   ],
   "source": [
    "# PCR + CV suggests to use all 17 components\n",
    "set.seed(1)\n",
    "pca_model <- pcr(Apps ~ ., data=train, scale=TRUE, validation='CV')\n",
    "validationplot(pca_model, val.type='MSEP')"
   ]
  },
  {
   "cell_type": "code",
   "execution_count": 95,
   "metadata": {},
   "outputs": [
    {
     "data": {
      "text/html": [
       "1135758.31783053"
      ],
      "text/latex": [
       "1135758.31783053"
      ],
      "text/markdown": [
       "1135758.31783053"
      ],
      "text/plain": [
       "[1] 1135758"
      ]
     },
     "metadata": {},
     "output_type": "display_data"
    }
   ],
   "source": [
    "# Evaluation on test\n",
    "pred <- predict(pca_model, newdata=test, ncomp=17)\n",
    "mse <- mean((pred - test$Apps)^2)\n",
    "mse"
   ]
  },
  {
   "cell_type": "markdown",
   "metadata": {},
   "source": [
    "(f) Fit a PLS model"
   ]
  },
  {
   "cell_type": "code",
   "execution_count": 96,
   "metadata": {},
   "outputs": [
    {
     "data": {
      "image/png": "[encoded data removed]",
      "text/plain": [
       "Plot with title \"Apps\""
      ]
     },
     "metadata": {
      "image/png": {
       "height": 420,
       "width": 420
      }
     },
     "output_type": "display_data"
    }
   ],
   "source": [
    "# PLS + CV suggests to use all 6-7 components\n",
    "set.seed(1)\n",
    "pls_model <- plsr(Apps ~ ., data=train, scale=TRUE, validation='CV')\n",
    "validationplot(pls_model, val.type='MSEP')"
   ]
  },
  {
   "cell_type": "code",
   "execution_count": 98,
   "metadata": {},
   "outputs": [
    {
     "data": {
      "text/html": [
       "1066990.69493137"
      ],
      "text/latex": [
       "1066990.69493137"
      ],
      "text/markdown": [
       "1066990.69493137"
      ],
      "text/plain": [
       "[1] 1066991"
      ]
     },
     "metadata": {},
     "output_type": "display_data"
    }
   ],
   "source": [
    "# Evaluation on test\n",
    "pred <- predict(pls_model, newdata=test, ncomp=6)\n",
    "mse <- mean((pred - test$Apps)^2)\n",
    "mse"
   ]
  },
  {
   "cell_type": "markdown",
   "metadata": {},
   "source": [
    "(g) Comment on the results of 5 approaches\n",
    "\n",
    "- According to LR model, we can predict the number of college applications received with a MSE = 1135758.32, or RMSE = 1065.72.\n",
    "- The best model is Ridge Regression with MSE = 976252.51, or RMSE = 988.05. Other models perform better or equal to the baseline LR model."
   ]
  },
  {
   "cell_type": "markdown",
   "metadata": {},
   "source": [
    "#### Exercise 9 (p.299, Chap.7)"
   ]
  },
  {
   "cell_type": "code",
   "execution_count": 104,
   "metadata": {},
   "outputs": [
    {
     "name": "stdout",
     "output_type": "stream",
     "text": [
      "'data.frame':\t506 obs. of  14 variables:\n",
      " $ crim   : num  0.00632 0.02731 0.02729 0.03237 0.06905 ...\n",
      " $ zn     : num  18 0 0 0 0 0 12.5 12.5 12.5 12.5 ...\n",
      " $ indus  : num  2.31 7.07 7.07 2.18 2.18 2.18 7.87 7.87 7.87 7.87 ...\n",
      " $ chas   : int  0 0 0 0 0 0 0 0 0 0 ...\n",
      " $ nox    : num  0.538 0.469 0.469 0.458 0.458 0.458 0.524 0.524 0.524 0.524 ...\n",
      " $ rm     : num  6.58 6.42 7.18 7 7.15 ...\n",
      " $ age    : num  65.2 78.9 61.1 45.8 54.2 58.7 66.6 96.1 100 85.9 ...\n",
      " $ dis    : num  4.09 4.97 4.97 6.06 6.06 ...\n",
      " $ rad    : int  1 2 2 3 3 3 5 5 5 5 ...\n",
      " $ tax    : num  296 242 242 222 222 222 311 311 311 311 ...\n",
      " $ ptratio: num  15.3 17.8 17.8 18.7 18.7 18.7 15.2 15.2 15.2 15.2 ...\n",
      " $ black  : num  397 397 393 395 397 ...\n",
      " $ lstat  : num  4.98 9.14 4.03 2.94 5.33 ...\n",
      " $ medv   : num  24 21.6 34.7 33.4 36.2 28.7 22.9 27.1 16.5 18.9 ...\n"
     ]
    }
   ],
   "source": [
    "library(MASS)\n",
    "str(Boston)"
   ]
  },
  {
   "cell_type": "markdown",
   "metadata": {},
   "source": [
    "(a) Fit a cubic polynomial regression to predict nox using dis"
   ]
  },
  {
   "cell_type": "code",
   "execution_count": 106,
   "metadata": {},
   "outputs": [
    {
     "data": {
      "text/plain": [
       "\n",
       "Call:\n",
       "lm(formula = nox ~ poly(dis, d = 3), data = Boston)\n",
       "\n",
       "Residuals:\n",
       "      Min        1Q    Median        3Q       Max \n",
       "-0.121130 -0.040619 -0.009738  0.023385  0.194904 \n",
       "\n",
       "Coefficients:\n",
       "                   Estimate Std. Error t value Pr(>|t|)    \n",
       "(Intercept)        0.554695   0.002759 201.021  < 2e-16 ***\n",
       "poly(dis, d = 3)1 -2.003096   0.062071 -32.271  < 2e-16 ***\n",
       "poly(dis, d = 3)2  0.856330   0.062071  13.796  < 2e-16 ***\n",
       "poly(dis, d = 3)3 -0.318049   0.062071  -5.124 4.27e-07 ***\n",
       "---\n",
       "Signif. codes:  0 '***' 0.001 '**' 0.01 '*' 0.05 '.' 0.1 ' ' 1\n",
       "\n",
       "Residual standard error: 0.06207 on 502 degrees of freedom\n",
       "Multiple R-squared:  0.7148,\tAdjusted R-squared:  0.7131 \n",
       "F-statistic: 419.3 on 3 and 502 DF,  p-value: < 2.2e-16\n"
      ]
     },
     "metadata": {},
     "output_type": "display_data"
    }
   ],
   "source": [
    "lr_model <- lm(nox ~ poly(dis, d=3), data=Boston)\n",
    "summary(lr_model)"
   ]
  },
  {
   "cell_type": "code",
   "execution_count": 113,
   "metadata": {},
   "outputs": [
    {
     "data": {
      "image/png": "[encoded data removed]",
      "text/plain": [
       "plot without title"
      ]
     },
     "metadata": {
      "image/png": {
       "height": 420,
       "width": 420
      }
     },
     "output_type": "display_data"
    }
   ],
   "source": [
    "# Visualize the data and polynomial function\n",
    "plot(Boston$nox ~ Boston$dis, xlab='dis', ylab='nox')\n",
    "lines(sort(Boston$dis), fitted(lr_model)[order(Boston$dis)], col='red', type='l') "
   ]
  },
  {
   "cell_type": "code",
   "execution_count": 115,
   "metadata": {
    "scrolled": true
   },
   "outputs": [
    {
     "data": {
      "image/png": "[encoded data removed]",
      "text/plain": [
       "Plot with title \"\""
      ]
     },
     "metadata": {
      "image/png": {
       "height": 420,
       "width": 420
      }
     },
     "output_type": "display_data"
    },
    {
     "data": {
      "image/png": "[encoded data removed]",
      "text/plain": [
       "Plot with title \"\""
      ]
     },
     "metadata": {
      "image/png": {
       "height": 420,
       "width": 420
      }
     },
     "output_type": "display_data"
    },
    {
     "data": {
      "image/png": "[encoded data removed]",
      "text/plain": [
       "Plot with title \"\""
      ]
     },
     "metadata": {
      "image/png": {
       "height": 420,
       "width": 420
      }
     },
     "output_type": "display_data"
    },
    {
     "data": {
      "image/png": "[encoded data removed]",
      "text/plain": [
       "Plot with title \"\""
      ]
     },
     "metadata": {
      "image/png": {
       "height": 420,
       "width": 420
      }
     },
     "output_type": "display_data"
    }
   ],
   "source": [
    "# Residual and other fitting plots\n",
    "plot(lr_model)"
   ]
  },
  {
   "cell_type": "markdown",
   "metadata": {},
   "source": [
    "(b) Plot the polynomial fits for a range of different polynomial degrees [1, 10]"
   ]
  },
  {
   "cell_type": "code",
   "execution_count": 119,
   "metadata": {},
   "outputs": [
    {
     "data": {
      "text/html": [
       "<table class=\"dataframe\">\n",
       "<caption>A data.frame: 10 × 2</caption>\n",
       "<thead>\n",
       "\t<tr><th scope=col>poly_degree</th><th scope=col>rss</th></tr>\n",
       "\t<tr><th scope=col>&lt;int&gt;</th><th scope=col>&lt;dbl&gt;</th></tr>\n",
       "</thead>\n",
       "<tbody>\n",
       "\t<tr><td> 1</td><td>2.768563</td></tr>\n",
       "\t<tr><td> 2</td><td>2.035262</td></tr>\n",
       "\t<tr><td> 3</td><td>1.934107</td></tr>\n",
       "\t<tr><td> 4</td><td>1.932981</td></tr>\n",
       "\t<tr><td> 5</td><td>1.915290</td></tr>\n",
       "\t<tr><td> 6</td><td>1.878257</td></tr>\n",
       "\t<tr><td> 7</td><td>1.849484</td></tr>\n",
       "\t<tr><td> 8</td><td>1.835630</td></tr>\n",
       "\t<tr><td> 9</td><td>1.833331</td></tr>\n",
       "\t<tr><td>10</td><td>1.832171</td></tr>\n",
       "</tbody>\n",
       "</table>\n"
      ],
      "text/latex": [
       "A data.frame: 10 × 2\n",
       "\\begin{tabular}{ll}\n",
       " poly\\_degree & rss\\\\\n",
       " <int> & <dbl>\\\\\n",
       "\\hline\n",
       "\t  1 & 2.768563\\\\\n",
       "\t  2 & 2.035262\\\\\n",
       "\t  3 & 1.934107\\\\\n",
       "\t  4 & 1.932981\\\\\n",
       "\t  5 & 1.915290\\\\\n",
       "\t  6 & 1.878257\\\\\n",
       "\t  7 & 1.849484\\\\\n",
       "\t  8 & 1.835630\\\\\n",
       "\t  9 & 1.833331\\\\\n",
       "\t 10 & 1.832171\\\\\n",
       "\\end{tabular}\n"
      ],
      "text/markdown": [
       "\n",
       "A data.frame: 10 × 2\n",
       "\n",
       "| poly_degree &lt;int&gt; | rss &lt;dbl&gt; |\n",
       "|---|---|\n",
       "|  1 | 2.768563 |\n",
       "|  2 | 2.035262 |\n",
       "|  3 | 1.934107 |\n",
       "|  4 | 1.932981 |\n",
       "|  5 | 1.915290 |\n",
       "|  6 | 1.878257 |\n",
       "|  7 | 1.849484 |\n",
       "|  8 | 1.835630 |\n",
       "|  9 | 1.833331 |\n",
       "| 10 | 1.832171 |\n",
       "\n"
      ],
      "text/plain": [
       "   poly_degree rss     \n",
       "1   1          2.768563\n",
       "2   2          2.035262\n",
       "3   3          1.934107\n",
       "4   4          1.932981\n",
       "5   5          1.915290\n",
       "6   6          1.878257\n",
       "7   7          1.849484\n",
       "8   8          1.835630\n",
       "9   9          1.833331\n",
       "10 10          1.832171"
      ]
     },
     "metadata": {},
     "output_type": "display_data"
    }
   ],
   "source": [
    "# Report the RSS of models\n",
    "rss_list <- c()\n",
    "for (poly_degree in 1:10) {\n",
    "    lr_tmp <- lm(nox ~ poly(dis, d=poly_degree), data=Boston)\n",
    "    rss <- sum((predict(lr_tmp, newdata=Boston) - Boston$nox)^2)\n",
    "    rss_list <- c(rss_list, rss)\n",
    "}\n",
    "\n",
    "rss_df <- data.frame(1:10, rss_list)\n",
    "colnames(rss_df) <- c('poly_degree', 'rss')\n",
    "rss_df"
   ]
  },
  {
   "cell_type": "code",
   "execution_count": 139,
   "metadata": {},
   "outputs": [
    {
     "data": {
      "image/png": "[encoded data removed]",
      "text/plain": [
       "plot without title"
      ]
     },
     "metadata": {
      "image/png": {
       "height": 600,
       "width": 600
      }
     },
     "output_type": "display_data"
    }
   ],
   "source": [
    "# Visualize the data and polynomial functions\n",
    "options(repr.plot.width=10, repr.plot.height=10)\n",
    "plot(Boston$nox ~ Boston$dis, xlab='dis', ylab='nox')\n",
    "for (poly_degree in 1:10) {\n",
    "    lr_tmp <- lm(nox ~ poly(dis, d=poly_degree), data=Boston)    \n",
    "    lines(sort(Boston$dis), fitted(lr_tmp)[order(Boston$dis)],\n",
    "          col=rainbow(10)[poly_degree], type='l') \n",
    "}\n",
    "legend(9, 0.85,\n",
    "       legend = paste('d =', 1:10),\n",
    "       col = rainbow(10), lty=1:2, cex=0.8,\n",
    "       title = \"Polynomial functions\", text.font=4)"
   ]
  },
  {
   "cell_type": "markdown",
   "metadata": {},
   "source": [
    "(c) Perform cross-validation for the polynomial regression model"
   ]
  },
  {
   "cell_type": "code",
   "execution_count": 154,
   "metadata": {},
   "outputs": [
    {
     "data": {
      "text/html": [
       "<table class=\"dataframe\">\n",
       "<caption>A data.frame: 10 × 2</caption>\n",
       "<thead>\n",
       "\t<tr><th scope=col>poly_degree</th><th scope=col>mae_cv</th></tr>\n",
       "\t<tr><th scope=col>&lt;int&gt;</th><th scope=col>&lt;dbl&gt;</th></tr>\n",
       "</thead>\n",
       "<tbody>\n",
       "\t<tr><td> 1</td><td>0.005500581</td></tr>\n",
       "\t<tr><td> 2</td><td>0.004045020</td></tr>\n",
       "\t<tr><td> 3</td><td>0.003848125</td></tr>\n",
       "\t<tr><td> 4</td><td>0.003873872</td></tr>\n",
       "\t<tr><td> 5</td><td>0.004220464</td></tr>\n",
       "\t<tr><td> 6</td><td>0.005086963</td></tr>\n",
       "\t<tr><td> 7</td><td>0.010315732</td></tr>\n",
       "\t<tr><td> 8</td><td>0.003935421</td></tr>\n",
       "\t<tr><td> 9</td><td>0.004147233</td></tr>\n",
       "\t<tr><td>10</td><td>0.005915841</td></tr>\n",
       "</tbody>\n",
       "</table>\n"
      ],
      "text/latex": [
       "A data.frame: 10 × 2\n",
       "\\begin{tabular}{ll}\n",
       " poly\\_degree & mae\\_cv\\\\\n",
       " <int> & <dbl>\\\\\n",
       "\\hline\n",
       "\t  1 & 0.005500581\\\\\n",
       "\t  2 & 0.004045020\\\\\n",
       "\t  3 & 0.003848125\\\\\n",
       "\t  4 & 0.003873872\\\\\n",
       "\t  5 & 0.004220464\\\\\n",
       "\t  6 & 0.005086963\\\\\n",
       "\t  7 & 0.010315732\\\\\n",
       "\t  8 & 0.003935421\\\\\n",
       "\t  9 & 0.004147233\\\\\n",
       "\t 10 & 0.005915841\\\\\n",
       "\\end{tabular}\n"
      ],
      "text/markdown": [
       "\n",
       "A data.frame: 10 × 2\n",
       "\n",
       "| poly_degree &lt;int&gt; | mae_cv &lt;dbl&gt; |\n",
       "|---|---|\n",
       "|  1 | 0.005500581 |\n",
       "|  2 | 0.004045020 |\n",
       "|  3 | 0.003848125 |\n",
       "|  4 | 0.003873872 |\n",
       "|  5 | 0.004220464 |\n",
       "|  6 | 0.005086963 |\n",
       "|  7 | 0.010315732 |\n",
       "|  8 | 0.003935421 |\n",
       "|  9 | 0.004147233 |\n",
       "| 10 | 0.005915841 |\n",
       "\n"
      ],
      "text/plain": [
       "   poly_degree mae_cv     \n",
       "1   1          0.005500581\n",
       "2   2          0.004045020\n",
       "3   3          0.003848125\n",
       "4   4          0.003873872\n",
       "5   5          0.004220464\n",
       "6   6          0.005086963\n",
       "7   7          0.010315732\n",
       "8   8          0.003935421\n",
       "9   9          0.004147233\n",
       "10 10          0.005915841"
      ]
     },
     "metadata": {},
     "output_type": "display_data"
    }
   ],
   "source": [
    "# 5-fold CV for each polynomial regression model\n",
    "cv_out <- c()\n",
    "\n",
    "for (poly_degree in 1:10) {\n",
    "    lr_tmp <- lm(nox ~ poly(dis, d=poly_degree), data=Boston, x=TRUE, y=TRUE)\n",
    "    cv_tmp <- cv.lm(lr_tmp, k=5, seed=1)\n",
    "    cv_out <- c(cv_out, cv_tmp$MSE$mean)\n",
    "}\n",
    "\n",
    "cv_df <- data.frame(1:10, cv_out)\n",
    "colnames(cv_df) <- c('poly_degree', 'mae_cv')\n",
    "cv_df"
   ]
  },
  {
   "cell_type": "code",
   "execution_count": 155,
   "metadata": {},
   "outputs": [
    {
     "data": {
      "text/html": [
       "<table class=\"dataframe\">\n",
       "<caption>A data.frame: 1 × 2</caption>\n",
       "<thead>\n",
       "\t<tr><th></th><th scope=col>poly_degree</th><th scope=col>mae_cv</th></tr>\n",
       "\t<tr><th></th><th scope=col>&lt;int&gt;</th><th scope=col>&lt;dbl&gt;</th></tr>\n",
       "</thead>\n",
       "<tbody>\n",
       "\t<tr><th scope=row>3</th><td>3</td><td>0.003848125</td></tr>\n",
       "</tbody>\n",
       "</table>\n"
      ],
      "text/latex": [
       "A data.frame: 1 × 2\n",
       "\\begin{tabular}{r|ll}\n",
       "  & poly\\_degree & mae\\_cv\\\\\n",
       "  & <int> & <dbl>\\\\\n",
       "\\hline\n",
       "\t3 & 3 & 0.003848125\\\\\n",
       "\\end{tabular}\n"
      ],
      "text/markdown": [
       "\n",
       "A data.frame: 1 × 2\n",
       "\n",
       "| <!--/--> | poly_degree &lt;int&gt; | mae_cv &lt;dbl&gt; |\n",
       "|---|---|---|\n",
       "| 3 | 3 | 0.003848125 |\n",
       "\n"
      ],
      "text/plain": [
       "  poly_degree mae_cv     \n",
       "3 3           0.003848125"
      ]
     },
     "metadata": {},
     "output_type": "display_data"
    }
   ],
   "source": [
    "# Optimal degree for the polynomial\n",
    "cv_df[cv_df$mae_cv == min(cv_df$mae_cv), ]"
   ]
  },
  {
   "cell_type": "markdown",
   "metadata": {},
   "source": [
    "(d) Fit a regression spline to predict nox using dis"
   ]
  },
  {
   "cell_type": "code",
   "execution_count": 178,
   "metadata": {},
   "outputs": [
    {
     "data": {
      "image/png": "[encoded data removed]",
      "text/plain": [
       "plot without title"
      ]
     },
     "metadata": {
      "image/png": {
       "height": 390,
       "width": 360
      }
     },
     "output_type": "display_data"
    }
   ],
   "source": [
    "# Visualize the data and guess the knots\n",
    "options(repr.plot.width=6, repr.plot.height=6.5)\n",
    "plot(Boston$dis, Boston$nox, xlab='dis', ylab='nox')"
   ]
  },
  {
   "cell_type": "code",
   "execution_count": 179,
   "metadata": {},
   "outputs": [
    {
     "data": {
      "text/plain": [
       "\n",
       "Call:\n",
       "lm(formula = nox ~ bs(dis, df = 4), data = Boston)\n",
       "\n",
       "Residuals:\n",
       "      Min        1Q    Median        3Q       Max \n",
       "-0.124622 -0.039259 -0.008514  0.020850  0.193891 \n",
       "\n",
       "Coefficients:\n",
       "                 Estimate Std. Error t value Pr(>|t|)    \n",
       "(Intercept)       0.73447    0.01460  50.306  < 2e-16 ***\n",
       "bs(dis, df = 4)1 -0.05810    0.02186  -2.658  0.00812 ** \n",
       "bs(dis, df = 4)2 -0.46356    0.02366 -19.596  < 2e-16 ***\n",
       "bs(dis, df = 4)3 -0.19979    0.04311  -4.634 4.58e-06 ***\n",
       "bs(dis, df = 4)4 -0.38881    0.04551  -8.544  < 2e-16 ***\n",
       "---\n",
       "Signif. codes:  0 '***' 0.001 '**' 0.01 '*' 0.05 '.' 0.1 ' ' 1\n",
       "\n",
       "Residual standard error: 0.06195 on 501 degrees of freedom\n",
       "Multiple R-squared:  0.7164,\tAdjusted R-squared:  0.7142 \n",
       "F-statistic: 316.5 on 4 and 501 DF,  p-value: < 2.2e-16\n"
      ]
     },
     "metadata": {},
     "output_type": "display_data"
    }
   ],
   "source": [
    "# Fit the splines using df=4\n",
    "spline_model <- lm(nox ~ bs(dis, df=4), data=Boston)\n",
    "summary(spline_model)"
   ]
  },
  {
   "cell_type": "code",
   "execution_count": 180,
   "metadata": {},
   "outputs": [
    {
     "data": {
      "image/png": "[encoded data removed]",
      "text/plain": [
       "Plot with title \"\""
      ]
     },
     "metadata": {
      "image/png": {
       "height": 390,
       "width": 360
      }
     },
     "output_type": "display_data"
    },
    {
     "data": {
      "image/png": "[encoded data removed]",
      "text/plain": [
       "Plot with title \"\""
      ]
     },
     "metadata": {
      "image/png": {
       "height": 390,
       "width": 360
      }
     },
     "output_type": "display_data"
    },
    {
     "data": {
      "image/png": "[encoded data removed]",
      "text/plain": [
       "Plot with title \"\""
      ]
     },
     "metadata": {
      "image/png": {
       "height": 390,
       "width": 360
      }
     },
     "output_type": "display_data"
    },
    {
     "data": {
      "image/png": "[encoded data removed]",
      "text/plain": [
       "Plot with title \"\""
      ]
     },
     "metadata": {
      "image/png": {
       "height": 390,
       "width": 360
      }
     },
     "output_type": "display_data"
    }
   ],
   "source": [
    "# Residual and other fitting plots\n",
    "plot(spline_model)"
   ]
  },
  {
   "cell_type": "markdown",
   "metadata": {},
   "source": [
    "(e) Fit a regression spline for a range of degrees of freedom"
   ]
  },
  {
   "cell_type": "code",
   "execution_count": 173,
   "metadata": {},
   "outputs": [
    {
     "data": {
      "text/html": [
       "1.92733401098947"
      ],
      "text/latex": [
       "1.92733401098947"
      ],
      "text/markdown": [
       "1.92733401098947"
      ],
      "text/plain": [
       "[1] 1.927334"
      ]
     },
     "metadata": {},
     "output_type": "display_data"
    }
   ],
   "source": [
    "spline_tmp <- lm(nox ~ bs(dis, knots=c(4, 10), df=4), data=Boston)\n",
    "sum((predict(spline_tmp, newdata=Boston) - Boston$nox)^2)"
   ]
  },
  {
   "cell_type": "code",
   "execution_count": 189,
   "metadata": {
    "scrolled": false
   },
   "outputs": [
    {
     "name": "stderr",
     "output_type": "stream",
     "text": [
      "Warning message in bs(dis, df = degree_freedom):\n",
      "\"'df' was too small; have used 3\"\n",
      "Warning message in bs(dis, df = degree_freedom):\n",
      "\"'df' was too small; have used 3\"\n"
     ]
    },
    {
     "data": {
      "text/html": [
       "<table class=\"dataframe\">\n",
       "<caption>A data.frame: 20 × 2</caption>\n",
       "<thead>\n",
       "\t<tr><th scope=col>degree_freedom</th><th scope=col>rss</th></tr>\n",
       "\t<tr><th scope=col>&lt;int&gt;</th><th scope=col>&lt;dbl&gt;</th></tr>\n",
       "</thead>\n",
       "<tbody>\n",
       "\t<tr><td> 1</td><td>1.934107</td></tr>\n",
       "\t<tr><td> 2</td><td>1.934107</td></tr>\n",
       "\t<tr><td> 3</td><td>1.934107</td></tr>\n",
       "\t<tr><td> 4</td><td>1.922775</td></tr>\n",
       "\t<tr><td> 5</td><td>1.840173</td></tr>\n",
       "\t<tr><td> 6</td><td>1.833966</td></tr>\n",
       "\t<tr><td> 7</td><td>1.829884</td></tr>\n",
       "\t<tr><td> 8</td><td>1.816995</td></tr>\n",
       "\t<tr><td> 9</td><td>1.825653</td></tr>\n",
       "\t<tr><td>10</td><td>1.792535</td></tr>\n",
       "\t<tr><td>11</td><td>1.796992</td></tr>\n",
       "\t<tr><td>12</td><td>1.788999</td></tr>\n",
       "\t<tr><td>13</td><td>1.782350</td></tr>\n",
       "\t<tr><td>14</td><td>1.781838</td></tr>\n",
       "\t<tr><td>15</td><td>1.782798</td></tr>\n",
       "\t<tr><td>16</td><td>1.783546</td></tr>\n",
       "\t<tr><td>17</td><td>1.779789</td></tr>\n",
       "\t<tr><td>18</td><td>1.775838</td></tr>\n",
       "\t<tr><td>19</td><td>1.774487</td></tr>\n",
       "\t<tr><td>20</td><td>1.776727</td></tr>\n",
       "</tbody>\n",
       "</table>\n"
      ],
      "text/latex": [
       "A data.frame: 20 × 2\n",
       "\\begin{tabular}{ll}\n",
       " degree\\_freedom & rss\\\\\n",
       " <int> & <dbl>\\\\\n",
       "\\hline\n",
       "\t  1 & 1.934107\\\\\n",
       "\t  2 & 1.934107\\\\\n",
       "\t  3 & 1.934107\\\\\n",
       "\t  4 & 1.922775\\\\\n",
       "\t  5 & 1.840173\\\\\n",
       "\t  6 & 1.833966\\\\\n",
       "\t  7 & 1.829884\\\\\n",
       "\t  8 & 1.816995\\\\\n",
       "\t  9 & 1.825653\\\\\n",
       "\t 10 & 1.792535\\\\\n",
       "\t 11 & 1.796992\\\\\n",
       "\t 12 & 1.788999\\\\\n",
       "\t 13 & 1.782350\\\\\n",
       "\t 14 & 1.781838\\\\\n",
       "\t 15 & 1.782798\\\\\n",
       "\t 16 & 1.783546\\\\\n",
       "\t 17 & 1.779789\\\\\n",
       "\t 18 & 1.775838\\\\\n",
       "\t 19 & 1.774487\\\\\n",
       "\t 20 & 1.776727\\\\\n",
       "\\end{tabular}\n"
      ],
      "text/markdown": [
       "\n",
       "A data.frame: 20 × 2\n",
       "\n",
       "| degree_freedom &lt;int&gt; | rss &lt;dbl&gt; |\n",
       "|---|---|\n",
       "|  1 | 1.934107 |\n",
       "|  2 | 1.934107 |\n",
       "|  3 | 1.934107 |\n",
       "|  4 | 1.922775 |\n",
       "|  5 | 1.840173 |\n",
       "|  6 | 1.833966 |\n",
       "|  7 | 1.829884 |\n",
       "|  8 | 1.816995 |\n",
       "|  9 | 1.825653 |\n",
       "| 10 | 1.792535 |\n",
       "| 11 | 1.796992 |\n",
       "| 12 | 1.788999 |\n",
       "| 13 | 1.782350 |\n",
       "| 14 | 1.781838 |\n",
       "| 15 | 1.782798 |\n",
       "| 16 | 1.783546 |\n",
       "| 17 | 1.779789 |\n",
       "| 18 | 1.775838 |\n",
       "| 19 | 1.774487 |\n",
       "| 20 | 1.776727 |\n",
       "\n"
      ],
      "text/plain": [
       "   degree_freedom rss     \n",
       "1   1             1.934107\n",
       "2   2             1.934107\n",
       "3   3             1.934107\n",
       "4   4             1.922775\n",
       "5   5             1.840173\n",
       "6   6             1.833966\n",
       "7   7             1.829884\n",
       "8   8             1.816995\n",
       "9   9             1.825653\n",
       "10 10             1.792535\n",
       "11 11             1.796992\n",
       "12 12             1.788999\n",
       "13 13             1.782350\n",
       "14 14             1.781838\n",
       "15 15             1.782798\n",
       "16 16             1.783546\n",
       "17 17             1.779789\n",
       "18 18             1.775838\n",
       "19 19             1.774487\n",
       "20 20             1.776727"
      ]
     },
     "metadata": {},
     "output_type": "display_data"
    }
   ],
   "source": [
    "# Report the RSS of models\n",
    "rss_list <- c()\n",
    "for (degree_freedom in 1:20) {\n",
    "    spline_tmp <- lm(nox ~ bs(dis, df=degree_freedom), data=Boston)\n",
    "    rss <- sum((predict(spline_tmp, newdata=Boston) - Boston$nox)^2)\n",
    "    rss_list <- c(rss_list, rss)\n",
    "}\n",
    "\n",
    "rss_df <- data.frame(1:20, rss_list)\n",
    "colnames(rss_df) <- c('degree_freedom', 'rss')\n",
    "rss_df"
   ]
  },
  {
   "cell_type": "markdown",
   "metadata": {},
   "source": [
    "(f) Perform cross-validation for the splines model"
   ]
  },
  {
   "cell_type": "code",
   "execution_count": 187,
   "metadata": {},
   "outputs": [
    {
     "name": "stderr",
     "output_type": "stream",
     "text": [
      "Warning message in bs(dis, df = degree_freedom):\n",
      "\"'df' was too small; have used 3\"\n",
      "Warning message in bs(dis, df = degree_freedom):\n",
      "\"'df' was too small; have used 3\"\n"
     ]
    },
    {
     "data": {
      "text/html": [
       "<table class=\"dataframe\">\n",
       "<caption>A data.frame: 20 × 2</caption>\n",
       "<thead>\n",
       "\t<tr><th scope=col>degree_freedom</th><th scope=col>mae_cv</th></tr>\n",
       "\t<tr><th scope=col>&lt;int&gt;</th><th scope=col>&lt;dbl&gt;</th></tr>\n",
       "</thead>\n",
       "<tbody>\n",
       "\t<tr><td> 1</td><td>0.003848125</td></tr>\n",
       "\t<tr><td> 2</td><td>0.003848125</td></tr>\n",
       "\t<tr><td> 3</td><td>0.003848125</td></tr>\n",
       "\t<tr><td> 4</td><td>0.003859434</td></tr>\n",
       "\t<tr><td> 5</td><td>0.003683404</td></tr>\n",
       "\t<tr><td> 6</td><td>0.003682044</td></tr>\n",
       "\t<tr><td> 7</td><td>0.003686452</td></tr>\n",
       "\t<tr><td> 8</td><td>0.003670830</td></tr>\n",
       "\t<tr><td> 9</td><td>0.003688156</td></tr>\n",
       "\t<tr><td>10</td><td>0.003667474</td></tr>\n",
       "\t<tr><td>11</td><td>0.003699551</td></tr>\n",
       "\t<tr><td>12</td><td>0.003668622</td></tr>\n",
       "\t<tr><td>13</td><td>0.003678292</td></tr>\n",
       "\t<tr><td>14</td><td>0.003697731</td></tr>\n",
       "\t<tr><td>15</td><td>0.003722295</td></tr>\n",
       "\t<tr><td>16</td><td>0.003740550</td></tr>\n",
       "\t<tr><td>17</td><td>0.003734275</td></tr>\n",
       "\t<tr><td>18</td><td>0.003757102</td></tr>\n",
       "\t<tr><td>19</td><td>0.003798786</td></tr>\n",
       "\t<tr><td>20</td><td>0.003850890</td></tr>\n",
       "</tbody>\n",
       "</table>\n"
      ],
      "text/latex": [
       "A data.frame: 20 × 2\n",
       "\\begin{tabular}{ll}\n",
       " degree\\_freedom & mae\\_cv\\\\\n",
       " <int> & <dbl>\\\\\n",
       "\\hline\n",
       "\t  1 & 0.003848125\\\\\n",
       "\t  2 & 0.003848125\\\\\n",
       "\t  3 & 0.003848125\\\\\n",
       "\t  4 & 0.003859434\\\\\n",
       "\t  5 & 0.003683404\\\\\n",
       "\t  6 & 0.003682044\\\\\n",
       "\t  7 & 0.003686452\\\\\n",
       "\t  8 & 0.003670830\\\\\n",
       "\t  9 & 0.003688156\\\\\n",
       "\t 10 & 0.003667474\\\\\n",
       "\t 11 & 0.003699551\\\\\n",
       "\t 12 & 0.003668622\\\\\n",
       "\t 13 & 0.003678292\\\\\n",
       "\t 14 & 0.003697731\\\\\n",
       "\t 15 & 0.003722295\\\\\n",
       "\t 16 & 0.003740550\\\\\n",
       "\t 17 & 0.003734275\\\\\n",
       "\t 18 & 0.003757102\\\\\n",
       "\t 19 & 0.003798786\\\\\n",
       "\t 20 & 0.003850890\\\\\n",
       "\\end{tabular}\n"
      ],
      "text/markdown": [
       "\n",
       "A data.frame: 20 × 2\n",
       "\n",
       "| degree_freedom &lt;int&gt; | mae_cv &lt;dbl&gt; |\n",
       "|---|---|\n",
       "|  1 | 0.003848125 |\n",
       "|  2 | 0.003848125 |\n",
       "|  3 | 0.003848125 |\n",
       "|  4 | 0.003859434 |\n",
       "|  5 | 0.003683404 |\n",
       "|  6 | 0.003682044 |\n",
       "|  7 | 0.003686452 |\n",
       "|  8 | 0.003670830 |\n",
       "|  9 | 0.003688156 |\n",
       "| 10 | 0.003667474 |\n",
       "| 11 | 0.003699551 |\n",
       "| 12 | 0.003668622 |\n",
       "| 13 | 0.003678292 |\n",
       "| 14 | 0.003697731 |\n",
       "| 15 | 0.003722295 |\n",
       "| 16 | 0.003740550 |\n",
       "| 17 | 0.003734275 |\n",
       "| 18 | 0.003757102 |\n",
       "| 19 | 0.003798786 |\n",
       "| 20 | 0.003850890 |\n",
       "\n"
      ],
      "text/plain": [
       "   degree_freedom mae_cv     \n",
       "1   1             0.003848125\n",
       "2   2             0.003848125\n",
       "3   3             0.003848125\n",
       "4   4             0.003859434\n",
       "5   5             0.003683404\n",
       "6   6             0.003682044\n",
       "7   7             0.003686452\n",
       "8   8             0.003670830\n",
       "9   9             0.003688156\n",
       "10 10             0.003667474\n",
       "11 11             0.003699551\n",
       "12 12             0.003668622\n",
       "13 13             0.003678292\n",
       "14 14             0.003697731\n",
       "15 15             0.003722295\n",
       "16 16             0.003740550\n",
       "17 17             0.003734275\n",
       "18 18             0.003757102\n",
       "19 19             0.003798786\n",
       "20 20             0.003850890"
      ]
     },
     "metadata": {},
     "output_type": "display_data"
    }
   ],
   "source": [
    "# 5-fold CV for each polynomial regression model\n",
    "cv_out <- c()\n",
    "\n",
    "for (degree_freedom in 1:20) {\n",
    "    spline_tmp <- lm(nox ~ bs(dis, df=degree_freedom), data=Boston, x=TRUE, y=TRUE)\n",
    "    cv_tmp <- cv.lm(spline_tmp, k=5, seed=1)\n",
    "    cv_out <- c(cv_out, cv_tmp$MSE$mean)\n",
    "}\n",
    "\n",
    "cv_df <- data.frame(1:20, cv_out)\n",
    "colnames(cv_df) <- c('degree_freedom', 'mae_cv')\n",
    "cv_df"
   ]
  },
  {
   "cell_type": "code",
   "execution_count": 188,
   "metadata": {},
   "outputs": [
    {
     "data": {
      "text/html": [
       "<table class=\"dataframe\">\n",
       "<caption>A data.frame: 1 × 2</caption>\n",
       "<thead>\n",
       "\t<tr><th></th><th scope=col>degree_freedom</th><th scope=col>mae_cv</th></tr>\n",
       "\t<tr><th></th><th scope=col>&lt;int&gt;</th><th scope=col>&lt;dbl&gt;</th></tr>\n",
       "</thead>\n",
       "<tbody>\n",
       "\t<tr><th scope=row>10</th><td>10</td><td>0.003667474</td></tr>\n",
       "</tbody>\n",
       "</table>\n"
      ],
      "text/latex": [
       "A data.frame: 1 × 2\n",
       "\\begin{tabular}{r|ll}\n",
       "  & degree\\_freedom & mae\\_cv\\\\\n",
       "  & <int> & <dbl>\\\\\n",
       "\\hline\n",
       "\t10 & 10 & 0.003667474\\\\\n",
       "\\end{tabular}\n"
      ],
      "text/markdown": [
       "\n",
       "A data.frame: 1 × 2\n",
       "\n",
       "| <!--/--> | degree_freedom &lt;int&gt; | mae_cv &lt;dbl&gt; |\n",
       "|---|---|---|\n",
       "| 10 | 10 | 0.003667474 |\n",
       "\n"
      ],
      "text/plain": [
       "   degree_freedom mae_cv     \n",
       "10 10             0.003667474"
      ]
     },
     "metadata": {},
     "output_type": "display_data"
    }
   ],
   "source": [
    "# Optimal degree of freedom for the splines\n",
    "cv_df[cv_df$mae_cv == min(cv_df$mae_cv), ]"
   ]
  },
  {
   "cell_type": "markdown",
   "metadata": {},
   "source": [
    "#### Exercise 10 (p.300, Chap.7)"
   ]
  },
  {
   "cell_type": "code",
   "execution_count": 191,
   "metadata": {},
   "outputs": [
    {
     "name": "stdout",
     "output_type": "stream",
     "text": [
      "'data.frame':\t777 obs. of  18 variables:\n",
      " $ Private    : Factor w/ 2 levels \"No\",\"Yes\": 2 2 2 2 2 2 2 2 2 2 ...\n",
      " $ Apps       : num  1660 2186 1428 417 193 ...\n",
      " $ Accept     : num  1232 1924 1097 349 146 ...\n",
      " $ Enroll     : num  721 512 336 137 55 158 103 489 227 172 ...\n",
      " $ Top10perc  : num  23 16 22 60 16 38 17 37 30 21 ...\n",
      " $ Top25perc  : num  52 29 50 89 44 62 45 68 63 44 ...\n",
      " $ F.Undergrad: num  2885 2683 1036 510 249 ...\n",
      " $ P.Undergrad: num  537 1227 99 63 869 ...\n",
      " $ Outstate   : num  7440 12280 11250 12960 7560 ...\n",
      " $ Room.Board : num  3300 6450 3750 5450 4120 ...\n",
      " $ Books      : num  450 750 400 450 800 500 500 450 300 660 ...\n",
      " $ Personal   : num  2200 1500 1165 875 1500 ...\n",
      " $ PhD        : num  70 29 53 92 76 67 90 89 79 40 ...\n",
      " $ Terminal   : num  78 30 66 97 72 73 93 100 84 41 ...\n",
      " $ S.F.Ratio  : num  18.1 12.2 12.9 7.7 11.9 9.4 11.5 13.7 11.3 11.5 ...\n",
      " $ perc.alumni: num  12 16 30 37 2 11 26 37 23 15 ...\n",
      " $ Expend     : num  7041 10527 8735 19016 10922 ...\n",
      " $ Grad.Rate  : num  60 56 54 59 15 55 63 73 80 52 ...\n"
     ]
    }
   ],
   "source": [
    "library(ISLR)\n",
    "str(College)"
   ]
  },
  {
   "cell_type": "markdown",
   "metadata": {},
   "source": [
    "(a) Forward stepwise selection"
   ]
  },
  {
   "cell_type": "code",
   "execution_count": 192,
   "metadata": {},
   "outputs": [],
   "source": [
    "# Convert the categorical variable to numeric\n",
    "college_df <- College\n",
    "college_df$PrivateYes <- as.numeric(college_df$Private == \"Yes\")\n",
    "college_df$Private <- NULL"
   ]
  },
  {
   "cell_type": "code",
   "execution_count": 203,
   "metadata": {},
   "outputs": [],
   "source": [
    "# Split the data to train, test\n",
    "set.seed(1)\n",
    "train_index <- sample(1:nrow(college_df), round(0.5 * nrow(college_df), 0))\n",
    "train <- college_df[train_index, ]\n",
    "test <- college_df[-train_index, ]"
   ]
  },
  {
   "cell_type": "code",
   "execution_count": 225,
   "metadata": {},
   "outputs": [
    {
     "name": "stdout",
     "output_type": "stream",
     "text": [
      "[1] \"Best k = 11 , Average MSE = 4618884.26875256\"\n"
     ]
    },
    {
     "data": {
      "image/png": "[encoded data removed]",
      "text/plain": [
       "plot without title"
      ]
     },
     "metadata": {
      "image/png": {
       "height": 390,
       "width": 360
      }
     },
     "output_type": "display_data"
    }
   ],
   "source": [
    "# Function to predict with object regsubsets (p.249)\n",
    "predict.regsubsets <- function (object, newdata, id, ...) {\n",
    "    form <- as.formula(object$call[[2]])\n",
    "    mat <- model.matrix(form, newdata)\n",
    "    coefi <- coef(object, id=id)\n",
    "    xvars <- names(coefi)\n",
    "    mat[, xvars] %*% coefi\n",
    "}\n",
    "\n",
    "# CV for forward selection\n",
    "set.seed(1)\n",
    "k <- 5\n",
    "nvar <- ncol(train)-1\n",
    "folds <- sample(1:k, nrow(train), replace=TRUE)\n",
    "cv_errors <- matrix(NA, k, nvar, dimnames=list(NULL, paste(1:nvar)))\n",
    "\n",
    "for (j in 1:k) {\n",
    "    lr_forward <- regsubsets(Outstate ∼ ., data=train[folds != j, ], nvmax=nvar, method='forward')\n",
    "    for(i in 1:nvar) {\n",
    "        pred <- predict(lr_forward, train[folds == j, ], id=i)\n",
    "        cv_errors[j, i] <- mean((train$Outstate[folds == j] - pred)^2)\n",
    "    }\n",
    "}\n",
    "\n",
    "# Visualize the mean error and select the best k\n",
    "avg_cv_errors <- apply(cv_errors, 2, mean)\n",
    "plot(avg_cv_errors, type='b', xlab='k', ylab='Average MSE')\n",
    "abline(v=which.min(avg_cv_errors), col='red', lty=2)\n",
    "print(paste('Best k =', which.min(avg_cv_errors), ', Average MSE =', min(avg_cv_errors)))"
   ]
  },
  {
   "cell_type": "code",
   "execution_count": 239,
   "metadata": {},
   "outputs": [
    {
     "data": {
      "text/html": [
       "<table class=\"dataframe\">\n",
       "<caption>A data.frame: 12 × 1</caption>\n",
       "<thead>\n",
       "\t<tr><th></th><th scope=col>coef.lr_forward..11.</th></tr>\n",
       "\t<tr><th></th><th scope=col>&lt;dbl&gt;</th></tr>\n",
       "</thead>\n",
       "<tbody>\n",
       "\t<tr><th scope=row>(Intercept)</th><td>-1.237240e+03</td></tr>\n",
       "\t<tr><th scope=row>Accept</th><td> 5.307345e-02</td></tr>\n",
       "\t<tr><th scope=row>Top10perc</th><td> 1.904554e+01</td></tr>\n",
       "\t<tr><th scope=row>Room.Board</th><td> 1.070028e+00</td></tr>\n",
       "\t<tr><th scope=row>Books</th><td>-1.222249e+00</td></tr>\n",
       "\t<tr><th scope=row>Personal</th><td>-3.776154e-01</td></tr>\n",
       "\t<tr><th scope=row>Terminal</th><td> 3.316092e+01</td></tr>\n",
       "\t<tr><th scope=row>S.F.Ratio</th><td>-8.170948e+01</td></tr>\n",
       "\t<tr><th scope=row>perc.alumni</th><td> 4.865087e+01</td></tr>\n",
       "\t<tr><th scope=row>Expend</th><td> 1.445466e-01</td></tr>\n",
       "\t<tr><th scope=row>Grad.Rate</th><td> 2.467726e+01</td></tr>\n",
       "\t<tr><th scope=row>PrivateYes</th><td> 2.668953e+03</td></tr>\n",
       "</tbody>\n",
       "</table>\n"
      ],
      "text/latex": [
       "A data.frame: 12 × 1\n",
       "\\begin{tabular}{r|l}\n",
       "  & coef.lr\\_forward..11.\\\\\n",
       "  & <dbl>\\\\\n",
       "\\hline\n",
       "\t(Intercept) & -1.237240e+03\\\\\n",
       "\tAccept &  5.307345e-02\\\\\n",
       "\tTop10perc &  1.904554e+01\\\\\n",
       "\tRoom.Board &  1.070028e+00\\\\\n",
       "\tBooks & -1.222249e+00\\\\\n",
       "\tPersonal & -3.776154e-01\\\\\n",
       "\tTerminal &  3.316092e+01\\\\\n",
       "\tS.F.Ratio & -8.170948e+01\\\\\n",
       "\tperc.alumni &  4.865087e+01\\\\\n",
       "\tExpend &  1.445466e-01\\\\\n",
       "\tGrad.Rate &  2.467726e+01\\\\\n",
       "\tPrivateYes &  2.668953e+03\\\\\n",
       "\\end{tabular}\n"
      ],
      "text/markdown": [
       "\n",
       "A data.frame: 12 × 1\n",
       "\n",
       "| <!--/--> | coef.lr_forward..11. &lt;dbl&gt; |\n",
       "|---|---|\n",
       "| (Intercept) | -1.237240e+03 |\n",
       "| Accept |  5.307345e-02 |\n",
       "| Top10perc |  1.904554e+01 |\n",
       "| Room.Board |  1.070028e+00 |\n",
       "| Books | -1.222249e+00 |\n",
       "| Personal | -3.776154e-01 |\n",
       "| Terminal |  3.316092e+01 |\n",
       "| S.F.Ratio | -8.170948e+01 |\n",
       "| perc.alumni |  4.865087e+01 |\n",
       "| Expend |  1.445466e-01 |\n",
       "| Grad.Rate |  2.467726e+01 |\n",
       "| PrivateYes |  2.668953e+03 |\n",
       "\n"
      ],
      "text/plain": [
       "            coef.lr_forward..11.\n",
       "(Intercept) -1.237240e+03       \n",
       "Accept       5.307345e-02       \n",
       "Top10perc    1.904554e+01       \n",
       "Room.Board   1.070028e+00       \n",
       "Books       -1.222249e+00       \n",
       "Personal    -3.776154e-01       \n",
       "Terminal     3.316092e+01       \n",
       "S.F.Ratio   -8.170948e+01       \n",
       "perc.alumni  4.865087e+01       \n",
       "Expend       1.445466e-01       \n",
       "Grad.Rate    2.467726e+01       \n",
       "PrivateYes   2.668953e+03       "
      ]
     },
     "metadata": {},
     "output_type": "display_data"
    }
   ],
   "source": [
    "# Forward stepwise on train with the best k\n",
    "lr_forward <- regsubsets(Outstate ~ ., data=train, nvmax=ncol(train)-1, method='forward')\n",
    "data.frame(coef(lr_forward, 11))"
   ]
  },
  {
   "cell_type": "markdown",
   "metadata": {},
   "source": [
    "(b) Fit a GAM on the training data"
   ]
  },
  {
   "cell_type": "code",
   "execution_count": 250,
   "metadata": {},
   "outputs": [],
   "source": [
    "# Get the variables list selected from the forward selection in (a)\n",
    "lf_forward_var <- names(coef(lr_forward, 11))\n",
    "lf_forward_var <- lf_forward_var[2:length(lf_forward_var)]\n",
    "\n",
    "# Fit GAM using the selected variables\n",
    "# gam_model <- gam(Outstate ~ ., data=train[, c(lf_forward_var, 'Outstate')])\n",
    "gam_model <- gam(Outstate ~ s(Accept, df=6) + s(Top10perc, df=6) + s(Room.Board, df=6) +\n",
    "                             s(Books, df=6) + s(Personal, df=6) + s(Terminal, df=6) +\n",
    "                             s(S.F.Ratio, df=6) + s(perc.alumni, df=6) + s(Expend, df=6) +\n",
    "                             s(Grad.Rate, df=6) + PrivateYes,\n",
    "                 data=train[, c(lf_forward_var, 'Outstate')])"
   ]
  },
  {
   "cell_type": "code",
   "execution_count": 251,
   "metadata": {},
   "outputs": [
    {
     "data": {
      "image/png": "[encoded data removed]",
      "text/plain": [
       "plot without title"
      ]
     },
     "metadata": {
      "image/png": {
       "height": 390,
       "width": 360
      }
     },
     "output_type": "display_data"
    },
    {
     "data": {
      "image/png": "[encoded data removed]",
      "text/plain": [
       "plot without title"
      ]
     },
     "metadata": {
      "image/png": {
       "height": 390,
       "width": 360
      }
     },
     "output_type": "display_data"
    },
    {
     "data": {
      "image/png": "[encoded data removed]",
      "text/plain": [
       "plot without title"
      ]
     },
     "metadata": {
      "image/png": {
       "height": 390,
       "width": 360
      }
     },
     "output_type": "display_data"
    },
    {
     "data": {
      "image/png": "[encoded data removed]",
      "text/plain": [
       "plot without title"
      ]
     },
     "metadata": {
      "image/png": {
       "height": 390,
       "width": 360
      }
     },
     "output_type": "display_data"
    },
    {
     "data": {
      "image/png": "[encoded data removed]",
      "text/plain": [
       "plot without title"
      ]
     },
     "metadata": {
      "image/png": {
       "height": 390,
       "width": 360
      }
     },
     "output_type": "display_data"
    },
    {
     "data": {
      "image/png": "[encoded data removed]",
      "text/plain": [
       "plot without title"
      ]
     },
     "metadata": {
      "image/png": {
       "height": 390,
       "width": 360
      }
     },
     "output_type": "display_data"
    },
    {
     "data": {
      "image/png": "[encoded data removed]",
      "text/plain": [
       "plot without title"
      ]
     },
     "metadata": {
      "image/png": {
       "height": 390,
       "width": 360
      }
     },
     "output_type": "display_data"
    },
    {
     "data": {
      "image/png": "[encoded data removed]",
      "text/plain": [
       "plot without title"
      ]
     },
     "metadata": {
      "image/png": {
       "height": 390,
       "width": 360
      }
     },
     "output_type": "display_data"
    },
    {
     "data": {
      "image/png": "[encoded data removed]",
      "text/plain": [
       "plot without title"
      ]
     },
     "metadata": {
      "image/png": {
       "height": 390,
       "width": 360
      }
     },
     "output_type": "display_data"
    },
    {
     "data": {
      "image/png": "[encoded data removed]",
      "text/plain": [
       "plot without title"
      ]
     },
     "metadata": {
      "image/png": {
       "height": 390,
       "width": 360
      }
     },
     "output_type": "display_data"
    },
    {
     "data": {
      "image/png": "[encoded data removed]",
      "text/plain": [
       "plot without title"
      ]
     },
     "metadata": {
      "image/png": {
       "height": 390,
       "width": 360
      }
     },
     "output_type": "display_data"
    }
   ],
   "source": [
    "# Visualize the GAM model\n",
    "plot(gam_model, se=TRUE, col='red')"
   ]
  },
  {
   "cell_type": "markdown",
   "metadata": {},
   "source": [
    "(c) Evaluate the models on test set\n",
    "\n",
    "GAM performs slightly better than LR Forward Selection. The reason may be GAM correctly assumes the non-linear relationship between the selected predictors and the response."
   ]
  },
  {
   "cell_type": "code",
   "execution_count": 252,
   "metadata": {},
   "outputs": [
    {
     "data": {
      "text/html": [
       "3828252.62326412"
      ],
      "text/latex": [
       "3828252.62326412"
      ],
      "text/markdown": [
       "3828252.62326412"
      ],
      "text/plain": [
       "[1] 3828253"
      ]
     },
     "metadata": {},
     "output_type": "display_data"
    }
   ],
   "source": [
    "# Evaluate the LR Forward Selection model\n",
    "pred <- predict(lr_forward, newdata=test, 11)\n",
    "mean((pred - test$Outstate)^2)"
   ]
  },
  {
   "cell_type": "code",
   "execution_count": 253,
   "metadata": {},
   "outputs": [
    {
     "data": {
      "text/html": [
       "3508950.16051711"
      ],
      "text/latex": [
       "3508950.16051711"
      ],
      "text/markdown": [
       "3508950.16051711"
      ],
      "text/plain": [
       "[1] 3508950"
      ]
     },
     "metadata": {},
     "output_type": "display_data"
    }
   ],
   "source": [
    "# Evaluate the GAM model\n",
    "pred <- predict(gam_model, newdata=test)\n",
    "mean((pred - test$Outstate)^2)"
   ]
  },
  {
   "cell_type": "markdown",
   "metadata": {},
   "source": [
    "(d) Which variables may have a non-linear relationship with the response\n",
    "\n",
    "According to the result of GAM, most of the selected variables potentially have non-linear relationship with the target variable."
   ]
  }
 ],
 "metadata": {
  "kernelspec": {
   "display_name": "R",
   "language": "R",
   "name": "ir"
  },
  "language_info": {
   "codemirror_mode": "r",
   "file_extension": ".r",
   "mimetype": "text/x-r-source",
   "name": "R",
   "pygments_lexer": "r",
   "version": "4.0.5"
  }
 },
 "nbformat": 4,
 "nbformat_minor": 2
}
