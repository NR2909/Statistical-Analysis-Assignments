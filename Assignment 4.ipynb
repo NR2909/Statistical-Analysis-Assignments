{
 "cells": [
  {
   "cell_type": "code",
   "execution_count": 1,
   "id": "74c8ff25",
   "metadata": {},
   "outputs": [
    {
     "name": "stderr",
     "output_type": "stream",
     "text": [
      "Loading required package: ParamHelpers\n",
      "\n",
      "Warning message: 'mlr' is in 'maintenance-only' mode since July 2019.\n",
      "Future development will only happen in 'mlr3'\n",
      "(<https://mlr3.mlr-org.com>). Due to the focus on 'mlr3' there might be\n",
      "uncaught bugs meanwhile in {mlr} - please consider switching.\n",
      "\n",
      "Loading required package: ggplot2\n",
      "\n",
      "Loading required package: lattice\n",
      "\n",
      "\n",
      "Attaching package: 'caret'\n",
      "\n",
      "\n",
      "The following object is masked from 'package:mlr':\n",
      "\n",
      "    train\n",
      "\n",
      "\n",
      "Type 'citation(\"pROC\")' for a citation.\n",
      "\n",
      "\n",
      "Attaching package: 'pROC'\n",
      "\n",
      "\n",
      "The following objects are masked from 'package:stats':\n",
      "\n",
      "    cov, smooth, var\n",
      "\n",
      "\n",
      "randomForest 4.6-14\n",
      "\n",
      "Type rfNews() to see new features/changes/bug fixes.\n",
      "\n",
      "\n",
      "Attaching package: 'randomForest'\n",
      "\n",
      "\n",
      "The following object is masked from 'package:ggplot2':\n",
      "\n",
      "    margin\n",
      "\n",
      "\n",
      "Loaded gbm 2.1.8\n",
      "\n",
      "Registered S3 method overwritten by 'cli':\n",
      "  method     from\n",
      "  print.tree tree\n",
      "\n",
      "-- \u001b[1mAttaching packages\u001b[22m ------------------------------------------------------------------------------- tidyverse 1.3.1 --\n",
      "\n",
      "\u001b[32mv\u001b[39m \u001b[34mtibble \u001b[39m 3.1.6     \u001b[32mv\u001b[39m \u001b[34mdplyr  \u001b[39m 1.0.7\n",
      "\u001b[32mv\u001b[39m \u001b[34mtidyr  \u001b[39m 1.1.4     \u001b[32mv\u001b[39m \u001b[34mstringr\u001b[39m 1.4.0\n",
      "\u001b[32mv\u001b[39m \u001b[34mreadr  \u001b[39m 2.1.1     \u001b[32mv\u001b[39m \u001b[34mforcats\u001b[39m 0.5.1\n",
      "\u001b[32mv\u001b[39m \u001b[34mpurrr  \u001b[39m 0.3.4     \n",
      "\n",
      "-- \u001b[1mConflicts\u001b[22m ---------------------------------------------------------------------------------- tidyverse_conflicts() --\n",
      "\u001b[31mx\u001b[39m \u001b[34mdplyr\u001b[39m::\u001b[32mbetween()\u001b[39m       masks \u001b[34mdata.table\u001b[39m::between()\n",
      "\u001b[31mx\u001b[39m \u001b[34mdplyr\u001b[39m::\u001b[32mcombine()\u001b[39m       masks \u001b[34mrandomForest\u001b[39m::combine()\n",
      "\u001b[31mx\u001b[39m \u001b[34mdplyr\u001b[39m::\u001b[32mfilter()\u001b[39m        masks \u001b[34mstats\u001b[39m::filter()\n",
      "\u001b[31mx\u001b[39m \u001b[34mdplyr\u001b[39m::\u001b[32mfirst()\u001b[39m         masks \u001b[34mdata.table\u001b[39m::first()\n",
      "\u001b[31mx\u001b[39m \u001b[34mdplyr\u001b[39m::\u001b[32mlag()\u001b[39m           masks \u001b[34mstats\u001b[39m::lag()\n",
      "\u001b[31mx\u001b[39m \u001b[34mdplyr\u001b[39m::\u001b[32mlast()\u001b[39m          masks \u001b[34mdata.table\u001b[39m::last()\n",
      "\u001b[31mx\u001b[39m \u001b[34mpurrr\u001b[39m::\u001b[32mlift()\u001b[39m          masks \u001b[34mcaret\u001b[39m::lift()\n",
      "\u001b[31mx\u001b[39m \u001b[34mrandomForest\u001b[39m::\u001b[32mmargin()\u001b[39m masks \u001b[34mggplot2\u001b[39m::margin()\n",
      "\u001b[31mx\u001b[39m \u001b[34mpurrr\u001b[39m::\u001b[32mtranspose()\u001b[39m     masks \u001b[34mdata.table\u001b[39m::transpose()\n",
      "\n",
      "\n",
      "Attaching package: 'MASS'\n",
      "\n",
      "\n",
      "The following object is masked from 'package:dplyr':\n",
      "\n",
      "    select\n",
      "\n",
      "\n"
     ]
    },
    {
     "data": {
      "text/html": [
       "'R version 4.0.5 (2021-03-31)'"
      ],
      "text/latex": [
       "'R version 4.0.5 (2021-03-31)'"
      ],
      "text/markdown": [
       "'R version 4.0.5 (2021-03-31)'"
      ],
      "text/plain": [
       "[1] \"R version 4.0.5 (2021-03-31)\""
      ]
     },
     "metadata": {},
     "output_type": "display_data"
    }
   ],
   "source": [
    "# Set environment params\n",
    "Sys.setenv(LANG='en')  # English\n",
    "\n",
    "# Import libraries\n",
    "library(data.table)    # Data manipulate\n",
    "library(mlr)           # ML toolkit\n",
    "library(caret)         # ML toolkit\n",
    "library(ggplot2)       # Visualization\n",
    "library(pROC)          # AUC, ROC\n",
    "library(tree)          # CART model\n",
    "library(randomForest)  # Bagging and RF\n",
    "library(gbm)           # Boosting tree\n",
    "library(tidyverse)\n",
    "# Import data\n",
    "library(ISLR)      # Data from the course book\n",
    "library(MASS)      # Boston housing dataset\n",
    "library(datasets)  # US crime dataset\n",
    "\n",
    "# Resize plot\n",
    "library(repr)  # String and binary representations\n",
    "#options(repr.plot.width=4, repr.plot.height=4)\n",
    "\n",
    "R.version.string"
   ]
  },
  {
   "cell_type": "markdown",
   "id": "b8d0259e",
   "metadata": {},
   "source": [
    "# Chapter 8\n",
    "\n",
    "## Question 3"
   ]
  },
  {
   "cell_type": "code",
   "execution_count": 2,
   "id": "b71bdead",
   "metadata": {},
   "outputs": [
    {
     "name": "stderr",
     "output_type": "stream",
     "text": [
      "Warning message:\n",
      "\"Removed 2 row(s) containing missing values (geom_path).\"\n"
     ]
    },
    {
     "data": {
      "image/png": "[encoded data removed]",
      "text/plain": [
       "plot without title"
      ]
     },
     "metadata": {
      "image/png": {
       "height": 420,
       "width": 420
      }
     },
     "output_type": "display_data"
    }
   ],
   "source": [
    "prob_1 = seq(0,1,0.001)\n",
    "prob_2 = 1-prob_1\n",
    "\n",
    "classification_error <- 1 - pmax(prob_1, prob_2)\n",
    "gini_index <- prob_1*(1-prob_1) + prob_2*(1-prob_2)\n",
    "entropy <- -(prob_1*log(prob_1) + prob_2*log(prob_2))\n",
    "\n",
    "df <- data.frame(prob_1, classification_error, gini_index, entropy)\n",
    "\n",
    "pivot_longer(df, cols = c(classification_error, gini_index, entropy), names_to = 'type')%>%\n",
    "ggplot(aes(x = prob_1, y = value, col = type))+\n",
    "geom_line(size = 1)"
   ]
  },
  {
   "cell_type": "markdown",
   "id": "799c6dd4",
   "metadata": {},
   "source": [
    "## Question 5"
   ]
  },
  {
   "cell_type": "code",
   "execution_count": 3,
   "id": "03c42d47",
   "metadata": {},
   "outputs": [
    {
     "name": "stdout",
     "output_type": "stream",
     "text": [
      "[1] \"Majority is Red\"\n"
     ]
    }
   ],
   "source": [
    "p_red <- c(0.1, 0.15, 0.2, 0.2, 0.55,0.6,0.6,0.65,0.7,0.75)\n",
    "\n",
    "if (sum(p_red >= 0.5) >  sum(p_red < 0.5)){\n",
    "    print('Majority is Red')\n",
    "} else {\n",
    "    print('Majority is Green')\n",
    "}"
   ]
  },
  {
   "cell_type": "markdown",
   "id": "66aac6fd",
   "metadata": {},
   "source": [
    "## Question 8\n",
    "## a"
   ]
  },
  {
   "cell_type": "code",
   "execution_count": 4,
   "id": "3b8015ab",
   "metadata": {},
   "outputs": [
    {
     "data": {
      "text/html": [
       "<table class=\"dataframe\">\n",
       "<caption>A data.frame: 6 × 11</caption>\n",
       "<thead>\n",
       "\t<tr><th></th><th scope=col>Sales</th><th scope=col>CompPrice</th><th scope=col>Income</th><th scope=col>Advertising</th><th scope=col>Population</th><th scope=col>Price</th><th scope=col>ShelveLoc</th><th scope=col>Age</th><th scope=col>Education</th><th scope=col>Urban</th><th scope=col>US</th></tr>\n",
       "\t<tr><th></th><th scope=col>&lt;dbl&gt;</th><th scope=col>&lt;dbl&gt;</th><th scope=col>&lt;dbl&gt;</th><th scope=col>&lt;dbl&gt;</th><th scope=col>&lt;dbl&gt;</th><th scope=col>&lt;dbl&gt;</th><th scope=col>&lt;fct&gt;</th><th scope=col>&lt;dbl&gt;</th><th scope=col>&lt;dbl&gt;</th><th scope=col>&lt;fct&gt;</th><th scope=col>&lt;fct&gt;</th></tr>\n",
       "</thead>\n",
       "<tbody>\n",
       "\t<tr><th scope=row>1</th><td> 9.50</td><td>138</td><td> 73</td><td>11</td><td>276</td><td>120</td><td>Bad   </td><td>42</td><td>17</td><td>Yes</td><td>Yes</td></tr>\n",
       "\t<tr><th scope=row>2</th><td>11.22</td><td>111</td><td> 48</td><td>16</td><td>260</td><td> 83</td><td>Good  </td><td>65</td><td>10</td><td>Yes</td><td>Yes</td></tr>\n",
       "\t<tr><th scope=row>3</th><td>10.06</td><td>113</td><td> 35</td><td>10</td><td>269</td><td> 80</td><td>Medium</td><td>59</td><td>12</td><td>Yes</td><td>Yes</td></tr>\n",
       "\t<tr><th scope=row>4</th><td> 7.40</td><td>117</td><td>100</td><td> 4</td><td>466</td><td> 97</td><td>Medium</td><td>55</td><td>14</td><td>Yes</td><td>Yes</td></tr>\n",
       "\t<tr><th scope=row>5</th><td> 4.15</td><td>141</td><td> 64</td><td> 3</td><td>340</td><td>128</td><td>Bad   </td><td>38</td><td>13</td><td>Yes</td><td>No </td></tr>\n",
       "\t<tr><th scope=row>6</th><td>10.81</td><td>124</td><td>113</td><td>13</td><td>501</td><td> 72</td><td>Bad   </td><td>78</td><td>16</td><td>No </td><td>Yes</td></tr>\n",
       "</tbody>\n",
       "</table>\n"
      ],
      "text/latex": [
       "A data.frame: 6 × 11\n",
       "\\begin{tabular}{r|lllllllllll}\n",
       "  & Sales & CompPrice & Income & Advertising & Population & Price & ShelveLoc & Age & Education & Urban & US\\\\\n",
       "  & <dbl> & <dbl> & <dbl> & <dbl> & <dbl> & <dbl> & <fct> & <dbl> & <dbl> & <fct> & <fct>\\\\\n",
       "\\hline\n",
       "\t1 &  9.50 & 138 &  73 & 11 & 276 & 120 & Bad    & 42 & 17 & Yes & Yes\\\\\n",
       "\t2 & 11.22 & 111 &  48 & 16 & 260 &  83 & Good   & 65 & 10 & Yes & Yes\\\\\n",
       "\t3 & 10.06 & 113 &  35 & 10 & 269 &  80 & Medium & 59 & 12 & Yes & Yes\\\\\n",
       "\t4 &  7.40 & 117 & 100 &  4 & 466 &  97 & Medium & 55 & 14 & Yes & Yes\\\\\n",
       "\t5 &  4.15 & 141 &  64 &  3 & 340 & 128 & Bad    & 38 & 13 & Yes & No \\\\\n",
       "\t6 & 10.81 & 124 & 113 & 13 & 501 &  72 & Bad    & 78 & 16 & No  & Yes\\\\\n",
       "\\end{tabular}\n"
      ],
      "text/markdown": [
       "\n",
       "A data.frame: 6 × 11\n",
       "\n",
       "| <!--/--> | Sales &lt;dbl&gt; | CompPrice &lt;dbl&gt; | Income &lt;dbl&gt; | Advertising &lt;dbl&gt; | Population &lt;dbl&gt; | Price &lt;dbl&gt; | ShelveLoc &lt;fct&gt; | Age &lt;dbl&gt; | Education &lt;dbl&gt; | Urban &lt;fct&gt; | US &lt;fct&gt; |\n",
       "|---|---|---|---|---|---|---|---|---|---|---|---|\n",
       "| 1 |  9.50 | 138 |  73 | 11 | 276 | 120 | Bad    | 42 | 17 | Yes | Yes |\n",
       "| 2 | 11.22 | 111 |  48 | 16 | 260 |  83 | Good   | 65 | 10 | Yes | Yes |\n",
       "| 3 | 10.06 | 113 |  35 | 10 | 269 |  80 | Medium | 59 | 12 | Yes | Yes |\n",
       "| 4 |  7.40 | 117 | 100 |  4 | 466 |  97 | Medium | 55 | 14 | Yes | Yes |\n",
       "| 5 |  4.15 | 141 |  64 |  3 | 340 | 128 | Bad    | 38 | 13 | Yes | No  |\n",
       "| 6 | 10.81 | 124 | 113 | 13 | 501 |  72 | Bad    | 78 | 16 | No  | Yes |\n",
       "\n"
      ],
      "text/plain": [
       "  Sales CompPrice Income Advertising Population Price ShelveLoc Age Education\n",
       "1  9.50 138        73    11          276        120   Bad       42  17       \n",
       "2 11.22 111        48    16          260         83   Good      65  10       \n",
       "3 10.06 113        35    10          269         80   Medium    59  12       \n",
       "4  7.40 117       100     4          466         97   Medium    55  14       \n",
       "5  4.15 141        64     3          340        128   Bad       38  13       \n",
       "6 10.81 124       113    13          501         72   Bad       78  16       \n",
       "  Urban US \n",
       "1 Yes   Yes\n",
       "2 Yes   Yes\n",
       "3 Yes   Yes\n",
       "4 Yes   Yes\n",
       "5 Yes   No \n",
       "6 No    Yes"
      ]
     },
     "metadata": {},
     "output_type": "display_data"
    }
   ],
   "source": [
    "head(Carseats)"
   ]
  },
  {
   "cell_type": "code",
   "execution_count": 5,
   "id": "329bc711",
   "metadata": {},
   "outputs": [],
   "source": [
    "set.seed(42)  \n",
    "train_idx <- sample(1:nrow(Carseats), 250)\n",
    "train_df <- Carseats[train_idx, ] \n",
    "test_df <- Carseats[-train_idx, ]"
   ]
  },
  {
   "cell_type": "markdown",
   "id": "d858be16",
   "metadata": {},
   "source": [
    "## b"
   ]
  },
  {
   "cell_type": "code",
   "execution_count": 6,
   "id": "26642fc5",
   "metadata": {},
   "outputs": [
    {
     "data": {
      "image/png": "[encoded data removed]",
      "text/plain": [
       "plot without title"
      ]
     },
     "metadata": {
      "image/png": {
       "height": 360,
       "width": 900
      }
     },
     "output_type": "display_data"
    }
   ],
   "source": [
    "# Fit full regression tree (top-down greedy splitting)\n",
    "md_regtree <- tree(Sales ~ ., data=train_df)\n",
    "\n",
    "# Plot the regression tree\n",
    "options(repr.plot.width=15, repr.plot.height=6)\n",
    "plot(md_regtree, type='uniform')\n",
    "text(md_regtree, pretty=0)"
   ]
  },
  {
   "cell_type": "code",
   "execution_count": 7,
   "id": "79040c52",
   "metadata": {},
   "outputs": [
    {
     "data": {
      "text/plain": [
       "\n",
       "Regression tree:\n",
       "tree(formula = Sales ~ ., data = train_df)\n",
       "Variables actually used in tree construction:\n",
       "[1] \"ShelveLoc\" \"Price\"     \"Age\"       \"Income\"    \"CompPrice\"\n",
       "Number of terminal nodes:  17 \n",
       "Residual mean deviance:  2.465 = 574.3 / 233 \n",
       "Distribution of residuals:\n",
       "   Min. 1st Qu.  Median    Mean 3rd Qu.    Max. \n",
       "-5.0740 -0.8975 -0.1001  0.0000  1.1040  3.5490 "
      ]
     },
     "metadata": {},
     "output_type": "display_data"
    }
   ],
   "source": [
    "summary(md_regtree)"
   ]
  },
  {
   "cell_type": "code",
   "execution_count": 8,
   "id": "f56fbdd4",
   "metadata": {},
   "outputs": [
    {
     "name": "stdout",
     "output_type": "stream",
     "text": [
      "[1] 5.054926\n"
     ]
    }
   ],
   "source": [
    "pred <- predict(md_regtree, test_df)\n",
    "\n",
    "mse <- mean((pred - test_df$Sales)^2)\n",
    "\n",
    "print(mse)"
   ]
  },
  {
   "cell_type": "markdown",
   "id": "79e12f1e",
   "metadata": {},
   "source": [
    "## c"
   ]
  },
  {
   "cell_type": "code",
   "execution_count": 9,
   "id": "92fb5e0f",
   "metadata": {},
   "outputs": [
    {
     "data": {
      "text/plain": [
       "$size\n",
       " [1] 17 16 15 14 12 11 10  9  7  6  5  4  3  2  1\n",
       "\n",
       "$dev\n",
       " [1] 1161.202 1183.973 1177.768 1188.237 1189.590 1213.654 1251.978 1342.276\n",
       " [9] 1342.276 1343.125 1503.468 1600.934 1560.037 1659.740 2037.963\n",
       "\n",
       "$k\n",
       " [1]      -Inf  22.24697  23.30787  23.94030  25.15050  30.77944  33.26100\n",
       " [8]  62.09667  62.47101  66.61141  82.53546 113.93878 125.58879 204.41804\n",
       "[15] 419.02969\n",
       "\n",
       "$method\n",
       "[1] \"deviance\"\n",
       "\n",
       "attr(,\"class\")\n",
       "[1] \"prune\"         \"tree.sequence\""
      ]
     },
     "metadata": {},
     "output_type": "display_data"
    }
   ],
   "source": [
    "# Prune the Regression Tree\n",
    "set.seed(1)\n",
    "cv_regtree <- cv.tree(md_regtree)\n",
    "cv_regtree"
   ]
  },
  {
   "cell_type": "code",
   "execution_count": 10,
   "id": "565f6855",
   "metadata": {},
   "outputs": [
    {
     "data": {
      "image/png": "[encoded data removed]",
      "text/plain": [
       "plot without title"
      ]
     },
     "metadata": {
      "image/png": {
       "height": 360,
       "width": 900
      }
     },
     "output_type": "display_data"
    }
   ],
   "source": [
    "plot(cv_regtree)"
   ]
  },
  {
   "cell_type": "code",
   "execution_count": 11,
   "id": "8e380d40",
   "metadata": {},
   "outputs": [
    {
     "data": {
      "image/png": "[encoded data removed]",
      "text/plain": [
       "plot without title"
      ]
     },
     "metadata": {
      "image/png": {
       "height": 360,
       "width": 900
      }
     },
     "output_type": "display_data"
    }
   ],
   "source": [
    "# Prune the tree\n",
    "prune_regtree <- prune.tree(md_regtree, best=5)\n",
    "\n",
    "# Show the tree\n",
    "options(repr.plot.width=15, repr.plot.height=6)\n",
    "plot(prune_regtree, type='uniform')\n",
    "text(prune_regtree, pretty=0)"
   ]
  },
  {
   "cell_type": "code",
   "execution_count": 12,
   "id": "24c2bc9d",
   "metadata": {},
   "outputs": [
    {
     "name": "stdout",
     "output_type": "stream",
     "text": [
      "[1] 4.813867\n"
     ]
    }
   ],
   "source": [
    "prune_pred <- predict(prune_regtree, test_df)\n",
    "\n",
    "prune_mse <- mean((prune_pred - test_df$Sales)^2)\n",
    "\n",
    "print(prune_mse)"
   ]
  },
  {
   "cell_type": "markdown",
   "id": "feddff18",
   "metadata": {},
   "source": [
    "### pruning reduced the MSE"
   ]
  },
  {
   "cell_type": "markdown",
   "id": "385fc924",
   "metadata": {},
   "source": [
    "## d"
   ]
  },
  {
   "cell_type": "code",
   "execution_count": 13,
   "id": "fe6e765f",
   "metadata": {},
   "outputs": [
    {
     "data": {
      "text/plain": [
       "\n",
       "Call:\n",
       " randomForest(formula = Sales ~ ., data = train_df, mtry = 6,      importance = TRUE) \n",
       "               Type of random forest: regression\n",
       "                     Number of trees: 500\n",
       "No. of variables tried at each split: 6\n",
       "\n",
       "          Mean of squared residuals: 2.753929\n",
       "                    % Var explained: 64.82"
      ]
     },
     "metadata": {},
     "output_type": "display_data"
    }
   ],
   "source": [
    "# Fit random forests model\n",
    "set.seed(1)\n",
    "md_rf <- randomForest(Sales ~ ., data=train_df, mtry=6, importance = TRUE)\n",
    "md_rf"
   ]
  },
  {
   "cell_type": "code",
   "execution_count": 14,
   "id": "324748f3",
   "metadata": {},
   "outputs": [
    {
     "name": "stdout",
     "output_type": "stream",
     "text": [
      "[1] 2.376077\n"
     ]
    }
   ],
   "source": [
    "bagging_pred <- predict(md_rf, test_df)\n",
    "\n",
    "bagging_mse <- mean((bagging_pred - test_df$Sales)^2)\n",
    "\n",
    "print(bagging_mse)"
   ]
  },
  {
   "cell_type": "code",
   "execution_count": 15,
   "id": "690fb2f4",
   "metadata": {},
   "outputs": [
    {
     "data": {
      "text/html": [
       "<table class=\"dataframe\">\n",
       "<caption>A matrix: 10 × 2 of type dbl</caption>\n",
       "<thead>\n",
       "\t<tr><th></th><th scope=col>%IncMSE</th><th scope=col>IncNodePurity</th></tr>\n",
       "</thead>\n",
       "<tbody>\n",
       "\t<tr><th scope=row>CompPrice</th><td>26.585997</td><td>223.05322</td></tr>\n",
       "\t<tr><th scope=row>Income</th><td> 7.949040</td><td>126.76030</td></tr>\n",
       "\t<tr><th scope=row>Advertising</th><td>16.311636</td><td>181.04316</td></tr>\n",
       "\t<tr><th scope=row>Population</th><td> 3.135143</td><td>105.45092</td></tr>\n",
       "\t<tr><th scope=row>Price</th><td>50.934018</td><td>493.59983</td></tr>\n",
       "\t<tr><th scope=row>ShelveLoc</th><td>53.625282</td><td>477.01012</td></tr>\n",
       "\t<tr><th scope=row>Age</th><td>14.753288</td><td>195.11036</td></tr>\n",
       "\t<tr><th scope=row>Education</th><td> 3.882937</td><td> 67.01593</td></tr>\n",
       "\t<tr><th scope=row>Urban</th><td> 2.764709</td><td> 12.37230</td></tr>\n",
       "\t<tr><th scope=row>US</th><td> 2.388890</td><td> 12.00545</td></tr>\n",
       "</tbody>\n",
       "</table>\n"
      ],
      "text/latex": [
       "A matrix: 10 × 2 of type dbl\n",
       "\\begin{tabular}{r|ll}\n",
       "  & \\%IncMSE & IncNodePurity\\\\\n",
       "\\hline\n",
       "\tCompPrice & 26.585997 & 223.05322\\\\\n",
       "\tIncome &  7.949040 & 126.76030\\\\\n",
       "\tAdvertising & 16.311636 & 181.04316\\\\\n",
       "\tPopulation &  3.135143 & 105.45092\\\\\n",
       "\tPrice & 50.934018 & 493.59983\\\\\n",
       "\tShelveLoc & 53.625282 & 477.01012\\\\\n",
       "\tAge & 14.753288 & 195.11036\\\\\n",
       "\tEducation &  3.882937 &  67.01593\\\\\n",
       "\tUrban &  2.764709 &  12.37230\\\\\n",
       "\tUS &  2.388890 &  12.00545\\\\\n",
       "\\end{tabular}\n"
      ],
      "text/markdown": [
       "\n",
       "A matrix: 10 × 2 of type dbl\n",
       "\n",
       "| <!--/--> | %IncMSE | IncNodePurity |\n",
       "|---|---|---|\n",
       "| CompPrice | 26.585997 | 223.05322 |\n",
       "| Income |  7.949040 | 126.76030 |\n",
       "| Advertising | 16.311636 | 181.04316 |\n",
       "| Population |  3.135143 | 105.45092 |\n",
       "| Price | 50.934018 | 493.59983 |\n",
       "| ShelveLoc | 53.625282 | 477.01012 |\n",
       "| Age | 14.753288 | 195.11036 |\n",
       "| Education |  3.882937 |  67.01593 |\n",
       "| Urban |  2.764709 |  12.37230 |\n",
       "| US |  2.388890 |  12.00545 |\n",
       "\n"
      ],
      "text/plain": [
       "            %IncMSE   IncNodePurity\n",
       "CompPrice   26.585997 223.05322    \n",
       "Income       7.949040 126.76030    \n",
       "Advertising 16.311636 181.04316    \n",
       "Population   3.135143 105.45092    \n",
       "Price       50.934018 493.59983    \n",
       "ShelveLoc   53.625282 477.01012    \n",
       "Age         14.753288 195.11036    \n",
       "Education    3.882937  67.01593    \n",
       "Urban        2.764709  12.37230    \n",
       "US           2.388890  12.00545    "
      ]
     },
     "metadata": {},
     "output_type": "display_data"
    }
   ],
   "source": [
    "importance(md_rf)"
   ]
  },
  {
   "cell_type": "markdown",
   "id": "96c14fbb",
   "metadata": {},
   "source": [
    "## Question 9\n",
    "\n",
    "## a"
   ]
  },
  {
   "cell_type": "code",
   "execution_count": 16,
   "id": "411f669b",
   "metadata": {},
   "outputs": [
    {
     "data": {
      "text/html": [
       "<table class=\"dataframe\">\n",
       "<caption>A data.frame: 6 × 18</caption>\n",
       "<thead>\n",
       "\t<tr><th></th><th scope=col>Purchase</th><th scope=col>WeekofPurchase</th><th scope=col>StoreID</th><th scope=col>PriceCH</th><th scope=col>PriceMM</th><th scope=col>DiscCH</th><th scope=col>DiscMM</th><th scope=col>SpecialCH</th><th scope=col>SpecialMM</th><th scope=col>LoyalCH</th><th scope=col>SalePriceMM</th><th scope=col>SalePriceCH</th><th scope=col>PriceDiff</th><th scope=col>Store7</th><th scope=col>PctDiscMM</th><th scope=col>PctDiscCH</th><th scope=col>ListPriceDiff</th><th scope=col>STORE</th></tr>\n",
       "\t<tr><th></th><th scope=col>&lt;fct&gt;</th><th scope=col>&lt;dbl&gt;</th><th scope=col>&lt;dbl&gt;</th><th scope=col>&lt;dbl&gt;</th><th scope=col>&lt;dbl&gt;</th><th scope=col>&lt;dbl&gt;</th><th scope=col>&lt;dbl&gt;</th><th scope=col>&lt;dbl&gt;</th><th scope=col>&lt;dbl&gt;</th><th scope=col>&lt;dbl&gt;</th><th scope=col>&lt;dbl&gt;</th><th scope=col>&lt;dbl&gt;</th><th scope=col>&lt;dbl&gt;</th><th scope=col>&lt;fct&gt;</th><th scope=col>&lt;dbl&gt;</th><th scope=col>&lt;dbl&gt;</th><th scope=col>&lt;dbl&gt;</th><th scope=col>&lt;dbl&gt;</th></tr>\n",
       "</thead>\n",
       "<tbody>\n",
       "\t<tr><th scope=row>1</th><td>CH</td><td>237</td><td>1</td><td>1.75</td><td>1.99</td><td>0.00</td><td>0.0</td><td>0</td><td>0</td><td>0.500000</td><td>1.99</td><td>1.75</td><td> 0.24</td><td>No </td><td>0.000000</td><td>0.000000</td><td>0.24</td><td>1</td></tr>\n",
       "\t<tr><th scope=row>2</th><td>CH</td><td>239</td><td>1</td><td>1.75</td><td>1.99</td><td>0.00</td><td>0.3</td><td>0</td><td>1</td><td>0.600000</td><td>1.69</td><td>1.75</td><td>-0.06</td><td>No </td><td>0.150754</td><td>0.000000</td><td>0.24</td><td>1</td></tr>\n",
       "\t<tr><th scope=row>3</th><td>CH</td><td>245</td><td>1</td><td>1.86</td><td>2.09</td><td>0.17</td><td>0.0</td><td>0</td><td>0</td><td>0.680000</td><td>2.09</td><td>1.69</td><td> 0.40</td><td>No </td><td>0.000000</td><td>0.091398</td><td>0.23</td><td>1</td></tr>\n",
       "\t<tr><th scope=row>4</th><td>MM</td><td>227</td><td>1</td><td>1.69</td><td>1.69</td><td>0.00</td><td>0.0</td><td>0</td><td>0</td><td>0.400000</td><td>1.69</td><td>1.69</td><td> 0.00</td><td>No </td><td>0.000000</td><td>0.000000</td><td>0.00</td><td>1</td></tr>\n",
       "\t<tr><th scope=row>5</th><td>CH</td><td>228</td><td>7</td><td>1.69</td><td>1.69</td><td>0.00</td><td>0.0</td><td>0</td><td>0</td><td>0.956535</td><td>1.69</td><td>1.69</td><td> 0.00</td><td>Yes</td><td>0.000000</td><td>0.000000</td><td>0.00</td><td>0</td></tr>\n",
       "\t<tr><th scope=row>6</th><td>CH</td><td>230</td><td>7</td><td>1.69</td><td>1.99</td><td>0.00</td><td>0.0</td><td>0</td><td>1</td><td>0.965228</td><td>1.99</td><td>1.69</td><td> 0.30</td><td>Yes</td><td>0.000000</td><td>0.000000</td><td>0.30</td><td>0</td></tr>\n",
       "</tbody>\n",
       "</table>\n"
      ],
      "text/latex": [
       "A data.frame: 6 × 18\n",
       "\\begin{tabular}{r|llllllllllllllllll}\n",
       "  & Purchase & WeekofPurchase & StoreID & PriceCH & PriceMM & DiscCH & DiscMM & SpecialCH & SpecialMM & LoyalCH & SalePriceMM & SalePriceCH & PriceDiff & Store7 & PctDiscMM & PctDiscCH & ListPriceDiff & STORE\\\\\n",
       "  & <fct> & <dbl> & <dbl> & <dbl> & <dbl> & <dbl> & <dbl> & <dbl> & <dbl> & <dbl> & <dbl> & <dbl> & <dbl> & <fct> & <dbl> & <dbl> & <dbl> & <dbl>\\\\\n",
       "\\hline\n",
       "\t1 & CH & 237 & 1 & 1.75 & 1.99 & 0.00 & 0.0 & 0 & 0 & 0.500000 & 1.99 & 1.75 &  0.24 & No  & 0.000000 & 0.000000 & 0.24 & 1\\\\\n",
       "\t2 & CH & 239 & 1 & 1.75 & 1.99 & 0.00 & 0.3 & 0 & 1 & 0.600000 & 1.69 & 1.75 & -0.06 & No  & 0.150754 & 0.000000 & 0.24 & 1\\\\\n",
       "\t3 & CH & 245 & 1 & 1.86 & 2.09 & 0.17 & 0.0 & 0 & 0 & 0.680000 & 2.09 & 1.69 &  0.40 & No  & 0.000000 & 0.091398 & 0.23 & 1\\\\\n",
       "\t4 & MM & 227 & 1 & 1.69 & 1.69 & 0.00 & 0.0 & 0 & 0 & 0.400000 & 1.69 & 1.69 &  0.00 & No  & 0.000000 & 0.000000 & 0.00 & 1\\\\\n",
       "\t5 & CH & 228 & 7 & 1.69 & 1.69 & 0.00 & 0.0 & 0 & 0 & 0.956535 & 1.69 & 1.69 &  0.00 & Yes & 0.000000 & 0.000000 & 0.00 & 0\\\\\n",
       "\t6 & CH & 230 & 7 & 1.69 & 1.99 & 0.00 & 0.0 & 0 & 1 & 0.965228 & 1.99 & 1.69 &  0.30 & Yes & 0.000000 & 0.000000 & 0.30 & 0\\\\\n",
       "\\end{tabular}\n"
      ],
      "text/markdown": [
       "\n",
       "A data.frame: 6 × 18\n",
       "\n",
       "| <!--/--> | Purchase &lt;fct&gt; | WeekofPurchase &lt;dbl&gt; | StoreID &lt;dbl&gt; | PriceCH &lt;dbl&gt; | PriceMM &lt;dbl&gt; | DiscCH &lt;dbl&gt; | DiscMM &lt;dbl&gt; | SpecialCH &lt;dbl&gt; | SpecialMM &lt;dbl&gt; | LoyalCH &lt;dbl&gt; | SalePriceMM &lt;dbl&gt; | SalePriceCH &lt;dbl&gt; | PriceDiff &lt;dbl&gt; | Store7 &lt;fct&gt; | PctDiscMM &lt;dbl&gt; | PctDiscCH &lt;dbl&gt; | ListPriceDiff &lt;dbl&gt; | STORE &lt;dbl&gt; |\n",
       "|---|---|---|---|---|---|---|---|---|---|---|---|---|---|---|---|---|---|---|\n",
       "| 1 | CH | 237 | 1 | 1.75 | 1.99 | 0.00 | 0.0 | 0 | 0 | 0.500000 | 1.99 | 1.75 |  0.24 | No  | 0.000000 | 0.000000 | 0.24 | 1 |\n",
       "| 2 | CH | 239 | 1 | 1.75 | 1.99 | 0.00 | 0.3 | 0 | 1 | 0.600000 | 1.69 | 1.75 | -0.06 | No  | 0.150754 | 0.000000 | 0.24 | 1 |\n",
       "| 3 | CH | 245 | 1 | 1.86 | 2.09 | 0.17 | 0.0 | 0 | 0 | 0.680000 | 2.09 | 1.69 |  0.40 | No  | 0.000000 | 0.091398 | 0.23 | 1 |\n",
       "| 4 | MM | 227 | 1 | 1.69 | 1.69 | 0.00 | 0.0 | 0 | 0 | 0.400000 | 1.69 | 1.69 |  0.00 | No  | 0.000000 | 0.000000 | 0.00 | 1 |\n",
       "| 5 | CH | 228 | 7 | 1.69 | 1.69 | 0.00 | 0.0 | 0 | 0 | 0.956535 | 1.69 | 1.69 |  0.00 | Yes | 0.000000 | 0.000000 | 0.00 | 0 |\n",
       "| 6 | CH | 230 | 7 | 1.69 | 1.99 | 0.00 | 0.0 | 0 | 1 | 0.965228 | 1.99 | 1.69 |  0.30 | Yes | 0.000000 | 0.000000 | 0.30 | 0 |\n",
       "\n"
      ],
      "text/plain": [
       "  Purchase WeekofPurchase StoreID PriceCH PriceMM DiscCH DiscMM SpecialCH\n",
       "1 CH       237            1       1.75    1.99    0.00   0.0    0        \n",
       "2 CH       239            1       1.75    1.99    0.00   0.3    0        \n",
       "3 CH       245            1       1.86    2.09    0.17   0.0    0        \n",
       "4 MM       227            1       1.69    1.69    0.00   0.0    0        \n",
       "5 CH       228            7       1.69    1.69    0.00   0.0    0        \n",
       "6 CH       230            7       1.69    1.99    0.00   0.0    0        \n",
       "  SpecialMM LoyalCH  SalePriceMM SalePriceCH PriceDiff Store7 PctDiscMM\n",
       "1 0         0.500000 1.99        1.75         0.24     No     0.000000 \n",
       "2 1         0.600000 1.69        1.75        -0.06     No     0.150754 \n",
       "3 0         0.680000 2.09        1.69         0.40     No     0.000000 \n",
       "4 0         0.400000 1.69        1.69         0.00     No     0.000000 \n",
       "5 0         0.956535 1.69        1.69         0.00     Yes    0.000000 \n",
       "6 1         0.965228 1.99        1.69         0.30     Yes    0.000000 \n",
       "  PctDiscCH ListPriceDiff STORE\n",
       "1 0.000000  0.24          1    \n",
       "2 0.000000  0.24          1    \n",
       "3 0.091398  0.23          1    \n",
       "4 0.000000  0.00          1    \n",
       "5 0.000000  0.00          0    \n",
       "6 0.000000  0.30          0    "
      ]
     },
     "metadata": {},
     "output_type": "display_data"
    }
   ],
   "source": [
    "head(OJ)"
   ]
  },
  {
   "cell_type": "code",
   "execution_count": 17,
   "id": "7c35190f",
   "metadata": {},
   "outputs": [],
   "source": [
    "set.seed(42)  \n",
    "train_idx <- sample(1:nrow(OJ), 800)\n",
    "train_df <- OJ[train_idx, ] \n",
    "test_df <- OJ[-train_idx, ]"
   ]
  },
  {
   "cell_type": "markdown",
   "id": "fb8ea28b",
   "metadata": {},
   "source": [
    "## b"
   ]
  },
  {
   "cell_type": "code",
   "execution_count": 18,
   "id": "a089b8de",
   "metadata": {},
   "outputs": [
    {
     "data": {
      "image/png": "[encoded data removed]",
      "text/plain": [
       "plot without title"
      ]
     },
     "metadata": {
      "image/png": {
       "height": 360,
       "width": 900
      }
     },
     "output_type": "display_data"
    }
   ],
   "source": [
    "# Fit full regression tree (top-down greedy splitting)\n",
    "regtree <- tree(Purchase ~ ., data=train_df)\n",
    "\n",
    "# Plot the regression tree\n",
    "options(repr.plot.width=15, repr.plot.height=6)\n",
    "plot(regtree, type='uniform')\n",
    "text(regtree, pretty=0)"
   ]
  },
  {
   "cell_type": "code",
   "execution_count": 19,
   "id": "eb9e8ce1",
   "metadata": {},
   "outputs": [
    {
     "data": {
      "text/plain": [
       "\n",
       "Classification tree:\n",
       "tree(formula = Purchase ~ ., data = train_df)\n",
       "Variables actually used in tree construction:\n",
       "[1] \"LoyalCH\"     \"SalePriceMM\" \"PriceDiff\"  \n",
       "Number of terminal nodes:  8 \n",
       "Residual mean deviance:  0.7392 = 585.5 / 792 \n",
       "Misclassification error rate: 0.1638 = 131 / 800 "
      ]
     },
     "metadata": {},
     "output_type": "display_data"
    }
   ],
   "source": [
    "summary(regtree)"
   ]
  },
  {
   "cell_type": "code",
   "execution_count": 20,
   "id": "4ed96ecb",
   "metadata": {},
   "outputs": [
    {
     "data": {
      "text/plain": [
       "         test_actual\n",
       "test_pred  CH  MM\n",
       "       CH 125  15\n",
       "       MM  36  94"
      ]
     },
     "metadata": {},
     "output_type": "display_data"
    }
   ],
   "source": [
    "test_pred <- predict(regtree, test_df, type = \"class\")\n",
    "table(test_pred, test_actual = test_df$Purchase)"
   ]
  },
  {
   "cell_type": "code",
   "execution_count": 21,
   "id": "a510e772",
   "metadata": {},
   "outputs": [
    {
     "data": {
      "text/html": [
       "0.188888888888889"
      ],
      "text/latex": [
       "0.188888888888889"
      ],
      "text/markdown": [
       "0.188888888888889"
      ],
      "text/plain": [
       "[1] 0.1888889"
      ]
     },
     "metadata": {},
     "output_type": "display_data"
    }
   ],
   "source": [
    "test_error <- 1 - mean(test_pred == test_df$Purchase)\n",
    "test_error"
   ]
  },
  {
   "cell_type": "code",
   "execution_count": 22,
   "id": "470bd70c",
   "metadata": {},
   "outputs": [
    {
     "data": {
      "text/plain": [
       "$size\n",
       "[1] 8 5 2 1\n",
       "\n",
       "$dev\n",
       "[1] 152 152 155 308\n",
       "\n",
       "$k\n",
       "[1]       -Inf   0.000000   4.666667 163.000000\n",
       "\n",
       "$method\n",
       "[1] \"misclass\"\n",
       "\n",
       "attr(,\"class\")\n",
       "[1] \"prune\"         \"tree.sequence\""
      ]
     },
     "metadata": {},
     "output_type": "display_data"
    }
   ],
   "source": [
    "cv_tree <- cv.tree(regtree, FUN = prune.misclass)\n",
    "cv_tree"
   ]
  },
  {
   "cell_type": "code",
   "execution_count": 23,
   "id": "22e286b7",
   "metadata": {},
   "outputs": [
    {
     "data": {
      "image/png": "[encoded data removed]",
      "text/plain": [
       "plot without title"
      ]
     },
     "metadata": {
      "image/png": {
       "height": 360,
       "width": 900
      }
     },
     "output_type": "display_data"
    }
   ],
   "source": [
    "plot(cv_tree$size, cv_tree$dev/nrow(train_df), type = 'b' , xlab = 'size', ylab = 'classification error')"
   ]
  },
  {
   "cell_type": "markdown",
   "id": "9b1f34f0",
   "metadata": {},
   "source": [
    "## h"
   ]
  },
  {
   "cell_type": "markdown",
   "id": "64b425cb",
   "metadata": {},
   "source": [
    "### tree size 5 has the lower cross validation error\n",
    "\n",
    "## i"
   ]
  },
  {
   "cell_type": "code",
   "execution_count": 24,
   "id": "14b22e02",
   "metadata": {},
   "outputs": [
    {
     "data": {
      "image/png": "[encoded data removed]",
      "text/plain": [
       "plot without title"
      ]
     },
     "metadata": {
      "image/png": {
       "height": 360,
       "width": 900
      }
     },
     "output_type": "display_data"
    }
   ],
   "source": [
    "# Prune the tree\n",
    "prune_regtree <- prune.tree(regtree, best=5)\n",
    "\n",
    "# Show the tree\n",
    "options(repr.plot.width=15, repr.plot.height=6)\n",
    "plot(prune_regtree, type='uniform')\n",
    "text(prune_regtree, pretty=0)"
   ]
  },
  {
   "cell_type": "markdown",
   "id": "80f171b8",
   "metadata": {},
   "source": [
    "## j"
   ]
  },
  {
   "cell_type": "code",
   "execution_count": 25,
   "id": "ffed4a31",
   "metadata": {},
   "outputs": [
    {
     "data": {
      "text/html": [
       "0.16375"
      ],
      "text/latex": [
       "0.16375"
      ],
      "text/markdown": [
       "0.16375"
      ],
      "text/plain": [
       "[1] 0.16375"
      ]
     },
     "metadata": {},
     "output_type": "display_data"
    }
   ],
   "source": [
    "mean(predict(regtree, type = \"class\") != train_df$Purchase)"
   ]
  },
  {
   "cell_type": "code",
   "execution_count": 26,
   "id": "94757a58",
   "metadata": {},
   "outputs": [
    {
     "data": {
      "text/html": [
       "0.18125"
      ],
      "text/latex": [
       "0.18125"
      ],
      "text/markdown": [
       "0.18125"
      ],
      "text/plain": [
       "[1] 0.18125"
      ]
     },
     "metadata": {},
     "output_type": "display_data"
    }
   ],
   "source": [
    "mean(predict(prune_regtree, type = \"class\") != train_df$Purchase) # pruned is higher"
   ]
  },
  {
   "cell_type": "code",
   "execution_count": 27,
   "id": "9707dd61",
   "metadata": {},
   "outputs": [
    {
     "data": {
      "text/html": [
       "0.188888888888889"
      ],
      "text/latex": [
       "0.188888888888889"
      ],
      "text/markdown": [
       "0.188888888888889"
      ],
      "text/plain": [
       "[1] 0.1888889"
      ]
     },
     "metadata": {},
     "output_type": "display_data"
    }
   ],
   "source": [
    "mean(predict(regtree, newdata = test_df, type = \"class\") != test_df$Purchase)"
   ]
  },
  {
   "cell_type": "code",
   "execution_count": 28,
   "id": "0e07ce23",
   "metadata": {},
   "outputs": [
    {
     "data": {
      "text/html": [
       "0.218518518518519"
      ],
      "text/latex": [
       "0.218518518518519"
      ],
      "text/markdown": [
       "0.218518518518519"
      ],
      "text/plain": [
       "[1] 0.2185185"
      ]
     },
     "metadata": {},
     "output_type": "display_data"
    }
   ],
   "source": [
    "mean(predict(prune_regtree, newdata = test_df, type = \"class\") != test_df$Purchase)"
   ]
  },
  {
   "cell_type": "markdown",
   "id": "31c7de1c",
   "metadata": {},
   "source": [
    "## k\n",
    "### Pruned test error is higher"
   ]
  },
  {
   "cell_type": "markdown",
   "id": "f08dda77",
   "metadata": {},
   "source": [
    "## Question 10"
   ]
  },
  {
   "cell_type": "code",
   "execution_count": 29,
   "id": "e92885da",
   "metadata": {},
   "outputs": [],
   "source": [
    "#part a\n",
    "ht <- Hitters[!is.na(Hitters$Salary),]"
   ]
  },
  {
   "cell_type": "code",
   "execution_count": 30,
   "id": "a5729981",
   "metadata": {},
   "outputs": [],
   "source": [
    "ht$Salary <- log(ht$Salary)"
   ]
  },
  {
   "cell_type": "code",
   "execution_count": 31,
   "id": "65660a24",
   "metadata": {},
   "outputs": [],
   "source": [
    "# part b\n",
    "\n",
    "set.seed(42)  \n",
    "train_idx <- sample(1:nrow(ht), 200)\n",
    "train_df <- ht[train_idx, ] \n",
    "test_df <- ht[-train_idx, ]"
   ]
  },
  {
   "cell_type": "code",
   "execution_count": 32,
   "id": "7ed1d01f",
   "metadata": {},
   "outputs": [],
   "source": [
    "# part c\n",
    "lambda<- 10^seq(-6, -0.1, 0.1)\n",
    "set.seed(1)\n",
    "train_MSE <- c()\n",
    "test_MSE <- c()\n",
    "for (i in 1:length(lambda)) {\n",
    "md_boosttree <- gbm(Salary ~ ., data=train_df,\n",
    "                    distribution='gaussian',\n",
    "                    n.trees=1000,  # Number of boosting iteration\n",
    "                    shrinkage = lambda[i]) \n",
    "        pred <- predict(md_boosttree, train_df, n.trees=1000)\n",
    "\n",
    "        \n",
    "        train_MSE[i] <-  mean((pred - train_df$Salary) ^ 2) \n",
    "        pred_2 <- predict(md_boosttree, test_df, n.trees=1000)\n",
    "        test_MSE[i] <-  mean((pred_2 - test_df$Salary) ^ 2) \n",
    "    }"
   ]
  },
  {
   "cell_type": "code",
   "execution_count": 33,
   "id": "6fb13e68",
   "metadata": {},
   "outputs": [
    {
     "data": {
      "image/png": "[encoded data removed]",
      "text/plain": [
       "plot without title"
      ]
     },
     "metadata": {
      "image/png": {
       "height": 360,
       "width": 900
      }
     },
     "output_type": "display_data"
    }
   ],
   "source": [
    "plot(lambda, train_MSE, type = 'b')"
   ]
  },
  {
   "cell_type": "code",
   "execution_count": 34,
   "id": "ed645dee",
   "metadata": {},
   "outputs": [
    {
     "data": {
      "image/png": "[encoded data removed]",
      "text/plain": [
       "plot without title"
      ]
     },
     "metadata": {
      "image/png": {
       "height": 360,
       "width": 900
      }
     },
     "output_type": "display_data"
    }
   ],
   "source": [
    "plot(lambda, test_MSE, type = 'b')"
   ]
  },
  {
   "cell_type": "code",
   "execution_count": 35,
   "id": "5744384e",
   "metadata": {},
   "outputs": [
    {
     "data": {
      "text/html": [
       "0.312379176278549"
      ],
      "text/latex": [
       "0.312379176278549"
      ],
      "text/markdown": [
       "0.312379176278549"
      ],
      "text/plain": [
       "[1] 0.3123792"
      ]
     },
     "metadata": {},
     "output_type": "display_data"
    }
   ],
   "source": [
    "# part e\n",
    "min(test_MSE)"
   ]
  },
  {
   "cell_type": "code",
   "execution_count": 36,
   "id": "f1afd55c",
   "metadata": {},
   "outputs": [
    {
     "data": {
      "text/html": [
       "0.603743624073462"
      ],
      "text/latex": [
       "0.603743624073462"
      ],
      "text/markdown": [
       "0.603743624073462"
      ],
      "text/plain": [
       "[1] 0.6037436"
      ]
     },
     "metadata": {},
     "output_type": "display_data"
    }
   ],
   "source": [
    "linear_reg <- lm(Salary ~ ., data = train_df)\n",
    "\n",
    "pred_linear <- predict(linear_reg, newdata = test_df)\n",
    "\n",
    "MSE <- mean((pred_linear - test_df$Salary) ^ 2) \n",
    "MSE"
   ]
  },
  {
   "cell_type": "code",
   "execution_count": 37,
   "id": "14c9a8e7",
   "metadata": {},
   "outputs": [
    {
     "name": "stderr",
     "output_type": "stream",
     "text": [
      "Loading required package: Matrix\n",
      "\n",
      "\n",
      "Attaching package: 'Matrix'\n",
      "\n",
      "\n",
      "The following objects are masked from 'package:tidyr':\n",
      "\n",
      "    expand, pack, unpack\n",
      "\n",
      "\n",
      "Loaded glmnet 4.1-2\n",
      "\n"
     ]
    },
    {
     "data": {
      "text/html": [
       "0.597106107528779"
      ],
      "text/latex": [
       "0.597106107528779"
      ],
      "text/markdown": [
       "0.597106107528779"
      ],
      "text/plain": [
       "[1] 0.5971061"
      ]
     },
     "metadata": {},
     "output_type": "display_data"
    }
   ],
   "source": [
    "library(glmnet)\n",
    "X_train <- model.matrix(Salary ~ ., data = train_df)\n",
    "y_train <- train_df$Salary\n",
    "\n",
    "X_test <- model.matrix(Salary ~ ., data = test_df)\n",
    "\n",
    "lasso_mod <- glmnet(X_train, y_train, alpha = 1)\n",
    "\n",
    "lasso_pred <- predict(lasso_mod, s = 0.01, newx = X_test)\n",
    "\n",
    "MSE<-mean((lasso_pred - test_df$Salary)^2)\n",
    "MSE"
   ]
  },
  {
   "cell_type": "code",
   "execution_count": 38,
   "id": "60f9355c",
   "metadata": {},
   "outputs": [
    {
     "data": {
      "text/html": [
       "<table class=\"dataframe\">\n",
       "<caption>A data.frame: 19 × 2</caption>\n",
       "<thead>\n",
       "\t<tr><th></th><th scope=col>var</th><th scope=col>rel.inf</th></tr>\n",
       "\t<tr><th></th><th scope=col>&lt;chr&gt;</th><th scope=col>&lt;dbl&gt;</th></tr>\n",
       "</thead>\n",
       "<tbody>\n",
       "\t<tr><th scope=row>CHits</th><td>CHits    </td><td>24.7695281</td></tr>\n",
       "\t<tr><th scope=row>CAtBat</th><td>CAtBat   </td><td>14.1422867</td></tr>\n",
       "\t<tr><th scope=row>CRBI</th><td>CRBI     </td><td> 9.8414573</td></tr>\n",
       "\t<tr><th scope=row>PutOuts</th><td>PutOuts  </td><td> 6.4910083</td></tr>\n",
       "\t<tr><th scope=row>Walks</th><td>Walks    </td><td> 5.9776565</td></tr>\n",
       "\t<tr><th scope=row>HmRun</th><td>HmRun    </td><td> 4.6550050</td></tr>\n",
       "\t<tr><th scope=row>AtBat</th><td>AtBat    </td><td> 4.2128411</td></tr>\n",
       "\t<tr><th scope=row>CHmRun</th><td>CHmRun   </td><td> 4.1331843</td></tr>\n",
       "\t<tr><th scope=row>CWalks</th><td>CWalks   </td><td> 4.0764748</td></tr>\n",
       "\t<tr><th scope=row>Runs</th><td>Runs     </td><td> 4.0398729</td></tr>\n",
       "\t<tr><th scope=row>Assists</th><td>Assists  </td><td> 3.6523792</td></tr>\n",
       "\t<tr><th scope=row>Errors</th><td>Errors   </td><td> 3.4068947</td></tr>\n",
       "\t<tr><th scope=row>Hits</th><td>Hits     </td><td> 2.8173414</td></tr>\n",
       "\t<tr><th scope=row>CRuns</th><td>CRuns    </td><td> 2.3627200</td></tr>\n",
       "\t<tr><th scope=row>RBI</th><td>RBI      </td><td> 2.2038733</td></tr>\n",
       "\t<tr><th scope=row>Years</th><td>Years    </td><td> 1.8856405</td></tr>\n",
       "\t<tr><th scope=row>League</th><td>League   </td><td> 0.5659706</td></tr>\n",
       "\t<tr><th scope=row>Division</th><td>Division </td><td> 0.3922918</td></tr>\n",
       "\t<tr><th scope=row>NewLeague</th><td>NewLeague</td><td> 0.3735733</td></tr>\n",
       "</tbody>\n",
       "</table>\n"
      ],
      "text/latex": [
       "A data.frame: 19 × 2\n",
       "\\begin{tabular}{r|ll}\n",
       "  & var & rel.inf\\\\\n",
       "  & <chr> & <dbl>\\\\\n",
       "\\hline\n",
       "\tCHits & CHits     & 24.7695281\\\\\n",
       "\tCAtBat & CAtBat    & 14.1422867\\\\\n",
       "\tCRBI & CRBI      &  9.8414573\\\\\n",
       "\tPutOuts & PutOuts   &  6.4910083\\\\\n",
       "\tWalks & Walks     &  5.9776565\\\\\n",
       "\tHmRun & HmRun     &  4.6550050\\\\\n",
       "\tAtBat & AtBat     &  4.2128411\\\\\n",
       "\tCHmRun & CHmRun    &  4.1331843\\\\\n",
       "\tCWalks & CWalks    &  4.0764748\\\\\n",
       "\tRuns & Runs      &  4.0398729\\\\\n",
       "\tAssists & Assists   &  3.6523792\\\\\n",
       "\tErrors & Errors    &  3.4068947\\\\\n",
       "\tHits & Hits      &  2.8173414\\\\\n",
       "\tCRuns & CRuns     &  2.3627200\\\\\n",
       "\tRBI & RBI       &  2.2038733\\\\\n",
       "\tYears & Years     &  1.8856405\\\\\n",
       "\tLeague & League    &  0.5659706\\\\\n",
       "\tDivision & Division  &  0.3922918\\\\\n",
       "\tNewLeague & NewLeague &  0.3735733\\\\\n",
       "\\end{tabular}\n"
      ],
      "text/markdown": [
       "\n",
       "A data.frame: 19 × 2\n",
       "\n",
       "| <!--/--> | var &lt;chr&gt; | rel.inf &lt;dbl&gt; |\n",
       "|---|---|---|\n",
       "| CHits | CHits     | 24.7695281 |\n",
       "| CAtBat | CAtBat    | 14.1422867 |\n",
       "| CRBI | CRBI      |  9.8414573 |\n",
       "| PutOuts | PutOuts   |  6.4910083 |\n",
       "| Walks | Walks     |  5.9776565 |\n",
       "| HmRun | HmRun     |  4.6550050 |\n",
       "| AtBat | AtBat     |  4.2128411 |\n",
       "| CHmRun | CHmRun    |  4.1331843 |\n",
       "| CWalks | CWalks    |  4.0764748 |\n",
       "| Runs | Runs      |  4.0398729 |\n",
       "| Assists | Assists   |  3.6523792 |\n",
       "| Errors | Errors    |  3.4068947 |\n",
       "| Hits | Hits      |  2.8173414 |\n",
       "| CRuns | CRuns     |  2.3627200 |\n",
       "| RBI | RBI       |  2.2038733 |\n",
       "| Years | Years     |  1.8856405 |\n",
       "| League | League    |  0.5659706 |\n",
       "| Division | Division  |  0.3922918 |\n",
       "| NewLeague | NewLeague |  0.3735733 |\n",
       "\n"
      ],
      "text/plain": [
       "          var       rel.inf   \n",
       "CHits     CHits     24.7695281\n",
       "CAtBat    CAtBat    14.1422867\n",
       "CRBI      CRBI       9.8414573\n",
       "PutOuts   PutOuts    6.4910083\n",
       "Walks     Walks      5.9776565\n",
       "HmRun     HmRun      4.6550050\n",
       "AtBat     AtBat      4.2128411\n",
       "CHmRun    CHmRun     4.1331843\n",
       "CWalks    CWalks     4.0764748\n",
       "Runs      Runs       4.0398729\n",
       "Assists   Assists    3.6523792\n",
       "Errors    Errors     3.4068947\n",
       "Hits      Hits       2.8173414\n",
       "CRuns     CRuns      2.3627200\n",
       "RBI       RBI        2.2038733\n",
       "Years     Years      1.8856405\n",
       "League    League     0.5659706\n",
       "Division  Division   0.3922918\n",
       "NewLeague NewLeague  0.3735733"
      ]
     },
     "metadata": {},
     "output_type": "display_data"
    },
    {
     "data": {
      "image/png": "[encoded data removed]",
      "text/plain": [
       "plot without title"
      ]
     },
     "metadata": {
      "image/png": {
       "height": 360,
       "width": 900
      }
     },
     "output_type": "display_data"
    }
   ],
   "source": [
    "#part f\n",
    "\n",
    "set.seed(3)\n",
    "boosttree <- gbm(Salary ~ ., data=train_df, distribution='gaussian',\n",
    "                    n.trees=1000, interaction.depth=4, shrinkage=min(test_MSE))\n",
    "\n",
    "summary(boosttree)"
   ]
  },
  {
   "cell_type": "code",
   "execution_count": 39,
   "id": "379e0552",
   "metadata": {},
   "outputs": [
    {
     "data": {
      "text/plain": [
       "\n",
       "Call:\n",
       " randomForest(formula = Salary ~ ., data = train_df, mtry = 6,      importance = TRUE) \n",
       "               Type of random forest: regression\n",
       "                     Number of trees: 500\n",
       "No. of variables tried at each split: 6\n",
       "\n",
       "          Mean of squared residuals: 0.1931961\n",
       "                    % Var explained: 73.97"
      ]
     },
     "metadata": {},
     "output_type": "display_data"
    },
    {
     "name": "stdout",
     "output_type": "stream",
     "text": [
      "[1] 0.2507402\n"
     ]
    }
   ],
   "source": [
    "# part g\n",
    "\n",
    "# Fit random forests model\n",
    "set.seed(1)\n",
    "md_rf <- randomForest(Salary ~ ., data=train_df, mtry=6, importance = TRUE)\n",
    "md_rf\n",
    "\n",
    "bagging_pred <- predict(md_rf, test_df)\n",
    "\n",
    "bagging_mse <- mean((bagging_pred - test_df$Salary)^2)\n",
    "\n",
    "print(bagging_mse)"
   ]
  }
 ],
 "metadata": {
  "kernelspec": {
   "display_name": "R",
   "language": "R",
   "name": "ir"
  },
  "language_info": {
   "codemirror_mode": "r",
   "file_extension": ".r",
   "mimetype": "text/x-r-source",
   "name": "R",
   "pygments_lexer": "r",
   "version": "4.0.5"
  }
 },
 "nbformat": 4,
 "nbformat_minor": 5
}
