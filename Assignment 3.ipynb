{
 "cells": [
  {
   "cell_type": "markdown",
   "id": "e87233aa",
   "metadata": {},
   "source": [
    "# CHAPTER 5\n",
    "\n",
    "# Question 3\n",
    "\n",
    "## a.\n",
    "### The approach involves randomly dividing the set of observation into k groups of approximately equal size. The first fold acts as the validation set and the method is fit on k-1 folds. The mean squared error is calculated for each folds resulting MSE1, MSE2,....,MSEk. The test error is calculated by averaging these MSE values of each folds or groups.\n",
    "\n",
    "## b.\n",
    "### (i). In the validation set approach, the test error can be highly variable. Only a subset of observations are used to train the model in validation approach. Since statistical methods tend to perform worse when trained on fewer observations, this suggests that the validation set error rate tend to overestimate the test error when the model is fit on the entire data set.\n",
    "### (ii). LOOCV is a special case of k-fold CV in which k is set to n. So it requires fitting the statistical learning method n times. This is computationally expensive when compared to k-fold. Some statistical learning methods have computationally intensive fitting procedures and so performing LOOCV may pose computational problems when n is extremely high. Whereas in K- fold CV when k is set to 10 , it requires fitting the method only 10 times.\n"
   ]
  },
  {
   "cell_type": "markdown",
   "id": "cf462dd9",
   "metadata": {},
   "source": [
    "# Question 8\n",
    "\n",
    "## a."
   ]
  },
  {
   "cell_type": "code",
   "execution_count": 1,
   "id": "3911ec5b",
   "metadata": {},
   "outputs": [],
   "source": [
    "set.seed(1)\n",
    "x = rnorm(100)\n",
    "y = x-2*x^2+rnorm(100)"
   ]
  },
  {
   "cell_type": "markdown",
   "id": "4293aefe",
   "metadata": {},
   "source": [
    "Here n = 100, p = 2. \n",
    "Equation as follows,\n",
    "                        Y = X-(2* X^2) + ε\n",
    "                        \n",
    "## b."
   ]
  },
  {
   "cell_type": "code",
   "execution_count": 2,
   "id": "f8426878",
   "metadata": {},
   "outputs": [
    {
     "data": {
      "image/png": "[encoded data removed]",
      "text/plain": [
       "plot without title"
      ]
     },
     "metadata": {
      "image/png": {
       "height": 420,
       "width": 420
      }
     },
     "output_type": "display_data"
    }
   ],
   "source": [
    "plot(x,y)"
   ]
  },
  {
   "cell_type": "markdown",
   "id": "1464e914",
   "metadata": {},
   "source": [
    "I can see the curved relationship between X and Y\n",
    "\n",
    "## c."
   ]
  },
  {
   "cell_type": "code",
   "execution_count": 3,
   "id": "fad2c7eb",
   "metadata": {},
   "outputs": [
    {
     "data": {
      "text/html": [
       "<style>\n",
       ".list-inline {list-style: none; margin:0; padding: 0}\n",
       ".list-inline>li {display: inline-block}\n",
       ".list-inline>li:not(:last-child)::after {content: \"\\00b7\"; padding: 0 .5ex}\n",
       "</style>\n",
       "<ol class=list-inline><li>7.28816160667281</li><li>7.2847441154693</li></ol>\n"
      ],
      "text/latex": [
       "\\begin{enumerate*}\n",
       "\\item 7.28816160667281\n",
       "\\item 7.2847441154693\n",
       "\\end{enumerate*}\n"
      ],
      "text/markdown": [
       "1. 7.28816160667281\n",
       "2. 7.2847441154693\n",
       "\n",
       "\n"
      ],
      "text/plain": [
       "[1] 7.288162 7.284744"
      ]
     },
     "metadata": {},
     "output_type": "display_data"
    }
   ],
   "source": [
    "library(boot)\n",
    "set.seed(100)\n",
    "data <- data.frame(x,y)\n",
    "fit_1 <- glm(y~x)\n",
    "cv.glm(data, fit_1)$delta"
   ]
  },
  {
   "cell_type": "code",
   "execution_count": 4,
   "id": "ddc4d306",
   "metadata": {},
   "outputs": [
    {
     "data": {
      "text/html": [
       "<style>\n",
       ".list-inline {list-style: none; margin:0; padding: 0}\n",
       ".list-inline>li {display: inline-block}\n",
       ".list-inline>li:not(:last-child)::after {content: \"\\00b7\"; padding: 0 .5ex}\n",
       "</style>\n",
       "<ol class=list-inline><li>0.937423637615552</li><li>0.937178917181123</li></ol>\n"
      ],
      "text/latex": [
       "\\begin{enumerate*}\n",
       "\\item 0.937423637615552\n",
       "\\item 0.937178917181123\n",
       "\\end{enumerate*}\n"
      ],
      "text/markdown": [
       "1. 0.937423637615552\n",
       "2. 0.937178917181123\n",
       "\n",
       "\n"
      ],
      "text/plain": [
       "[1] 0.9374236 0.9371789"
      ]
     },
     "metadata": {},
     "output_type": "display_data"
    }
   ],
   "source": [
    "fit_2 <- glm(y~poly(x,2))\n",
    "cv.glm(data, fit_2)$delta"
   ]
  },
  {
   "cell_type": "code",
   "execution_count": 5,
   "id": "3133896c",
   "metadata": {},
   "outputs": [
    {
     "data": {
      "text/html": [
       "<style>\n",
       ".list-inline {list-style: none; margin:0; padding: 0}\n",
       ".list-inline>li {display: inline-block}\n",
       ".list-inline>li:not(:last-child)::after {content: \"\\00b7\"; padding: 0 .5ex}\n",
       "</style>\n",
       "<ol class=list-inline><li>0.956621830108939</li><li>0.956253813731321</li></ol>\n"
      ],
      "text/latex": [
       "\\begin{enumerate*}\n",
       "\\item 0.956621830108939\n",
       "\\item 0.956253813731321\n",
       "\\end{enumerate*}\n"
      ],
      "text/markdown": [
       "1. 0.956621830108939\n",
       "2. 0.956253813731321\n",
       "\n",
       "\n"
      ],
      "text/plain": [
       "[1] 0.9566218 0.9562538"
      ]
     },
     "metadata": {},
     "output_type": "display_data"
    }
   ],
   "source": [
    "fit_3 <- glm(y~poly(x,3))\n",
    "cv.glm(data, fit_3)$delta"
   ]
  },
  {
   "cell_type": "code",
   "execution_count": 6,
   "id": "3158a05e",
   "metadata": {},
   "outputs": [
    {
     "data": {
      "text/html": [
       "<style>\n",
       ".list-inline {list-style: none; margin:0; padding: 0}\n",
       ".list-inline>li {display: inline-block}\n",
       ".list-inline>li:not(:last-child)::after {content: \"\\00b7\"; padding: 0 .5ex}\n",
       "</style>\n",
       "<ol class=list-inline><li>0.953904892744804</li><li>0.953445283156601</li></ol>\n"
      ],
      "text/latex": [
       "\\begin{enumerate*}\n",
       "\\item 0.953904892744804\n",
       "\\item 0.953445283156601\n",
       "\\end{enumerate*}\n"
      ],
      "text/markdown": [
       "1. 0.953904892744804\n",
       "2. 0.953445283156601\n",
       "\n",
       "\n"
      ],
      "text/plain": [
       "[1] 0.9539049 0.9534453"
      ]
     },
     "metadata": {},
     "output_type": "display_data"
    }
   ],
   "source": [
    "fit_4 <- glm(y~poly(x,4))\n",
    "cv.glm(data, fit_4)$delta"
   ]
  },
  {
   "cell_type": "markdown",
   "id": "7749690f",
   "metadata": {},
   "source": [
    "## d."
   ]
  },
  {
   "cell_type": "code",
   "execution_count": 7,
   "id": "4950e574",
   "metadata": {},
   "outputs": [
    {
     "data": {
      "text/html": [
       "<style>\n",
       ".list-inline {list-style: none; margin:0; padding: 0}\n",
       ".list-inline>li {display: inline-block}\n",
       ".list-inline>li:not(:last-child)::after {content: \"\\00b7\"; padding: 0 .5ex}\n",
       "</style>\n",
       "<ol class=list-inline><li>7.28816160667281</li><li>7.28474411546929</li></ol>\n"
      ],
      "text/latex": [
       "\\begin{enumerate*}\n",
       "\\item 7.28816160667281\n",
       "\\item 7.28474411546929\n",
       "\\end{enumerate*}\n"
      ],
      "text/markdown": [
       "1. 7.28816160667281\n",
       "2. 7.28474411546929\n",
       "\n",
       "\n"
      ],
      "text/plain": [
       "[1] 7.288162 7.284744"
      ]
     },
     "metadata": {},
     "output_type": "display_data"
    }
   ],
   "source": [
    "set.seed(150)\n",
    "data <- data.frame(x,y)\n",
    "fit_1 <- glm(y~x)\n",
    "cv.glm(data, fit_1)$delta"
   ]
  },
  {
   "cell_type": "code",
   "execution_count": 8,
   "id": "a5d67545",
   "metadata": {},
   "outputs": [
    {
     "data": {
      "text/html": [
       "<style>\n",
       ".list-inline {list-style: none; margin:0; padding: 0}\n",
       ".list-inline>li {display: inline-block}\n",
       ".list-inline>li:not(:last-child)::after {content: \"\\00b7\"; padding: 0 .5ex}\n",
       "</style>\n",
       "<ol class=list-inline><li>0.937423637615552</li><li>0.937178917181123</li></ol>\n"
      ],
      "text/latex": [
       "\\begin{enumerate*}\n",
       "\\item 0.937423637615552\n",
       "\\item 0.937178917181123\n",
       "\\end{enumerate*}\n"
      ],
      "text/markdown": [
       "1. 0.937423637615552\n",
       "2. 0.937178917181123\n",
       "\n",
       "\n"
      ],
      "text/plain": [
       "[1] 0.9374236 0.9371789"
      ]
     },
     "metadata": {},
     "output_type": "display_data"
    }
   ],
   "source": [
    "fit_2 <- glm(y~poly(x,2))\n",
    "cv.glm(data, fit_2)$delta"
   ]
  },
  {
   "cell_type": "code",
   "execution_count": 9,
   "id": "19bbb47e",
   "metadata": {},
   "outputs": [
    {
     "data": {
      "text/html": [
       "<style>\n",
       ".list-inline {list-style: none; margin:0; padding: 0}\n",
       ".list-inline>li {display: inline-block}\n",
       ".list-inline>li:not(:last-child)::after {content: \"\\00b7\"; padding: 0 .5ex}\n",
       "</style>\n",
       "<ol class=list-inline><li>0.95662183010894</li><li>0.956253813731322</li></ol>\n"
      ],
      "text/latex": [
       "\\begin{enumerate*}\n",
       "\\item 0.95662183010894\n",
       "\\item 0.956253813731322\n",
       "\\end{enumerate*}\n"
      ],
      "text/markdown": [
       "1. 0.95662183010894\n",
       "2. 0.956253813731322\n",
       "\n",
       "\n"
      ],
      "text/plain": [
       "[1] 0.9566218 0.9562538"
      ]
     },
     "metadata": {},
     "output_type": "display_data"
    }
   ],
   "source": [
    "fit_3 <- glm(y~poly(x,3))\n",
    "cv.glm(data, fit_3)$delta"
   ]
  },
  {
   "cell_type": "code",
   "execution_count": 10,
   "id": "a166815b",
   "metadata": {},
   "outputs": [
    {
     "data": {
      "text/html": [
       "<style>\n",
       ".list-inline {list-style: none; margin:0; padding: 0}\n",
       ".list-inline>li {display: inline-block}\n",
       ".list-inline>li:not(:last-child)::after {content: \"\\00b7\"; padding: 0 .5ex}\n",
       "</style>\n",
       "<ol class=list-inline><li>0.953904892744803</li><li>0.9534452831566</li></ol>\n"
      ],
      "text/latex": [
       "\\begin{enumerate*}\n",
       "\\item 0.953904892744803\n",
       "\\item 0.9534452831566\n",
       "\\end{enumerate*}\n"
      ],
      "text/markdown": [
       "1. 0.953904892744803\n",
       "2. 0.9534452831566\n",
       "\n",
       "\n"
      ],
      "text/plain": [
       "[1] 0.9539049 0.9534453"
      ]
     },
     "metadata": {},
     "output_type": "display_data"
    }
   ],
   "source": [
    "fit_4 <- glm(y~poly(x,4))\n",
    "cv.glm(data, fit_4)$delta"
   ]
  },
  {
   "cell_type": "markdown",
   "id": "066ead94",
   "metadata": {},
   "source": [
    "results are same since the observations are evaluated n times in LOOCV"
   ]
  },
  {
   "cell_type": "markdown",
   "id": "1a7208e7",
   "metadata": {},
   "source": [
    "## e."
   ]
  },
  {
   "cell_type": "markdown",
   "id": "7c2802d8",
   "metadata": {},
   "source": [
    "The second model, i.e polynomial 2 has the least error when compared to other models. We expected this because we simulated the data using quadratic equation.\n",
    "\n",
    "## f."
   ]
  },
  {
   "cell_type": "code",
   "execution_count": 11,
   "id": "99a33f5f",
   "metadata": {},
   "outputs": [
    {
     "data": {
      "text/plain": [
       "\n",
       "Call:\n",
       "glm(formula = y ~ x)\n",
       "\n",
       "Deviance Residuals: \n",
       "    Min       1Q   Median       3Q      Max  \n",
       "-9.5161  -0.6800   0.6812   1.5491   3.8183  \n",
       "\n",
       "Coefficients:\n",
       "            Estimate Std. Error t value Pr(>|t|)    \n",
       "(Intercept)  -1.6254     0.2619  -6.205 1.31e-08 ***\n",
       "x             0.6925     0.2909   2.380   0.0192 *  \n",
       "---\n",
       "Signif. codes:  0 '***' 0.001 '**' 0.01 '*' 0.05 '.' 0.1 ' ' 1\n",
       "\n",
       "(Dispersion parameter for gaussian family taken to be 6.760719)\n",
       "\n",
       "    Null deviance: 700.85  on 99  degrees of freedom\n",
       "Residual deviance: 662.55  on 98  degrees of freedom\n",
       "AIC: 478.88\n",
       "\n",
       "Number of Fisher Scoring iterations: 2\n"
      ]
     },
     "metadata": {},
     "output_type": "display_data"
    }
   ],
   "source": [
    "summary(fit_1)"
   ]
  },
  {
   "cell_type": "code",
   "execution_count": 12,
   "id": "e95f2ec4",
   "metadata": {},
   "outputs": [
    {
     "data": {
      "text/plain": [
       "\n",
       "Call:\n",
       "glm(formula = y ~ poly(x, 2))\n",
       "\n",
       "Deviance Residuals: \n",
       "    Min       1Q   Median       3Q      Max  \n",
       "-1.9650  -0.6254  -0.1288   0.5803   2.2700  \n",
       "\n",
       "Coefficients:\n",
       "            Estimate Std. Error t value Pr(>|t|)    \n",
       "(Intercept)  -1.5500     0.0958  -16.18  < 2e-16 ***\n",
       "poly(x, 2)1   6.1888     0.9580    6.46 4.18e-09 ***\n",
       "poly(x, 2)2 -23.9483     0.9580  -25.00  < 2e-16 ***\n",
       "---\n",
       "Signif. codes:  0 '***' 0.001 '**' 0.01 '*' 0.05 '.' 0.1 ' ' 1\n",
       "\n",
       "(Dispersion parameter for gaussian family taken to be 0.9178258)\n",
       "\n",
       "    Null deviance: 700.852  on 99  degrees of freedom\n",
       "Residual deviance:  89.029  on 97  degrees of freedom\n",
       "AIC: 280.17\n",
       "\n",
       "Number of Fisher Scoring iterations: 2\n"
      ]
     },
     "metadata": {},
     "output_type": "display_data"
    }
   ],
   "source": [
    "summary(fit_2)"
   ]
  },
  {
   "cell_type": "code",
   "execution_count": 13,
   "id": "441354f9",
   "metadata": {},
   "outputs": [
    {
     "data": {
      "text/plain": [
       "\n",
       "Call:\n",
       "glm(formula = y ~ poly(x, 3))\n",
       "\n",
       "Deviance Residuals: \n",
       "    Min       1Q   Median       3Q      Max  \n",
       "-1.9765  -0.6302  -0.1227   0.5545   2.2843  \n",
       "\n",
       "Coefficients:\n",
       "             Estimate Std. Error t value Pr(>|t|)    \n",
       "(Intercept)  -1.55002    0.09626 -16.102  < 2e-16 ***\n",
       "poly(x, 3)1   6.18883    0.96263   6.429 4.97e-09 ***\n",
       "poly(x, 3)2 -23.94830    0.96263 -24.878  < 2e-16 ***\n",
       "poly(x, 3)3   0.26411    0.96263   0.274    0.784    \n",
       "---\n",
       "Signif. codes:  0 '***' 0.001 '**' 0.01 '*' 0.05 '.' 0.1 ' ' 1\n",
       "\n",
       "(Dispersion parameter for gaussian family taken to be 0.9266599)\n",
       "\n",
       "    Null deviance: 700.852  on 99  degrees of freedom\n",
       "Residual deviance:  88.959  on 96  degrees of freedom\n",
       "AIC: 282.09\n",
       "\n",
       "Number of Fisher Scoring iterations: 2\n"
      ]
     },
     "metadata": {},
     "output_type": "display_data"
    }
   ],
   "source": [
    "summary(fit_3)"
   ]
  },
  {
   "cell_type": "code",
   "execution_count": 14,
   "id": "eba8b700",
   "metadata": {},
   "outputs": [
    {
     "data": {
      "text/plain": [
       "\n",
       "Call:\n",
       "glm(formula = y ~ poly(x, 4))\n",
       "\n",
       "Deviance Residuals: \n",
       "    Min       1Q   Median       3Q      Max  \n",
       "-2.0550  -0.6212  -0.1567   0.5952   2.2267  \n",
       "\n",
       "Coefficients:\n",
       "             Estimate Std. Error t value Pr(>|t|)    \n",
       "(Intercept)  -1.55002    0.09591 -16.162  < 2e-16 ***\n",
       "poly(x, 4)1   6.18883    0.95905   6.453 4.59e-09 ***\n",
       "poly(x, 4)2 -23.94830    0.95905 -24.971  < 2e-16 ***\n",
       "poly(x, 4)3   0.26411    0.95905   0.275    0.784    \n",
       "poly(x, 4)4   1.25710    0.95905   1.311    0.193    \n",
       "---\n",
       "Signif. codes:  0 '***' 0.001 '**' 0.01 '*' 0.05 '.' 0.1 ' ' 1\n",
       "\n",
       "(Dispersion parameter for gaussian family taken to be 0.9197797)\n",
       "\n",
       "    Null deviance: 700.852  on 99  degrees of freedom\n",
       "Residual deviance:  87.379  on 95  degrees of freedom\n",
       "AIC: 282.3\n",
       "\n",
       "Number of Fisher Scoring iterations: 2\n"
      ]
     },
     "metadata": {},
     "output_type": "display_data"
    }
   ],
   "source": [
    "summary(fit_4)"
   ]
  },
  {
   "cell_type": "markdown",
   "id": "e6a8060e",
   "metadata": {},
   "source": [
    "By looking at the results it is clear that linear and quadratics equations/terms are more significant with less p values and the results agree with the CV results"
   ]
  },
  {
   "cell_type": "markdown",
   "id": "8a796af4",
   "metadata": {},
   "source": [
    "# CHAPTER 6\n",
    "\n",
    "# Question 1\n",
    "\n",
    "## a.\n",
    "The best subset models with K predictors will give the smallest training RSS.\n",
    "\n",
    "## b.\n",
    "This is not known as all the three models are selected based on least RSS score.\n",
    "\n",
    "## c.\n",
    "\n",
    "i. True\n",
    "ii. True\n",
    "iii. False\n",
    "iv. False\n",
    "v. False\n",
    "\n",
    "\n",
    "\n",
    "# Question 9"
   ]
  },
  {
   "cell_type": "code",
   "execution_count": 15,
   "id": "4eb38e9c",
   "metadata": {},
   "outputs": [
    {
     "data": {
      "text/plain": [
       " Private        Apps           Accept          Enroll       Top10perc    \n",
       " No :212   Min.   :   81   Min.   :   72   Min.   :  35   Min.   : 1.00  \n",
       " Yes:565   1st Qu.:  776   1st Qu.:  604   1st Qu.: 242   1st Qu.:15.00  \n",
       "           Median : 1558   Median : 1110   Median : 434   Median :23.00  \n",
       "           Mean   : 3002   Mean   : 2019   Mean   : 780   Mean   :27.56  \n",
       "           3rd Qu.: 3624   3rd Qu.: 2424   3rd Qu.: 902   3rd Qu.:35.00  \n",
       "           Max.   :48094   Max.   :26330   Max.   :6392   Max.   :96.00  \n",
       "   Top25perc      F.Undergrad     P.Undergrad         Outstate    \n",
       " Min.   :  9.0   Min.   :  139   Min.   :    1.0   Min.   : 2340  \n",
       " 1st Qu.: 41.0   1st Qu.:  992   1st Qu.:   95.0   1st Qu.: 7320  \n",
       " Median : 54.0   Median : 1707   Median :  353.0   Median : 9990  \n",
       " Mean   : 55.8   Mean   : 3700   Mean   :  855.3   Mean   :10441  \n",
       " 3rd Qu.: 69.0   3rd Qu.: 4005   3rd Qu.:  967.0   3rd Qu.:12925  \n",
       " Max.   :100.0   Max.   :31643   Max.   :21836.0   Max.   :21700  \n",
       "   Room.Board       Books           Personal         PhD        \n",
       " Min.   :1780   Min.   :  96.0   Min.   : 250   Min.   :  8.00  \n",
       " 1st Qu.:3597   1st Qu.: 470.0   1st Qu.: 850   1st Qu.: 62.00  \n",
       " Median :4200   Median : 500.0   Median :1200   Median : 75.00  \n",
       " Mean   :4358   Mean   : 549.4   Mean   :1341   Mean   : 72.66  \n",
       " 3rd Qu.:5050   3rd Qu.: 600.0   3rd Qu.:1700   3rd Qu.: 85.00  \n",
       " Max.   :8124   Max.   :2340.0   Max.   :6800   Max.   :103.00  \n",
       "    Terminal       S.F.Ratio      perc.alumni        Expend     \n",
       " Min.   : 24.0   Min.   : 2.50   Min.   : 0.00   Min.   : 3186  \n",
       " 1st Qu.: 71.0   1st Qu.:11.50   1st Qu.:13.00   1st Qu.: 6751  \n",
       " Median : 82.0   Median :13.60   Median :21.00   Median : 8377  \n",
       " Mean   : 79.7   Mean   :14.09   Mean   :22.74   Mean   : 9660  \n",
       " 3rd Qu.: 92.0   3rd Qu.:16.50   3rd Qu.:31.00   3rd Qu.:10830  \n",
       " Max.   :100.0   Max.   :39.80   Max.   :64.00   Max.   :56233  \n",
       "   Grad.Rate     \n",
       " Min.   : 10.00  \n",
       " 1st Qu.: 53.00  \n",
       " Median : 65.00  \n",
       " Mean   : 65.46  \n",
       " 3rd Qu.: 78.00  \n",
       " Max.   :118.00  "
      ]
     },
     "metadata": {},
     "output_type": "display_data"
    }
   ],
   "source": [
    "library(ISLR)\n",
    "attach(College)\n",
    "summary(College)"
   ]
  },
  {
   "cell_type": "code",
   "execution_count": 16,
   "id": "322884ed",
   "metadata": {},
   "outputs": [
    {
     "data": {
      "text/html": [
       "<table class=\"dataframe\">\n",
       "<caption>A data.frame: 6 × 18</caption>\n",
       "<thead>\n",
       "\t<tr><th></th><th scope=col>Private</th><th scope=col>Apps</th><th scope=col>Accept</th><th scope=col>Enroll</th><th scope=col>Top10perc</th><th scope=col>Top25perc</th><th scope=col>F.Undergrad</th><th scope=col>P.Undergrad</th><th scope=col>Outstate</th><th scope=col>Room.Board</th><th scope=col>Books</th><th scope=col>Personal</th><th scope=col>PhD</th><th scope=col>Terminal</th><th scope=col>S.F.Ratio</th><th scope=col>perc.alumni</th><th scope=col>Expend</th><th scope=col>Grad.Rate</th></tr>\n",
       "\t<tr><th></th><th scope=col>&lt;fct&gt;</th><th scope=col>&lt;dbl&gt;</th><th scope=col>&lt;dbl&gt;</th><th scope=col>&lt;dbl&gt;</th><th scope=col>&lt;dbl&gt;</th><th scope=col>&lt;dbl&gt;</th><th scope=col>&lt;dbl&gt;</th><th scope=col>&lt;dbl&gt;</th><th scope=col>&lt;dbl&gt;</th><th scope=col>&lt;dbl&gt;</th><th scope=col>&lt;dbl&gt;</th><th scope=col>&lt;dbl&gt;</th><th scope=col>&lt;dbl&gt;</th><th scope=col>&lt;dbl&gt;</th><th scope=col>&lt;dbl&gt;</th><th scope=col>&lt;dbl&gt;</th><th scope=col>&lt;dbl&gt;</th><th scope=col>&lt;dbl&gt;</th></tr>\n",
       "</thead>\n",
       "<tbody>\n",
       "\t<tr><th scope=row>Abilene Christian University</th><td>Yes</td><td>1660</td><td>1232</td><td>721</td><td>23</td><td>52</td><td>2885</td><td> 537</td><td> 7440</td><td>3300</td><td>450</td><td>2200</td><td>70</td><td>78</td><td>18.1</td><td>12</td><td> 7041</td><td>60</td></tr>\n",
       "\t<tr><th scope=row>Adelphi University</th><td>Yes</td><td>2186</td><td>1924</td><td>512</td><td>16</td><td>29</td><td>2683</td><td>1227</td><td>12280</td><td>6450</td><td>750</td><td>1500</td><td>29</td><td>30</td><td>12.2</td><td>16</td><td>10527</td><td>56</td></tr>\n",
       "\t<tr><th scope=row>Adrian College</th><td>Yes</td><td>1428</td><td>1097</td><td>336</td><td>22</td><td>50</td><td>1036</td><td>  99</td><td>11250</td><td>3750</td><td>400</td><td>1165</td><td>53</td><td>66</td><td>12.9</td><td>30</td><td> 8735</td><td>54</td></tr>\n",
       "\t<tr><th scope=row>Agnes Scott College</th><td>Yes</td><td> 417</td><td> 349</td><td>137</td><td>60</td><td>89</td><td> 510</td><td>  63</td><td>12960</td><td>5450</td><td>450</td><td> 875</td><td>92</td><td>97</td><td> 7.7</td><td>37</td><td>19016</td><td>59</td></tr>\n",
       "\t<tr><th scope=row>Alaska Pacific University</th><td>Yes</td><td> 193</td><td> 146</td><td> 55</td><td>16</td><td>44</td><td> 249</td><td> 869</td><td> 7560</td><td>4120</td><td>800</td><td>1500</td><td>76</td><td>72</td><td>11.9</td><td> 2</td><td>10922</td><td>15</td></tr>\n",
       "\t<tr><th scope=row>Albertson College</th><td>Yes</td><td> 587</td><td> 479</td><td>158</td><td>38</td><td>62</td><td> 678</td><td>  41</td><td>13500</td><td>3335</td><td>500</td><td> 675</td><td>67</td><td>73</td><td> 9.4</td><td>11</td><td> 9727</td><td>55</td></tr>\n",
       "</tbody>\n",
       "</table>\n"
      ],
      "text/latex": [
       "A data.frame: 6 × 18\n",
       "\\begin{tabular}{r|llllllllllllllllll}\n",
       "  & Private & Apps & Accept & Enroll & Top10perc & Top25perc & F.Undergrad & P.Undergrad & Outstate & Room.Board & Books & Personal & PhD & Terminal & S.F.Ratio & perc.alumni & Expend & Grad.Rate\\\\\n",
       "  & <fct> & <dbl> & <dbl> & <dbl> & <dbl> & <dbl> & <dbl> & <dbl> & <dbl> & <dbl> & <dbl> & <dbl> & <dbl> & <dbl> & <dbl> & <dbl> & <dbl> & <dbl>\\\\\n",
       "\\hline\n",
       "\tAbilene Christian University & Yes & 1660 & 1232 & 721 & 23 & 52 & 2885 &  537 &  7440 & 3300 & 450 & 2200 & 70 & 78 & 18.1 & 12 &  7041 & 60\\\\\n",
       "\tAdelphi University & Yes & 2186 & 1924 & 512 & 16 & 29 & 2683 & 1227 & 12280 & 6450 & 750 & 1500 & 29 & 30 & 12.2 & 16 & 10527 & 56\\\\\n",
       "\tAdrian College & Yes & 1428 & 1097 & 336 & 22 & 50 & 1036 &   99 & 11250 & 3750 & 400 & 1165 & 53 & 66 & 12.9 & 30 &  8735 & 54\\\\\n",
       "\tAgnes Scott College & Yes &  417 &  349 & 137 & 60 & 89 &  510 &   63 & 12960 & 5450 & 450 &  875 & 92 & 97 &  7.7 & 37 & 19016 & 59\\\\\n",
       "\tAlaska Pacific University & Yes &  193 &  146 &  55 & 16 & 44 &  249 &  869 &  7560 & 4120 & 800 & 1500 & 76 & 72 & 11.9 &  2 & 10922 & 15\\\\\n",
       "\tAlbertson College & Yes &  587 &  479 & 158 & 38 & 62 &  678 &   41 & 13500 & 3335 & 500 &  675 & 67 & 73 &  9.4 & 11 &  9727 & 55\\\\\n",
       "\\end{tabular}\n"
      ],
      "text/markdown": [
       "\n",
       "A data.frame: 6 × 18\n",
       "\n",
       "| <!--/--> | Private &lt;fct&gt; | Apps &lt;dbl&gt; | Accept &lt;dbl&gt; | Enroll &lt;dbl&gt; | Top10perc &lt;dbl&gt; | Top25perc &lt;dbl&gt; | F.Undergrad &lt;dbl&gt; | P.Undergrad &lt;dbl&gt; | Outstate &lt;dbl&gt; | Room.Board &lt;dbl&gt; | Books &lt;dbl&gt; | Personal &lt;dbl&gt; | PhD &lt;dbl&gt; | Terminal &lt;dbl&gt; | S.F.Ratio &lt;dbl&gt; | perc.alumni &lt;dbl&gt; | Expend &lt;dbl&gt; | Grad.Rate &lt;dbl&gt; |\n",
       "|---|---|---|---|---|---|---|---|---|---|---|---|---|---|---|---|---|---|---|\n",
       "| Abilene Christian University | Yes | 1660 | 1232 | 721 | 23 | 52 | 2885 |  537 |  7440 | 3300 | 450 | 2200 | 70 | 78 | 18.1 | 12 |  7041 | 60 |\n",
       "| Adelphi University | Yes | 2186 | 1924 | 512 | 16 | 29 | 2683 | 1227 | 12280 | 6450 | 750 | 1500 | 29 | 30 | 12.2 | 16 | 10527 | 56 |\n",
       "| Adrian College | Yes | 1428 | 1097 | 336 | 22 | 50 | 1036 |   99 | 11250 | 3750 | 400 | 1165 | 53 | 66 | 12.9 | 30 |  8735 | 54 |\n",
       "| Agnes Scott College | Yes |  417 |  349 | 137 | 60 | 89 |  510 |   63 | 12960 | 5450 | 450 |  875 | 92 | 97 |  7.7 | 37 | 19016 | 59 |\n",
       "| Alaska Pacific University | Yes |  193 |  146 |  55 | 16 | 44 |  249 |  869 |  7560 | 4120 | 800 | 1500 | 76 | 72 | 11.9 |  2 | 10922 | 15 |\n",
       "| Albertson College | Yes |  587 |  479 | 158 | 38 | 62 |  678 |   41 | 13500 | 3335 | 500 |  675 | 67 | 73 |  9.4 | 11 |  9727 | 55 |\n",
       "\n"
      ],
      "text/plain": [
       "                             Private Apps Accept Enroll Top10perc Top25perc\n",
       "Abilene Christian University Yes     1660 1232   721    23        52       \n",
       "Adelphi University           Yes     2186 1924   512    16        29       \n",
       "Adrian College               Yes     1428 1097   336    22        50       \n",
       "Agnes Scott College          Yes      417  349   137    60        89       \n",
       "Alaska Pacific University    Yes      193  146    55    16        44       \n",
       "Albertson College            Yes      587  479   158    38        62       \n",
       "                             F.Undergrad P.Undergrad Outstate Room.Board Books\n",
       "Abilene Christian University 2885         537         7440    3300       450  \n",
       "Adelphi University           2683        1227        12280    6450       750  \n",
       "Adrian College               1036          99        11250    3750       400  \n",
       "Agnes Scott College           510          63        12960    5450       450  \n",
       "Alaska Pacific University     249         869         7560    4120       800  \n",
       "Albertson College             678          41        13500    3335       500  \n",
       "                             Personal PhD Terminal S.F.Ratio perc.alumni Expend\n",
       "Abilene Christian University 2200     70  78       18.1      12           7041 \n",
       "Adelphi University           1500     29  30       12.2      16          10527 \n",
       "Adrian College               1165     53  66       12.9      30           8735 \n",
       "Agnes Scott College           875     92  97        7.7      37          19016 \n",
       "Alaska Pacific University    1500     76  72       11.9       2          10922 \n",
       "Albertson College             675     67  73        9.4      11           9727 \n",
       "                             Grad.Rate\n",
       "Abilene Christian University 60       \n",
       "Adelphi University           56       \n",
       "Adrian College               54       \n",
       "Agnes Scott College          59       \n",
       "Alaska Pacific University    15       \n",
       "Albertson College            55       "
      ]
     },
     "metadata": {},
     "output_type": "display_data"
    }
   ],
   "source": [
    "head(College)"
   ]
  },
  {
   "cell_type": "code",
   "execution_count": 17,
   "id": "862fdad2",
   "metadata": {},
   "outputs": [],
   "source": [
    "?College"
   ]
  },
  {
   "cell_type": "markdown",
   "id": "b6c2a6e2",
   "metadata": {},
   "source": [
    "## a."
   ]
  },
  {
   "cell_type": "code",
   "execution_count": 18,
   "id": "36549707",
   "metadata": {},
   "outputs": [],
   "source": [
    "smp_size <- floor(0.7 * nrow(College))\n",
    "\n",
    "set.seed(123)\n",
    "train_ind <- sample(seq_len(nrow(College)), size = smp_size)\n",
    "\n",
    "train <- College[train_ind, ]\n",
    "test <- College[-train_ind, ]"
   ]
  },
  {
   "cell_type": "code",
   "execution_count": 19,
   "id": "fb4cba6c",
   "metadata": {},
   "outputs": [
    {
     "data": {
      "text/html": [
       "<table class=\"dataframe\">\n",
       "<caption>A data.frame: 6 × 18</caption>\n",
       "<thead>\n",
       "\t<tr><th></th><th scope=col>Private</th><th scope=col>Apps</th><th scope=col>Accept</th><th scope=col>Enroll</th><th scope=col>Top10perc</th><th scope=col>Top25perc</th><th scope=col>F.Undergrad</th><th scope=col>P.Undergrad</th><th scope=col>Outstate</th><th scope=col>Room.Board</th><th scope=col>Books</th><th scope=col>Personal</th><th scope=col>PhD</th><th scope=col>Terminal</th><th scope=col>S.F.Ratio</th><th scope=col>perc.alumni</th><th scope=col>Expend</th><th scope=col>Grad.Rate</th></tr>\n",
       "\t<tr><th></th><th scope=col>&lt;fct&gt;</th><th scope=col>&lt;dbl&gt;</th><th scope=col>&lt;dbl&gt;</th><th scope=col>&lt;dbl&gt;</th><th scope=col>&lt;dbl&gt;</th><th scope=col>&lt;dbl&gt;</th><th scope=col>&lt;dbl&gt;</th><th scope=col>&lt;dbl&gt;</th><th scope=col>&lt;dbl&gt;</th><th scope=col>&lt;dbl&gt;</th><th scope=col>&lt;dbl&gt;</th><th scope=col>&lt;dbl&gt;</th><th scope=col>&lt;dbl&gt;</th><th scope=col>&lt;dbl&gt;</th><th scope=col>&lt;dbl&gt;</th><th scope=col>&lt;dbl&gt;</th><th scope=col>&lt;dbl&gt;</th><th scope=col>&lt;dbl&gt;</th></tr>\n",
       "</thead>\n",
       "<tbody>\n",
       "\t<tr><th scope=row>North Central College</th><td>Yes</td><td>1127</td><td> 884</td><td>308</td><td>30</td><td>64</td><td>1310</td><td>766</td><td>11718</td><td>7398</td><td>450</td><td>1800</td><td>73</td><td>87</td><td>16.4</td><td>33</td><td> 8871</td><td>76</td></tr>\n",
       "\t<tr><th scope=row>Queens College</th><td>Yes</td><td> 516</td><td> 392</td><td>154</td><td>32</td><td>62</td><td> 630</td><td>549</td><td>11020</td><td>4970</td><td>610</td><td>1900</td><td>73</td><td>75</td><td>14.0</td><td>36</td><td> 9315</td><td>58</td></tr>\n",
       "\t<tr><th scope=row>East Texas Baptist University</th><td>Yes</td><td> 379</td><td> 341</td><td>265</td><td>10</td><td>36</td><td>1050</td><td>151</td><td> 4950</td><td>2780</td><td>530</td><td>1500</td><td>62</td><td>62</td><td>15.7</td><td> 7</td><td> 5619</td><td>38</td></tr>\n",
       "\t<tr><th scope=row>Simpson College</th><td>Yes</td><td>1016</td><td> 872</td><td>300</td><td>27</td><td>57</td><td>1116</td><td>602</td><td>11250</td><td>4980</td><td>550</td><td>1400</td><td>66</td><td>73</td><td>15.8</td><td>36</td><td> 7411</td><td>70</td></tr>\n",
       "\t<tr><th scope=row>Eureka College</th><td>Yes</td><td> 560</td><td> 454</td><td>113</td><td>36</td><td>56</td><td> 484</td><td> 16</td><td>10955</td><td>3450</td><td>330</td><td> 670</td><td>62</td><td>87</td><td>10.6</td><td>31</td><td> 9552</td><td>53</td></tr>\n",
       "\t<tr><th scope=row>Clarkson University</th><td>Yes</td><td>2174</td><td>1953</td><td>557</td><td>35</td><td>68</td><td>2332</td><td> 53</td><td>15960</td><td>5580</td><td>700</td><td>1300</td><td>95</td><td>95</td><td>15.8</td><td>32</td><td>11659</td><td>77</td></tr>\n",
       "</tbody>\n",
       "</table>\n"
      ],
      "text/latex": [
       "A data.frame: 6 × 18\n",
       "\\begin{tabular}{r|llllllllllllllllll}\n",
       "  & Private & Apps & Accept & Enroll & Top10perc & Top25perc & F.Undergrad & P.Undergrad & Outstate & Room.Board & Books & Personal & PhD & Terminal & S.F.Ratio & perc.alumni & Expend & Grad.Rate\\\\\n",
       "  & <fct> & <dbl> & <dbl> & <dbl> & <dbl> & <dbl> & <dbl> & <dbl> & <dbl> & <dbl> & <dbl> & <dbl> & <dbl> & <dbl> & <dbl> & <dbl> & <dbl> & <dbl>\\\\\n",
       "\\hline\n",
       "\tNorth Central College & Yes & 1127 &  884 & 308 & 30 & 64 & 1310 & 766 & 11718 & 7398 & 450 & 1800 & 73 & 87 & 16.4 & 33 &  8871 & 76\\\\\n",
       "\tQueens College & Yes &  516 &  392 & 154 & 32 & 62 &  630 & 549 & 11020 & 4970 & 610 & 1900 & 73 & 75 & 14.0 & 36 &  9315 & 58\\\\\n",
       "\tEast Texas Baptist University & Yes &  379 &  341 & 265 & 10 & 36 & 1050 & 151 &  4950 & 2780 & 530 & 1500 & 62 & 62 & 15.7 &  7 &  5619 & 38\\\\\n",
       "\tSimpson College & Yes & 1016 &  872 & 300 & 27 & 57 & 1116 & 602 & 11250 & 4980 & 550 & 1400 & 66 & 73 & 15.8 & 36 &  7411 & 70\\\\\n",
       "\tEureka College & Yes &  560 &  454 & 113 & 36 & 56 &  484 &  16 & 10955 & 3450 & 330 &  670 & 62 & 87 & 10.6 & 31 &  9552 & 53\\\\\n",
       "\tClarkson University & Yes & 2174 & 1953 & 557 & 35 & 68 & 2332 &  53 & 15960 & 5580 & 700 & 1300 & 95 & 95 & 15.8 & 32 & 11659 & 77\\\\\n",
       "\\end{tabular}\n"
      ],
      "text/markdown": [
       "\n",
       "A data.frame: 6 × 18\n",
       "\n",
       "| <!--/--> | Private &lt;fct&gt; | Apps &lt;dbl&gt; | Accept &lt;dbl&gt; | Enroll &lt;dbl&gt; | Top10perc &lt;dbl&gt; | Top25perc &lt;dbl&gt; | F.Undergrad &lt;dbl&gt; | P.Undergrad &lt;dbl&gt; | Outstate &lt;dbl&gt; | Room.Board &lt;dbl&gt; | Books &lt;dbl&gt; | Personal &lt;dbl&gt; | PhD &lt;dbl&gt; | Terminal &lt;dbl&gt; | S.F.Ratio &lt;dbl&gt; | perc.alumni &lt;dbl&gt; | Expend &lt;dbl&gt; | Grad.Rate &lt;dbl&gt; |\n",
       "|---|---|---|---|---|---|---|---|---|---|---|---|---|---|---|---|---|---|---|\n",
       "| North Central College | Yes | 1127 |  884 | 308 | 30 | 64 | 1310 | 766 | 11718 | 7398 | 450 | 1800 | 73 | 87 | 16.4 | 33 |  8871 | 76 |\n",
       "| Queens College | Yes |  516 |  392 | 154 | 32 | 62 |  630 | 549 | 11020 | 4970 | 610 | 1900 | 73 | 75 | 14.0 | 36 |  9315 | 58 |\n",
       "| East Texas Baptist University | Yes |  379 |  341 | 265 | 10 | 36 | 1050 | 151 |  4950 | 2780 | 530 | 1500 | 62 | 62 | 15.7 |  7 |  5619 | 38 |\n",
       "| Simpson College | Yes | 1016 |  872 | 300 | 27 | 57 | 1116 | 602 | 11250 | 4980 | 550 | 1400 | 66 | 73 | 15.8 | 36 |  7411 | 70 |\n",
       "| Eureka College | Yes |  560 |  454 | 113 | 36 | 56 |  484 |  16 | 10955 | 3450 | 330 |  670 | 62 | 87 | 10.6 | 31 |  9552 | 53 |\n",
       "| Clarkson University | Yes | 2174 | 1953 | 557 | 35 | 68 | 2332 |  53 | 15960 | 5580 | 700 | 1300 | 95 | 95 | 15.8 | 32 | 11659 | 77 |\n",
       "\n"
      ],
      "text/plain": [
       "                              Private Apps Accept Enroll Top10perc Top25perc\n",
       "North Central College         Yes     1127  884   308    30        64       \n",
       "Queens College                Yes      516  392   154    32        62       \n",
       "East Texas Baptist University Yes      379  341   265    10        36       \n",
       "Simpson College               Yes     1016  872   300    27        57       \n",
       "Eureka College                Yes      560  454   113    36        56       \n",
       "Clarkson University           Yes     2174 1953   557    35        68       \n",
       "                              F.Undergrad P.Undergrad Outstate Room.Board Books\n",
       "North Central College         1310        766         11718    7398       450  \n",
       "Queens College                 630        549         11020    4970       610  \n",
       "East Texas Baptist University 1050        151          4950    2780       530  \n",
       "Simpson College               1116        602         11250    4980       550  \n",
       "Eureka College                 484         16         10955    3450       330  \n",
       "Clarkson University           2332         53         15960    5580       700  \n",
       "                              Personal PhD Terminal S.F.Ratio perc.alumni\n",
       "North Central College         1800     73  87       16.4      33         \n",
       "Queens College                1900     73  75       14.0      36         \n",
       "East Texas Baptist University 1500     62  62       15.7       7         \n",
       "Simpson College               1400     66  73       15.8      36         \n",
       "Eureka College                 670     62  87       10.6      31         \n",
       "Clarkson University           1300     95  95       15.8      32         \n",
       "                              Expend Grad.Rate\n",
       "North Central College          8871  76       \n",
       "Queens College                 9315  58       \n",
       "East Texas Baptist University  5619  38       \n",
       "Simpson College                7411  70       \n",
       "Eureka College                 9552  53       \n",
       "Clarkson University           11659  77       "
      ]
     },
     "metadata": {},
     "output_type": "display_data"
    },
    {
     "data": {
      "text/html": [
       "<table class=\"dataframe\">\n",
       "<caption>A data.frame: 6 × 18</caption>\n",
       "<thead>\n",
       "\t<tr><th></th><th scope=col>Private</th><th scope=col>Apps</th><th scope=col>Accept</th><th scope=col>Enroll</th><th scope=col>Top10perc</th><th scope=col>Top25perc</th><th scope=col>F.Undergrad</th><th scope=col>P.Undergrad</th><th scope=col>Outstate</th><th scope=col>Room.Board</th><th scope=col>Books</th><th scope=col>Personal</th><th scope=col>PhD</th><th scope=col>Terminal</th><th scope=col>S.F.Ratio</th><th scope=col>perc.alumni</th><th scope=col>Expend</th><th scope=col>Grad.Rate</th></tr>\n",
       "\t<tr><th></th><th scope=col>&lt;fct&gt;</th><th scope=col>&lt;dbl&gt;</th><th scope=col>&lt;dbl&gt;</th><th scope=col>&lt;dbl&gt;</th><th scope=col>&lt;dbl&gt;</th><th scope=col>&lt;dbl&gt;</th><th scope=col>&lt;dbl&gt;</th><th scope=col>&lt;dbl&gt;</th><th scope=col>&lt;dbl&gt;</th><th scope=col>&lt;dbl&gt;</th><th scope=col>&lt;dbl&gt;</th><th scope=col>&lt;dbl&gt;</th><th scope=col>&lt;dbl&gt;</th><th scope=col>&lt;dbl&gt;</th><th scope=col>&lt;dbl&gt;</th><th scope=col>&lt;dbl&gt;</th><th scope=col>&lt;dbl&gt;</th><th scope=col>&lt;dbl&gt;</th></tr>\n",
       "</thead>\n",
       "<tbody>\n",
       "\t<tr><th scope=row>Abilene Christian University</th><td>Yes</td><td>1660</td><td>1232</td><td>721</td><td>23</td><td>52</td><td>2885</td><td> 537</td><td> 7440</td><td>3300</td><td>450</td><td>2200</td><td>70</td><td>78</td><td>18.1</td><td>12</td><td> 7041</td><td> 60</td></tr>\n",
       "\t<tr><th scope=row>Adelphi University</th><td>Yes</td><td>2186</td><td>1924</td><td>512</td><td>16</td><td>29</td><td>2683</td><td>1227</td><td>12280</td><td>6450</td><td>750</td><td>1500</td><td>29</td><td>30</td><td>12.2</td><td>16</td><td>10527</td><td> 56</td></tr>\n",
       "\t<tr><th scope=row>Adrian College</th><td>Yes</td><td>1428</td><td>1097</td><td>336</td><td>22</td><td>50</td><td>1036</td><td>  99</td><td>11250</td><td>3750</td><td>400</td><td>1165</td><td>53</td><td>66</td><td>12.9</td><td>30</td><td> 8735</td><td> 54</td></tr>\n",
       "\t<tr><th scope=row>Agnes Scott College</th><td>Yes</td><td> 417</td><td> 349</td><td>137</td><td>60</td><td>89</td><td> 510</td><td>  63</td><td>12960</td><td>5450</td><td>450</td><td> 875</td><td>92</td><td>97</td><td> 7.7</td><td>37</td><td>19016</td><td> 59</td></tr>\n",
       "\t<tr><th scope=row>Albright College</th><td>Yes</td><td>1038</td><td> 839</td><td>227</td><td>30</td><td>63</td><td> 973</td><td> 306</td><td>15595</td><td>4400</td><td>300</td><td> 500</td><td>79</td><td>84</td><td>11.3</td><td>23</td><td>11644</td><td> 80</td></tr>\n",
       "\t<tr><th scope=row>Amherst College</th><td>Yes</td><td>4302</td><td> 992</td><td>418</td><td>83</td><td>96</td><td>1593</td><td>   5</td><td>19760</td><td>5300</td><td>660</td><td>1598</td><td>93</td><td>98</td><td> 8.4</td><td>63</td><td>21424</td><td>100</td></tr>\n",
       "</tbody>\n",
       "</table>\n"
      ],
      "text/latex": [
       "A data.frame: 6 × 18\n",
       "\\begin{tabular}{r|llllllllllllllllll}\n",
       "  & Private & Apps & Accept & Enroll & Top10perc & Top25perc & F.Undergrad & P.Undergrad & Outstate & Room.Board & Books & Personal & PhD & Terminal & S.F.Ratio & perc.alumni & Expend & Grad.Rate\\\\\n",
       "  & <fct> & <dbl> & <dbl> & <dbl> & <dbl> & <dbl> & <dbl> & <dbl> & <dbl> & <dbl> & <dbl> & <dbl> & <dbl> & <dbl> & <dbl> & <dbl> & <dbl> & <dbl>\\\\\n",
       "\\hline\n",
       "\tAbilene Christian University & Yes & 1660 & 1232 & 721 & 23 & 52 & 2885 &  537 &  7440 & 3300 & 450 & 2200 & 70 & 78 & 18.1 & 12 &  7041 &  60\\\\\n",
       "\tAdelphi University & Yes & 2186 & 1924 & 512 & 16 & 29 & 2683 & 1227 & 12280 & 6450 & 750 & 1500 & 29 & 30 & 12.2 & 16 & 10527 &  56\\\\\n",
       "\tAdrian College & Yes & 1428 & 1097 & 336 & 22 & 50 & 1036 &   99 & 11250 & 3750 & 400 & 1165 & 53 & 66 & 12.9 & 30 &  8735 &  54\\\\\n",
       "\tAgnes Scott College & Yes &  417 &  349 & 137 & 60 & 89 &  510 &   63 & 12960 & 5450 & 450 &  875 & 92 & 97 &  7.7 & 37 & 19016 &  59\\\\\n",
       "\tAlbright College & Yes & 1038 &  839 & 227 & 30 & 63 &  973 &  306 & 15595 & 4400 & 300 &  500 & 79 & 84 & 11.3 & 23 & 11644 &  80\\\\\n",
       "\tAmherst College & Yes & 4302 &  992 & 418 & 83 & 96 & 1593 &    5 & 19760 & 5300 & 660 & 1598 & 93 & 98 &  8.4 & 63 & 21424 & 100\\\\\n",
       "\\end{tabular}\n"
      ],
      "text/markdown": [
       "\n",
       "A data.frame: 6 × 18\n",
       "\n",
       "| <!--/--> | Private &lt;fct&gt; | Apps &lt;dbl&gt; | Accept &lt;dbl&gt; | Enroll &lt;dbl&gt; | Top10perc &lt;dbl&gt; | Top25perc &lt;dbl&gt; | F.Undergrad &lt;dbl&gt; | P.Undergrad &lt;dbl&gt; | Outstate &lt;dbl&gt; | Room.Board &lt;dbl&gt; | Books &lt;dbl&gt; | Personal &lt;dbl&gt; | PhD &lt;dbl&gt; | Terminal &lt;dbl&gt; | S.F.Ratio &lt;dbl&gt; | perc.alumni &lt;dbl&gt; | Expend &lt;dbl&gt; | Grad.Rate &lt;dbl&gt; |\n",
       "|---|---|---|---|---|---|---|---|---|---|---|---|---|---|---|---|---|---|---|\n",
       "| Abilene Christian University | Yes | 1660 | 1232 | 721 | 23 | 52 | 2885 |  537 |  7440 | 3300 | 450 | 2200 | 70 | 78 | 18.1 | 12 |  7041 |  60 |\n",
       "| Adelphi University | Yes | 2186 | 1924 | 512 | 16 | 29 | 2683 | 1227 | 12280 | 6450 | 750 | 1500 | 29 | 30 | 12.2 | 16 | 10527 |  56 |\n",
       "| Adrian College | Yes | 1428 | 1097 | 336 | 22 | 50 | 1036 |   99 | 11250 | 3750 | 400 | 1165 | 53 | 66 | 12.9 | 30 |  8735 |  54 |\n",
       "| Agnes Scott College | Yes |  417 |  349 | 137 | 60 | 89 |  510 |   63 | 12960 | 5450 | 450 |  875 | 92 | 97 |  7.7 | 37 | 19016 |  59 |\n",
       "| Albright College | Yes | 1038 |  839 | 227 | 30 | 63 |  973 |  306 | 15595 | 4400 | 300 |  500 | 79 | 84 | 11.3 | 23 | 11644 |  80 |\n",
       "| Amherst College | Yes | 4302 |  992 | 418 | 83 | 96 | 1593 |    5 | 19760 | 5300 | 660 | 1598 | 93 | 98 |  8.4 | 63 | 21424 | 100 |\n",
       "\n"
      ],
      "text/plain": [
       "                             Private Apps Accept Enroll Top10perc Top25perc\n",
       "Abilene Christian University Yes     1660 1232   721    23        52       \n",
       "Adelphi University           Yes     2186 1924   512    16        29       \n",
       "Adrian College               Yes     1428 1097   336    22        50       \n",
       "Agnes Scott College          Yes      417  349   137    60        89       \n",
       "Albright College             Yes     1038  839   227    30        63       \n",
       "Amherst College              Yes     4302  992   418    83        96       \n",
       "                             F.Undergrad P.Undergrad Outstate Room.Board Books\n",
       "Abilene Christian University 2885         537         7440    3300       450  \n",
       "Adelphi University           2683        1227        12280    6450       750  \n",
       "Adrian College               1036          99        11250    3750       400  \n",
       "Agnes Scott College           510          63        12960    5450       450  \n",
       "Albright College              973         306        15595    4400       300  \n",
       "Amherst College              1593           5        19760    5300       660  \n",
       "                             Personal PhD Terminal S.F.Ratio perc.alumni Expend\n",
       "Abilene Christian University 2200     70  78       18.1      12           7041 \n",
       "Adelphi University           1500     29  30       12.2      16          10527 \n",
       "Adrian College               1165     53  66       12.9      30           8735 \n",
       "Agnes Scott College           875     92  97        7.7      37          19016 \n",
       "Albright College              500     79  84       11.3      23          11644 \n",
       "Amherst College              1598     93  98        8.4      63          21424 \n",
       "                             Grad.Rate\n",
       "Abilene Christian University  60      \n",
       "Adelphi University            56      \n",
       "Adrian College                54      \n",
       "Agnes Scott College           59      \n",
       "Albright College              80      \n",
       "Amherst College              100      "
      ]
     },
     "metadata": {},
     "output_type": "display_data"
    }
   ],
   "source": [
    "head(train)\n",
    "head(test)"
   ]
  },
  {
   "cell_type": "markdown",
   "id": "74283aac",
   "metadata": {},
   "source": [
    "## b."
   ]
  },
  {
   "cell_type": "code",
   "execution_count": 20,
   "id": "c4bb2a54",
   "metadata": {},
   "outputs": [
    {
     "data": {
      "text/plain": [
       "\n",
       "Call:\n",
       "lm(formula = Apps ~ ., data = College)\n",
       "\n",
       "Residuals:\n",
       "    Min      1Q  Median      3Q     Max \n",
       "-4908.8  -430.2   -29.5   322.3  7852.5 \n",
       "\n",
       "Coefficients:\n",
       "              Estimate Std. Error t value Pr(>|t|)    \n",
       "(Intercept) -445.08413  408.32855  -1.090 0.276053    \n",
       "PrivateYes  -494.14897  137.81191  -3.586 0.000358 ***\n",
       "Accept         1.58581    0.04074  38.924  < 2e-16 ***\n",
       "Enroll        -0.88069    0.18596  -4.736 2.60e-06 ***\n",
       "Top10perc     49.92628    5.57824   8.950  < 2e-16 ***\n",
       "Top25perc    -14.23448    4.47914  -3.178 0.001543 ** \n",
       "F.Undergrad    0.05739    0.03271   1.754 0.079785 .  \n",
       "P.Undergrad    0.04445    0.03214   1.383 0.167114    \n",
       "Outstate      -0.08587    0.01906  -4.506 7.64e-06 ***\n",
       "Room.Board     0.15103    0.04829   3.127 0.001832 ** \n",
       "Books          0.02090    0.23841   0.088 0.930175    \n",
       "Personal       0.03110    0.06308   0.493 0.622060    \n",
       "PhD           -8.67850    4.63814  -1.871 0.061714 .  \n",
       "Terminal      -3.33066    5.09494  -0.654 0.513492    \n",
       "S.F.Ratio     15.38961   13.00622   1.183 0.237081    \n",
       "perc.alumni    0.17867    4.10230   0.044 0.965273    \n",
       "Expend         0.07790    0.01235   6.308 4.79e-10 ***\n",
       "Grad.Rate      8.66763    2.94893   2.939 0.003390 ** \n",
       "---\n",
       "Signif. codes:  0 '***' 0.001 '**' 0.01 '*' 0.05 '.' 0.1 ' ' 1\n",
       "\n",
       "Residual standard error: 1041 on 759 degrees of freedom\n",
       "Multiple R-squared:  0.9292,\tAdjusted R-squared:  0.9276 \n",
       "F-statistic: 585.9 on 17 and 759 DF,  p-value: < 2.2e-16\n"
      ]
     },
     "metadata": {},
     "output_type": "display_data"
    }
   ],
   "source": [
    "model_linear <- lm(Apps~., data = College)\n",
    "summary(model_linear)"
   ]
  },
  {
   "cell_type": "markdown",
   "id": "b66217eb",
   "metadata": {},
   "source": [
    "## Question 6"
   ]
  },
  {
   "cell_type": "code",
   "execution_count": 21,
   "id": "ccbefb70",
   "metadata": {},
   "outputs": [
    {
     "name": "stdout",
     "output_type": "stream",
     "text": [
      "'data.frame':\t777 obs. of  18 variables:\n",
      " $ Private    : Factor w/ 2 levels \"No\",\"Yes\": 2 2 2 2 2 2 2 2 2 2 ...\n",
      " $ Apps       : num  1660 2186 1428 417 193 ...\n",
      " $ Accept     : num  1232 1924 1097 349 146 ...\n",
      " $ Enroll     : num  721 512 336 137 55 158 103 489 227 172 ...\n",
      " $ Top10perc  : num  23 16 22 60 16 38 17 37 30 21 ...\n",
      " $ Top25perc  : num  52 29 50 89 44 62 45 68 63 44 ...\n",
      " $ F.Undergrad: num  2885 2683 1036 510 249 ...\n",
      " $ P.Undergrad: num  537 1227 99 63 869 ...\n",
      " $ Outstate   : num  7440 12280 11250 12960 7560 ...\n",
      " $ Room.Board : num  3300 6450 3750 5450 4120 ...\n",
      " $ Books      : num  450 750 400 450 800 500 500 450 300 660 ...\n",
      " $ Personal   : num  2200 1500 1165 875 1500 ...\n",
      " $ PhD        : num  70 29 53 92 76 67 90 89 79 40 ...\n",
      " $ Terminal   : num  78 30 66 97 72 73 93 100 84 41 ...\n",
      " $ S.F.Ratio  : num  18.1 12.2 12.9 7.7 11.9 9.4 11.5 13.7 11.3 11.5 ...\n",
      " $ perc.alumni: num  12 16 30 37 2 11 26 37 23 15 ...\n",
      " $ Expend     : num  7041 10527 8735 19016 10922 ...\n",
      " $ Grad.Rate  : num  60 56 54 59 15 55 63 73 80 52 ...\n"
     ]
    }
   ],
   "source": [
    "library(ISLR)\n",
    "college <- College\n",
    "str(college)"
   ]
  },
  {
   "cell_type": "code",
   "execution_count": 22,
   "id": "36f4d022",
   "metadata": {},
   "outputs": [
    {
     "name": "stdout",
     "output_type": "stream",
     "text": [
      "'data.frame':\t777 obs. of  18 variables:\n",
      " $ Private    : num  1 1 1 1 1 1 1 1 1 1 ...\n",
      " $ Apps       : num  1660 2186 1428 417 193 ...\n",
      " $ Accept     : num  1232 1924 1097 349 146 ...\n",
      " $ Enroll     : num  721 512 336 137 55 158 103 489 227 172 ...\n",
      " $ Top10perc  : num  23 16 22 60 16 38 17 37 30 21 ...\n",
      " $ Top25perc  : num  52 29 50 89 44 62 45 68 63 44 ...\n",
      " $ F.Undergrad: num  2885 2683 1036 510 249 ...\n",
      " $ P.Undergrad: num  537 1227 99 63 869 ...\n",
      " $ Outstate   : num  7440 12280 11250 12960 7560 ...\n",
      " $ Room.Board : num  3300 6450 3750 5450 4120 ...\n",
      " $ Books      : num  450 750 400 450 800 500 500 450 300 660 ...\n",
      " $ Personal   : num  2200 1500 1165 875 1500 ...\n",
      " $ PhD        : num  70 29 53 92 76 67 90 89 79 40 ...\n",
      " $ Terminal   : num  78 30 66 97 72 73 93 100 84 41 ...\n",
      " $ S.F.Ratio  : num  18.1 12.2 12.9 7.7 11.9 9.4 11.5 13.7 11.3 11.5 ...\n",
      " $ perc.alumni: num  12 16 30 37 2 11 26 37 23 15 ...\n",
      " $ Expend     : num  7041 10527 8735 19016 10922 ...\n",
      " $ Grad.Rate  : num  60 56 54 59 15 55 63 73 80 52 ...\n"
     ]
    }
   ],
   "source": [
    "college$Private <- as.numeric(college$Private=='Yes')\n",
    "str(college)"
   ]
  },
  {
   "cell_type": "markdown",
   "id": "3c883c14",
   "metadata": {},
   "source": [
    "## a"
   ]
  },
  {
   "cell_type": "code",
   "execution_count": 23,
   "id": "415462c5",
   "metadata": {},
   "outputs": [],
   "source": [
    "set.seed(50)\n",
    "train_index <- sample(1:nrow(college), round(nrow(college) * 0.7))\n",
    "\n",
    "train <- college[train_index, ]\n",
    "test <- college[-train_index, ]"
   ]
  },
  {
   "cell_type": "markdown",
   "id": "13a63378",
   "metadata": {},
   "source": [
    "## b"
   ]
  },
  {
   "cell_type": "code",
   "execution_count": 24,
   "id": "f9999292",
   "metadata": {},
   "outputs": [
    {
     "data": {
      "text/plain": [
       "\n",
       "Call:\n",
       "lm(formula = Apps ~ ., data = train)\n",
       "\n",
       "Residuals:\n",
       "    Min      1Q  Median      3Q     Max \n",
       "-3437.1  -439.0    -5.0   320.4  7354.4 \n",
       "\n",
       "Coefficients:\n",
       "              Estimate Std. Error t value Pr(>|t|)    \n",
       "(Intercept) -7.419e+02  4.753e+02  -1.561 0.119144    \n",
       "Private     -4.307e+02  1.649e+02  -2.612 0.009255 ** \n",
       "Accept       1.673e+00  4.590e-02  36.437  < 2e-16 ***\n",
       "Enroll      -8.197e-01  2.176e-01  -3.767 0.000184 ***\n",
       "Top10perc    4.675e+01  6.402e+00   7.302 1.05e-12 ***\n",
       "Top25perc   -1.227e+01  5.176e+00  -2.372 0.018070 *  \n",
       "F.Undergrad -4.612e-03  4.038e-02  -0.114 0.909105    \n",
       "P.Undergrad  9.839e-02  3.721e-02   2.644 0.008444 ** \n",
       "Outstate    -1.129e-01  2.239e-02  -5.041 6.39e-07 ***\n",
       "Room.Board   1.300e-01  5.799e-02   2.242 0.025350 *  \n",
       "Books        6.705e-02  3.438e-01   0.195 0.845445    \n",
       "Personal     5.469e-02  8.138e-02   0.672 0.501883    \n",
       "PhD         -6.678e+00  5.993e+00  -1.114 0.265607    \n",
       "Terminal    -2.518e+00  6.244e+00  -0.403 0.686970    \n",
       "S.F.Ratio    2.462e+01  1.478e+01   1.666 0.096312 .  \n",
       "perc.alumni  3.620e+00  4.871e+00   0.743 0.457683    \n",
       "Expend       8.080e-02  1.448e-02   5.578 3.90e-08 ***\n",
       "Grad.Rate    9.661e+00  3.456e+00   2.795 0.005381 ** \n",
       "---\n",
       "Signif. codes:  0 '***' 0.001 '**' 0.01 '*' 0.05 '.' 0.1 ' ' 1\n",
       "\n",
       "Residual standard error: 1024 on 526 degrees of freedom\n",
       "Multiple R-squared:  0.9346,\tAdjusted R-squared:  0.9325 \n",
       "F-statistic: 442.4 on 17 and 526 DF,  p-value: < 2.2e-16\n"
      ]
     },
     "metadata": {},
     "output_type": "display_data"
    }
   ],
   "source": [
    "linear_mod <- lm(Apps ~., data = train)\n",
    "summary(linear_mod)"
   ]
  },
  {
   "cell_type": "code",
   "execution_count": 25,
   "id": "eb0bc0e9",
   "metadata": {},
   "outputs": [
    {
     "name": "stdout",
     "output_type": "stream",
     "text": [
      "[1] 1234587\n"
     ]
    }
   ],
   "source": [
    "predict_linear <- predict(linear_mod, test)\n",
    "MSE <- mean((predict_linear - test$Apps)^2)\n",
    "print(MSE)"
   ]
  },
  {
   "cell_type": "markdown",
   "id": "446e3653",
   "metadata": {},
   "source": [
    "## c"
   ]
  },
  {
   "cell_type": "code",
   "execution_count": 26,
   "id": "7dec2ca9",
   "metadata": {},
   "outputs": [
    {
     "name": "stderr",
     "output_type": "stream",
     "text": [
      "\n",
      "Attaching package: 'dplyr'\n",
      "\n",
      "\n",
      "The following objects are masked from 'package:stats':\n",
      "\n",
      "    filter, lag\n",
      "\n",
      "\n",
      "The following objects are masked from 'package:base':\n",
      "\n",
      "    intersect, setdiff, setequal, union\n",
      "\n",
      "\n"
     ]
    },
    {
     "data": {
      "text/html": [
       "<style>\n",
       ".list-inline {list-style: none; margin:0; padding: 0}\n",
       ".list-inline>li {display: inline-block}\n",
       ".list-inline>li:not(:last-child)::after {content: \"\\00b7\"; padding: 0 .5ex}\n",
       "</style>\n",
       "<ol class=list-inline><li>'Private'</li><li>'Accept'</li><li>'Enroll'</li><li>'Top10perc'</li><li>'Top25perc'</li><li>'F.Undergrad'</li><li>'P.Undergrad'</li><li>'Outstate'</li><li>'Room.Board'</li><li>'Books'</li><li>'Personal'</li><li>'PhD'</li><li>'Terminal'</li><li>'S.F.Ratio'</li><li>'perc.alumni'</li><li>'Expend'</li><li>'Grad.Rate'</li></ol>\n"
      ],
      "text/latex": [
       "\\begin{enumerate*}\n",
       "\\item 'Private'\n",
       "\\item 'Accept'\n",
       "\\item 'Enroll'\n",
       "\\item 'Top10perc'\n",
       "\\item 'Top25perc'\n",
       "\\item 'F.Undergrad'\n",
       "\\item 'P.Undergrad'\n",
       "\\item 'Outstate'\n",
       "\\item 'Room.Board'\n",
       "\\item 'Books'\n",
       "\\item 'Personal'\n",
       "\\item 'PhD'\n",
       "\\item 'Terminal'\n",
       "\\item 'S.F.Ratio'\n",
       "\\item 'perc.alumni'\n",
       "\\item 'Expend'\n",
       "\\item 'Grad.Rate'\n",
       "\\end{enumerate*}\n"
      ],
      "text/markdown": [
       "1. 'Private'\n",
       "2. 'Accept'\n",
       "3. 'Enroll'\n",
       "4. 'Top10perc'\n",
       "5. 'Top25perc'\n",
       "6. 'F.Undergrad'\n",
       "7. 'P.Undergrad'\n",
       "8. 'Outstate'\n",
       "9. 'Room.Board'\n",
       "10. 'Books'\n",
       "11. 'Personal'\n",
       "12. 'PhD'\n",
       "13. 'Terminal'\n",
       "14. 'S.F.Ratio'\n",
       "15. 'perc.alumni'\n",
       "16. 'Expend'\n",
       "17. 'Grad.Rate'\n",
       "\n",
       "\n"
      ],
      "text/plain": [
       " [1] \"Private\"     \"Accept\"      \"Enroll\"      \"Top10perc\"   \"Top25perc\"  \n",
       " [6] \"F.Undergrad\" \"P.Undergrad\" \"Outstate\"    \"Room.Board\"  \"Books\"      \n",
       "[11] \"Personal\"    \"PhD\"         \"Terminal\"    \"S.F.Ratio\"   \"perc.alumni\"\n",
       "[16] \"Expend\"      \"Grad.Rate\"  "
      ]
     },
     "metadata": {},
     "output_type": "display_data"
    }
   ],
   "source": [
    "library(dplyr)\n",
    "columns=colnames(train%>%select(-Apps))\n",
    "columns"
   ]
  },
  {
   "cell_type": "code",
   "execution_count": 27,
   "id": "de8e67d6",
   "metadata": {},
   "outputs": [
    {
     "name": "stderr",
     "output_type": "stream",
     "text": [
      "Loading required package: Matrix\n",
      "\n",
      "Loaded glmnet 4.1-2\n",
      "\n"
     ]
    },
    {
     "data": {
      "text/plain": [
       "           Length Class  Mode     \n",
       "lambda     100    -none- numeric  \n",
       "cvm        100    -none- numeric  \n",
       "cvsd       100    -none- numeric  \n",
       "cvup       100    -none- numeric  \n",
       "cvlo       100    -none- numeric  \n",
       "nzero      100    -none- numeric  \n",
       "call         4    -none- call     \n",
       "name         1    -none- character\n",
       "glmnet.fit  12    elnet  list     \n",
       "lambda.min   1    -none- numeric  \n",
       "lambda.1se   1    -none- numeric  \n",
       "index        2    -none- numeric  "
      ]
     },
     "metadata": {},
     "output_type": "display_data"
    }
   ],
   "source": [
    "library(glmnet)\n",
    "\n",
    "x_var <- as.matrix(train[,columns])\n",
    "\n",
    "y_var <- train[, \"Apps\"]\n",
    "\n",
    "ridge <- cv.glmnet(x_var, y_var, alpha = 0)\n",
    "\n",
    "summary(ridge)"
   ]
  },
  {
   "cell_type": "code",
   "execution_count": 28,
   "id": "eba9c569",
   "metadata": {},
   "outputs": [],
   "source": [
    "best_lambda <- ridge$lambda.min"
   ]
  },
  {
   "cell_type": "code",
   "execution_count": 29,
   "id": "6f8611e2",
   "metadata": {},
   "outputs": [
    {
     "data": {
      "text/html": [
       "372.894679862064"
      ],
      "text/latex": [
       "372.894679862064"
      ],
      "text/markdown": [
       "372.894679862064"
      ],
      "text/plain": [
       "[1] 372.8947"
      ]
     },
     "metadata": {},
     "output_type": "display_data"
    }
   ],
   "source": [
    "best_lambda"
   ]
  },
  {
   "cell_type": "code",
   "execution_count": 30,
   "id": "4a7b1fda",
   "metadata": {},
   "outputs": [],
   "source": [
    "best_ridge <- glmnet(x_var, y_var, alpha = 0)"
   ]
  },
  {
   "cell_type": "code",
   "execution_count": 31,
   "id": "6131522f",
   "metadata": {},
   "outputs": [],
   "source": [
    "pred <- predict(best_ridge, s = best_lambda, newx = as.matrix(test[,columns]))"
   ]
  },
  {
   "cell_type": "code",
   "execution_count": 32,
   "id": "4f271ed3",
   "metadata": {},
   "outputs": [
    {
     "name": "stdout",
     "output_type": "stream",
     "text": [
      "[1] 1175487\n"
     ]
    }
   ],
   "source": [
    "MSE <- mean((pred - test$Apps)^2)\n",
    "print(MSE)"
   ]
  },
  {
   "cell_type": "markdown",
   "id": "5ba5c47b",
   "metadata": {},
   "source": [
    "## d"
   ]
  },
  {
   "cell_type": "code",
   "execution_count": 33,
   "id": "e08ec72e",
   "metadata": {},
   "outputs": [
    {
     "data": {
      "text/plain": [
       "           Length Class  Mode     \n",
       "lambda     78     -none- numeric  \n",
       "cvm        78     -none- numeric  \n",
       "cvsd       78     -none- numeric  \n",
       "cvup       78     -none- numeric  \n",
       "cvlo       78     -none- numeric  \n",
       "nzero      78     -none- numeric  \n",
       "call        4     -none- call     \n",
       "name        1     -none- character\n",
       "glmnet.fit 12     elnet  list     \n",
       "lambda.min  1     -none- numeric  \n",
       "lambda.1se  1     -none- numeric  \n",
       "index       2     -none- numeric  "
      ]
     },
     "metadata": {},
     "output_type": "display_data"
    },
    {
     "data": {
      "text/html": [
       "15.40805435787"
      ],
      "text/latex": [
       "15.40805435787"
      ],
      "text/markdown": [
       "15.40805435787"
      ],
      "text/plain": [
       "[1] 15.40805"
      ]
     },
     "metadata": {},
     "output_type": "display_data"
    }
   ],
   "source": [
    "x_var <- data.matrix(train[,columns])\n",
    "\n",
    "y_var <- train[, \"Apps\"]\n",
    "\n",
    "lasso <- cv.glmnet(x_var, y_var, alpha = 1)\n",
    "\n",
    "summary(lasso)\n",
    "\n",
    "best_lambda <- lasso$lambda.min\n",
    "\n",
    "best_lambda"
   ]
  },
  {
   "cell_type": "code",
   "execution_count": 34,
   "id": "29688b64",
   "metadata": {},
   "outputs": [
    {
     "name": "stdout",
     "output_type": "stream",
     "text": [
      "[1] 1200834\n"
     ]
    }
   ],
   "source": [
    "best_lasso <- glmnet(x_var, y_var, alpha = 1, lambda = best_lambda)\n",
    "\n",
    "\n",
    "pred <- predict(best_lasso, s = best_lambda, newx = data.matrix(test[,columns]))\n",
    "MSE <- mean((pred - test$Apps)^2)\n",
    "print(MSE)"
   ]
  },
  {
   "cell_type": "code",
   "execution_count": 35,
   "id": "e0558471",
   "metadata": {},
   "outputs": [
    {
     "data": {
      "text/plain": [
       "18 x 1 sparse Matrix of class \"dgCMatrix\"\n",
       "                  s1\n",
       "(Intercept) -780.712\n",
       "Private     -332.184\n",
       "Accept         1.583\n",
       "Enroll        -0.544\n",
       "Top10perc     36.638\n",
       "Top25perc     -4.823\n",
       "F.Undergrad    .    \n",
       "P.Undergrad    0.068\n",
       "Outstate      -0.092\n",
       "Room.Board     0.109\n",
       "Books          0.033\n",
       "Personal       0.020\n",
       "PhD           -4.466\n",
       "Terminal      -2.590\n",
       "S.F.Ratio     14.380\n",
       "perc.alumni    .    \n",
       "Expend         0.075\n",
       "Grad.Rate      7.840"
      ]
     },
     "metadata": {},
     "output_type": "display_data"
    }
   ],
   "source": [
    "lasso_coef <- predict(best_lasso, type = \"coefficients\", s = best_lambda)\n",
    "\n",
    "round(lasso_coef, 3)"
   ]
  },
  {
   "cell_type": "markdown",
   "id": "abca15f5",
   "metadata": {},
   "source": [
    "## e"
   ]
  },
  {
   "cell_type": "code",
   "execution_count": 36,
   "id": "e9f80709",
   "metadata": {},
   "outputs": [],
   "source": [
    "#install.packages(\"pls\")"
   ]
  },
  {
   "cell_type": "code",
   "execution_count": 37,
   "id": "c74ec4fe",
   "metadata": {},
   "outputs": [
    {
     "name": "stderr",
     "output_type": "stream",
     "text": [
      "\n",
      "Attaching package: 'pls'\n",
      "\n",
      "\n",
      "The following object is masked from 'package:stats':\n",
      "\n",
      "    loadings\n",
      "\n",
      "\n"
     ]
    },
    {
     "data": {
      "text/html": [
       "1234586.69822787"
      ],
      "text/latex": [
       "1234586.69822787"
      ],
      "text/markdown": [
       "1234586.69822787"
      ],
      "text/plain": [
       "[1] 1234587"
      ]
     },
     "metadata": {},
     "output_type": "display_data"
    }
   ],
   "source": [
    "library(pls)\n",
    "model_pcr <- pcr(Apps ~ ., data=train, scale=TRUE, validation='CV')\n",
    "pred_pcr <- predict(model_pcr, newdata=test, ncomp = 17)\n",
    "MSE_pcr <- mean((pred_pcr - test$Apps)^2)\n",
    "MSE_pcr"
   ]
  },
  {
   "cell_type": "markdown",
   "id": "493d35b4",
   "metadata": {},
   "source": [
    "## f"
   ]
  },
  {
   "cell_type": "code",
   "execution_count": 38,
   "id": "6b1de764",
   "metadata": {},
   "outputs": [
    {
     "data": {
      "text/html": [
       "1290571.58989419"
      ],
      "text/latex": [
       "1290571.58989419"
      ],
      "text/markdown": [
       "1290571.58989419"
      ],
      "text/plain": [
       "[1] 1290572"
      ]
     },
     "metadata": {},
     "output_type": "display_data"
    }
   ],
   "source": [
    "model_pls <- plsr(Apps ~ ., data=train, scale=TRUE, validation='CV')\n",
    "pred_pls <- predict(model_pls, newdata=test, ncomp = 5)\n",
    "MSE_pls <- mean((pred_pls - test$Apps)^2)\n",
    "MSE_pls"
   ]
  },
  {
   "cell_type": "markdown",
   "id": "a1e9d39d",
   "metadata": {},
   "source": [
    "### Based on the MSE values Ridge is the best model as it has lowest MSE"
   ]
  },
  {
   "cell_type": "markdown",
   "id": "46ae6e68",
   "metadata": {},
   "source": [
    "# CHAPTER 7\n",
    "\n",
    "# Question 9\n",
    "\n",
    "## a."
   ]
  },
  {
   "cell_type": "code",
   "execution_count": 39,
   "id": "43eff9cb",
   "metadata": {},
   "outputs": [
    {
     "name": "stderr",
     "output_type": "stream",
     "text": [
      "\n",
      "Attaching package: 'MASS'\n",
      "\n",
      "\n",
      "The following object is masked from 'package:dplyr':\n",
      "\n",
      "    select\n",
      "\n",
      "\n"
     ]
    },
    {
     "name": "stdout",
     "output_type": "stream",
     "text": [
      "'data.frame':\t506 obs. of  14 variables:\n",
      " $ crim   : num  0.00632 0.02731 0.02729 0.03237 0.06905 ...\n",
      " $ zn     : num  18 0 0 0 0 0 12.5 12.5 12.5 12.5 ...\n",
      " $ indus  : num  2.31 7.07 7.07 2.18 2.18 2.18 7.87 7.87 7.87 7.87 ...\n",
      " $ chas   : int  0 0 0 0 0 0 0 0 0 0 ...\n",
      " $ nox    : num  0.538 0.469 0.469 0.458 0.458 0.458 0.524 0.524 0.524 0.524 ...\n",
      " $ rm     : num  6.58 6.42 7.18 7 7.15 ...\n",
      " $ age    : num  65.2 78.9 61.1 45.8 54.2 58.7 66.6 96.1 100 85.9 ...\n",
      " $ dis    : num  4.09 4.97 4.97 6.06 6.06 ...\n",
      " $ rad    : int  1 2 2 3 3 3 5 5 5 5 ...\n",
      " $ tax    : num  296 242 242 222 222 222 311 311 311 311 ...\n",
      " $ ptratio: num  15.3 17.8 17.8 18.7 18.7 18.7 15.2 15.2 15.2 15.2 ...\n",
      " $ black  : num  397 397 393 395 397 ...\n",
      " $ lstat  : num  4.98 9.14 4.03 2.94 5.33 ...\n",
      " $ medv   : num  24 21.6 34.7 33.4 36.2 28.7 22.9 27.1 16.5 18.9 ...\n"
     ]
    }
   ],
   "source": [
    "library(MASS)\n",
    "str(Boston)"
   ]
  },
  {
   "cell_type": "code",
   "execution_count": 40,
   "id": "a9432dc2",
   "metadata": {},
   "outputs": [
    {
     "data": {
      "text/plain": [
       "\n",
       "Call:\n",
       "lm(formula = nox ~ poly(dis, 3), data = Boston)\n",
       "\n",
       "Residuals:\n",
       "      Min        1Q    Median        3Q       Max \n",
       "-0.121130 -0.040619 -0.009738  0.023385  0.194904 \n",
       "\n",
       "Coefficients:\n",
       "               Estimate Std. Error t value Pr(>|t|)    \n",
       "(Intercept)    0.554695   0.002759 201.021  < 2e-16 ***\n",
       "poly(dis, 3)1 -2.003096   0.062071 -32.271  < 2e-16 ***\n",
       "poly(dis, 3)2  0.856330   0.062071  13.796  < 2e-16 ***\n",
       "poly(dis, 3)3 -0.318049   0.062071  -5.124 4.27e-07 ***\n",
       "---\n",
       "Signif. codes:  0 '***' 0.001 '**' 0.01 '*' 0.05 '.' 0.1 ' ' 1\n",
       "\n",
       "Residual standard error: 0.06207 on 502 degrees of freedom\n",
       "Multiple R-squared:  0.7148,\tAdjusted R-squared:  0.7131 \n",
       "F-statistic: 419.3 on 3 and 502 DF,  p-value: < 2.2e-16\n"
      ]
     },
     "metadata": {},
     "output_type": "display_data"
    }
   ],
   "source": [
    "model <- lm(nox ~ poly(dis,3), data = Boston)\n",
    "summary(model)"
   ]
  },
  {
   "cell_type": "code",
   "execution_count": 41,
   "id": "03c2c94e",
   "metadata": {},
   "outputs": [
    {
     "name": "stderr",
     "output_type": "stream",
     "text": [
      "\n",
      "Attaching package: 'gridExtra'\n",
      "\n",
      "\n",
      "The following object is masked from 'package:dplyr':\n",
      "\n",
      "    combine\n",
      "\n",
      "\n"
     ]
    }
   ],
   "source": [
    "library(ggplot2)\n",
    "library(gridExtra)"
   ]
  },
  {
   "cell_type": "code",
   "execution_count": 42,
   "id": "8520a283",
   "metadata": {},
   "outputs": [
    {
     "data": {
      "image/png": "[encoded data removed]",
      "text/plain": [
       "plot without title"
      ]
     },
     "metadata": {
      "image/png": {
       "height": 420,
       "width": 420
      }
     },
     "output_type": "display_data"
    }
   ],
   "source": [
    "ggplot(Boston, aes(x = dis, y = nox)) + \n",
    "  geom_point(alpha = 0.3) + \n",
    "  geom_smooth(method = \"lm\", formula = \"y ~ poly(x, 3)\") "
   ]
  },
  {
   "cell_type": "markdown",
   "id": "a884593c",
   "metadata": {},
   "source": [
    "## b."
   ]
  },
  {
   "cell_type": "code",
   "execution_count": 43,
   "id": "7e304784",
   "metadata": {},
   "outputs": [
    {
     "data": {
      "image/png": "[encoded data removed]",
      "text/plain": [
       "plot without title"
      ]
     },
     "metadata": {
      "image/png": {
       "height": 420,
       "width": 420
      }
     },
     "output_type": "display_data"
    },
    {
     "data": {
      "image/png": "[encoded data removed]",
      "text/plain": [
       "plot without title"
      ]
     },
     "metadata": {
      "image/png": {
       "height": 420,
       "width": 420
      }
     },
     "output_type": "display_data"
    },
    {
     "data": {
      "image/png": "[encoded data removed]",
      "text/plain": [
       "plot without title"
      ]
     },
     "metadata": {
      "image/png": {
       "height": 420,
       "width": 420
      }
     },
     "output_type": "display_data"
    },
    {
     "data": {
      "image/png": "[encoded data removed]",
      "text/plain": [
       "plot without title"
      ]
     },
     "metadata": {
      "image/png": {
       "height": 420,
       "width": 420
      }
     },
     "output_type": "display_data"
    },
    {
     "data": {
      "image/png": "[encoded data removed]",
      "text/plain": [
       "plot without title"
      ]
     },
     "metadata": {
      "image/png": {
       "height": 420,
       "width": 420
      }
     },
     "output_type": "display_data"
    },
    {
     "data": {
      "image/png": "[encoded data removed]",
      "text/plain": [
       "plot without title"
      ]
     },
     "metadata": {
      "image/png": {
       "height": 420,
       "width": 420
      }
     },
     "output_type": "display_data"
    },
    {
     "data": {
      "image/png": "[encoded data removed]",
      "text/plain": [
       "plot without title"
      ]
     },
     "metadata": {
      "image/png": {
       "height": 420,
       "width": 420
      }
     },
     "output_type": "display_data"
    },
    {
     "data": {
      "image/png": "[encoded data removed]",
      "text/plain": [
       "plot without title"
      ]
     },
     "metadata": {
      "image/png": {
       "height": 420,
       "width": 420
      }
     },
     "output_type": "display_data"
    },
    {
     "data": {
      "image/png": "[encoded data removed]",
      "text/plain": [
       "plot without title"
      ]
     },
     "metadata": {
      "image/png": {
       "height": 420,
       "width": 420
      }
     },
     "output_type": "display_data"
    },
    {
     "data": {
      "image/png": "[encoded data removed]",
      "text/plain": [
       "plot without title"
      ]
     },
     "metadata": {
      "image/png": {
       "height": 420,
       "width": 420
      }
     },
     "output_type": "display_data"
    }
   ],
   "source": [
    "for(degree in 1:10){\n",
    "    a <- paste(\"y ~ poly(x, \",degree, \")\")\n",
    "    g <- ggplot(Boston, aes(x = dis, y = nox)) + \n",
    "                  geom_point(alpha = 0.3) + \n",
    "                  geom_smooth(method = \"lm\", formula = a)+\n",
    "                  labs(title = paste('Polynomial degree : ', degree))\n",
    "    print(g)\n",
    "    \n",
    "}\n",
    "\n"
   ]
  },
  {
   "cell_type": "code",
   "execution_count": 44,
   "id": "a3bfd500",
   "metadata": {},
   "outputs": [],
   "source": [
    "MSE <- c()\n",
    "for(degree in 1:10){\n",
    "        model <- lm(nox ~ poly(dis, degree), data = Boston)\n",
    "        MSE[degree] <- mean(model$residuals^2)\n",
    "}\n",
    "df <- data.frame(degree = 1:10, MSE)"
   ]
  },
  {
   "cell_type": "code",
   "execution_count": 45,
   "id": "4e68762a",
   "metadata": {},
   "outputs": [
    {
     "data": {
      "text/html": [
       "<table class=\"dataframe\">\n",
       "<caption>A data.frame: 10 × 2</caption>\n",
       "<thead>\n",
       "\t<tr><th scope=col>degree</th><th scope=col>MSE</th></tr>\n",
       "\t<tr><th scope=col>&lt;int&gt;</th><th scope=col>&lt;dbl&gt;</th></tr>\n",
       "</thead>\n",
       "<tbody>\n",
       "\t<tr><td> 1</td><td>0.005471468</td></tr>\n",
       "\t<tr><td> 2</td><td>0.004022257</td></tr>\n",
       "\t<tr><td> 3</td><td>0.003822345</td></tr>\n",
       "\t<tr><td> 4</td><td>0.003820121</td></tr>\n",
       "\t<tr><td> 5</td><td>0.003785158</td></tr>\n",
       "\t<tr><td> 6</td><td>0.003711971</td></tr>\n",
       "\t<tr><td> 7</td><td>0.003655106</td></tr>\n",
       "\t<tr><td> 8</td><td>0.003627727</td></tr>\n",
       "\t<tr><td> 9</td><td>0.003623183</td></tr>\n",
       "\t<tr><td>10</td><td>0.003620892</td></tr>\n",
       "</tbody>\n",
       "</table>\n"
      ],
      "text/latex": [
       "A data.frame: 10 × 2\n",
       "\\begin{tabular}{ll}\n",
       " degree & MSE\\\\\n",
       " <int> & <dbl>\\\\\n",
       "\\hline\n",
       "\t  1 & 0.005471468\\\\\n",
       "\t  2 & 0.004022257\\\\\n",
       "\t  3 & 0.003822345\\\\\n",
       "\t  4 & 0.003820121\\\\\n",
       "\t  5 & 0.003785158\\\\\n",
       "\t  6 & 0.003711971\\\\\n",
       "\t  7 & 0.003655106\\\\\n",
       "\t  8 & 0.003627727\\\\\n",
       "\t  9 & 0.003623183\\\\\n",
       "\t 10 & 0.003620892\\\\\n",
       "\\end{tabular}\n"
      ],
      "text/markdown": [
       "\n",
       "A data.frame: 10 × 2\n",
       "\n",
       "| degree &lt;int&gt; | MSE &lt;dbl&gt; |\n",
       "|---|---|\n",
       "|  1 | 0.005471468 |\n",
       "|  2 | 0.004022257 |\n",
       "|  3 | 0.003822345 |\n",
       "|  4 | 0.003820121 |\n",
       "|  5 | 0.003785158 |\n",
       "|  6 | 0.003711971 |\n",
       "|  7 | 0.003655106 |\n",
       "|  8 | 0.003627727 |\n",
       "|  9 | 0.003623183 |\n",
       "| 10 | 0.003620892 |\n",
       "\n"
      ],
      "text/plain": [
       "   degree MSE        \n",
       "1   1     0.005471468\n",
       "2   2     0.004022257\n",
       "3   3     0.003822345\n",
       "4   4     0.003820121\n",
       "5   5     0.003785158\n",
       "6   6     0.003711971\n",
       "7   7     0.003655106\n",
       "8   8     0.003627727\n",
       "9   9     0.003623183\n",
       "10 10     0.003620892"
      ]
     },
     "metadata": {},
     "output_type": "display_data"
    }
   ],
   "source": [
    "df"
   ]
  },
  {
   "cell_type": "markdown",
   "id": "b46d816b",
   "metadata": {},
   "source": [
    "## c."
   ]
  },
  {
   "cell_type": "code",
   "execution_count": 46,
   "id": "f0942efa",
   "metadata": {},
   "outputs": [
    {
     "name": "stdout",
     "output_type": "stream",
     "text": [
      "package 'caret' successfully unpacked and MD5 sums checked\n",
      "\n",
      "The downloaded binary packages are in\n",
      "\tC:\\Users\\nramanna\\AppData\\Local\\Temp\\Rtmpe0hglM\\downloaded_packages\n"
     ]
    }
   ],
   "source": [
    "install.packages(\"caret\")"
   ]
  },
  {
   "cell_type": "code",
   "execution_count": 47,
   "id": "5ec53b16",
   "metadata": {},
   "outputs": [
    {
     "name": "stderr",
     "output_type": "stream",
     "text": [
      "Loading required package: lattice\n",
      "\n",
      "\n",
      "Attaching package: 'lattice'\n",
      "\n",
      "\n",
      "The following object is masked from 'package:boot':\n",
      "\n",
      "    melanoma\n",
      "\n",
      "\n",
      "\n",
      "Attaching package: 'caret'\n",
      "\n",
      "\n",
      "The following object is masked from 'package:pls':\n",
      "\n",
      "    R2\n",
      "\n",
      "\n"
     ]
    }
   ],
   "source": [
    "library(caret)"
   ]
  },
  {
   "cell_type": "code",
   "execution_count": 49,
   "id": "a4160d4c",
   "metadata": {},
   "outputs": [],
   "source": [
    "\n",
    "CV <- c()\n",
    "\n",
    "for(i in 1:10){\n",
    "     model_temp <- train(y = Boston$nox,\n",
    "                      x = poly(Boston$dis, i),\n",
    "                      method = \"lm\"\n",
    "                      )\n",
    "    CV[i] <- model_temp$results$RMSE^2\n",
    "}\n"
   ]
  },
  {
   "cell_type": "code",
   "execution_count": 50,
   "id": "4964e196",
   "metadata": {},
   "outputs": [],
   "source": [
    " CV_df <- data.frame(degree = 1:10, CV)"
   ]
  },
  {
   "cell_type": "code",
   "execution_count": 51,
   "id": "08d40b51",
   "metadata": {},
   "outputs": [
    {
     "data": {
      "text/html": [
       "<table class=\"dataframe\">\n",
       "<caption>A data.frame: 1 × 2</caption>\n",
       "<thead>\n",
       "\t<tr><th></th><th scope=col>degree</th><th scope=col>CV</th></tr>\n",
       "\t<tr><th></th><th scope=col>&lt;int&gt;</th><th scope=col>&lt;dbl&gt;</th></tr>\n",
       "</thead>\n",
       "<tbody>\n",
       "\t<tr><th scope=row>3</th><td>3</td><td>0.003754435</td></tr>\n",
       "</tbody>\n",
       "</table>\n"
      ],
      "text/latex": [
       "A data.frame: 1 × 2\n",
       "\\begin{tabular}{r|ll}\n",
       "  & degree & CV\\\\\n",
       "  & <int> & <dbl>\\\\\n",
       "\\hline\n",
       "\t3 & 3 & 0.003754435\\\\\n",
       "\\end{tabular}\n"
      ],
      "text/markdown": [
       "\n",
       "A data.frame: 1 × 2\n",
       "\n",
       "| <!--/--> | degree &lt;int&gt; | CV &lt;dbl&gt; |\n",
       "|---|---|---|\n",
       "| 3 | 3 | 0.003754435 |\n",
       "\n"
      ],
      "text/plain": [
       "  degree CV         \n",
       "3 3      0.003754435"
      ]
     },
     "metadata": {},
     "output_type": "display_data"
    }
   ],
   "source": [
    "CV_df[CV_df$CV == min(CV_df$CV),]"
   ]
  },
  {
   "cell_type": "markdown",
   "id": "31e537e4",
   "metadata": {},
   "source": [
    "### d."
   ]
  },
  {
   "cell_type": "code",
   "execution_count": 52,
   "id": "cce5996c",
   "metadata": {},
   "outputs": [],
   "source": [
    "library(splines)"
   ]
  },
  {
   "cell_type": "code",
   "execution_count": 53,
   "id": "de6d0fa0",
   "metadata": {},
   "outputs": [
    {
     "data": {
      "text/plain": [
       "\n",
       "Call:\n",
       "lm(formula = nox ~ bs(dis, df = 4), data = Boston)\n",
       "\n",
       "Residuals:\n",
       "      Min        1Q    Median        3Q       Max \n",
       "-0.124622 -0.039259 -0.008514  0.020850  0.193891 \n",
       "\n",
       "Coefficients:\n",
       "                 Estimate Std. Error t value Pr(>|t|)    \n",
       "(Intercept)       0.73447    0.01460  50.306  < 2e-16 ***\n",
       "bs(dis, df = 4)1 -0.05810    0.02186  -2.658  0.00812 ** \n",
       "bs(dis, df = 4)2 -0.46356    0.02366 -19.596  < 2e-16 ***\n",
       "bs(dis, df = 4)3 -0.19979    0.04311  -4.634 4.58e-06 ***\n",
       "bs(dis, df = 4)4 -0.38881    0.04551  -8.544  < 2e-16 ***\n",
       "---\n",
       "Signif. codes:  0 '***' 0.001 '**' 0.01 '*' 0.05 '.' 0.1 ' ' 1\n",
       "\n",
       "Residual standard error: 0.06195 on 501 degrees of freedom\n",
       "Multiple R-squared:  0.7164,\tAdjusted R-squared:  0.7142 \n",
       "F-statistic: 316.5 on 4 and 501 DF,  p-value: < 2.2e-16\n"
      ]
     },
     "metadata": {},
     "output_type": "display_data"
    }
   ],
   "source": [
    "model <- lm(nox ~ bs(dis, df = 4), data = Boston)\n",
    "summary(model)"
   ]
  },
  {
   "cell_type": "code",
   "execution_count": 54,
   "id": "b0f53e91",
   "metadata": {},
   "outputs": [
    {
     "data": {
      "image/png": "[encoded data removed]",
      "text/plain": [
       "Plot with title \"\""
      ]
     },
     "metadata": {
      "image/png": {
       "height": 420,
       "width": 420
      }
     },
     "output_type": "display_data"
    },
    {
     "data": {
      "image/png": "[encoded data removed]",
      "text/plain": [
       "Plot with title \"\""
      ]
     },
     "metadata": {
      "image/png": {
       "height": 420,
       "width": 420
      }
     },
     "output_type": "display_data"
    },
    {
     "data": {
      "image/png": "[encoded data removed]",
      "text/plain": [
       "Plot with title \"\""
      ]
     },
     "metadata": {
      "image/png": {
       "height": 420,
       "width": 420
      }
     },
     "output_type": "display_data"
    },
    {
     "data": {
      "image/png": "[encoded data removed]",
      "text/plain": [
       "Plot with title \"\""
      ]
     },
     "metadata": {
      "image/png": {
       "height": 420,
       "width": 420
      }
     },
     "output_type": "display_data"
    }
   ],
   "source": [
    "plot(model)"
   ]
  },
  {
   "cell_type": "code",
   "execution_count": 55,
   "id": "6776ee9a",
   "metadata": {},
   "outputs": [],
   "source": [
    "knots <- attr(bs(Boston$dis, df = 7), \"knots\")"
   ]
  },
  {
   "cell_type": "code",
   "execution_count": 56,
   "id": "b4aa5bdd",
   "metadata": {},
   "outputs": [
    {
     "data": {
      "text/html": [
       "<style>\n",
       ".dl-inline {width: auto; margin:0; padding: 0}\n",
       ".dl-inline>dt, .dl-inline>dd {float: none; width: auto; display: inline-block}\n",
       ".dl-inline>dt::after {content: \":\\0020\"; padding-right: .5ex}\n",
       ".dl-inline>dt:not(:first-of-type) {padding-left: .5ex}\n",
       "</style><dl class=dl-inline><dt>20%</dt><dd>1.9512</dd><dt>40%</dt><dd>2.6403</dd><dt>60%</dt><dd>3.875</dd><dt>80%</dt><dd>5.615</dd></dl>\n"
      ],
      "text/latex": [
       "\\begin{description*}\n",
       "\\item[20\\textbackslash{}\\%] 1.9512\n",
       "\\item[40\\textbackslash{}\\%] 2.6403\n",
       "\\item[60\\textbackslash{}\\%] 3.875\n",
       "\\item[80\\textbackslash{}\\%] 5.615\n",
       "\\end{description*}\n"
      ],
      "text/markdown": [
       "20%\n",
       ":   1.951240%\n",
       ":   2.640360%\n",
       ":   3.87580%\n",
       ":   5.615\n",
       "\n"
      ],
      "text/plain": [
       "   20%    40%    60%    80% \n",
       "1.9512 2.6403 3.8750 5.6150 "
      ]
     },
     "metadata": {},
     "output_type": "display_data"
    }
   ],
   "source": [
    "knots"
   ]
  },
  {
   "cell_type": "markdown",
   "id": "9ea1d5a9",
   "metadata": {},
   "source": [
    "### e."
   ]
  },
  {
   "cell_type": "code",
   "execution_count": 57,
   "id": "4fa62e0b",
   "metadata": {},
   "outputs": [],
   "source": [
    "MSE <- c()\n",
    "\n",
    "i <- 1\n",
    "for (p in 3:12) {\n",
    "  model <- lm(nox ~ bs(dis, df = p), data = Boston)\n",
    "\n",
    "  MSE[i] <- mean(model$residuals^2)\n",
    "    i <- i+1\n",
    "}"
   ]
  },
  {
   "cell_type": "code",
   "execution_count": 58,
   "id": "75b99272",
   "metadata": {},
   "outputs": [],
   "source": [
    "MSE_df <- data.frame(degree_Freedom = 3:12, MSE)"
   ]
  },
  {
   "cell_type": "code",
   "execution_count": 59,
   "id": "479bbbc7",
   "metadata": {},
   "outputs": [
    {
     "data": {
      "text/html": [
       "<table class=\"dataframe\">\n",
       "<caption>A data.frame: 10 × 2</caption>\n",
       "<thead>\n",
       "\t<tr><th scope=col>degree_Freedom</th><th scope=col>MSE</th></tr>\n",
       "\t<tr><th scope=col>&lt;int&gt;</th><th scope=col>&lt;dbl&gt;</th></tr>\n",
       "</thead>\n",
       "<tbody>\n",
       "\t<tr><td> 3</td><td>0.003822345</td></tr>\n",
       "\t<tr><td> 4</td><td>0.003799951</td></tr>\n",
       "\t<tr><td> 5</td><td>0.003636705</td></tr>\n",
       "\t<tr><td> 6</td><td>0.003624439</td></tr>\n",
       "\t<tr><td> 7</td><td>0.003616372</td></tr>\n",
       "\t<tr><td> 8</td><td>0.003590899</td></tr>\n",
       "\t<tr><td> 9</td><td>0.003608009</td></tr>\n",
       "\t<tr><td>10</td><td>0.003542559</td></tr>\n",
       "\t<tr><td>11</td><td>0.003551367</td></tr>\n",
       "\t<tr><td>12</td><td>0.003535571</td></tr>\n",
       "</tbody>\n",
       "</table>\n"
      ],
      "text/latex": [
       "A data.frame: 10 × 2\n",
       "\\begin{tabular}{ll}\n",
       " degree\\_Freedom & MSE\\\\\n",
       " <int> & <dbl>\\\\\n",
       "\\hline\n",
       "\t  3 & 0.003822345\\\\\n",
       "\t  4 & 0.003799951\\\\\n",
       "\t  5 & 0.003636705\\\\\n",
       "\t  6 & 0.003624439\\\\\n",
       "\t  7 & 0.003616372\\\\\n",
       "\t  8 & 0.003590899\\\\\n",
       "\t  9 & 0.003608009\\\\\n",
       "\t 10 & 0.003542559\\\\\n",
       "\t 11 & 0.003551367\\\\\n",
       "\t 12 & 0.003535571\\\\\n",
       "\\end{tabular}\n"
      ],
      "text/markdown": [
       "\n",
       "A data.frame: 10 × 2\n",
       "\n",
       "| degree_Freedom &lt;int&gt; | MSE &lt;dbl&gt; |\n",
       "|---|---|\n",
       "|  3 | 0.003822345 |\n",
       "|  4 | 0.003799951 |\n",
       "|  5 | 0.003636705 |\n",
       "|  6 | 0.003624439 |\n",
       "|  7 | 0.003616372 |\n",
       "|  8 | 0.003590899 |\n",
       "|  9 | 0.003608009 |\n",
       "| 10 | 0.003542559 |\n",
       "| 11 | 0.003551367 |\n",
       "| 12 | 0.003535571 |\n",
       "\n"
      ],
      "text/plain": [
       "   degree_Freedom MSE        \n",
       "1   3             0.003822345\n",
       "2   4             0.003799951\n",
       "3   5             0.003636705\n",
       "4   6             0.003624439\n",
       "5   7             0.003616372\n",
       "6   8             0.003590899\n",
       "7   9             0.003608009\n",
       "8  10             0.003542559\n",
       "9  11             0.003551367\n",
       "10 12             0.003535571"
      ]
     },
     "metadata": {},
     "output_type": "display_data"
    }
   ],
   "source": [
    "MSE_df"
   ]
  },
  {
   "cell_type": "markdown",
   "id": "149b6fa1",
   "metadata": {},
   "source": [
    "# Question 10\n",
    "\n",
    "### a."
   ]
  },
  {
   "cell_type": "code",
   "execution_count": 60,
   "id": "7540759c",
   "metadata": {},
   "outputs": [
    {
     "name": "stdout",
     "output_type": "stream",
     "text": [
      "'data.frame':\t777 obs. of  18 variables:\n",
      " $ Private    : num  1 1 1 1 1 1 1 1 1 1 ...\n",
      " $ Apps       : num  1660 2186 1428 417 193 ...\n",
      " $ Accept     : num  1232 1924 1097 349 146 ...\n",
      " $ Enroll     : num  721 512 336 137 55 158 103 489 227 172 ...\n",
      " $ Top10perc  : num  23 16 22 60 16 38 17 37 30 21 ...\n",
      " $ Top25perc  : num  52 29 50 89 44 62 45 68 63 44 ...\n",
      " $ F.Undergrad: num  2885 2683 1036 510 249 ...\n",
      " $ P.Undergrad: num  537 1227 99 63 869 ...\n",
      " $ Outstate   : num  7440 12280 11250 12960 7560 ...\n",
      " $ Room.Board : num  3300 6450 3750 5450 4120 ...\n",
      " $ Books      : num  450 750 400 450 800 500 500 450 300 660 ...\n",
      " $ Personal   : num  2200 1500 1165 875 1500 ...\n",
      " $ PhD        : num  70 29 53 92 76 67 90 89 79 40 ...\n",
      " $ Terminal   : num  78 30 66 97 72 73 93 100 84 41 ...\n",
      " $ S.F.Ratio  : num  18.1 12.2 12.9 7.7 11.9 9.4 11.5 13.7 11.3 11.5 ...\n",
      " $ perc.alumni: num  12 16 30 37 2 11 26 37 23 15 ...\n",
      " $ Expend     : num  7041 10527 8735 19016 10922 ...\n",
      " $ Grad.Rate  : num  60 56 54 59 15 55 63 73 80 52 ...\n"
     ]
    }
   ],
   "source": [
    "college <- College\n",
    "college$Private <- as.numeric(college$Private=='Yes')\n",
    "str(college)\n",
    "set.seed(50)\n",
    "train_index <- sample(1:nrow(college), round(nrow(college) * 0.7))\n",
    "\n",
    "train <- college[train_index, ]\n",
    "test <- college[-train_index, ]"
   ]
  },
  {
   "cell_type": "code",
   "execution_count": 61,
   "id": "5ca60429",
   "metadata": {},
   "outputs": [
    {
     "name": "stderr",
     "output_type": "stream",
     "text": [
      "Warning message in train.default(x, y, weights = w, ...):\n",
      "\"The metric \"MSE\" was not in the result set. RMSE will be used instead.\"\n"
     ]
    },
    {
     "data": {
      "text/plain": [
       "Linear Regression with Forward Selection \n",
       "\n",
       "544 samples\n",
       " 17 predictor\n",
       "\n",
       "No pre-processing\n",
       "Resampling: Cross-Validated (10 fold, repeated 1 times) \n",
       "Summary of sample sizes: 490, 490, 492, 490, 490, 488, ... \n",
       "Resampling results across tuning parameters:\n",
       "\n",
       "  nvmax  RMSE      Rsquared   MAE     \n",
       "   1     2988.915  0.5173366  2353.792\n",
       "   2     2543.156  0.6297832  1910.133\n",
       "   3     2295.612  0.6965197  1754.790\n",
       "   4     2147.314  0.7279609  1665.233\n",
       "   5     2081.865  0.7435835  1619.718\n",
       "   6     2038.940  0.7545274  1574.438\n",
       "   7     2068.020  0.7474479  1590.953\n",
       "   8     2087.022  0.7437833  1592.126\n",
       "   9     2082.419  0.7464903  1590.536\n",
       "  10     2022.335  0.7598350  1555.506\n",
       "  11     1996.591  0.7659045  1553.323\n",
       "  12     1994.531  0.7661927  1555.189\n",
       "  13     1996.560  0.7658131  1557.053\n",
       "  14     2000.590  0.7650425  1559.651\n",
       "  15     1999.047  0.7655163  1558.579\n",
       "  16     1999.017  0.7654777  1558.283\n",
       "  17     2000.211  0.7652899  1557.445\n",
       "\n",
       "RMSE was used to select the optimal model using  the one SE rule.\n",
       "The final value used for the model was nvmax = 6."
      ]
     },
     "metadata": {},
     "output_type": "display_data"
    }
   ],
   "source": [
    "control <- trainControl(method = \"repeatedcv\", \n",
    "                     number = 10, \n",
    "                     repeats = 1, \n",
    "                     selectionFunction = \"oneSE\")\n",
    "\n",
    "set.seed(11)\n",
    "\n",
    "step.model <- train(Outstate ~ .,\n",
    "                       data = train,\n",
    "                       method = \"leapForward\",\n",
    "                       metric = \"MSE\",\n",
    "                       trControl = control,\n",
    "                       tuneGrid = data.frame(nvmax = 1:17))\n",
    "\n",
    "step.model"
   ]
  },
  {
   "cell_type": "code",
   "execution_count": 62,
   "id": "dd425f67",
   "metadata": {},
   "outputs": [
    {
     "data": {
      "image/png": "[encoded data removed]",
      "text/plain": [
       "plot without title"
      ]
     },
     "metadata": {
      "image/png": {
       "height": 420,
       "width": 420
      }
     },
     "output_type": "display_data"
    }
   ],
   "source": [
    "plot(step.model)"
   ]
  },
  {
   "cell_type": "code",
   "execution_count": 63,
   "id": "07fc323c",
   "metadata": {},
   "outputs": [
    {
     "data": {
      "text/html": [
       "6"
      ],
      "text/latex": [
       "6"
      ],
      "text/markdown": [
       "6"
      ],
      "text/plain": [
       "[1] 6"
      ]
     },
     "metadata": {},
     "output_type": "display_data"
    }
   ],
   "source": [
    "step.model$bestTune$nvmax"
   ]
  },
  {
   "cell_type": "markdown",
   "id": "d596c6c1",
   "metadata": {},
   "source": [
    "## b"
   ]
  },
  {
   "cell_type": "code",
   "execution_count": 64,
   "id": "708940aa",
   "metadata": {},
   "outputs": [
    {
     "data": {
      "text/html": [
       "<style>\n",
       ".list-inline {list-style: none; margin:0; padding: 0}\n",
       ".list-inline>li {display: inline-block}\n",
       ".list-inline>li:not(:last-child)::after {content: \"\\00b7\"; padding: 0 .5ex}\n",
       "</style>\n",
       "<ol class=list-inline><li>'(Intercept)'</li><li>'Private'</li><li>'Room.Board'</li><li>'Terminal'</li><li>'perc.alumni'</li><li>'Expend'</li><li>'Grad.Rate'</li></ol>\n"
      ],
      "text/latex": [
       "\\begin{enumerate*}\n",
       "\\item '(Intercept)'\n",
       "\\item 'Private'\n",
       "\\item 'Room.Board'\n",
       "\\item 'Terminal'\n",
       "\\item 'perc.alumni'\n",
       "\\item 'Expend'\n",
       "\\item 'Grad.Rate'\n",
       "\\end{enumerate*}\n"
      ],
      "text/markdown": [
       "1. '(Intercept)'\n",
       "2. 'Private'\n",
       "3. 'Room.Board'\n",
       "4. 'Terminal'\n",
       "5. 'perc.alumni'\n",
       "6. 'Expend'\n",
       "7. 'Grad.Rate'\n",
       "\n",
       "\n"
      ],
      "text/plain": [
       "[1] \"(Intercept)\" \"Private\"     \"Room.Board\"  \"Terminal\"    \"perc.alumni\"\n",
       "[6] \"Expend\"      \"Grad.Rate\"  "
      ]
     },
     "metadata": {},
     "output_type": "display_data"
    }
   ],
   "source": [
    "names(coef(step.model$finalModel, id = 6))"
   ]
  },
  {
   "cell_type": "code",
   "execution_count": 65,
   "id": "4fe3c9a3",
   "metadata": {},
   "outputs": [
    {
     "name": "stdout",
     "output_type": "stream",
     "text": [
      "package 'gam' successfully unpacked and MD5 sums checked\n",
      "\n",
      "The downloaded binary packages are in\n",
      "\tC:\\Users\\nramanna\\AppData\\Local\\Temp\\Rtmpe0hglM\\downloaded_packages\n"
     ]
    }
   ],
   "source": [
    "install.packages('gam')"
   ]
  },
  {
   "cell_type": "code",
   "execution_count": 66,
   "id": "597673e0",
   "metadata": {},
   "outputs": [
    {
     "name": "stderr",
     "output_type": "stream",
     "text": [
      "Loading required package: foreach\n",
      "\n",
      "Loaded gam 1.20\n",
      "\n",
      "\n"
     ]
    },
    {
     "data": {
      "image/png": "[encoded data removed]",
      "text/plain": [
       "plot without title"
      ]
     },
     "metadata": {
      "image/png": {
       "height": 420,
       "width": 420
      }
     },
     "output_type": "display_data"
    },
    {
     "data": {
      "image/png": "[encoded data removed]",
      "text/plain": [
       "plot without title"
      ]
     },
     "metadata": {
      "image/png": {
       "height": 420,
       "width": 420
      }
     },
     "output_type": "display_data"
    },
    {
     "data": {
      "image/png": "[encoded data removed]",
      "text/plain": [
       "plot without title"
      ]
     },
     "metadata": {
      "image/png": {
       "height": 420,
       "width": 420
      }
     },
     "output_type": "display_data"
    },
    {
     "data": {
      "image/png": "[encoded data removed]",
      "text/plain": [
       "plot without title"
      ]
     },
     "metadata": {
      "image/png": {
       "height": 420,
       "width": 420
      }
     },
     "output_type": "display_data"
    },
    {
     "data": {
      "image/png": "[encoded data removed]",
      "text/plain": [
       "plot without title"
      ]
     },
     "metadata": {
      "image/png": {
       "height": 420,
       "width": 420
      }
     },
     "output_type": "display_data"
    },
    {
     "data": {
      "image/png": "[encoded data removed]",
      "text/plain": [
       "plot without title"
      ]
     },
     "metadata": {
      "image/png": {
       "height": 420,
       "width": 420
      }
     },
     "output_type": "display_data"
    }
   ],
   "source": [
    "library(gam) \n",
    "model_gam <- gam(Outstate ~ s(Room.Board) + s(Terminal) +\n",
    "                s(perc.alumni, df=6) + s(Expend, df=6) + \n",
    "                 s(Grad.Rate) + Private,\n",
    "                 data=train)\n",
    "plot(model_gam, se=TRUE, col='red')"
   ]
  },
  {
   "cell_type": "code",
   "execution_count": 67,
   "id": "6448c38f",
   "metadata": {},
   "outputs": [
    {
     "data": {
      "text/html": [
       "4174616.67759267"
      ],
      "text/latex": [
       "4174616.67759267"
      ],
      "text/markdown": [
       "4174616.67759267"
      ],
      "text/plain": [
       "[1] 4174617"
      ]
     },
     "metadata": {},
     "output_type": "display_data"
    }
   ],
   "source": [
    "pred_forward <- predict(step.model, newdata = test)\n",
    "mean((pred_forward - test$Outstate)^2)"
   ]
  },
  {
   "cell_type": "code",
   "execution_count": 68,
   "id": "551010b3",
   "metadata": {},
   "outputs": [
    {
     "data": {
      "text/html": [
       "3791999.08618751"
      ],
      "text/latex": [
       "3791999.08618751"
      ],
      "text/markdown": [
       "3791999.08618751"
      ],
      "text/plain": [
       "[1] 3791999"
      ]
     },
     "metadata": {},
     "output_type": "display_data"
    }
   ],
   "source": [
    "pred_gam <- predict(model_gam, newdata = test)\n",
    "mean((pred_gam - test$Outstate)^2)"
   ]
  },
  {
   "cell_type": "markdown",
   "id": "daa72391",
   "metadata": {},
   "source": [
    "#### GAM is better than forward Stepwise "
   ]
  }
 ],
 "metadata": {
  "kernelspec": {
   "display_name": "R",
   "language": "R",
   "name": "ir"
  },
  "language_info": {
   "codemirror_mode": "r",
   "file_extension": ".r",
   "mimetype": "text/x-r-source",
   "name": "R",
   "pygments_lexer": "r",
   "version": "4.0.5"
  }
 },
 "nbformat": 4,
 "nbformat_minor": 5
}
